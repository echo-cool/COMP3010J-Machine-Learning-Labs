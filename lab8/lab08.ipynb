{
 "cells": [
  {
   "cell_type": "markdown",
   "metadata": {
    "pycharm": {
     "name": "#%% md\n"
    }
   },
   "source": [
    "# Lab 08 - Evaluation\n",
    "\n",
    "In this lab we are going through a simple evaluation process involving 2 machine learning models.\n",
    "\n",
    "First, let's import the necessary libraries we need."
   ]
  },
  {
   "cell_type": "code",
   "execution_count": 1,
   "metadata": {
    "pycharm": {
     "name": "#%%\n"
    }
   },
   "outputs": [],
   "source": [
    "import pandas as pd\n",
    "import matplotlib.pyplot as plt\n",
    "\n",
    "from sklearn.linear_model import LogisticRegression\n",
    "from sklearn.metrics import confusion_matrix, classification_report, plot_roc_curve, roc_auc_score\n",
    "from sklearn.model_selection import train_test_split, cross_val_score\n",
    "from sklearn.neighbors import KNeighborsClassifier\n",
    "from sklearn import datasets"
   ]
  },
  {
   "cell_type": "markdown",
   "metadata": {
    "pycharm": {
     "name": "#%% md\n"
    }
   },
   "source": [
    "Now we need a dataset. This week we will use the breast cancer dataset from sci-kit learn."
   ]
  },
  {
   "cell_type": "code",
   "execution_count": 2,
   "metadata": {
    "pycharm": {
     "name": "#%%\n"
    }
   },
   "outputs": [
    {
     "data": {
      "text/plain": [
       "cancer_type\n",
       "1              357\n",
       "0              212\n",
       "dtype: int64"
      ]
     },
     "execution_count": 2,
     "metadata": {},
     "output_type": "execute_result"
    }
   ],
   "source": [
    "data = datasets.load_breast_cancer()\n",
    "X = pd.DataFrame(data.data, columns=data.feature_names)\n",
    "y = pd.DataFrame(data.target, columns=['cancer_type'])\n",
    "\n",
    "y.value_counts()"
   ]
  },
  {
   "cell_type": "markdown",
   "metadata": {
    "pycharm": {
     "name": "#%% md\n"
    }
   },
   "source": [
    "We can see that our data set is not well-balanced."
   ]
  },
  {
   "cell_type": "markdown",
   "metadata": {},
   "source": [
    "Unbalanced dataset is a dataset which the target variable has one class that has a lot more observations compared to\n",
    " the other classes. Because of that machine learning algorithms tends to categorise more new instances into the\n",
    " majority class than to others. In testing also, this will give a false sense of high accuracy.\n",
    "\n",
    "If a dataset is approximately balanced, for example 55%-45%, the effects of this phenomena is\n",
    "relatively low. But when the disparity get higher, the effects increase. However, deciding where the boundary between\n",
    "balanced and unbalanced dataset is a judgement call that gets better with experience."
   ]
  },
  {
   "cell_type": "markdown",
   "metadata": {
    "pycharm": {
     "name": "#%% md\n"
    }
   },
   "source": [
    "### Dividing the data\n",
    "First part of evaluation is to divide data into train, validation and test sets."
   ]
  },
  {
   "cell_type": "code",
   "execution_count": 3,
   "metadata": {
    "pycharm": {
     "name": "#%%\n"
    }
   },
   "outputs": [],
   "source": [
    "X_train_val, X_test, y_train_val, y_test = train_test_split(X, y)\n",
    "X_train, X_val, y_train, y_val = train_test_split(X_train_val, y_train_val)"
   ]
  },
  {
   "cell_type": "markdown",
   "metadata": {
    "pycharm": {
     "name": "#%% md\n"
    }
   },
   "source": [
    "#### Model selection\n",
    "Then we need two models to evaluate. Let's take a K-Nearest Neighbours (KNN) model and a Logistic regression model as examples."
   ]
  },
  {
   "cell_type": "code",
   "execution_count": 4,
   "metadata": {
    "pycharm": {
     "name": "#%%\n"
    }
   },
   "outputs": [],
   "source": [
    "log_reg = LogisticRegression(max_iter=5000)"
   ]
  },
  {
   "cell_type": "code",
   "execution_count": 5,
   "metadata": {
    "pycharm": {
     "name": "#%%\n"
    }
   },
   "outputs": [],
   "source": [
    "knn = KNeighborsClassifier(n_neighbors=5)"
   ]
  },
  {
   "cell_type": "markdown",
   "metadata": {
    "pycharm": {
     "name": "#%% md\n"
    }
   },
   "source": [
    "### Timing performance\n",
    "\n",
    "One of the performance metrics we overlooked until now is computing performance. In production environments that are\n",
    "time critical like self-driving vehicles, drones, biomedical equipments, etc. we need our results withing the time\n",
    "constraints each system has. So when creating a machine learning solution for such problem, computing performance of\n",
    "the model plays a huge role on overall model performance.\n",
    "\n",
    "We can use built in magic commands in Ipython environment to measure the computing performance. First let's measure\n",
    "the training time for both models."
   ]
  },
  {
   "cell_type": "code",
   "execution_count": 6,
   "metadata": {
    "pycharm": {
     "name": "#%%\n"
    }
   },
   "outputs": [
    {
     "name": "stdout",
     "output_type": "stream",
     "text": [
      "Wall time: 489 ms\n"
     ]
    },
    {
     "data": {
      "text/plain": [
       "LogisticRegression(max_iter=5000)"
      ]
     },
     "execution_count": 6,
     "metadata": {},
     "output_type": "execute_result"
    }
   ],
   "source": [
    "%%time\n",
    "log_reg.fit(X_train, y_train.values.ravel())"
   ]
  },
  {
   "cell_type": "code",
   "execution_count": 7,
   "metadata": {
    "pycharm": {
     "name": "#%%\n"
    }
   },
   "outputs": [
    {
     "name": "stdout",
     "output_type": "stream",
     "text": [
      "Wall time: 2.99 ms\n"
     ]
    },
    {
     "data": {
      "text/plain": [
       "KNeighborsClassifier()"
      ]
     },
     "execution_count": 7,
     "metadata": {},
     "output_type": "execute_result"
    }
   ],
   "source": [
    "%%time\n",
    "knn.fit(X_train, y_train.values.ravel())"
   ]
  },
  {
   "cell_type": "markdown",
   "metadata": {
    "pycharm": {
     "name": "#%% md\n"
    }
   },
   "source": [
    "Now let's measure the prediction time for each model."
   ]
  },
  {
   "cell_type": "code",
   "execution_count": 8,
   "metadata": {
    "pycharm": {
     "name": "#%%\n"
    }
   },
   "outputs": [
    {
     "name": "stdout",
     "output_type": "stream",
     "text": [
      "Wall time: 999 µs\n"
     ]
    }
   ],
   "source": [
    "%%time\n",
    "pred_log_reg = log_reg.predict(X_val)"
   ]
  },
  {
   "cell_type": "code",
   "execution_count": 9,
   "metadata": {
    "pycharm": {
     "name": "#%%\n"
    }
   },
   "outputs": [
    {
     "name": "stdout",
     "output_type": "stream",
     "text": [
      "Wall time: 7.98 ms\n"
     ]
    }
   ],
   "source": [
    "%%time\n",
    "pred_knn = knn.predict(X_val)"
   ]
  },
  {
   "cell_type": "markdown",
   "metadata": {
    "pycharm": {
     "name": "#%% md\n"
    }
   },
   "source": [
    "From above analysis we can see that, the KNN model is faster to train, but slow when predicting. Logistic regression\n",
    "model on other hand is slower in the training phase, but manage to predict quicker than KNN."
   ]
  },
  {
   "cell_type": "markdown",
   "metadata": {
    "pycharm": {
     "name": "#%% md\n"
    }
   },
   "source": [
    "### Predicting performance\n",
    "Let's evaluate the models using their predicting performance. First let's generate confusion matrices and classification\n",
    "reports for all the models."
   ]
  },
  {
   "cell_type": "code",
   "execution_count": 10,
   "metadata": {
    "pycharm": {
     "name": "#%%\n"
    }
   },
   "outputs": [
    {
     "data": {
      "text/plain": [
       "array([[38,  1],\n",
       "       [ 1, 67]], dtype=int64)"
      ]
     },
     "execution_count": 10,
     "metadata": {},
     "output_type": "execute_result"
    }
   ],
   "source": [
    "confusion_matrix(y_true=y_val, y_pred=pred_log_reg)"
   ]
  },
  {
   "cell_type": "code",
   "execution_count": 11,
   "metadata": {
    "pycharm": {
     "name": "#%%\n"
    }
   },
   "outputs": [
    {
     "name": "stdout",
     "output_type": "stream",
     "text": [
      "              precision    recall  f1-score   support\n",
      "\n",
      "           0       0.97      0.97      0.97        39\n",
      "           1       0.99      0.99      0.99        68\n",
      "\n",
      "    accuracy                           0.98       107\n",
      "   macro avg       0.98      0.98      0.98       107\n",
      "weighted avg       0.98      0.98      0.98       107\n",
      "\n"
     ]
    }
   ],
   "source": [
    "print(classification_report(y_true=y_val, y_pred=pred_log_reg))"
   ]
  },
  {
   "cell_type": "code",
   "execution_count": 12,
   "metadata": {
    "pycharm": {
     "name": "#%%\n"
    }
   },
   "outputs": [
    {
     "data": {
      "text/plain": [
       "array([[35,  4],\n",
       "       [ 3, 65]], dtype=int64)"
      ]
     },
     "execution_count": 12,
     "metadata": {},
     "output_type": "execute_result"
    }
   ],
   "source": [
    "confusion_matrix(y_true=y_val, y_pred=pred_knn)"
   ]
  },
  {
   "cell_type": "code",
   "execution_count": 13,
   "metadata": {
    "pycharm": {
     "name": "#%%\n"
    }
   },
   "outputs": [
    {
     "name": "stdout",
     "output_type": "stream",
     "text": [
      "              precision    recall  f1-score   support\n",
      "\n",
      "           0       0.92      0.90      0.91        39\n",
      "           1       0.94      0.96      0.95        68\n",
      "\n",
      "    accuracy                           0.93       107\n",
      "   macro avg       0.93      0.93      0.93       107\n",
      "weighted avg       0.93      0.93      0.93       107\n",
      "\n"
     ]
    }
   ],
   "source": [
    "print(classification_report(y_true=y_val, y_pred=pred_knn))"
   ]
  },
  {
   "cell_type": "markdown",
   "metadata": {
    "pycharm": {
     "name": "#%% md\n"
    }
   },
   "source": [
    "Upto now we can see that the logistic regression model performs better than the K-Nearest Neighbours model."
   ]
  },
  {
   "cell_type": "markdown",
   "metadata": {
    "pycharm": {
     "name": "#%% md\n"
    }
   },
   "source": [
    "### ROC curve\n",
    "\n",
    "As we discussed earlier, when the dataset is not balanced, like our breast cancer dataset, measures like accuracy does\n",
    "not give you the full picture of the performance correctly. So we need to have more sophisticated performance measures.\n",
    "\n",
    "One of the most popular methods is the ROC curve. Let's plot both of our models' ROC curves. Sci-kit learn provides the method called *plot_roc_curve*. You can find more details on this method\n",
    "[here](https://scikit-learn.org/stable/modules/generated/sklearn.metrics.plot_roc_curve.html). We can give our model,\n",
    " test datasets, and a name for the plot, and it will return a Display object that holds the plot data. You can use this\n",
    " object in future plots as well."
   ]
  },
  {
   "cell_type": "code",
   "execution_count": 14,
   "metadata": {
    "pycharm": {
     "name": "#%%\n"
    }
   },
   "outputs": [
    {
     "data": {
      "image/png": "[encoded data removed]",
      "text/plain": [
       "<Figure size 432x288 with 1 Axes>"
      ]
     },
     "metadata": {
      "needs_background": "light"
     },
     "output_type": "display_data"
    }
   ],
   "source": [
    "ax = plt.gca()\n",
    "plot_log_reg = plot_roc_curve(estimator=log_reg, X=X_val, y=y_val, ax=ax, name='Logistic_Regression')\n",
    "plot_knn = plot_roc_curve(estimator=knn, X=X_val, y=y_val, ax=ax, name='KNN')"
   ]
  },
  {
   "cell_type": "markdown",
   "metadata": {
    "pycharm": {
     "name": "#%% md\n"
    }
   },
   "source": [
    "According to these ROC curves you can see that the logistic regression model performs better. To get a more precise\n",
    "Area under the ROC curve value, we can use *roc_auc_score* method. But we have to input the probability values of our\n",
    "prediction. In a standard implementation of ML algorithm in Sci-kit learn you can find *predict_proba()* function\n",
    "call which will gives us the probabilities of the predictions."
   ]
  },
  {
   "cell_type": "code",
   "execution_count": 15,
   "metadata": {
    "pycharm": {
     "name": "#%%\n"
    }
   },
   "outputs": [
    {
     "name": "stdout",
     "output_type": "stream",
     "text": [
      "Area under the curve for logistic regression model: 0.997737556561086\n"
     ]
    }
   ],
   "source": [
    "pred_scores = log_reg.predict_proba(X_val)\n",
    "print('Area under the curve for logistic regression model: {}'.format(roc_auc_score(y_true=y_val,\n",
    "                                                                                    y_score=pred_scores[:, 1])))"
   ]
  },
  {
   "cell_type": "code",
   "execution_count": 16,
   "metadata": {
    "pycharm": {
     "name": "#%%\n"
    }
   },
   "outputs": [
    {
     "name": "stdout",
     "output_type": "stream",
     "text": [
      "Area under the curve for KNearestNeighbours model: 0.9628582202111614\n"
     ]
    }
   ],
   "source": [
    "pred_scores = knn.predict_proba(X_val)\n",
    "print('Area under the curve for KNearestNeighbours model: {}'.format(roc_auc_score(y_true=y_val,\n",
    "                                                                                   y_score=pred_scores[:, 1])))"
   ]
  },
  {
   "cell_type": "markdown",
   "metadata": {
    "pycharm": {
     "name": "#%% md\n"
    }
   },
   "source": [
    "### Cross-Validation\n",
    "\n",
    "At this point we know that our Logistic regression model works better for our current train and validation datasets.\n",
    " But this does not mean it will be same if we train the same model with different sample of instances. So to get an idea\n",
    "  about how our models work with different training samples, we can use cross-validation.\n",
    "\n",
    "Although we use cross-validation here for the purpose stated above, in Machine learning we use cross validation for\n",
    "one other major reason. That is to get the maximum use out of the data. Using cross-validation we can use all the data in\n",
    "both training and validation phases. So if your dataset is very small, cross validation is the best way you overcome\n",
    "that issue."
   ]
  },
  {
   "cell_type": "markdown",
   "metadata": {
    "pycharm": {
     "name": "#%% md\n"
    }
   },
   "source": [
    "we are using *cross_val_score()* method in sklearn to get performance scores from the fold runs. Let's do a\n",
    "10 fold cross-validation using all the train and validation data on logistic regression model. Here we are using macro\n",
    "average f1 score as the scoring method."
   ]
  },
  {
   "cell_type": "code",
   "execution_count": 17,
   "metadata": {
    "pycharm": {
     "name": "#%%\n"
    }
   },
   "outputs": [],
   "source": [
    "scores = cross_val_score(estimator=log_reg, X=X_train_val, y=y_train_val.values.ravel(), cv=10, scoring='f1_macro')"
   ]
  },
  {
   "cell_type": "code",
   "execution_count": 18,
   "metadata": {
    "pycharm": {
     "name": "#%%\n"
    }
   },
   "outputs": [
    {
     "name": "stdout",
     "output_type": "stream",
     "text": [
      "F1_score: 0.94 std: 0.02\n"
     ]
    }
   ],
   "source": [
    "print('F1_score: %0.2f std: %0.2f'%(scores.mean(), scores.std()))"
   ]
  },
  {
   "cell_type": "markdown",
   "metadata": {
    "pycharm": {
     "name": "#%% md\n"
    }
   },
   "source": [
    "Let's do the same for KNN model."
   ]
  },
  {
   "cell_type": "code",
   "execution_count": 19,
   "metadata": {
    "pycharm": {
     "name": "#%%\n"
    }
   },
   "outputs": [],
   "source": [
    "scores = cross_val_score(estimator=knn, X=X_train_val, y=y_train_val.values.ravel(), cv=10, scoring='f1_macro')"
   ]
  },
  {
   "cell_type": "code",
   "execution_count": 20,
   "metadata": {
    "pycharm": {
     "name": "#%%\n"
    }
   },
   "outputs": [
    {
     "name": "stdout",
     "output_type": "stream",
     "text": [
      "F1_score: 0.93 std: 0.03\n"
     ]
    }
   ],
   "source": [
    "print('F1_score: %0.2f std: %0.2f'%(scores.mean(), scores.std()))"
   ]
  },
  {
   "cell_type": "markdown",
   "metadata": {
    "pycharm": {
     "name": "#%% md\n"
    }
   },
   "source": [
    "From these results also, we can conclude that our logistic regression model performs better than the KNN one. So\n",
    "overall we can choose that model as our solution."
   ]
  },
  {
   "cell_type": "markdown",
   "metadata": {
    "pycharm": {
     "name": "#%% md\n"
    }
   },
   "source": [
    "Final step is to test our model against the test dataset."
   ]
  },
  {
   "cell_type": "code",
   "execution_count": 21,
   "metadata": {
    "pycharm": {
     "name": "#%%\n"
    }
   },
   "outputs": [
    {
     "name": "stdout",
     "output_type": "stream",
     "text": [
      "              precision    recall  f1-score   support\n",
      "\n",
      "           0       0.96      0.92      0.94        49\n",
      "           1       0.96      0.98      0.97        94\n",
      "\n",
      "    accuracy                           0.96       143\n",
      "   macro avg       0.96      0.95      0.95       143\n",
      "weighted avg       0.96      0.96      0.96       143\n",
      "\n"
     ]
    }
   ],
   "source": [
    "pred = log_reg.predict(X_test)\n",
    "print(classification_report(y_true=y_test, y_pred=pred))"
   ]
  },
  {
   "cell_type": "markdown",
   "metadata": {},
   "source": [
    "## Task\n",
    "Use the dataset you cleaned in lab02 and lab03.\n",
    "\n",
    "* Develop 3 different models using different machine learning algorithms.\n",
    "* Identify which performance measures you use by analyzing the problem.\n",
    "* Do hyperparameter tuning using *cross_val_score()* for every model and find the best parameters for each.\n",
    "* Do a complete performance analysis using the techniques you learned in the class and the lab and find the best model\n",
    " out of 3.\n",
    "* Run the model on test dataset and get the performance numbers."
   ]
  },
  {
   "cell_type": "code",
   "execution_count": null,
   "metadata": {
    "pycharm": {
     "name": "#%%\n"
    }
   },
   "outputs": [],
   "source": []
  },
  {
   "cell_type": "code",
   "execution_count": null,
   "metadata": {},
   "outputs": [],
   "source": []
  }
 ],
 "metadata": {
  "kernelspec": {
   "display_name": "Python 3",
   "language": "python",
   "name": "python3"
  },
  "language_info": {
   "codemirror_mode": {
    "name": "ipython",
    "version": 3
   },
   "file_extension": ".py",
   "mimetype": "text/x-python",
   "name": "python",
   "nbconvert_exporter": "python",
   "pygments_lexer": "ipython3",
   "version": "3.8.3"
  }
 },
 "nbformat": 4,
 "nbformat_minor": 1
}