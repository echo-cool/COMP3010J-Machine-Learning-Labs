{
 "cells": [
  {
   "cell_type": "code",
   "execution_count": 1,
   "metadata": {
    "_cell_guid": "b1076dfc-b9ad-4769-8c92-a6c4dae69d19",
    "_uuid": "8f2839f25d086af736a60e9eeb907d3b93b6e0e5",
    "trusted": true
   },
   "outputs": [
    {
     "ename": "KeyboardInterrupt",
     "evalue": "",
     "output_type": "error",
     "traceback": [
      "\u001B[1;31m---------------------------------------------------------------------------\u001B[0m",
      "\u001B[1;31mKeyboardInterrupt\u001B[0m                         Traceback (most recent call last)",
      "Cell \u001B[1;32mIn [1], line 5\u001B[0m\n\u001B[0;32m      1\u001B[0m \u001B[39m# This Python 3 environment comes with many helpful analytics libraries installed\u001B[39;00m\n\u001B[0;32m      2\u001B[0m \u001B[39m# It is defined by the kaggle/python Docker image: https://github.com/kaggle/docker-python\u001B[39;00m\n\u001B[0;32m      3\u001B[0m \u001B[39m# For example, here's several helpful packages to load\u001B[39;00m\n\u001B[1;32m----> 5\u001B[0m \u001B[39mimport\u001B[39;00m \u001B[39mnumpy\u001B[39;00m \u001B[39mas\u001B[39;00m \u001B[39mnp\u001B[39;00m \u001B[39m# linear algebra\u001B[39;00m\n\u001B[0;32m      6\u001B[0m \u001B[39mimport\u001B[39;00m \u001B[39mpandas\u001B[39;00m \u001B[39mas\u001B[39;00m \u001B[39mpd\u001B[39;00m \u001B[39m# data processing, CSV file I/O (e.g. pd.read_csv)\u001B[39;00m\n\u001B[0;32m      8\u001B[0m \u001B[39m# Input data files are available in the read-only \"../input/\" directory\u001B[39;00m\n\u001B[0;32m      9\u001B[0m \u001B[39m# For example, running this (by clicking run or pressing Shift+Enter) will list all files under the input directory\u001B[39;00m\n",
      "File \u001B[1;32md:\\BDIC\\Stage4_Semester1\\Machine Learning\\KickStarter\\venvML\\lib\\site-packages\\numpy\\__init__.py:152\u001B[0m\n\u001B[0;32m    150\u001B[0m \u001B[39mfrom\u001B[39;00m \u001B[39m.\u001B[39;00m \u001B[39mimport\u001B[39;00m polynomial\n\u001B[0;32m    151\u001B[0m \u001B[39mfrom\u001B[39;00m \u001B[39m.\u001B[39;00m \u001B[39mimport\u001B[39;00m random\n\u001B[1;32m--> 152\u001B[0m \u001B[39mfrom\u001B[39;00m \u001B[39m.\u001B[39;00m \u001B[39mimport\u001B[39;00m ctypeslib\n\u001B[0;32m    153\u001B[0m \u001B[39mfrom\u001B[39;00m \u001B[39m.\u001B[39;00m \u001B[39mimport\u001B[39;00m ma\n\u001B[0;32m    154\u001B[0m \u001B[39mfrom\u001B[39;00m \u001B[39m.\u001B[39;00m \u001B[39mimport\u001B[39;00m matrixlib \u001B[39mas\u001B[39;00m _mat\n",
      "File \u001B[1;32m<frozen importlib._bootstrap>:991\u001B[0m, in \u001B[0;36m_find_and_load\u001B[1;34m(name, import_)\u001B[0m\n",
      "File \u001B[1;32m<frozen importlib._bootstrap>:971\u001B[0m, in \u001B[0;36m_find_and_load_unlocked\u001B[1;34m(name, import_)\u001B[0m\n",
      "File \u001B[1;32m<frozen importlib._bootstrap>:914\u001B[0m, in \u001B[0;36m_find_spec\u001B[1;34m(name, path, target)\u001B[0m\n",
      "File \u001B[1;32m<frozen importlib._bootstrap_external>:1407\u001B[0m, in \u001B[0;36mfind_spec\u001B[1;34m(cls, fullname, path, target)\u001B[0m\n",
      "File \u001B[1;32m<frozen importlib._bootstrap_external>:1379\u001B[0m, in \u001B[0;36m_get_spec\u001B[1;34m(cls, fullname, path, target)\u001B[0m\n",
      "File \u001B[1;32m<frozen importlib._bootstrap_external>:1506\u001B[0m, in \u001B[0;36mfind_spec\u001B[1;34m(self, fullname, target)\u001B[0m\n",
      "File \u001B[1;32m<frozen importlib._bootstrap_external>:142\u001B[0m, in \u001B[0;36m_path_stat\u001B[1;34m(path)\u001B[0m\n",
      "\u001B[1;31mKeyboardInterrupt\u001B[0m: "
     ]
    }
   ],
   "source": [
    "# This Python 3 environment comes with many helpful analytics libraries installed\n",
    "# It is defined by the kaggle/python Docker image: https://github.com/kaggle/docker-python\n",
    "# For example, here's several helpful packages to load\n",
    "\n",
    "# import numpy as np # linear algebra\n",
    "# import pandas as pd # data processing, CSV file I/O (e.g. pd.read_csv)\n",
    "\n",
    "# Input data files are available in the read-only \"../input/\" directory\n",
    "# For example, running this (by clicking run or pressing Shift+Enter) will list all files under the input directory\n",
    "\n",
    "# import os\n",
    "# for dirname, _, filenames in os.walk('/kaggle/input'):\n",
    "#     for filename in filenames:\n",
    "#         print(os.path.join(dirname, filename))\n",
    "\n",
    "# You can write up to 5GB to the current directory (/kaggle/working/) that gets preserved as output when you create a version using \"Save & Run All\" \n",
    "# You can also write temporary files to /kaggle/temp/, but they won't be saved outside of the current session"
   ]
  },
  {
   "cell_type": "markdown",
   "metadata": {},
   "source": [
    "1. Libraries 📚"
   ]
  },
  {
   "cell_type": "code",
   "execution_count": 1,
   "metadata": {
    "trusted": true
   },
   "outputs": [],
   "source": [
    "import pandas as pd\n",
    "import numpy as np\n",
    "import matplotlib.pyplot as plt\n",
    "from sklearn.linear_model import LogisticRegression\n",
    "from sklearn import preprocessing"
   ]
  },
  {
   "cell_type": "markdown",
   "metadata": {},
   "source": [
    "**2. The data**"
   ]
  },
  {
   "cell_type": "code",
   "execution_count": 2,
   "metadata": {
    "_cell_guid": "79c7e3d0-c299-4dcb-8224-4455121ee9b0",
    "_uuid": "d629ff2d2480ee46fbb7e2d37f6b5fab8052498a",
    "trusted": true
   },
   "outputs": [
    {
     "data": {
      "text/plain": "           ID                                               name  \\\n0  1000002330                    The Songs of Adelaide & Abullah   \n1  1000003930      Greeting From Earth: ZGAC Arts Capsule For ET   \n2  1000004038                                     Where is Hank?   \n3  1000007540  ToshiCapital Rekordz Needs Help to Complete Album   \n4  1000011046  Community Film Project: The Art of Neighborhoo...   \n\n         category main_category currency    deadline     goal  \\\n0          Poetry    Publishing      GBP  09/10/2015   1000.0   \n1  Narrative Film  Film & Video      USD  01/11/2017  30000.0   \n2  Narrative Film  Film & Video      USD  26/02/2013  45000.0   \n3           Music         Music      USD  16/04/2012   5000.0   \n4    Film & Video  Film & Video      USD  29/08/2015  19500.0   \n\n           launched  pledged     state  backers country  usd pledged  \\\n0  11/08/2015 12:12      0.0    failed        0      GB          0.0   \n1  02/09/2017 04:43   2421.0    failed       15      US        100.0   \n2  12/01/2013 00:20    220.0    failed        3      US        220.0   \n3  17/03/2012 03:24      1.0    failed        1      US          1.0   \n4  04/07/2015 08:35   1283.0  canceled       14      US       1283.0   \n\n   usd_pledged_realised at deadline  usd_goal_real_at_start  \n0                               0.0                 1533.95  \n1                            2421.0                30000.00  \n2                             220.0                45000.00  \n3                               1.0                 5000.00  \n4                            1283.0                19500.00  ",
      "text/html": "<div>\n<style scoped>\n    .dataframe tbody tr th:only-of-type {\n        vertical-align: middle;\n    }\n\n    .dataframe tbody tr th {\n        vertical-align: top;\n    }\n\n    .dataframe thead th {\n        text-align: right;\n    }\n</style>\n<table border=\"1\" class=\"dataframe\">\n  <thead>\n    <tr style=\"text-align: right;\">\n      <th></th>\n      <th>ID</th>\n      <th>name</th>\n      <th>category</th>\n      <th>main_category</th>\n      <th>currency</th>\n      <th>deadline</th>\n      <th>goal</th>\n      <th>launched</th>\n      <th>pledged</th>\n      <th>state</th>\n      <th>backers</th>\n      <th>country</th>\n      <th>usd pledged</th>\n      <th>usd_pledged_realised at deadline</th>\n      <th>usd_goal_real_at_start</th>\n    </tr>\n  </thead>\n  <tbody>\n    <tr>\n      <th>0</th>\n      <td>1000002330</td>\n      <td>The Songs of Adelaide &amp; Abullah</td>\n      <td>Poetry</td>\n      <td>Publishing</td>\n      <td>GBP</td>\n      <td>09/10/2015</td>\n      <td>1000.0</td>\n      <td>11/08/2015 12:12</td>\n      <td>0.0</td>\n      <td>failed</td>\n      <td>0</td>\n      <td>GB</td>\n      <td>0.0</td>\n      <td>0.0</td>\n      <td>1533.95</td>\n    </tr>\n    <tr>\n      <th>1</th>\n      <td>1000003930</td>\n      <td>Greeting From Earth: ZGAC Arts Capsule For ET</td>\n      <td>Narrative Film</td>\n      <td>Film &amp; Video</td>\n      <td>USD</td>\n      <td>01/11/2017</td>\n      <td>30000.0</td>\n      <td>02/09/2017 04:43</td>\n      <td>2421.0</td>\n      <td>failed</td>\n      <td>15</td>\n      <td>US</td>\n      <td>100.0</td>\n      <td>2421.0</td>\n      <td>30000.00</td>\n    </tr>\n    <tr>\n      <th>2</th>\n      <td>1000004038</td>\n      <td>Where is Hank?</td>\n      <td>Narrative Film</td>\n      <td>Film &amp; Video</td>\n      <td>USD</td>\n      <td>26/02/2013</td>\n      <td>45000.0</td>\n      <td>12/01/2013 00:20</td>\n      <td>220.0</td>\n      <td>failed</td>\n      <td>3</td>\n      <td>US</td>\n      <td>220.0</td>\n      <td>220.0</td>\n      <td>45000.00</td>\n    </tr>\n    <tr>\n      <th>3</th>\n      <td>1000007540</td>\n      <td>ToshiCapital Rekordz Needs Help to Complete Album</td>\n      <td>Music</td>\n      <td>Music</td>\n      <td>USD</td>\n      <td>16/04/2012</td>\n      <td>5000.0</td>\n      <td>17/03/2012 03:24</td>\n      <td>1.0</td>\n      <td>failed</td>\n      <td>1</td>\n      <td>US</td>\n      <td>1.0</td>\n      <td>1.0</td>\n      <td>5000.00</td>\n    </tr>\n    <tr>\n      <th>4</th>\n      <td>1000011046</td>\n      <td>Community Film Project: The Art of Neighborhoo...</td>\n      <td>Film &amp; Video</td>\n      <td>Film &amp; Video</td>\n      <td>USD</td>\n      <td>29/08/2015</td>\n      <td>19500.0</td>\n      <td>04/07/2015 08:35</td>\n      <td>1283.0</td>\n      <td>canceled</td>\n      <td>14</td>\n      <td>US</td>\n      <td>1283.0</td>\n      <td>1283.0</td>\n      <td>19500.00</td>\n    </tr>\n  </tbody>\n</table>\n</div>"
     },
     "execution_count": 2,
     "metadata": {},
     "output_type": "execute_result"
    }
   ],
   "source": [
    "data = pd.read_csv('kickstarter201801.csv')\n",
    "data.head()"
   ]
  },
  {
   "cell_type": "markdown",
   "metadata": {},
   "source": [
    "Data: \n",
    "******y: state (failed, canceled, succesful, live, suspended, etc ..)\n",
    "\n",
    "X:\n",
    "\n",
    "ID: project identifier\n",
    "\n",
    "name: project name\n",
    "\n",
    "category: sub-category of the project\n",
    "\n",
    "main_category: project category\n",
    "\n",
    "currency: currency of the request.\n",
    "\n",
    "deadline: project expiration date\n",
    "\n",
    "goal: money to be obtained in the project\n",
    "\n",
    "launched: project start date\n",
    "\n",
    "pledged: money requested by the community\n",
    "\n",
    "backers: number of money donors\n",
    "\n",
    "country: country of origin of the project\n",
    "\n",
    "usd_pledged: conversion of pledged column into dollars\n",
    "\n",
    "usd_pledged_real: dollar conversion of pledged column by Fixer.io API\n",
    "\n",
    "usd_goal_real: dollar conversion of goal column by Fixer.io API\n"
   ]
  },
  {
   "cell_type": "markdown",
   "metadata": {},
   "source": [
    "Cleaninig the data"
   ]
  },
  {
   "cell_type": "code",
   "execution_count": 5,
   "outputs": [
    {
     "data": {
      "text/plain": "                ID                                               name  \\\n0       1000002330                    The Songs of Adelaide & Abullah   \n1       1000003930      Greeting From Earth: ZGAC Arts Capsule For ET   \n2       1000004038                                     Where is Hank?   \n3       1000007540  ToshiCapital Rekordz Needs Help to Complete Album   \n4       1000011046  Community Film Project: The Art of Neighborhoo...   \n...            ...                                                ...   \n378656   999976400  ChknTruk Nationwide Charity Drive 2014 (Canceled)   \n378657   999977640                                          The Tribe   \n378658   999986353  Walls of Remedy- New lesbian Romantic Comedy f...   \n378659   999987933                           BioDefense Education Kit   \n378660   999988282                  Nou Renmen Ayiti!  We Love Haiti!   \n\n               category main_category currency    deadline     goal  \\\n0                Poetry    Publishing      GBP  09/10/2015   1000.0   \n1        Narrative Film  Film & Video      USD  01/11/2017  30000.0   \n2        Narrative Film  Film & Video      USD  26/02/2013  45000.0   \n3                 Music         Music      USD  16/04/2012   5000.0   \n4          Film & Video  Film & Video      USD  29/08/2015  19500.0   \n...                 ...           ...      ...         ...      ...   \n378656      Documentary  Film & Video      USD  17/10/2014  50000.0   \n378657   Narrative Film  Film & Video      USD  19/07/2011   1500.0   \n378658   Narrative Film  Film & Video      USD  16/08/2010  15000.0   \n378659       Technology    Technology      USD  13/02/2016  15000.0   \n378660  Performance Art           Art      USD  16/08/2011   2000.0   \n\n                launched  pledged     state  backers country  usd pledged  \\\n0       11/08/2015 12:12      0.0    failed        0      GB          0.0   \n1       02/09/2017 04:43   2421.0    failed       15      US        100.0   \n2       12/01/2013 00:20    220.0    failed        3      US        220.0   \n3       17/03/2012 03:24      1.0    failed        1      US          1.0   \n4       04/07/2015 08:35   1283.0  canceled       14      US       1283.0   \n...                  ...      ...       ...      ...     ...          ...   \n378656  17/09/2014 02:35     25.0  canceled        1      US         25.0   \n378657  22/06/2011 03:35    155.0    failed        5      US        155.0   \n378658  01/07/2010 19:40     20.0    failed        1      US         20.0   \n378659  13/01/2016 18:13    200.0    failed        6      US        200.0   \n378660  19/07/2011 09:07    524.0    failed       17      US        524.0   \n\n        usd_pledged_realised at deadline  usd_goal_real_at_start  \n0                                    0.0                 1533.95  \n1                                 2421.0                30000.00  \n2                                  220.0                45000.00  \n3                                    1.0                 5000.00  \n4                                 1283.0                19500.00  \n...                                  ...                     ...  \n378656                              25.0                50000.00  \n378657                             155.0                 1500.00  \n378658                              20.0                15000.00  \n378659                             200.0                15000.00  \n378660                             524.0                 2000.00  \n\n[375862 rows x 15 columns]",
      "text/html": "<div>\n<style scoped>\n    .dataframe tbody tr th:only-of-type {\n        vertical-align: middle;\n    }\n\n    .dataframe tbody tr th {\n        vertical-align: top;\n    }\n\n    .dataframe thead th {\n        text-align: right;\n    }\n</style>\n<table border=\"1\" class=\"dataframe\">\n  <thead>\n    <tr style=\"text-align: right;\">\n      <th></th>\n      <th>ID</th>\n      <th>name</th>\n      <th>category</th>\n      <th>main_category</th>\n      <th>currency</th>\n      <th>deadline</th>\n      <th>goal</th>\n      <th>launched</th>\n      <th>pledged</th>\n      <th>state</th>\n      <th>backers</th>\n      <th>country</th>\n      <th>usd pledged</th>\n      <th>usd_pledged_realised at deadline</th>\n      <th>usd_goal_real_at_start</th>\n    </tr>\n  </thead>\n  <tbody>\n    <tr>\n      <th>0</th>\n      <td>1000002330</td>\n      <td>The Songs of Adelaide &amp; Abullah</td>\n      <td>Poetry</td>\n      <td>Publishing</td>\n      <td>GBP</td>\n      <td>09/10/2015</td>\n      <td>1000.0</td>\n      <td>11/08/2015 12:12</td>\n      <td>0.0</td>\n      <td>failed</td>\n      <td>0</td>\n      <td>GB</td>\n      <td>0.0</td>\n      <td>0.0</td>\n      <td>1533.95</td>\n    </tr>\n    <tr>\n      <th>1</th>\n      <td>1000003930</td>\n      <td>Greeting From Earth: ZGAC Arts Capsule For ET</td>\n      <td>Narrative Film</td>\n      <td>Film &amp; Video</td>\n      <td>USD</td>\n      <td>01/11/2017</td>\n      <td>30000.0</td>\n      <td>02/09/2017 04:43</td>\n      <td>2421.0</td>\n      <td>failed</td>\n      <td>15</td>\n      <td>US</td>\n      <td>100.0</td>\n      <td>2421.0</td>\n      <td>30000.00</td>\n    </tr>\n    <tr>\n      <th>2</th>\n      <td>1000004038</td>\n      <td>Where is Hank?</td>\n      <td>Narrative Film</td>\n      <td>Film &amp; Video</td>\n      <td>USD</td>\n      <td>26/02/2013</td>\n      <td>45000.0</td>\n      <td>12/01/2013 00:20</td>\n      <td>220.0</td>\n      <td>failed</td>\n      <td>3</td>\n      <td>US</td>\n      <td>220.0</td>\n      <td>220.0</td>\n      <td>45000.00</td>\n    </tr>\n    <tr>\n      <th>3</th>\n      <td>1000007540</td>\n      <td>ToshiCapital Rekordz Needs Help to Complete Album</td>\n      <td>Music</td>\n      <td>Music</td>\n      <td>USD</td>\n      <td>16/04/2012</td>\n      <td>5000.0</td>\n      <td>17/03/2012 03:24</td>\n      <td>1.0</td>\n      <td>failed</td>\n      <td>1</td>\n      <td>US</td>\n      <td>1.0</td>\n      <td>1.0</td>\n      <td>5000.00</td>\n    </tr>\n    <tr>\n      <th>4</th>\n      <td>1000011046</td>\n      <td>Community Film Project: The Art of Neighborhoo...</td>\n      <td>Film &amp; Video</td>\n      <td>Film &amp; Video</td>\n      <td>USD</td>\n      <td>29/08/2015</td>\n      <td>19500.0</td>\n      <td>04/07/2015 08:35</td>\n      <td>1283.0</td>\n      <td>canceled</td>\n      <td>14</td>\n      <td>US</td>\n      <td>1283.0</td>\n      <td>1283.0</td>\n      <td>19500.00</td>\n    </tr>\n    <tr>\n      <th>...</th>\n      <td>...</td>\n      <td>...</td>\n      <td>...</td>\n      <td>...</td>\n      <td>...</td>\n      <td>...</td>\n      <td>...</td>\n      <td>...</td>\n      <td>...</td>\n      <td>...</td>\n      <td>...</td>\n      <td>...</td>\n      <td>...</td>\n      <td>...</td>\n      <td>...</td>\n    </tr>\n    <tr>\n      <th>378656</th>\n      <td>999976400</td>\n      <td>ChknTruk Nationwide Charity Drive 2014 (Canceled)</td>\n      <td>Documentary</td>\n      <td>Film &amp; Video</td>\n      <td>USD</td>\n      <td>17/10/2014</td>\n      <td>50000.0</td>\n      <td>17/09/2014 02:35</td>\n      <td>25.0</td>\n      <td>canceled</td>\n      <td>1</td>\n      <td>US</td>\n      <td>25.0</td>\n      <td>25.0</td>\n      <td>50000.00</td>\n    </tr>\n    <tr>\n      <th>378657</th>\n      <td>999977640</td>\n      <td>The Tribe</td>\n      <td>Narrative Film</td>\n      <td>Film &amp; Video</td>\n      <td>USD</td>\n      <td>19/07/2011</td>\n      <td>1500.0</td>\n      <td>22/06/2011 03:35</td>\n      <td>155.0</td>\n      <td>failed</td>\n      <td>5</td>\n      <td>US</td>\n      <td>155.0</td>\n      <td>155.0</td>\n      <td>1500.00</td>\n    </tr>\n    <tr>\n      <th>378658</th>\n      <td>999986353</td>\n      <td>Walls of Remedy- New lesbian Romantic Comedy f...</td>\n      <td>Narrative Film</td>\n      <td>Film &amp; Video</td>\n      <td>USD</td>\n      <td>16/08/2010</td>\n      <td>15000.0</td>\n      <td>01/07/2010 19:40</td>\n      <td>20.0</td>\n      <td>failed</td>\n      <td>1</td>\n      <td>US</td>\n      <td>20.0</td>\n      <td>20.0</td>\n      <td>15000.00</td>\n    </tr>\n    <tr>\n      <th>378659</th>\n      <td>999987933</td>\n      <td>BioDefense Education Kit</td>\n      <td>Technology</td>\n      <td>Technology</td>\n      <td>USD</td>\n      <td>13/02/2016</td>\n      <td>15000.0</td>\n      <td>13/01/2016 18:13</td>\n      <td>200.0</td>\n      <td>failed</td>\n      <td>6</td>\n      <td>US</td>\n      <td>200.0</td>\n      <td>200.0</td>\n      <td>15000.00</td>\n    </tr>\n    <tr>\n      <th>378660</th>\n      <td>999988282</td>\n      <td>Nou Renmen Ayiti!  We Love Haiti!</td>\n      <td>Performance Art</td>\n      <td>Art</td>\n      <td>USD</td>\n      <td>16/08/2011</td>\n      <td>2000.0</td>\n      <td>19/07/2011 09:07</td>\n      <td>524.0</td>\n      <td>failed</td>\n      <td>17</td>\n      <td>US</td>\n      <td>524.0</td>\n      <td>524.0</td>\n      <td>2000.00</td>\n    </tr>\n  </tbody>\n</table>\n<p>375862 rows × 15 columns</p>\n</div>"
     },
     "execution_count": 5,
     "metadata": {},
     "output_type": "execute_result"
    }
   ],
   "source": [
    "X=data\n",
    "X[X.state!='live']"
   ],
   "metadata": {
    "collapsed": false
   }
  },
  {
   "cell_type": "code",
   "execution_count": 6,
   "metadata": {
    "trusted": true
   },
   "outputs": [],
   "source": [
    "\n",
    "X=X[X.state!='live']\n",
    "X=X.rename({'usd pledged': 'usd_pledged'}, axis=1)\n",
    "X=X.drop(['name',\"ID\"],axis=1)\n"
   ]
  },
  {
   "cell_type": "code",
   "execution_count": 7,
   "metadata": {
    "trusted": true
   },
   "outputs": [],
   "source": [
    "#Preparing  data Objects and Numbers\n",
    "X_object = X.select_dtypes(include=object)\n",
    "X_num = X.select_dtypes(include=np.number)"
   ]
  },
  {
   "cell_type": "code",
   "execution_count": 8,
   "metadata": {
    "trusted": true
   },
   "outputs": [],
   "source": [
    "dummies = pd.get_dummies(X.main_category, prefix=\"main_category\")\n",
    "X = X.drop('main_category',axis = 1)\n",
    "X = X.join(dummies)\n",
    "dummies = pd.get_dummies(X.category, prefix=\"category\")\n",
    "X = X.drop('category',axis = 1)\n",
    "X = X.join(dummies)\n",
    "dummies = pd.get_dummies(X.country, prefix=\"country\")\n",
    "X = X.drop('country',axis = 1)\n",
    "X = X.join(dummies)"
   ]
  },
  {
   "cell_type": "markdown",
   "metadata": {},
   "source": [
    "Create duration"
   ]
  },
  {
   "cell_type": "code",
   "execution_count": 19,
   "outputs": [
    {
     "data": {
      "text/plain": "        backers  usd_pledged_realised at deadline  usd_goal_real_at_start  \\\n0             0                               0.0                 1533.95   \n1            15                            2421.0                30000.00   \n2             3                             220.0                45000.00   \n3             1                               1.0                 5000.00   \n4            14                            1283.0                19500.00   \n...         ...                               ...                     ...   \n378656        1                              25.0                50000.00   \n378657        5                             155.0                 1500.00   \n378658        1                              20.0                15000.00   \n378659        6                             200.0                15000.00   \n378660       17                             524.0                 2000.00   \n\n        main_category_Art  main_category_Comics  main_category_Crafts  \\\n0                       0                     0                     0   \n1                       0                     0                     0   \n2                       0                     0                     0   \n3                       0                     0                     0   \n4                       0                     0                     0   \n...                   ...                   ...                   ...   \n378656                  0                     0                     0   \n378657                  0                     0                     0   \n378658                  0                     0                     0   \n378659                  0                     0                     0   \n378660                  1                     0                     0   \n\n        main_category_Dance  main_category_Design  main_category_Fashion  \\\n0                         0                     0                      0   \n1                         0                     0                      0   \n2                         0                     0                      0   \n3                         0                     0                      0   \n4                         0                     0                      0   \n...                     ...                   ...                    ...   \n378656                    0                     0                      0   \n378657                    0                     0                      0   \n378658                    0                     0                      0   \n378659                    0                     0                      0   \n378660                    0                     0                      0   \n\n        main_category_Film & Video  ...  country_LU  country_MX  country_N,0\"  \\\n0                                0  ...           0           0             0   \n1                                1  ...           0           0             0   \n2                                1  ...           0           0             0   \n3                                0  ...           0           0             0   \n4                                1  ...           0           0             0   \n...                            ...  ...         ...         ...           ...   \n378656                           1  ...           0           0             0   \n378657                           1  ...           0           0             0   \n378658                           1  ...           0           0             0   \n378659                           0  ...           0           0             0   \n378660                           0  ...           0           0             0   \n\n        country_NL  country_NO  country_NZ  country_SE  country_SG  \\\n0                0           0           0           0           0   \n1                0           0           0           0           0   \n2                0           0           0           0           0   \n3                0           0           0           0           0   \n4                0           0           0           0           0   \n...            ...         ...         ...         ...         ...   \n378656           0           0           0           0           0   \n378657           0           0           0           0           0   \n378658           0           0           0           0           0   \n378659           0           0           0           0           0   \n378660           0           0           0           0           0   \n\n        country_US  duration  \n0                0        58  \n1                1        59  \n2                1        44  \n3                1        29  \n4                1        55  \n...            ...       ...  \n378656           1        29  \n378657           1        26  \n378658           1        45  \n378659           1        30  \n378660           1        27  \n\n[375862 rows x 201 columns]",
      "text/html": "<div>\n<style scoped>\n    .dataframe tbody tr th:only-of-type {\n        vertical-align: middle;\n    }\n\n    .dataframe tbody tr th {\n        vertical-align: top;\n    }\n\n    .dataframe thead th {\n        text-align: right;\n    }\n</style>\n<table border=\"1\" class=\"dataframe\">\n  <thead>\n    <tr style=\"text-align: right;\">\n      <th></th>\n      <th>backers</th>\n      <th>usd_pledged_realised at deadline</th>\n      <th>usd_goal_real_at_start</th>\n      <th>main_category_Art</th>\n      <th>main_category_Comics</th>\n      <th>main_category_Crafts</th>\n      <th>main_category_Dance</th>\n      <th>main_category_Design</th>\n      <th>main_category_Fashion</th>\n      <th>main_category_Film &amp; Video</th>\n      <th>...</th>\n      <th>country_LU</th>\n      <th>country_MX</th>\n      <th>country_N,0\"</th>\n      <th>country_NL</th>\n      <th>country_NO</th>\n      <th>country_NZ</th>\n      <th>country_SE</th>\n      <th>country_SG</th>\n      <th>country_US</th>\n      <th>duration</th>\n    </tr>\n  </thead>\n  <tbody>\n    <tr>\n      <th>0</th>\n      <td>0</td>\n      <td>0.0</td>\n      <td>1533.95</td>\n      <td>0</td>\n      <td>0</td>\n      <td>0</td>\n      <td>0</td>\n      <td>0</td>\n      <td>0</td>\n      <td>0</td>\n      <td>...</td>\n      <td>0</td>\n      <td>0</td>\n      <td>0</td>\n      <td>0</td>\n      <td>0</td>\n      <td>0</td>\n      <td>0</td>\n      <td>0</td>\n      <td>0</td>\n      <td>58</td>\n    </tr>\n    <tr>\n      <th>1</th>\n      <td>15</td>\n      <td>2421.0</td>\n      <td>30000.00</td>\n      <td>0</td>\n      <td>0</td>\n      <td>0</td>\n      <td>0</td>\n      <td>0</td>\n      <td>0</td>\n      <td>1</td>\n      <td>...</td>\n      <td>0</td>\n      <td>0</td>\n      <td>0</td>\n      <td>0</td>\n      <td>0</td>\n      <td>0</td>\n      <td>0</td>\n      <td>0</td>\n      <td>1</td>\n      <td>59</td>\n    </tr>\n    <tr>\n      <th>2</th>\n      <td>3</td>\n      <td>220.0</td>\n      <td>45000.00</td>\n      <td>0</td>\n      <td>0</td>\n      <td>0</td>\n      <td>0</td>\n      <td>0</td>\n      <td>0</td>\n      <td>1</td>\n      <td>...</td>\n      <td>0</td>\n      <td>0</td>\n      <td>0</td>\n      <td>0</td>\n      <td>0</td>\n      <td>0</td>\n      <td>0</td>\n      <td>0</td>\n      <td>1</td>\n      <td>44</td>\n    </tr>\n    <tr>\n      <th>3</th>\n      <td>1</td>\n      <td>1.0</td>\n      <td>5000.00</td>\n      <td>0</td>\n      <td>0</td>\n      <td>0</td>\n      <td>0</td>\n      <td>0</td>\n      <td>0</td>\n      <td>0</td>\n      <td>...</td>\n      <td>0</td>\n      <td>0</td>\n      <td>0</td>\n      <td>0</td>\n      <td>0</td>\n      <td>0</td>\n      <td>0</td>\n      <td>0</td>\n      <td>1</td>\n      <td>29</td>\n    </tr>\n    <tr>\n      <th>4</th>\n      <td>14</td>\n      <td>1283.0</td>\n      <td>19500.00</td>\n      <td>0</td>\n      <td>0</td>\n      <td>0</td>\n      <td>0</td>\n      <td>0</td>\n      <td>0</td>\n      <td>1</td>\n      <td>...</td>\n      <td>0</td>\n      <td>0</td>\n      <td>0</td>\n      <td>0</td>\n      <td>0</td>\n      <td>0</td>\n      <td>0</td>\n      <td>0</td>\n      <td>1</td>\n      <td>55</td>\n    </tr>\n    <tr>\n      <th>...</th>\n      <td>...</td>\n      <td>...</td>\n      <td>...</td>\n      <td>...</td>\n      <td>...</td>\n      <td>...</td>\n      <td>...</td>\n      <td>...</td>\n      <td>...</td>\n      <td>...</td>\n      <td>...</td>\n      <td>...</td>\n      <td>...</td>\n      <td>...</td>\n      <td>...</td>\n      <td>...</td>\n      <td>...</td>\n      <td>...</td>\n      <td>...</td>\n      <td>...</td>\n      <td>...</td>\n    </tr>\n    <tr>\n      <th>378656</th>\n      <td>1</td>\n      <td>25.0</td>\n      <td>50000.00</td>\n      <td>0</td>\n      <td>0</td>\n      <td>0</td>\n      <td>0</td>\n      <td>0</td>\n      <td>0</td>\n      <td>1</td>\n      <td>...</td>\n      <td>0</td>\n      <td>0</td>\n      <td>0</td>\n      <td>0</td>\n      <td>0</td>\n      <td>0</td>\n      <td>0</td>\n      <td>0</td>\n      <td>1</td>\n      <td>29</td>\n    </tr>\n    <tr>\n      <th>378657</th>\n      <td>5</td>\n      <td>155.0</td>\n      <td>1500.00</td>\n      <td>0</td>\n      <td>0</td>\n      <td>0</td>\n      <td>0</td>\n      <td>0</td>\n      <td>0</td>\n      <td>1</td>\n      <td>...</td>\n      <td>0</td>\n      <td>0</td>\n      <td>0</td>\n      <td>0</td>\n      <td>0</td>\n      <td>0</td>\n      <td>0</td>\n      <td>0</td>\n      <td>1</td>\n      <td>26</td>\n    </tr>\n    <tr>\n      <th>378658</th>\n      <td>1</td>\n      <td>20.0</td>\n      <td>15000.00</td>\n      <td>0</td>\n      <td>0</td>\n      <td>0</td>\n      <td>0</td>\n      <td>0</td>\n      <td>0</td>\n      <td>1</td>\n      <td>...</td>\n      <td>0</td>\n      <td>0</td>\n      <td>0</td>\n      <td>0</td>\n      <td>0</td>\n      <td>0</td>\n      <td>0</td>\n      <td>0</td>\n      <td>1</td>\n      <td>45</td>\n    </tr>\n    <tr>\n      <th>378659</th>\n      <td>6</td>\n      <td>200.0</td>\n      <td>15000.00</td>\n      <td>0</td>\n      <td>0</td>\n      <td>0</td>\n      <td>0</td>\n      <td>0</td>\n      <td>0</td>\n      <td>0</td>\n      <td>...</td>\n      <td>0</td>\n      <td>0</td>\n      <td>0</td>\n      <td>0</td>\n      <td>0</td>\n      <td>0</td>\n      <td>0</td>\n      <td>0</td>\n      <td>1</td>\n      <td>30</td>\n    </tr>\n    <tr>\n      <th>378660</th>\n      <td>17</td>\n      <td>524.0</td>\n      <td>2000.00</td>\n      <td>1</td>\n      <td>0</td>\n      <td>0</td>\n      <td>0</td>\n      <td>0</td>\n      <td>0</td>\n      <td>0</td>\n      <td>...</td>\n      <td>0</td>\n      <td>0</td>\n      <td>0</td>\n      <td>0</td>\n      <td>0</td>\n      <td>0</td>\n      <td>0</td>\n      <td>0</td>\n      <td>1</td>\n      <td>27</td>\n    </tr>\n  </tbody>\n</table>\n<p>375862 rows × 201 columns</p>\n</div>"
     },
     "execution_count": 19,
     "metadata": {},
     "output_type": "execute_result"
    }
   ],
   "source": [
    "X"
   ],
   "metadata": {
    "collapsed": false
   }
  },
  {
   "cell_type": "code",
   "execution_count": 9,
   "metadata": {
    "trusted": true
   },
   "outputs": [],
   "source": [
    "from datetime import timedelta\n",
    "from datetime import datetime \n",
    "import datetime as dt\n",
    "tiempo = np.array(X['deadline'])\n",
    "endtime=np.array([datetime.strptime(t, '%d/%m/%Y') for t in tiempo ])\n",
    "X['deadline']=endtime\n",
    "tiempo = np.array(X['launched'])\n",
    "starttime=np.array([datetime.strptime(t, '%d/%m/%Y %H:%M') for t in tiempo])\n",
    "X['launched']=starttime\n",
    "X['duration'] = (endtime-starttime)"
   ]
  },
  {
   "cell_type": "code",
   "execution_count": 10,
   "metadata": {
    "trusted": true
   },
   "outputs": [],
   "source": [
    "tiempo =X['duration']\n",
    "duration=np.array([t.days for t in tiempo])\n"
   ]
  },
  {
   "cell_type": "code",
   "execution_count": 11,
   "metadata": {
    "trusted": true
   },
   "outputs": [],
   "source": [
    "X['duration']=duration\n",
    "X = X.drop('deadline',axis = 1)\n",
    "X = X.drop('launched',axis = 1)"
   ]
  },
  {
   "cell_type": "code",
   "execution_count": 12,
   "metadata": {
    "trusted": true
   },
   "outputs": [
    {
     "data": {
      "text/plain": "             Total   Percent\nusd_pledged   3796  1.009945",
      "text/html": "<div>\n<style scoped>\n    .dataframe tbody tr th:only-of-type {\n        vertical-align: middle;\n    }\n\n    .dataframe tbody tr th {\n        vertical-align: top;\n    }\n\n    .dataframe thead th {\n        text-align: right;\n    }\n</style>\n<table border=\"1\" class=\"dataframe\">\n  <thead>\n    <tr style=\"text-align: right;\">\n      <th></th>\n      <th>Total</th>\n      <th>Percent</th>\n    </tr>\n  </thead>\n  <tbody>\n    <tr>\n      <th>usd_pledged</th>\n      <td>3796</td>\n      <td>1.009945</td>\n    </tr>\n  </tbody>\n</table>\n</div>"
     },
     "execution_count": 12,
     "metadata": {},
     "output_type": "execute_result"
    }
   ],
   "source": [
    "def missing_data(data):\n",
    "#source>\n",
    "#https://www.kaggle.com/ajaykgp12/ecommerce-eda/notebook\n",
    "\n",
    "        test = data.isnull().sum()\n",
    "        total = test.sort_values(ascending = False)\n",
    "        percent= (data.isnull().sum() * 100 / data.isnull().count() ).sort_values(ascending = False)\n",
    "        df = pd.concat([total, percent], axis = 1, keys = ['Total', 'Percent'])\n",
    "    \n",
    "        return df[df['Total'] != 0]\n",
    "\n",
    "missing_data(X)\n"
   ]
  },
  {
   "cell_type": "markdown",
   "metadata": {},
   "source": [
    "Clean redundant and duplicate data by definition.\n",
    "\n",
    "goal: money to be obtained in the project pledged: money requested by the community\n",
    "\n",
    "currency: currency of the request.\n",
    "\n",
    "backers: number of money donors\n",
    "\n",
    "usd_pledged: conversion of pledged column into dollars\n",
    "\n",
    "usd_pledged_real: dollar conversion of pledged column by Fixer.io API\n",
    "\n",
    "usd_goal_real: dollar conversion of goal column by Fixer.io API\n",
    "\n",
    "deadline: project expiration date launched: project start date"
   ]
  },
  {
   "cell_type": "code",
   "execution_count": 13,
   "metadata": {
    "trusted": true
   },
   "outputs": [],
   "source": [
    "#realmente no se puede predecir muy bien\n",
    "X = X.drop(['usd_pledged'], axis =1)\n",
    "X = X.drop(['goal','pledged','currency'],axis = 1)"
   ]
  },
  {
   "cell_type": "code",
   "execution_count": 14,
   "metadata": {
    "trusted": true
   },
   "outputs": [],
   "source": [
    "y=X.state\n",
    "y=y.replace(['canceled','suspended','undefined'],'failed')\n",
    "   \n",
    "X=X.drop(\"state\",axis=1)\n",
    "   "
   ]
  },
  {
   "cell_type": "code",
   "execution_count": 15,
   "metadata": {
    "trusted": true
   },
   "outputs": [],
   "source": [
    "#definition of data later we do cross validation.\n",
    "from sklearn.model_selection import train_test_split\n",
    "# Test-train split. Consider a test set of (+ -) 30%.\n",
    "X_train, X_test, y_train, y_test = train_test_split(X, y, test_size=0.30, random_state=42)"
   ]
  },
  {
   "cell_type": "markdown",
   "metadata": {},
   "source": [
    "# Model with Naive Bayes Gaussian to predict the status of the project."
   ]
  },
  {
   "cell_type": "code",
   "execution_count": 16,
   "metadata": {
    "trusted": true
   },
   "outputs": [],
   "source": [
    "#y= pd.get_dummies(y)\n",
    "\n",
    "#y=y.drop('failed',axis=1)\n"
   ]
  },
  {
   "cell_type": "code",
   "execution_count": 17,
   "metadata": {
    "trusted": true
   },
   "outputs": [
    {
     "name": "stdout",
     "output_type": "stream",
     "text": [
      "Accuracy: 0.7421137115440896\n"
     ]
    }
   ],
   "source": [
    "from sklearn.naive_bayes import GaussianNB\n",
    "model = GaussianNB()\n",
    "\n",
    "y_prima = model.fit(X_train, y_train).predict(X_test)\n",
    "from sklearn.metrics import accuracy_score\n",
    "print(\"Accuracy:\",accuracy_score(y_test, y_prima))"
   ]
  },
  {
   "cell_type": "code",
   "execution_count": 18,
   "metadata": {
    "trusted": true
   },
   "outputs": [
    {
     "name": "stdout",
     "output_type": "stream",
     "text": [
      "CV: [0.74137335 0.73820736 0.74163252 0.74392061 0.75525462 0.74227106\n",
      " 0.74008939 0.74368116 0.73907838 0.74160592]\n",
      "Accuracy: 0.7427114362243759\n"
     ]
    }
   ],
   "source": [
    "# 10-k-fold CV\n",
    "from sklearn.model_selection import cross_val_score\n",
    "scores = cross_val_score(model, X, y, cv=10)\n",
    "\n",
    "print(\"CV:\",scores)\n",
    "print(\"Accuracy:\",scores.mean())"
   ]
  },
  {
   "cell_type": "code",
   "execution_count": null,
   "metadata": {
    "trusted": true
   },
   "outputs": [
    {
     "name": "stdout",
     "output_type": "stream",
     "text": [
      "              precision    recall  f1-score   support\n",
      "\n",
      "      failed       0.72      0.99      0.83     72634\n",
      "  successful       0.92      0.30      0.45     40125\n",
      "\n",
      "    accuracy                           0.74    112759\n",
      "   macro avg       0.82      0.64      0.64    112759\n",
      "weighted avg       0.79      0.74      0.70    112759\n",
      "\n",
      "Acc: 0.7421137115440896\n"
     ]
    },
    {
     "data": {
      "text/plain": [
       "<sklearn.metrics._plot.confusion_matrix.ConfusionMatrixDisplay at 0x7f90dec45810>"
      ]
     },
     "execution_count": 46,
     "metadata": {},
     "output_type": "execute_result"
    },
    {
     "data": {
      "image/png": "[encoded data removed]",
      "text/plain": [
       "<Figure size 432x288 with 2 Axes>"
      ]
     },
     "metadata": {
      "needs_background": "light"
     },
     "output_type": "display_data"
    }
   ],
   "source": [
    "class_names = (model.classes_)\n",
    "from sklearn.metrics import classification_report\n",
    "print(classification_report(y_test, y_prima, target_names=class_names))\n",
    "from sklearn.metrics import accuracy_score\n",
    "print(\"Acc:\",accuracy_score(y_test, y_prima))\n",
    "\n",
    "from sklearn.metrics import plot_confusion_matrix\n",
    "\n",
    " \n",
    "plot_confusion_matrix(model, X,y,\n",
    "                             display_labels=class_names,\n",
    "                             cmap=plt.cm.Blues,\n",
    "                             normalize=None)"
   ]
  },
  {
   "cell_type": "markdown",
   "metadata": {},
   "source": [
    "# KNN model to predict project status."
   ]
  },
  {
   "cell_type": "code",
   "execution_count": 20,
   "outputs": [
    {
     "data": {
      "text/plain": "        backers  usd_pledged_realised at deadline  usd_goal_real_at_start  \\\n190683       28                           1042.00                 5000.00   \n175672        2                             50.00                15000.00   \n204005     1667                         525890.00               100000.00   \n112897        8                            883.78                  825.45   \n75412        23                           3620.62                 3549.62   \n...         ...                               ...                     ...   \n261090        1                             50.00                 5000.00   \n368546       42                           1426.00                 1000.00   \n132924        4                            161.00                 3000.00   \n147959        1                             70.00                 9000.00   \n122873       63                          25000.00                25000.00   \n\n        main_category_Art  main_category_Comics  main_category_Crafts  \\\n190683                  0                     0                     0   \n175672                  0                     0                     0   \n204005                  0                     0                     0   \n112897                  0                     0                     1   \n75412                   0                     0                     1   \n...                   ...                   ...                   ...   \n261090                  0                     0                     0   \n368546                  0                     0                     0   \n132924                  1                     0                     0   \n147959                  0                     0                     0   \n122873                  1                     0                     0   \n\n        main_category_Dance  main_category_Design  main_category_Fashion  \\\n190683                    0                     0                      0   \n175672                    0                     0                      0   \n204005                    0                     1                      0   \n112897                    0                     0                      0   \n75412                     0                     0                      0   \n...                     ...                   ...                    ...   \n261090                    0                     0                      1   \n368546                    0                     0                      0   \n132924                    0                     0                      0   \n147959                    0                     0                      1   \n122873                    0                     0                      0   \n\n        main_category_Film & Video  ...  country_LU  country_MX  country_N,0\"  \\\n190683                           0  ...           0           0             0   \n175672                           0  ...           0           0             0   \n204005                           0  ...           0           0             0   \n112897                           0  ...           0           0             0   \n75412                            0  ...           0           0             0   \n...                            ...  ...         ...         ...           ...   \n261090                           0  ...           0           0             0   \n368546                           0  ...           0           0             0   \n132924                           0  ...           0           0             0   \n147959                           0  ...           0           0             0   \n122873                           0  ...           0           0             0   \n\n        country_NL  country_NO  country_NZ  country_SE  country_SG  \\\n190683           0           0           0           0           0   \n175672           0           0           0           0           0   \n204005           0           0           0           0           0   \n112897           0           0           0           0           0   \n75412            0           0           0           0           1   \n...            ...         ...         ...         ...         ...   \n261090           0           0           0           0           0   \n368546           0           0           0           0           0   \n132924           0           0           0           0           0   \n147959           0           0           0           0           0   \n122873           0           0           0           0           0   \n\n        country_US  duration  \n190683           1        44  \n175672           1        13  \n204005           1        59  \n112897           0        27  \n75412            0        29  \n...            ...       ...  \n261090           1        29  \n368546           1        20  \n132924           1        34  \n147959           1        59  \n122873           1        44  \n\n[263103 rows x 201 columns]",
      "text/html": "<div>\n<style scoped>\n    .dataframe tbody tr th:only-of-type {\n        vertical-align: middle;\n    }\n\n    .dataframe tbody tr th {\n        vertical-align: top;\n    }\n\n    .dataframe thead th {\n        text-align: right;\n    }\n</style>\n<table border=\"1\" class=\"dataframe\">\n  <thead>\n    <tr style=\"text-align: right;\">\n      <th></th>\n      <th>backers</th>\n      <th>usd_pledged_realised at deadline</th>\n      <th>usd_goal_real_at_start</th>\n      <th>main_category_Art</th>\n      <th>main_category_Comics</th>\n      <th>main_category_Crafts</th>\n      <th>main_category_Dance</th>\n      <th>main_category_Design</th>\n      <th>main_category_Fashion</th>\n      <th>main_category_Film &amp; Video</th>\n      <th>...</th>\n      <th>country_LU</th>\n      <th>country_MX</th>\n      <th>country_N,0\"</th>\n      <th>country_NL</th>\n      <th>country_NO</th>\n      <th>country_NZ</th>\n      <th>country_SE</th>\n      <th>country_SG</th>\n      <th>country_US</th>\n      <th>duration</th>\n    </tr>\n  </thead>\n  <tbody>\n    <tr>\n      <th>190683</th>\n      <td>28</td>\n      <td>1042.00</td>\n      <td>5000.00</td>\n      <td>0</td>\n      <td>0</td>\n      <td>0</td>\n      <td>0</td>\n      <td>0</td>\n      <td>0</td>\n      <td>0</td>\n      <td>...</td>\n      <td>0</td>\n      <td>0</td>\n      <td>0</td>\n      <td>0</td>\n      <td>0</td>\n      <td>0</td>\n      <td>0</td>\n      <td>0</td>\n      <td>1</td>\n      <td>44</td>\n    </tr>\n    <tr>\n      <th>175672</th>\n      <td>2</td>\n      <td>50.00</td>\n      <td>15000.00</td>\n      <td>0</td>\n      <td>0</td>\n      <td>0</td>\n      <td>0</td>\n      <td>0</td>\n      <td>0</td>\n      <td>0</td>\n      <td>...</td>\n      <td>0</td>\n      <td>0</td>\n      <td>0</td>\n      <td>0</td>\n      <td>0</td>\n      <td>0</td>\n      <td>0</td>\n      <td>0</td>\n      <td>1</td>\n      <td>13</td>\n    </tr>\n    <tr>\n      <th>204005</th>\n      <td>1667</td>\n      <td>525890.00</td>\n      <td>100000.00</td>\n      <td>0</td>\n      <td>0</td>\n      <td>0</td>\n      <td>0</td>\n      <td>1</td>\n      <td>0</td>\n      <td>0</td>\n      <td>...</td>\n      <td>0</td>\n      <td>0</td>\n      <td>0</td>\n      <td>0</td>\n      <td>0</td>\n      <td>0</td>\n      <td>0</td>\n      <td>0</td>\n      <td>1</td>\n      <td>59</td>\n    </tr>\n    <tr>\n      <th>112897</th>\n      <td>8</td>\n      <td>883.78</td>\n      <td>825.45</td>\n      <td>0</td>\n      <td>0</td>\n      <td>1</td>\n      <td>0</td>\n      <td>0</td>\n      <td>0</td>\n      <td>0</td>\n      <td>...</td>\n      <td>0</td>\n      <td>0</td>\n      <td>0</td>\n      <td>0</td>\n      <td>0</td>\n      <td>0</td>\n      <td>0</td>\n      <td>0</td>\n      <td>0</td>\n      <td>27</td>\n    </tr>\n    <tr>\n      <th>75412</th>\n      <td>23</td>\n      <td>3620.62</td>\n      <td>3549.62</td>\n      <td>0</td>\n      <td>0</td>\n      <td>1</td>\n      <td>0</td>\n      <td>0</td>\n      <td>0</td>\n      <td>0</td>\n      <td>...</td>\n      <td>0</td>\n      <td>0</td>\n      <td>0</td>\n      <td>0</td>\n      <td>0</td>\n      <td>0</td>\n      <td>0</td>\n      <td>1</td>\n      <td>0</td>\n      <td>29</td>\n    </tr>\n    <tr>\n      <th>...</th>\n      <td>...</td>\n      <td>...</td>\n      <td>...</td>\n      <td>...</td>\n      <td>...</td>\n      <td>...</td>\n      <td>...</td>\n      <td>...</td>\n      <td>...</td>\n      <td>...</td>\n      <td>...</td>\n      <td>...</td>\n      <td>...</td>\n      <td>...</td>\n      <td>...</td>\n      <td>...</td>\n      <td>...</td>\n      <td>...</td>\n      <td>...</td>\n      <td>...</td>\n      <td>...</td>\n    </tr>\n    <tr>\n      <th>261090</th>\n      <td>1</td>\n      <td>50.00</td>\n      <td>5000.00</td>\n      <td>0</td>\n      <td>0</td>\n      <td>0</td>\n      <td>0</td>\n      <td>0</td>\n      <td>1</td>\n      <td>0</td>\n      <td>...</td>\n      <td>0</td>\n      <td>0</td>\n      <td>0</td>\n      <td>0</td>\n      <td>0</td>\n      <td>0</td>\n      <td>0</td>\n      <td>0</td>\n      <td>1</td>\n      <td>29</td>\n    </tr>\n    <tr>\n      <th>368546</th>\n      <td>42</td>\n      <td>1426.00</td>\n      <td>1000.00</td>\n      <td>0</td>\n      <td>0</td>\n      <td>0</td>\n      <td>0</td>\n      <td>0</td>\n      <td>0</td>\n      <td>0</td>\n      <td>...</td>\n      <td>0</td>\n      <td>0</td>\n      <td>0</td>\n      <td>0</td>\n      <td>0</td>\n      <td>0</td>\n      <td>0</td>\n      <td>0</td>\n      <td>1</td>\n      <td>20</td>\n    </tr>\n    <tr>\n      <th>132924</th>\n      <td>4</td>\n      <td>161.00</td>\n      <td>3000.00</td>\n      <td>1</td>\n      <td>0</td>\n      <td>0</td>\n      <td>0</td>\n      <td>0</td>\n      <td>0</td>\n      <td>0</td>\n      <td>...</td>\n      <td>0</td>\n      <td>0</td>\n      <td>0</td>\n      <td>0</td>\n      <td>0</td>\n      <td>0</td>\n      <td>0</td>\n      <td>0</td>\n      <td>1</td>\n      <td>34</td>\n    </tr>\n    <tr>\n      <th>147959</th>\n      <td>1</td>\n      <td>70.00</td>\n      <td>9000.00</td>\n      <td>0</td>\n      <td>0</td>\n      <td>0</td>\n      <td>0</td>\n      <td>0</td>\n      <td>1</td>\n      <td>0</td>\n      <td>...</td>\n      <td>0</td>\n      <td>0</td>\n      <td>0</td>\n      <td>0</td>\n      <td>0</td>\n      <td>0</td>\n      <td>0</td>\n      <td>0</td>\n      <td>1</td>\n      <td>59</td>\n    </tr>\n    <tr>\n      <th>122873</th>\n      <td>63</td>\n      <td>25000.00</td>\n      <td>25000.00</td>\n      <td>1</td>\n      <td>0</td>\n      <td>0</td>\n      <td>0</td>\n      <td>0</td>\n      <td>0</td>\n      <td>0</td>\n      <td>...</td>\n      <td>0</td>\n      <td>0</td>\n      <td>0</td>\n      <td>0</td>\n      <td>0</td>\n      <td>0</td>\n      <td>0</td>\n      <td>0</td>\n      <td>1</td>\n      <td>44</td>\n    </tr>\n  </tbody>\n</table>\n<p>263103 rows × 201 columns</p>\n</div>"
     },
     "execution_count": 20,
     "metadata": {},
     "output_type": "execute_result"
    }
   ],
   "source": [
    "X_train"
   ],
   "metadata": {
    "collapsed": false
   }
  },
  {
   "cell_type": "code",
   "execution_count": 21,
   "metadata": {
    "trusted": true
   },
   "outputs": [],
   "source": [
    "from sklearn.neighbors import KNeighborsClassifier\n",
    "error_rate = []\n",
    "k=[1, 3, 5, 7, 9]\n",
    "preds_kNN=[]\n",
    "\n"
   ]
  },
  {
   "cell_type": "code",
   "execution_count": null,
   "metadata": {
    "trusted": true
   },
   "outputs": [],
   "source": [
    "for i in range(len(k)):\n",
    "    kNN=(KNeighborsClassifier(n_neighbors=k[i]).fit(X_train, y_train))\n",
    "    # Lo evaluamos contra el grid de posiciones generadas anteriormente\n",
    "    preds_kNN.append(kNN.predict(X_test))\n",
    "    error_rate.append(np.mean(kNN.predict(X_test) != y_test))\n"
   ]
  },
  {
   "cell_type": "code",
   "execution_count": null,
   "metadata": {
    "trusted": true
   },
   "outputs": [],
   "source": [
    "plt.figure(figsize=(10,6))\n",
    "plt.plot(k,error_rate,color='blue', linestyle='dashed', marker='o',\n",
    "         markerfacecolor='red', markersize=10)\n",
    "plt.title('Error Rate vs. K Value')\n",
    "plt.xlabel('K')\n",
    "plt.ylabel('Error Rate')"
   ]
  },
  {
   "cell_type": "code",
   "execution_count": null,
   "metadata": {
    "trusted": true
   },
   "outputs": [],
   "source": [
    "kNN=(KNeighborsClassifier(n_neighbors=3).fit(X_train, y_train))"
   ]
  },
  {
   "cell_type": "code",
   "execution_count": null,
   "metadata": {
    "trusted": true
   },
   "outputs": [
    {
     "name": "stdout",
     "output_type": "stream",
     "text": [
      "Accuracy: 0.9926835096655651\n"
     ]
    }
   ],
   "source": [
    "# 10-k-fold CV\n",
    "scores = cross_val_score(kNN, X_test, y_test, cv=10)\n",
    "\n",
    "#print(\"CV:\",scores)\n",
    "print(\"Accuracy:\",scores.mean())"
   ]
  },
  {
   "cell_type": "code",
   "execution_count": null,
   "metadata": {
    "trusted": true
   },
   "outputs": [
    {
     "name": "stdout",
     "output_type": "stream",
     "text": [
      "              precision    recall  f1-score   support\n",
      "\n",
      "      failed       1.00      0.99      1.00    241906\n",
      "  successful       0.99      1.00      0.99    133956\n",
      "\n",
      "    accuracy                           0.99    375862\n",
      "   macro avg       0.99      1.00      0.99    375862\n",
      "weighted avg       0.99      0.99      0.99    375862\n",
      "\n",
      "Acc: 0.9948332100611395\n"
     ]
    },
    {
     "data": {
      "text/plain": [
       "<sklearn.metrics._plot.confusion_matrix.ConfusionMatrixDisplay at 0x7f90ddbf5290>"
      ]
     },
     "execution_count": 52,
     "metadata": {},
     "output_type": "execute_result"
    },
    {
     "data": {
      "image/png": "[encoded data removed]",
      "text/plain": [
       "<Figure size 432x288 with 2 Axes>"
      ]
     },
     "metadata": {
      "needs_background": "light"
     },
     "output_type": "display_data"
    }
   ],
   "source": [
    "class_names = (kNN.classes_)\n",
    "y_prima =(kNN.predict(X))\n",
    "from sklearn.metrics import classification_report\n",
    "print(classification_report(y, y_prima, target_names=class_names))\n",
    "from sklearn.metrics import accuracy_score\n",
    "print(\"Acc:\",accuracy_score(y, y_prima))\n",
    "\n",
    "from sklearn.metrics import plot_confusion_matrix\n",
    "\n",
    " \n",
    "plot_confusion_matrix(kNN, X,y,\n",
    "                             display_labels=class_names,\n",
    "                             cmap=plt.cm.Blues,\n",
    "                             normalize=None)\n"
   ]
  },
  {
   "cell_type": "markdown",
   "metadata": {},
   "source": [
    "# LogisticRegression"
   ]
  },
  {
   "cell_type": "code",
   "execution_count": null,
   "metadata": {
    "trusted": true
   },
   "outputs": [
    {
     "name": "stdout",
     "output_type": "stream",
     "text": [
      "109736  /  112759  clasificados correctamente en aprendizaje\n"
     ]
    }
   ],
   "source": [
    "from sklearn.linear_model import LogisticRegression\n",
    "\n",
    "model=LogisticRegression()\n",
    "model.fit(X_train, y_train)\n",
    "# lo evaluamos contra los mismos datos de entrada\n",
    "print((model.predict(X_test) == y_test).sum(), ' / ', y_test.shape[0], ' clasificados correctamente en aprendizaje')\n"
   ]
  },
  {
   "cell_type": "code",
   "execution_count": null,
   "metadata": {
    "trusted": true
   },
   "outputs": [
    {
     "name": "stdout",
     "output_type": "stream",
     "text": [
      "Accuracy: 0.973190610062168\n"
     ]
    }
   ],
   "source": [
    "y_prima = model.fit(X_train, y_train).predict(X_test)\n",
    "from sklearn.metrics import accuracy_score\n",
    "print(\"Accuracy:\",accuracy_score(y_test, y_prima))"
   ]
  },
  {
   "cell_type": "code",
   "execution_count": null,
   "metadata": {
    "trusted": true
   },
   "outputs": [
    {
     "name": "stderr",
     "output_type": "stream",
     "text": [
      "/opt/conda/lib/python3.7/site-packages/sklearn/linear_model/_logistic.py:764: ConvergenceWarning: lbfgs failed to converge (status=1):\n",
      "STOP: TOTAL NO. of ITERATIONS REACHED LIMIT.\n",
      "\n",
      "Increase the number of iterations (max_iter) or scale the data as shown in:\n",
      "    https://scikit-learn.org/stable/modules/preprocessing.html\n",
      "Please also refer to the documentation for alternative solver options:\n",
      "    https://scikit-learn.org/stable/modules/linear_model.html#logistic-regression\n",
      "  extra_warning_msg=_LOGISTIC_SOLVER_CONVERGENCE_MSG)\n",
      "/opt/conda/lib/python3.7/site-packages/sklearn/linear_model/_logistic.py:764: ConvergenceWarning: lbfgs failed to converge (status=1):\n",
      "STOP: TOTAL NO. of ITERATIONS REACHED LIMIT.\n",
      "\n",
      "Increase the number of iterations (max_iter) or scale the data as shown in:\n",
      "    https://scikit-learn.org/stable/modules/preprocessing.html\n",
      "Please also refer to the documentation for alternative solver options:\n",
      "    https://scikit-learn.org/stable/modules/linear_model.html#logistic-regression\n",
      "  extra_warning_msg=_LOGISTIC_SOLVER_CONVERGENCE_MSG)\n",
      "/opt/conda/lib/python3.7/site-packages/sklearn/linear_model/_logistic.py:764: ConvergenceWarning: lbfgs failed to converge (status=1):\n",
      "STOP: TOTAL NO. of ITERATIONS REACHED LIMIT.\n",
      "\n",
      "Increase the number of iterations (max_iter) or scale the data as shown in:\n",
      "    https://scikit-learn.org/stable/modules/preprocessing.html\n",
      "Please also refer to the documentation for alternative solver options:\n",
      "    https://scikit-learn.org/stable/modules/linear_model.html#logistic-regression\n",
      "  extra_warning_msg=_LOGISTIC_SOLVER_CONVERGENCE_MSG)\n",
      "/opt/conda/lib/python3.7/site-packages/sklearn/linear_model/_logistic.py:764: ConvergenceWarning: lbfgs failed to converge (status=1):\n",
      "STOP: TOTAL NO. of ITERATIONS REACHED LIMIT.\n",
      "\n",
      "Increase the number of iterations (max_iter) or scale the data as shown in:\n",
      "    https://scikit-learn.org/stable/modules/preprocessing.html\n",
      "Please also refer to the documentation for alternative solver options:\n",
      "    https://scikit-learn.org/stable/modules/linear_model.html#logistic-regression\n",
      "  extra_warning_msg=_LOGISTIC_SOLVER_CONVERGENCE_MSG)\n",
      "/opt/conda/lib/python3.7/site-packages/sklearn/linear_model/_logistic.py:764: ConvergenceWarning: lbfgs failed to converge (status=1):\n",
      "STOP: TOTAL NO. of ITERATIONS REACHED LIMIT.\n",
      "\n",
      "Increase the number of iterations (max_iter) or scale the data as shown in:\n",
      "    https://scikit-learn.org/stable/modules/preprocessing.html\n",
      "Please also refer to the documentation for alternative solver options:\n",
      "    https://scikit-learn.org/stable/modules/linear_model.html#logistic-regression\n",
      "  extra_warning_msg=_LOGISTIC_SOLVER_CONVERGENCE_MSG)\n"
     ]
    },
    {
     "name": "stdout",
     "output_type": "stream",
     "text": [
      "Accuracy: 0.9756240495356436\n"
     ]
    },
    {
     "name": "stderr",
     "output_type": "stream",
     "text": [
      "/opt/conda/lib/python3.7/site-packages/sklearn/linear_model/_logistic.py:764: ConvergenceWarning: lbfgs failed to converge (status=1):\n",
      "STOP: TOTAL NO. of ITERATIONS REACHED LIMIT.\n",
      "\n",
      "Increase the number of iterations (max_iter) or scale the data as shown in:\n",
      "    https://scikit-learn.org/stable/modules/preprocessing.html\n",
      "Please also refer to the documentation for alternative solver options:\n",
      "    https://scikit-learn.org/stable/modules/linear_model.html#logistic-regression\n",
      "  extra_warning_msg=_LOGISTIC_SOLVER_CONVERGENCE_MSG)\n"
     ]
    }
   ],
   "source": [
    "# 10-k-fold CV\n",
    "scores = cross_val_score(model, X, y, cv=10)\n",
    "\n",
    "#print(\"CV:\",scores)\n",
    "print(\"Accuracy:\",scores.mean())"
   ]
  },
  {
   "cell_type": "code",
   "execution_count": null,
   "metadata": {
    "trusted": true
   },
   "outputs": [
    {
     "name": "stdout",
     "output_type": "stream",
     "text": [
      "              precision    recall  f1-score   support\n",
      "\n",
      "      failed       0.99      0.97      0.98     72634\n",
      "  successful       0.95      0.98      0.96     40125\n",
      "\n",
      "    accuracy                           0.97    112759\n",
      "   macro avg       0.97      0.97      0.97    112759\n",
      "weighted avg       0.97      0.97      0.97    112759\n",
      "\n",
      "Acc: 0.973190610062168\n"
     ]
    },
    {
     "data": {
      "text/plain": [
       "<sklearn.metrics._plot.confusion_matrix.ConfusionMatrixDisplay at 0x7f90dec77cd0>"
      ]
     },
     "execution_count": 56,
     "metadata": {},
     "output_type": "execute_result"
    },
    {
     "data": {
      "image/png": "[encoded data removed]",
      "text/plain": [
       "<Figure size 432x288 with 2 Axes>"
      ]
     },
     "metadata": {
      "needs_background": "light"
     },
     "output_type": "display_data"
    }
   ],
   "source": [
    "class_names = (model.classes_)\n",
    "from sklearn.metrics import classification_report\n",
    "print(classification_report(y_test, y_prima, target_names=class_names))\n",
    "from sklearn.metrics import accuracy_score\n",
    "print(\"Acc:\",accuracy_score(y_test, y_prima))\n",
    "\n",
    "from sklearn.metrics import plot_confusion_matrix\n",
    "\n",
    " \n",
    "plot_confusion_matrix(model, X,y,\n",
    "                             display_labels=class_names,\n",
    "                             cmap=plt.cm.Blues,\n",
    "                             normalize=None)"
   ]
  }
 ],
 "metadata": {
  "kernelspec": {
   "display_name": "Python 3.8.10 ('venvML': venv)",
   "language": "python",
   "name": "python3"
  },
  "language_info": {
   "codemirror_mode": {
    "name": "ipython",
    "version": 3
   },
   "file_extension": ".py",
   "mimetype": "text/x-python",
   "name": "python",
   "nbconvert_exporter": "python",
   "pygments_lexer": "ipython3",
   "version": "3.8.10"
  },
  "vscode": {
   "interpreter": {
    "hash": "8aa8c66b841a915e38aafc3d0b7a3d1872b865203cb59c7601c8471d3990b681"
   }
  }
 },
 "nbformat": 4,
 "nbformat_minor": 4
}
