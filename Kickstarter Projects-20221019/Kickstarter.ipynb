{
 "cells": [
  {
   "cell_type": "code",
   "execution_count": 1,
   "metadata": {
    "collapsed": true
   },
   "outputs": [],
   "source": [
    "# data analysis and preparing\n",
    "import pandas as pd\n",
    "import math\n",
    "import numpy as np\n",
    "import random as rnd\n",
    "\n",
    "# visualization\n",
    "import matplotlib.pyplot as plt\n",
    "import seaborn as sns\n",
    "from tqdm import tqdm\n",
    "\n",
    "tqdm.pandas()\n",
    "\n",
    "# machine learning\n",
    "from sklearn.model_selection import train_test_split\n",
    "from sklearn.tree import DecisionTreeClassifier\n",
    "from sklearn import metrics, tree\n",
    "from sklearn.metrics import auc, roc_curve, confusion_matrix, f1_score"
   ]
  },
  {
   "cell_type": "code",
   "execution_count": 2,
   "outputs": [],
   "source": [
    "# Read data file\n",
    "df = pd.read_csv('kickstarter201801.csv')"
   ],
   "metadata": {
    "collapsed": false
   }
  },
  {
   "cell_type": "code",
   "execution_count": 3,
   "outputs": [
    {
     "data": {
      "text/plain": "           ID                                               name  \\\n0  1000002330                    The Songs of Adelaide & Abullah   \n1  1000003930      Greeting From Earth: ZGAC Arts Capsule For ET   \n2  1000004038                                     Where is Hank?   \n3  1000007540  ToshiCapital Rekordz Needs Help to Complete Album   \n4  1000011046  Community Film Project: The Art of Neighborhoo...   \n\n         category main_category currency    deadline     goal  \\\n0          Poetry    Publishing      GBP  09/10/2015   1000.0   \n1  Narrative Film  Film & Video      USD  01/11/2017  30000.0   \n2  Narrative Film  Film & Video      USD  26/02/2013  45000.0   \n3           Music         Music      USD  16/04/2012   5000.0   \n4    Film & Video  Film & Video      USD  29/08/2015  19500.0   \n\n           launched  pledged     state  backers country  usd pledged  \\\n0  11/08/2015 12:12      0.0    failed        0      GB          0.0   \n1  02/09/2017 04:43   2421.0    failed       15      US        100.0   \n2  12/01/2013 00:20    220.0    failed        3      US        220.0   \n3  17/03/2012 03:24      1.0    failed        1      US          1.0   \n4  04/07/2015 08:35   1283.0  canceled       14      US       1283.0   \n\n   usd_pledged_realised at deadline  usd_goal_real_at_start  \n0                               0.0                 1533.95  \n1                            2421.0                30000.00  \n2                             220.0                45000.00  \n3                               1.0                 5000.00  \n4                            1283.0                19500.00  ",
      "text/html": "<div>\n<style scoped>\n    .dataframe tbody tr th:only-of-type {\n        vertical-align: middle;\n    }\n\n    .dataframe tbody tr th {\n        vertical-align: top;\n    }\n\n    .dataframe thead th {\n        text-align: right;\n    }\n</style>\n<table border=\"1\" class=\"dataframe\">\n  <thead>\n    <tr style=\"text-align: right;\">\n      <th></th>\n      <th>ID</th>\n      <th>name</th>\n      <th>category</th>\n      <th>main_category</th>\n      <th>currency</th>\n      <th>deadline</th>\n      <th>goal</th>\n      <th>launched</th>\n      <th>pledged</th>\n      <th>state</th>\n      <th>backers</th>\n      <th>country</th>\n      <th>usd pledged</th>\n      <th>usd_pledged_realised at deadline</th>\n      <th>usd_goal_real_at_start</th>\n    </tr>\n  </thead>\n  <tbody>\n    <tr>\n      <th>0</th>\n      <td>1000002330</td>\n      <td>The Songs of Adelaide &amp; Abullah</td>\n      <td>Poetry</td>\n      <td>Publishing</td>\n      <td>GBP</td>\n      <td>09/10/2015</td>\n      <td>1000.0</td>\n      <td>11/08/2015 12:12</td>\n      <td>0.0</td>\n      <td>failed</td>\n      <td>0</td>\n      <td>GB</td>\n      <td>0.0</td>\n      <td>0.0</td>\n      <td>1533.95</td>\n    </tr>\n    <tr>\n      <th>1</th>\n      <td>1000003930</td>\n      <td>Greeting From Earth: ZGAC Arts Capsule For ET</td>\n      <td>Narrative Film</td>\n      <td>Film &amp; Video</td>\n      <td>USD</td>\n      <td>01/11/2017</td>\n      <td>30000.0</td>\n      <td>02/09/2017 04:43</td>\n      <td>2421.0</td>\n      <td>failed</td>\n      <td>15</td>\n      <td>US</td>\n      <td>100.0</td>\n      <td>2421.0</td>\n      <td>30000.00</td>\n    </tr>\n    <tr>\n      <th>2</th>\n      <td>1000004038</td>\n      <td>Where is Hank?</td>\n      <td>Narrative Film</td>\n      <td>Film &amp; Video</td>\n      <td>USD</td>\n      <td>26/02/2013</td>\n      <td>45000.0</td>\n      <td>12/01/2013 00:20</td>\n      <td>220.0</td>\n      <td>failed</td>\n      <td>3</td>\n      <td>US</td>\n      <td>220.0</td>\n      <td>220.0</td>\n      <td>45000.00</td>\n    </tr>\n    <tr>\n      <th>3</th>\n      <td>1000007540</td>\n      <td>ToshiCapital Rekordz Needs Help to Complete Album</td>\n      <td>Music</td>\n      <td>Music</td>\n      <td>USD</td>\n      <td>16/04/2012</td>\n      <td>5000.0</td>\n      <td>17/03/2012 03:24</td>\n      <td>1.0</td>\n      <td>failed</td>\n      <td>1</td>\n      <td>US</td>\n      <td>1.0</td>\n      <td>1.0</td>\n      <td>5000.00</td>\n    </tr>\n    <tr>\n      <th>4</th>\n      <td>1000011046</td>\n      <td>Community Film Project: The Art of Neighborhoo...</td>\n      <td>Film &amp; Video</td>\n      <td>Film &amp; Video</td>\n      <td>USD</td>\n      <td>29/08/2015</td>\n      <td>19500.0</td>\n      <td>04/07/2015 08:35</td>\n      <td>1283.0</td>\n      <td>canceled</td>\n      <td>14</td>\n      <td>US</td>\n      <td>1283.0</td>\n      <td>1283.0</td>\n      <td>19500.00</td>\n    </tr>\n  </tbody>\n</table>\n</div>"
     },
     "execution_count": 3,
     "metadata": {},
     "output_type": "execute_result"
    }
   ],
   "source": [
    "df.head()"
   ],
   "metadata": {
    "collapsed": false
   }
  },
  {
   "cell_type": "code",
   "execution_count": 4,
   "outputs": [
    {
     "name": "stdout",
     "output_type": "stream",
     "text": [
      "<class 'pandas.core.frame.DataFrame'>\n",
      "RangeIndex: 378661 entries, 0 to 378660\n",
      "Data columns (total 15 columns):\n",
      " #   Column                            Non-Null Count   Dtype  \n",
      "---  ------                            --------------   -----  \n",
      " 0   ID                                378661 non-null  int64  \n",
      " 1   name                              378657 non-null  object \n",
      " 2   category                          378661 non-null  object \n",
      " 3   main_category                     378661 non-null  object \n",
      " 4   currency                          378661 non-null  object \n",
      " 5   deadline                          378661 non-null  object \n",
      " 6   goal                              378661 non-null  float64\n",
      " 7   launched                          378661 non-null  object \n",
      " 8   pledged                           378661 non-null  float64\n",
      " 9   state                             378661 non-null  object \n",
      " 10  backers                           378661 non-null  int64  \n",
      " 11  country                           378661 non-null  object \n",
      " 12  usd pledged                       374864 non-null  float64\n",
      " 13  usd_pledged_realised at deadline  378661 non-null  float64\n",
      " 14  usd_goal_real_at_start            378661 non-null  float64\n",
      "dtypes: float64(5), int64(2), object(8)\n",
      "memory usage: 43.3+ MB\n"
     ]
    }
   ],
   "source": [
    "df.info()"
   ],
   "metadata": {
    "collapsed": false
   }
  },
  {
   "cell_type": "code",
   "execution_count": 5,
   "outputs": [],
   "source": [
    "state_value_counts = df['state'].value_counts()"
   ],
   "metadata": {
    "collapsed": false
   }
  },
  {
   "cell_type": "code",
   "execution_count": 6,
   "outputs": [
    {
     "data": {
      "text/plain": "<Figure size 640x480 with 1 Axes>",
      "image/png": "[encoded data removed]"
     },
     "metadata": {},
     "output_type": "display_data"
    }
   ],
   "source": [
    "# fig1, ax1 = plt.subplots()\n",
    "# ax1.pie(state_value_counts.values, labels=state_value_counts.index, autopct='%1.1f%%',\n",
    "#         shadow=True, startangle=100)\n",
    "# ax1.axis('equal')  # Equal aspect ratio ensures that pie is drawn as a circle.\n",
    "x = np.char.array([str(i) for i in state_value_counts.index])\n",
    "y = np.array(state_value_counts.values)\n",
    "colors = ['yellowgreen', 'red', 'gold', 'lightskyblue', 'magenta', 'lightcoral', 'blue', 'pink', 'darkgreen', 'yellow',\n",
    "          'grey', 'violet', 'white', 'cyan'][:len(state_value_counts.index)]\n",
    "explode = [0.05] * len(state_value_counts.index)\n",
    "porcent = 100. * y / y.sum()\n",
    "\n",
    "patches, texts = plt.pie(y, colors=colors, startangle=90, radius=1.2, shadow=True,\n",
    "                         wedgeprops={'linewidth': 1, 'linestyle': 'solid', 'antialiased': True}, explode=explode)\n",
    "labels = ['{0} - {1:1.2f} %'.format(i, j) for i, j in zip(x, porcent)]\n",
    "\n",
    "sort_legend = True\n",
    "if sort_legend:\n",
    "    patches, labels, dummy = zip(*sorted(zip(patches, labels, y),\n",
    "                                         key=lambda x: x[2],\n",
    "                                         reverse=True))\n",
    "\n",
    "plt.legend(patches, labels, loc='center left', bbox_to_anchor=(-0.5, 1.),\n",
    "           fontsize=12)\n",
    "\n",
    "plt.show()\n",
    "\n",
    "# Unbalance data"
   ],
   "metadata": {
    "collapsed": false
   }
  },
  {
   "cell_type": "code",
   "execution_count": 7,
   "outputs": [
    {
     "data": {
      "text/plain": "ID                                     0\nname                                   4\ncategory                               0\nmain_category                          0\ncurrency                               0\ndeadline                               0\ngoal                                   0\nlaunched                               0\npledged                                0\nstate                                  0\nbackers                                0\ncountry                                0\nusd pledged                         3797\nusd_pledged_realised at deadline       0\nusd_goal_real_at_start                 0\ndtype: int64"
     },
     "execution_count": 7,
     "metadata": {},
     "output_type": "execute_result"
    }
   ],
   "source": [
    "df.isnull().sum()"
   ],
   "metadata": {
    "collapsed": false
   }
  },
  {
   "cell_type": "code",
   "execution_count": 8,
   "outputs": [],
   "source": [
    "# drop ID and name, since they are unique value for each one.\n",
    "df = df.drop([\"ID\", \"name\"], axis=1)"
   ],
   "metadata": {
    "collapsed": false
   }
  },
  {
   "cell_type": "code",
   "execution_count": 9,
   "outputs": [
    {
     "data": {
      "text/plain": "category                            0\nmain_category                       0\ncurrency                            0\ndeadline                            0\ngoal                                0\nlaunched                            0\npledged                             0\nstate                               0\nbackers                             0\ncountry                             0\nusd pledged                         0\nusd_pledged_realised at deadline    0\nusd_goal_real_at_start              0\ndtype: int64"
     },
     "execution_count": 9,
     "metadata": {},
     "output_type": "execute_result"
    }
   ],
   "source": [
    "#dealing with missing data\n",
    "df['usd pledged'].fillna(method='pad', inplace=True)\n",
    "# Removing the four NA record from our dataset\n",
    "df.dropna(axis=0, inplace=True)\n",
    "df.isnull().sum()"
   ],
   "metadata": {
    "collapsed": false
   }
  },
  {
   "cell_type": "code",
   "execution_count": 10,
   "outputs": [
    {
     "data": {
      "text/plain": "0         58\n1         59\n2         44\n3         29\n4         55\n          ..\n378656    29\n378657    26\n378658    45\n378659    30\n378660    27\nName: duration, Length: 378661, dtype: int64"
     },
     "execution_count": 10,
     "metadata": {},
     "output_type": "execute_result"
    }
   ],
   "source": [
    "df[\"duration\"] = (pd.to_datetime(df.deadline, format=\"%d/%m/%Y\") - pd.to_datetime(df.launched,\n",
    "                                                                                  format=\"%d/%m/%Y %H:%M\")).apply(\n",
    "    lambda x: x.days)\n",
    "df[\"duration\"]"
   ],
   "metadata": {
    "collapsed": false
   }
  },
  {
   "cell_type": "markdown",
   "source": [],
   "metadata": {
    "collapsed": false
   }
  },
  {
   "cell_type": "code",
   "execution_count": 10,
   "outputs": [],
   "source": [],
   "metadata": {
    "collapsed": false
   }
  },
  {
   "cell_type": "code",
   "execution_count": 11,
   "outputs": [
    {
     "data": {
      "text/plain": "0         0.000000\n1         0.080700\n2         0.004889\n3         0.000200\n4         0.065795\n            ...   \n378656    0.000500\n378657    0.103333\n378658    0.001333\n378659    0.013333\n378660    0.262000\nName: completeRatio, Length: 378661, dtype: float64"
     },
     "execution_count": 11,
     "metadata": {},
     "output_type": "execute_result"
    }
   ],
   "source": [
    "df[\"completeRatio\"] = df['usd_pledged_realised at deadline'] / df['usd_goal_real_at_start']\n",
    "df[\"completeRatio\"]"
   ],
   "metadata": {
    "collapsed": false
   }
  },
  {
   "cell_type": "code",
   "execution_count": 12,
   "outputs": [],
   "source": [
    "# Drop Date\n",
    "df = df.drop([\"deadline\", \"launched\"], axis=1)\n",
    "df = df.drop(['pledged', 'goal'],axis=1)"
   ],
   "metadata": {
    "collapsed": false
   }
  },
  {
   "cell_type": "code",
   "execution_count": 13,
   "outputs": [
    {
     "data": {
      "text/plain": "         category main_category currency     state  backers country  \\\n0          Poetry    Publishing      GBP    failed        0      GB   \n1  Narrative Film  Film & Video      USD    failed       15      US   \n2  Narrative Film  Film & Video      USD    failed        3      US   \n3           Music         Music      USD    failed        1      US   \n4    Film & Video  Film & Video      USD  canceled       14      US   \n\n   usd pledged  usd_pledged_realised at deadline  usd_goal_real_at_start  \\\n0          0.0                               0.0                 1533.95   \n1        100.0                            2421.0                30000.00   \n2        220.0                             220.0                45000.00   \n3          1.0                               1.0                 5000.00   \n4       1283.0                            1283.0                19500.00   \n\n   duration  completeRatio  \n0        58       0.000000  \n1        59       0.080700  \n2        44       0.004889  \n3        29       0.000200  \n4        55       0.065795  ",
      "text/html": "<div>\n<style scoped>\n    .dataframe tbody tr th:only-of-type {\n        vertical-align: middle;\n    }\n\n    .dataframe tbody tr th {\n        vertical-align: top;\n    }\n\n    .dataframe thead th {\n        text-align: right;\n    }\n</style>\n<table border=\"1\" class=\"dataframe\">\n  <thead>\n    <tr style=\"text-align: right;\">\n      <th></th>\n      <th>category</th>\n      <th>main_category</th>\n      <th>currency</th>\n      <th>state</th>\n      <th>backers</th>\n      <th>country</th>\n      <th>usd pledged</th>\n      <th>usd_pledged_realised at deadline</th>\n      <th>usd_goal_real_at_start</th>\n      <th>duration</th>\n      <th>completeRatio</th>\n    </tr>\n  </thead>\n  <tbody>\n    <tr>\n      <th>0</th>\n      <td>Poetry</td>\n      <td>Publishing</td>\n      <td>GBP</td>\n      <td>failed</td>\n      <td>0</td>\n      <td>GB</td>\n      <td>0.0</td>\n      <td>0.0</td>\n      <td>1533.95</td>\n      <td>58</td>\n      <td>0.000000</td>\n    </tr>\n    <tr>\n      <th>1</th>\n      <td>Narrative Film</td>\n      <td>Film &amp; Video</td>\n      <td>USD</td>\n      <td>failed</td>\n      <td>15</td>\n      <td>US</td>\n      <td>100.0</td>\n      <td>2421.0</td>\n      <td>30000.00</td>\n      <td>59</td>\n      <td>0.080700</td>\n    </tr>\n    <tr>\n      <th>2</th>\n      <td>Narrative Film</td>\n      <td>Film &amp; Video</td>\n      <td>USD</td>\n      <td>failed</td>\n      <td>3</td>\n      <td>US</td>\n      <td>220.0</td>\n      <td>220.0</td>\n      <td>45000.00</td>\n      <td>44</td>\n      <td>0.004889</td>\n    </tr>\n    <tr>\n      <th>3</th>\n      <td>Music</td>\n      <td>Music</td>\n      <td>USD</td>\n      <td>failed</td>\n      <td>1</td>\n      <td>US</td>\n      <td>1.0</td>\n      <td>1.0</td>\n      <td>5000.00</td>\n      <td>29</td>\n      <td>0.000200</td>\n    </tr>\n    <tr>\n      <th>4</th>\n      <td>Film &amp; Video</td>\n      <td>Film &amp; Video</td>\n      <td>USD</td>\n      <td>canceled</td>\n      <td>14</td>\n      <td>US</td>\n      <td>1283.0</td>\n      <td>1283.0</td>\n      <td>19500.00</td>\n      <td>55</td>\n      <td>0.065795</td>\n    </tr>\n  </tbody>\n</table>\n</div>"
     },
     "execution_count": 13,
     "metadata": {},
     "output_type": "execute_result"
    }
   ],
   "source": [
    "df.head()"
   ],
   "metadata": {
    "collapsed": false
   }
  },
  {
   "cell_type": "code",
   "execution_count": 14,
   "outputs": [],
   "source": [
    "# Transform Category\n",
    "# categoryTransformTable = {}\n",
    "# categorySet = set(df['category'])\n",
    "# for index, i in enumerate(categorySet):\n",
    "#     categoryTransformTable[i] = index\n",
    "\n",
    "stateTransformTable = {}\n",
    "stateSet = set(df['state'])\n",
    "for index, i in enumerate(stateSet):\n",
    "    stateTransformTable[i] = index\n",
    "#\n",
    "# currencyTransformTable = {}\n",
    "# currencySet = set(df['currency'])\n",
    "# for index, i in enumerate(currencySet):\n",
    "#     currencyTransformTable[i] = index\n",
    "#\n",
    "# countryTransformTable = {}\n",
    "# countrySet = set(df['country'])\n",
    "# for index, i in enumerate(countrySet):\n",
    "#     countryTransformTable[i] = index\n",
    "#\n",
    "# main_categoryTransformTable = {}\n",
    "# main_categorySet = set(df['main_category'])\n",
    "# for index, i in enumerate(main_categorySet):\n",
    "#     main_categoryTransformTable[i] = index\n",
    "\n",
    "num_encode = {\n",
    "    'state': stateTransformTable,\n",
    "    # 'category': categoryTransformTable,\n",
    "    # 'currency': currencyTransformTable,\n",
    "    # 'country': countryTransformTable,\n",
    "    # 'main_category': main_categoryTransformTable,\n",
    "}\n",
    "# Do Transformation\n",
    "df.replace(num_encode, inplace=True)"
   ],
   "metadata": {
    "collapsed": false
   }
  },
  {
   "cell_type": "code",
   "execution_count": 15,
   "outputs": [],
   "source": [
    "main_category = pd.get_dummies(df['main_category'], prefix='main_category')\n",
    "category = pd.get_dummies(df['category'], prefix='category')\n",
    "currency = pd.get_dummies(df['currency'], prefix='currency')\n",
    "country = pd.get_dummies(df['category'], prefix='country')\n",
    "\n",
    "df = pd.concat([df, main_category, category, currency, country], axis=1)\n",
    "df = df.drop(['main_category', 'category', 'currency', 'country'], axis=1)"
   ],
   "metadata": {
    "collapsed": false
   }
  },
  {
   "cell_type": "code",
   "execution_count": 16,
   "outputs": [
    {
     "data": {
      "text/plain": "   state  backers  usd pledged  usd_pledged_realised at deadline  \\\n0      2        0          0.0                               0.0   \n1      2       15        100.0                            2421.0   \n2      2        3        220.0                             220.0   \n3      2        1          1.0                               1.0   \n4      3       14       1283.0                            1283.0   \n\n   usd_goal_real_at_start  duration  completeRatio  main_category_Art  \\\n0                 1533.95        58       0.000000                  0   \n1                30000.00        59       0.080700                  0   \n2                45000.00        44       0.004889                  0   \n3                 5000.00        29       0.000200                  0   \n4                19500.00        55       0.065795                  0   \n\n   main_category_Comics  main_category_Crafts  ...  country_Wearables  \\\n0                     0                     0  ...                  0   \n1                     0                     0  ...                  0   \n2                     0                     0  ...                  0   \n3                     0                     0  ...                  0   \n4                     0                     0  ...                  0   \n\n   country_Weaving  country_Web  country_Webcomics  country_Webseries  \\\n0                0            0                  0                  0   \n1                0            0                  0                  0   \n2                0            0                  0                  0   \n3                0            0                  0                  0   \n4                0            0                  0                  0   \n\n   country_Woodworking  country_Workshops  country_World Music  \\\n0                    0                  0                    0   \n1                    0                  0                    0   \n2                    0                  0                    0   \n3                    0                  0                    0   \n4                    0                  0                    0   \n\n   country_Young Adult  country_Zines  \n0                    0              0  \n1                    0              0  \n2                    0              0  \n3                    0              0  \n4                    0              0  \n\n[5 rows x 354 columns]",
      "text/html": "<div>\n<style scoped>\n    .dataframe tbody tr th:only-of-type {\n        vertical-align: middle;\n    }\n\n    .dataframe tbody tr th {\n        vertical-align: top;\n    }\n\n    .dataframe thead th {\n        text-align: right;\n    }\n</style>\n<table border=\"1\" class=\"dataframe\">\n  <thead>\n    <tr style=\"text-align: right;\">\n      <th></th>\n      <th>state</th>\n      <th>backers</th>\n      <th>usd pledged</th>\n      <th>usd_pledged_realised at deadline</th>\n      <th>usd_goal_real_at_start</th>\n      <th>duration</th>\n      <th>completeRatio</th>\n      <th>main_category_Art</th>\n      <th>main_category_Comics</th>\n      <th>main_category_Crafts</th>\n      <th>...</th>\n      <th>country_Wearables</th>\n      <th>country_Weaving</th>\n      <th>country_Web</th>\n      <th>country_Webcomics</th>\n      <th>country_Webseries</th>\n      <th>country_Woodworking</th>\n      <th>country_Workshops</th>\n      <th>country_World Music</th>\n      <th>country_Young Adult</th>\n      <th>country_Zines</th>\n    </tr>\n  </thead>\n  <tbody>\n    <tr>\n      <th>0</th>\n      <td>2</td>\n      <td>0</td>\n      <td>0.0</td>\n      <td>0.0</td>\n      <td>1533.95</td>\n      <td>58</td>\n      <td>0.000000</td>\n      <td>0</td>\n      <td>0</td>\n      <td>0</td>\n      <td>...</td>\n      <td>0</td>\n      <td>0</td>\n      <td>0</td>\n      <td>0</td>\n      <td>0</td>\n      <td>0</td>\n      <td>0</td>\n      <td>0</td>\n      <td>0</td>\n      <td>0</td>\n    </tr>\n    <tr>\n      <th>1</th>\n      <td>2</td>\n      <td>15</td>\n      <td>100.0</td>\n      <td>2421.0</td>\n      <td>30000.00</td>\n      <td>59</td>\n      <td>0.080700</td>\n      <td>0</td>\n      <td>0</td>\n      <td>0</td>\n      <td>...</td>\n      <td>0</td>\n      <td>0</td>\n      <td>0</td>\n      <td>0</td>\n      <td>0</td>\n      <td>0</td>\n      <td>0</td>\n      <td>0</td>\n      <td>0</td>\n      <td>0</td>\n    </tr>\n    <tr>\n      <th>2</th>\n      <td>2</td>\n      <td>3</td>\n      <td>220.0</td>\n      <td>220.0</td>\n      <td>45000.00</td>\n      <td>44</td>\n      <td>0.004889</td>\n      <td>0</td>\n      <td>0</td>\n      <td>0</td>\n      <td>...</td>\n      <td>0</td>\n      <td>0</td>\n      <td>0</td>\n      <td>0</td>\n      <td>0</td>\n      <td>0</td>\n      <td>0</td>\n      <td>0</td>\n      <td>0</td>\n      <td>0</td>\n    </tr>\n    <tr>\n      <th>3</th>\n      <td>2</td>\n      <td>1</td>\n      <td>1.0</td>\n      <td>1.0</td>\n      <td>5000.00</td>\n      <td>29</td>\n      <td>0.000200</td>\n      <td>0</td>\n      <td>0</td>\n      <td>0</td>\n      <td>...</td>\n      <td>0</td>\n      <td>0</td>\n      <td>0</td>\n      <td>0</td>\n      <td>0</td>\n      <td>0</td>\n      <td>0</td>\n      <td>0</td>\n      <td>0</td>\n      <td>0</td>\n    </tr>\n    <tr>\n      <th>4</th>\n      <td>3</td>\n      <td>14</td>\n      <td>1283.0</td>\n      <td>1283.0</td>\n      <td>19500.00</td>\n      <td>55</td>\n      <td>0.065795</td>\n      <td>0</td>\n      <td>0</td>\n      <td>0</td>\n      <td>...</td>\n      <td>0</td>\n      <td>0</td>\n      <td>0</td>\n      <td>0</td>\n      <td>0</td>\n      <td>0</td>\n      <td>0</td>\n      <td>0</td>\n      <td>0</td>\n      <td>0</td>\n    </tr>\n  </tbody>\n</table>\n<p>5 rows × 354 columns</p>\n</div>"
     },
     "execution_count": 16,
     "metadata": {},
     "output_type": "execute_result"
    }
   ],
   "source": [
    "df.head()"
   ],
   "metadata": {
    "collapsed": false
   }
  },
  {
   "cell_type": "code",
   "execution_count": 16,
   "outputs": [],
   "source": [],
   "metadata": {
    "collapsed": false
   }
  },
  {
   "cell_type": "code",
   "execution_count": 16,
   "outputs": [],
   "source": [],
   "metadata": {
    "collapsed": false
   }
  },
  {
   "cell_type": "code",
   "execution_count": 16,
   "outputs": [],
   "source": [],
   "metadata": {
    "collapsed": false
   }
  },
  {
   "cell_type": "code",
   "execution_count": 17,
   "outputs": [],
   "source": [
    "# Split data into training, validation and test sets\n",
    "train, test = train_test_split(df, test_size=0.2)\n",
    "train, val = train_test_split(train, test_size=0.2)\n",
    "\n",
    "combined = [train, val, test]"
   ],
   "metadata": {
    "collapsed": false
   }
  },
  {
   "cell_type": "code",
   "execution_count": 17,
   "outputs": [],
   "source": [],
   "metadata": {
    "collapsed": false
   }
  },
  {
   "cell_type": "code",
   "execution_count": 17,
   "outputs": [],
   "source": [],
   "metadata": {
    "collapsed": false
   }
  },
  {
   "cell_type": "code",
   "execution_count": 18,
   "outputs": [
    {
     "name": "stdout",
     "output_type": "stream",
     "text": [
      "Testing Model KNeighborsClassifier\n",
      "Testing <metric: euclidean, neighborSize: 3>: Result: Accuracy 0.8450873463351511, F1 0.4256346773392881\n",
      "Testing <metric: euclidean, neighborSize: 5>: Result: Accuracy 0.8625830219323148, F1 0.42230767902821137\n",
      "Testing <metric: euclidean, neighborSize: 7>: Result: Accuracy 0.8689738951315806, F1 0.41567612803975545\n",
      "Testing <metric: euclidean, neighborSize: 9>: Result: Accuracy 0.8722881702824397, F1 0.4095037957135832\n",
      "Testing <metric: euclidean, neighborSize: 11>: Result: Accuracy 0.8739255014326648, F1 0.40572694491919914\n",
      "Testing <metric: euclidean, neighborSize: 13>: Result: Accuracy 0.8746121241730818, F1 0.40048118955534306\n",
      "Testing <metric: manhattan, neighborSize: 3>: "
     ]
    },
    {
     "ename": "KeyboardInterrupt",
     "evalue": "",
     "output_type": "error",
     "traceback": [
      "\u001B[1;31m---------------------------------------------------------------------------\u001B[0m",
      "\u001B[1;31mKeyboardInterrupt\u001B[0m                         Traceback (most recent call last)",
      "Cell \u001B[1;32mIn [18], line 16\u001B[0m\n\u001B[0;32m     14\u001B[0m knn \u001B[38;5;241m=\u001B[39m KNeighborsClassifier(n_neighbors\u001B[38;5;241m=\u001B[39mneighbors, metric\u001B[38;5;241m=\u001B[39mk)\n\u001B[0;32m     15\u001B[0m knn\u001B[38;5;241m.\u001B[39mfit(X_train, y_train)\n\u001B[1;32m---> 16\u001B[0m y_pred \u001B[38;5;241m=\u001B[39m \u001B[43mknn\u001B[49m\u001B[38;5;241;43m.\u001B[39;49m\u001B[43mpredict\u001B[49m\u001B[43m(\u001B[49m\u001B[43mX_test\u001B[49m\u001B[43m)\u001B[49m\n\u001B[0;32m     17\u001B[0m accuracy \u001B[38;5;241m=\u001B[39m metrics\u001B[38;5;241m.\u001B[39maccuracy_score(y_test, y_pred)\n\u001B[0;32m     18\u001B[0m f1 \u001B[38;5;241m=\u001B[39m f1_score(y_true\u001B[38;5;241m=\u001B[39my_test, y_pred\u001B[38;5;241m=\u001B[39my_pred, average\u001B[38;5;241m=\u001B[39m\u001B[38;5;124m\"\u001B[39m\u001B[38;5;124mmacro\u001B[39m\u001B[38;5;124m\"\u001B[39m)\n",
      "File \u001B[1;32m~\\Desktop\\venvs\\ML_Lab\\lib\\site-packages\\sklearn\\neighbors\\_classification.py:226\u001B[0m, in \u001B[0;36mKNeighborsClassifier.predict\u001B[1;34m(self, X)\u001B[0m\n\u001B[0;32m    210\u001B[0m \u001B[38;5;124;03m\"\"\"Predict the class labels for the provided data.\u001B[39;00m\n\u001B[0;32m    211\u001B[0m \n\u001B[0;32m    212\u001B[0m \u001B[38;5;124;03mParameters\u001B[39;00m\n\u001B[1;32m   (...)\u001B[0m\n\u001B[0;32m    221\u001B[0m \u001B[38;5;124;03m    Class labels for each data sample.\u001B[39;00m\n\u001B[0;32m    222\u001B[0m \u001B[38;5;124;03m\"\"\"\u001B[39;00m\n\u001B[0;32m    223\u001B[0m \u001B[38;5;28;01mif\u001B[39;00m \u001B[38;5;28mself\u001B[39m\u001B[38;5;241m.\u001B[39mweights \u001B[38;5;241m==\u001B[39m \u001B[38;5;124m\"\u001B[39m\u001B[38;5;124muniform\u001B[39m\u001B[38;5;124m\"\u001B[39m:\n\u001B[0;32m    224\u001B[0m     \u001B[38;5;66;03m# In that case, we do not need the distances to perform\u001B[39;00m\n\u001B[0;32m    225\u001B[0m     \u001B[38;5;66;03m# the weighting so we do not compute them.\u001B[39;00m\n\u001B[1;32m--> 226\u001B[0m     neigh_ind \u001B[38;5;241m=\u001B[39m \u001B[38;5;28;43mself\u001B[39;49m\u001B[38;5;241;43m.\u001B[39;49m\u001B[43mkneighbors\u001B[49m\u001B[43m(\u001B[49m\u001B[43mX\u001B[49m\u001B[43m,\u001B[49m\u001B[43m \u001B[49m\u001B[43mreturn_distance\u001B[49m\u001B[38;5;241;43m=\u001B[39;49m\u001B[38;5;28;43;01mFalse\u001B[39;49;00m\u001B[43m)\u001B[49m\n\u001B[0;32m    227\u001B[0m     neigh_dist \u001B[38;5;241m=\u001B[39m \u001B[38;5;28;01mNone\u001B[39;00m\n\u001B[0;32m    228\u001B[0m \u001B[38;5;28;01melse\u001B[39;00m:\n",
      "File \u001B[1;32m~\\Desktop\\venvs\\ML_Lab\\lib\\site-packages\\sklearn\\neighbors\\_base.py:763\u001B[0m, in \u001B[0;36mKNeighborsMixin.kneighbors\u001B[1;34m(self, X, n_neighbors, return_distance)\u001B[0m\n\u001B[0;32m    756\u001B[0m use_pairwise_distances_reductions \u001B[38;5;241m=\u001B[39m (\n\u001B[0;32m    757\u001B[0m     \u001B[38;5;28mself\u001B[39m\u001B[38;5;241m.\u001B[39m_fit_method \u001B[38;5;241m==\u001B[39m \u001B[38;5;124m\"\u001B[39m\u001B[38;5;124mbrute\u001B[39m\u001B[38;5;124m\"\u001B[39m\n\u001B[0;32m    758\u001B[0m     \u001B[38;5;129;01mand\u001B[39;00m PairwiseDistancesArgKmin\u001B[38;5;241m.\u001B[39mis_usable_for(\n\u001B[0;32m    759\u001B[0m         X \u001B[38;5;28;01mif\u001B[39;00m X \u001B[38;5;129;01mis\u001B[39;00m \u001B[38;5;129;01mnot\u001B[39;00m \u001B[38;5;28;01mNone\u001B[39;00m \u001B[38;5;28;01melse\u001B[39;00m \u001B[38;5;28mself\u001B[39m\u001B[38;5;241m.\u001B[39m_fit_X, \u001B[38;5;28mself\u001B[39m\u001B[38;5;241m.\u001B[39m_fit_X, \u001B[38;5;28mself\u001B[39m\u001B[38;5;241m.\u001B[39meffective_metric_\n\u001B[0;32m    760\u001B[0m     )\n\u001B[0;32m    761\u001B[0m )\n\u001B[0;32m    762\u001B[0m \u001B[38;5;28;01mif\u001B[39;00m use_pairwise_distances_reductions:\n\u001B[1;32m--> 763\u001B[0m     results \u001B[38;5;241m=\u001B[39m \u001B[43mPairwiseDistancesArgKmin\u001B[49m\u001B[38;5;241;43m.\u001B[39;49m\u001B[43mcompute\u001B[49m\u001B[43m(\u001B[49m\n\u001B[0;32m    764\u001B[0m \u001B[43m        \u001B[49m\u001B[43mX\u001B[49m\u001B[38;5;241;43m=\u001B[39;49m\u001B[43mX\u001B[49m\u001B[43m,\u001B[49m\n\u001B[0;32m    765\u001B[0m \u001B[43m        \u001B[49m\u001B[43mY\u001B[49m\u001B[38;5;241;43m=\u001B[39;49m\u001B[38;5;28;43mself\u001B[39;49m\u001B[38;5;241;43m.\u001B[39;49m\u001B[43m_fit_X\u001B[49m\u001B[43m,\u001B[49m\n\u001B[0;32m    766\u001B[0m \u001B[43m        \u001B[49m\u001B[43mk\u001B[49m\u001B[38;5;241;43m=\u001B[39;49m\u001B[43mn_neighbors\u001B[49m\u001B[43m,\u001B[49m\n\u001B[0;32m    767\u001B[0m \u001B[43m        \u001B[49m\u001B[43mmetric\u001B[49m\u001B[38;5;241;43m=\u001B[39;49m\u001B[38;5;28;43mself\u001B[39;49m\u001B[38;5;241;43m.\u001B[39;49m\u001B[43meffective_metric_\u001B[49m\u001B[43m,\u001B[49m\n\u001B[0;32m    768\u001B[0m \u001B[43m        \u001B[49m\u001B[43mmetric_kwargs\u001B[49m\u001B[38;5;241;43m=\u001B[39;49m\u001B[38;5;28;43mself\u001B[39;49m\u001B[38;5;241;43m.\u001B[39;49m\u001B[43meffective_metric_params_\u001B[49m\u001B[43m,\u001B[49m\n\u001B[0;32m    769\u001B[0m \u001B[43m        \u001B[49m\u001B[43mstrategy\u001B[49m\u001B[38;5;241;43m=\u001B[39;49m\u001B[38;5;124;43m\"\u001B[39;49m\u001B[38;5;124;43mauto\u001B[39;49m\u001B[38;5;124;43m\"\u001B[39;49m\u001B[43m,\u001B[49m\n\u001B[0;32m    770\u001B[0m \u001B[43m        \u001B[49m\u001B[43mreturn_distance\u001B[49m\u001B[38;5;241;43m=\u001B[39;49m\u001B[43mreturn_distance\u001B[49m\u001B[43m,\u001B[49m\n\u001B[0;32m    771\u001B[0m \u001B[43m    \u001B[49m\u001B[43m)\u001B[49m\n\u001B[0;32m    773\u001B[0m \u001B[38;5;28;01melif\u001B[39;00m (\n\u001B[0;32m    774\u001B[0m     \u001B[38;5;28mself\u001B[39m\u001B[38;5;241m.\u001B[39m_fit_method \u001B[38;5;241m==\u001B[39m \u001B[38;5;124m\"\u001B[39m\u001B[38;5;124mbrute\u001B[39m\u001B[38;5;124m\"\u001B[39m \u001B[38;5;129;01mand\u001B[39;00m \u001B[38;5;28mself\u001B[39m\u001B[38;5;241m.\u001B[39mmetric \u001B[38;5;241m==\u001B[39m \u001B[38;5;124m\"\u001B[39m\u001B[38;5;124mprecomputed\u001B[39m\u001B[38;5;124m\"\u001B[39m \u001B[38;5;129;01mand\u001B[39;00m issparse(X)\n\u001B[0;32m    775\u001B[0m ):\n\u001B[0;32m    776\u001B[0m     results \u001B[38;5;241m=\u001B[39m _kneighbors_from_graph(\n\u001B[0;32m    777\u001B[0m         X, n_neighbors\u001B[38;5;241m=\u001B[39mn_neighbors, return_distance\u001B[38;5;241m=\u001B[39mreturn_distance\n\u001B[0;32m    778\u001B[0m     )\n",
      "File \u001B[1;32msklearn\\metrics\\_pairwise_distances_reduction.pyx:698\u001B[0m, in \u001B[0;36msklearn.metrics._pairwise_distances_reduction.PairwiseDistancesArgKmin.compute\u001B[1;34m()\u001B[0m\n",
      "File \u001B[1;32m~\\Desktop\\venvs\\ML_Lab\\lib\\site-packages\\threadpoolctl.py:171\u001B[0m, in \u001B[0;36m_ThreadpoolLimiter.__exit__\u001B[1;34m(self, type, value, traceback)\u001B[0m\n\u001B[0;32m    168\u001B[0m \u001B[38;5;28;01mdef\u001B[39;00m \u001B[38;5;21m__enter__\u001B[39m(\u001B[38;5;28mself\u001B[39m):\n\u001B[0;32m    169\u001B[0m     \u001B[38;5;28;01mreturn\u001B[39;00m \u001B[38;5;28mself\u001B[39m\n\u001B[1;32m--> 171\u001B[0m \u001B[38;5;28;01mdef\u001B[39;00m \u001B[38;5;21m__exit__\u001B[39m(\u001B[38;5;28mself\u001B[39m, \u001B[38;5;28mtype\u001B[39m, value, traceback):\n\u001B[0;32m    172\u001B[0m     \u001B[38;5;28mself\u001B[39m\u001B[38;5;241m.\u001B[39mrestore_original_limits()\n\u001B[0;32m    174\u001B[0m \u001B[38;5;129m@classmethod\u001B[39m\n\u001B[0;32m    175\u001B[0m \u001B[38;5;28;01mdef\u001B[39;00m \u001B[38;5;21mwrap\u001B[39m(\u001B[38;5;28mcls\u001B[39m, controller, \u001B[38;5;241m*\u001B[39m, limits\u001B[38;5;241m=\u001B[39m\u001B[38;5;28;01mNone\u001B[39;00m, user_api\u001B[38;5;241m=\u001B[39m\u001B[38;5;28;01mNone\u001B[39;00m):\n",
      "\u001B[1;31mKeyboardInterrupt\u001B[0m: "
     ]
    }
   ],
   "source": [
    "from sklearn.neighbors import KNeighborsClassifier\n",
    "\n",
    "print(f\"Testing Model {KNeighborsClassifier.__name__}\")\n",
    "knn = KNeighborsClassifier()\n",
    "X_train, X_test = train.drop([\"state\"], axis=1), test.drop([\"state\"], axis=1)\n",
    "y_train, y_test = train['state'], test['state']\n",
    "neighbor_size = [3, 5, 7, 9, 11, 13]\n",
    "metric = [\"euclidean\", \"manhattan\", \"chebyshev\"]\n",
    "result = {}\n",
    "for k in metric:\n",
    "    result[k] = {}\n",
    "    for neighbors in neighbor_size:\n",
    "        print(f\"Testing <metric: {k}, neighborSize: {neighbors}>: \", end=\"\")\n",
    "        knn = KNeighborsClassifier(n_neighbors=neighbors, metric=k)\n",
    "        knn.fit(X_train, y_train)\n",
    "        y_pred = knn.predict(X_test)\n",
    "        accuracy = metrics.accuracy_score(y_test, y_pred)\n",
    "        f1 = f1_score(y_true=y_test, y_pred=y_pred, average=\"macro\")\n",
    "        print(f\"Result: Accuracy {accuracy}, F1 {f1}\")\n",
    "        result[k][neighbors] = {\n",
    "            \"Accuracy\": accuracy,\n",
    "            \"F1\": f1\n",
    "        }"
   ],
   "metadata": {
    "collapsed": false
   }
  },
  {
   "cell_type": "code",
   "execution_count": null,
   "outputs": [],
   "source": [
    "f = plt.figure(figsize=(12,3))\n",
    "ax1 = f.add_subplot(121)\n",
    "ax2 = f.add_subplot(122)\n",
    "\n",
    "labels = neighbor_size\n",
    "width = 0.2  # the width of the bars\n",
    "x = np.arange(len(labels))  # the label locations\n",
    "for index, metricName in enumerate(result):\n",
    "    neighborResult = result[metricName]\n",
    "    rect = ax1.bar(x - width + (width) * (index), [neighborResult[i]['Accuracy'] for i in neighborResult], width, label=metricName)\n",
    "# Add some text for labels, title and custom x-axis tick labels, etc.\n",
    "ax1.set_ylabel('Accuracy')\n",
    "ax1.set_xlabel('K')\n",
    "ax1.set_title('Accuracy by Distance Metric and K')\n",
    "ax1.set_xticks(x, labels)\n",
    "ax1.set_ylim([0.82, 0.88])\n",
    "ax1.legend()\n",
    "\n",
    "labels = neighbor_size\n",
    "width = 0.2  # the width of the bars\n",
    "x = np.arange(len(labels))  # the label locations\n",
    "for index, metricName in enumerate(result):\n",
    "    neighborResult = result[metricName]\n",
    "    rect = ax2.bar(x - width + (width) * (index), [neighborResult[i]['F1'] for i in neighborResult], width, label=metricName)\n",
    "# Add some text for labels, title and custom x-axis tick labels, etc.\n",
    "ax2.set_ylabel('F1')\n",
    "ax2.set_xlabel('K')\n",
    "ax2.set_title('F1 by Distance Metric and K')\n",
    "ax2.set_xticks(x, labels)\n",
    "ax2.set_ylim([0.32, 0.48])\n",
    "ax2.legend()\n",
    "\n",
    "\n",
    "plt.show()"
   ],
   "metadata": {
    "collapsed": false
   }
  },
  {
   "cell_type": "code",
   "execution_count": null,
   "outputs": [],
   "source": [],
   "metadata": {
    "collapsed": false
   }
  },
  {
   "cell_type": "code",
   "execution_count": null,
   "outputs": [],
   "source": [],
   "metadata": {
    "collapsed": false
   }
  },
  {
   "cell_type": "code",
   "execution_count": null,
   "outputs": [],
   "source": [],
   "metadata": {
    "collapsed": false
   }
  },
  {
   "cell_type": "code",
   "execution_count": null,
   "outputs": [],
   "source": [],
   "metadata": {
    "collapsed": false
   }
  },
  {
   "cell_type": "code",
   "execution_count": null,
   "outputs": [],
   "source": [],
   "metadata": {
    "collapsed": false
   }
  }
 ],
 "metadata": {
  "kernelspec": {
   "display_name": "Python 3",
   "language": "python",
   "name": "python3"
  },
  "language_info": {
   "codemirror_mode": {
    "name": "ipython",
    "version": 2
   },
   "file_extension": ".py",
   "mimetype": "text/x-python",
   "name": "python",
   "nbconvert_exporter": "python",
   "pygments_lexer": "ipython2",
   "version": "2.7.6"
  }
 },
 "nbformat": 4,
 "nbformat_minor": 0
}
