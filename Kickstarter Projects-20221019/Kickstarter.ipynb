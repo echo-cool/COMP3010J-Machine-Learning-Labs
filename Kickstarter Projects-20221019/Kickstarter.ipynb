{
 "cells": [
  {
   "cell_type": "code",
   "execution_count": 4,
   "metadata": {
    "collapsed": false
   },
   "outputs": [
    {
     "name": "stdout",
     "output_type": "stream",
     "text": [
      "Looking in indexes: https://pypi.tuna.tsinghua.edu.cn/simple\r\n",
      "Requirement already satisfied: pandas in /usr/local/lib64/python3.6/site-packages (1.1.5)\r\n",
      "Requirement already satisfied: numpy in /usr/local/lib64/python3.6/site-packages (1.19.5)\r\n",
      "Requirement already satisfied: matplotlib in /usr/local/lib64/python3.6/site-packages (3.3.4)\r\n",
      "Requirement already satisfied: seaborn in /usr/local/lib/python3.6/site-packages (0.11.2)\r\n",
      "Requirement already satisfied: tqdm in /usr/local/lib/python3.6/site-packages (4.64.1)\r\n",
      "Requirement already satisfied: sklearn in /usr/local/lib/python3.6/site-packages (0.0)\r\n",
      "Requirement already satisfied: python-dateutil>=2.7.3 in /usr/local/lib/python3.6/site-packages (from pandas) (2.8.2)\r\n",
      "Requirement already satisfied: pytz>=2017.2 in /usr/local/lib/python3.6/site-packages (from pandas) (2022.5)\r\n",
      "Requirement already satisfied: pyparsing!=2.0.4,!=2.1.2,!=2.1.6,>=2.0.3 in /usr/local/lib/python3.6/site-packages (from matplotlib) (3.0.9)\r\n",
      "Requirement already satisfied: pillow>=6.2.0 in /usr/local/lib64/python3.6/site-packages (from matplotlib) (8.4.0)\r\n",
      "Requirement already satisfied: cycler>=0.10 in /usr/local/lib/python3.6/site-packages (from matplotlib) (0.11.0)\r\n",
      "Requirement already satisfied: kiwisolver>=1.0.1 in /usr/local/lib64/python3.6/site-packages (from matplotlib) (1.3.1)\r\n",
      "Requirement already satisfied: scipy>=1.0 in /usr/local/lib64/python3.6/site-packages (from seaborn) (1.5.4)\r\n",
      "Requirement already satisfied: importlib-resources in /usr/local/lib/python3.6/site-packages (from tqdm) (5.4.0)\r\n",
      "Requirement already satisfied: scikit-learn in /usr/local/lib64/python3.6/site-packages (from sklearn) (0.24.2)\r\n",
      "Requirement already satisfied: six>=1.5 in /usr/local/lib/python3.6/site-packages (from python-dateutil>=2.7.3->pandas) (1.16.0)\r\n",
      "Requirement already satisfied: zipp>=3.1.0 in /usr/local/lib/python3.6/site-packages (from importlib-resources->tqdm) (3.6.0)\r\n",
      "Requirement already satisfied: joblib>=0.11 in /usr/local/lib/python3.6/site-packages (from scikit-learn->sklearn) (1.1.1)\r\n",
      "Requirement already satisfied: threadpoolctl>=2.0.0 in /usr/local/lib/python3.6/site-packages (from scikit-learn->sklearn) (3.1.0)\r\n",
      "\u001b[33mWARNING: Running pip as the 'root' user can result in broken permissions and conflicting behaviour with the system package manager. It is recommended to use a virtual environment instead: https://pip.pypa.io/warnings/venv\u001b[0m\r\n"
     ]
    }
   ],
   "source": [
    "!pip install pandas numpy matplotlib seaborn tqdm sklearn"
   ]
  },
  {
   "cell_type": "code",
   "execution_count": 21,
   "metadata": {
    "collapsed": false
   },
   "outputs": [
    {
     "name": "stdout",
     "output_type": "stream",
     "text": [
      "Author identity unknown\r\n",
      "\r\n",
      "*** Please tell me who you are.\r\n",
      "\r\n",
      "Run\r\n",
      "\r\n",
      "  git config --global user.email \"you@example.com\"\r\n",
      "  git config --global user.name \"Your Name\"\r\n",
      "\r\n",
      "to set your account's default identity.\r\n",
      "Omit --global to set the identity only in this repository.\r\n",
      "\r\n",
      "fatal: unable to auto-detect email address (got 'root@VM-20-2-centos.(none)')\r\n",
      "Everything up-to-date\r\n"
     ]
    }
   ],
   "source": [
    "!git add .\n",
    "!git commit -m \"update\"\n",
    "!git push"
   ]
  },
  {
   "cell_type": "code",
   "execution_count": 2,
   "metadata": {
    "collapsed": true
   },
   "outputs": [],
   "source": [
    "# data analysis and preparing\n",
    "import pandas as pd\n",
    "import math\n",
    "import numpy as np\n",
    "import random as rnd\n",
    "\n",
    "# visualization\n",
    "import matplotlib.pyplot as plt\n",
    "import seaborn as sns\n",
    "from tqdm import tqdm\n",
    "\n",
    "tqdm.pandas()\n",
    "\n",
    "# machine learning\n",
    "from sklearn.model_selection import train_test_split\n",
    "from sklearn.tree import DecisionTreeClassifier\n",
    "from sklearn import metrics, tree\n",
    "from sklearn.metrics import auc, roc_curve, confusion_matrix, f1_score"
   ]
  },
  {
   "cell_type": "code",
   "execution_count": 3,
   "metadata": {
    "collapsed": false
   },
   "outputs": [],
   "source": [
    "# Read data file\n",
    "df = pd.read_csv('kickstarter201801.csv')"
   ]
  },
  {
   "cell_type": "code",
   "execution_count": 4,
   "metadata": {
    "collapsed": false
   },
   "outputs": [
    {
     "data": {
      "text/html": [
       "<div>\n",
       "<style scoped>\n",
       "    .dataframe tbody tr th:only-of-type {\n",
       "        vertical-align: middle;\n",
       "    }\n",
       "\n",
       "    .dataframe tbody tr th {\n",
       "        vertical-align: top;\n",
       "    }\n",
       "\n",
       "    .dataframe thead th {\n",
       "        text-align: right;\n",
       "    }\n",
       "</style>\n",
       "<table border=\"1\" class=\"dataframe\">\n",
       "  <thead>\n",
       "    <tr style=\"text-align: right;\">\n",
       "      <th></th>\n",
       "      <th>ID</th>\n",
       "      <th>name</th>\n",
       "      <th>category</th>\n",
       "      <th>main_category</th>\n",
       "      <th>currency</th>\n",
       "      <th>deadline</th>\n",
       "      <th>goal</th>\n",
       "      <th>launched</th>\n",
       "      <th>pledged</th>\n",
       "      <th>state</th>\n",
       "      <th>backers</th>\n",
       "      <th>country</th>\n",
       "      <th>usd pledged</th>\n",
       "      <th>usd_pledged_realised at deadline</th>\n",
       "      <th>usd_goal_real_at_start</th>\n",
       "    </tr>\n",
       "  </thead>\n",
       "  <tbody>\n",
       "    <tr>\n",
       "      <th>0</th>\n",
       "      <td>1000002330</td>\n",
       "      <td>The Songs of Adelaide &amp; Abullah</td>\n",
       "      <td>Poetry</td>\n",
       "      <td>Publishing</td>\n",
       "      <td>GBP</td>\n",
       "      <td>09/10/2015</td>\n",
       "      <td>1000.0</td>\n",
       "      <td>11/08/2015 12:12</td>\n",
       "      <td>0.0</td>\n",
       "      <td>failed</td>\n",
       "      <td>0</td>\n",
       "      <td>GB</td>\n",
       "      <td>0.0</td>\n",
       "      <td>0.0</td>\n",
       "      <td>1533.95</td>\n",
       "    </tr>\n",
       "    <tr>\n",
       "      <th>1</th>\n",
       "      <td>1000003930</td>\n",
       "      <td>Greeting From Earth: ZGAC Arts Capsule For ET</td>\n",
       "      <td>Narrative Film</td>\n",
       "      <td>Film &amp; Video</td>\n",
       "      <td>USD</td>\n",
       "      <td>01/11/2017</td>\n",
       "      <td>30000.0</td>\n",
       "      <td>02/09/2017 04:43</td>\n",
       "      <td>2421.0</td>\n",
       "      <td>failed</td>\n",
       "      <td>15</td>\n",
       "      <td>US</td>\n",
       "      <td>100.0</td>\n",
       "      <td>2421.0</td>\n",
       "      <td>30000.00</td>\n",
       "    </tr>\n",
       "    <tr>\n",
       "      <th>2</th>\n",
       "      <td>1000004038</td>\n",
       "      <td>Where is Hank?</td>\n",
       "      <td>Narrative Film</td>\n",
       "      <td>Film &amp; Video</td>\n",
       "      <td>USD</td>\n",
       "      <td>26/02/2013</td>\n",
       "      <td>45000.0</td>\n",
       "      <td>12/01/2013 00:20</td>\n",
       "      <td>220.0</td>\n",
       "      <td>failed</td>\n",
       "      <td>3</td>\n",
       "      <td>US</td>\n",
       "      <td>220.0</td>\n",
       "      <td>220.0</td>\n",
       "      <td>45000.00</td>\n",
       "    </tr>\n",
       "    <tr>\n",
       "      <th>3</th>\n",
       "      <td>1000007540</td>\n",
       "      <td>ToshiCapital Rekordz Needs Help to Complete Album</td>\n",
       "      <td>Music</td>\n",
       "      <td>Music</td>\n",
       "      <td>USD</td>\n",
       "      <td>16/04/2012</td>\n",
       "      <td>5000.0</td>\n",
       "      <td>17/03/2012 03:24</td>\n",
       "      <td>1.0</td>\n",
       "      <td>failed</td>\n",
       "      <td>1</td>\n",
       "      <td>US</td>\n",
       "      <td>1.0</td>\n",
       "      <td>1.0</td>\n",
       "      <td>5000.00</td>\n",
       "    </tr>\n",
       "    <tr>\n",
       "      <th>4</th>\n",
       "      <td>1000011046</td>\n",
       "      <td>Community Film Project: The Art of Neighborhoo...</td>\n",
       "      <td>Film &amp; Video</td>\n",
       "      <td>Film &amp; Video</td>\n",
       "      <td>USD</td>\n",
       "      <td>29/08/2015</td>\n",
       "      <td>19500.0</td>\n",
       "      <td>04/07/2015 08:35</td>\n",
       "      <td>1283.0</td>\n",
       "      <td>canceled</td>\n",
       "      <td>14</td>\n",
       "      <td>US</td>\n",
       "      <td>1283.0</td>\n",
       "      <td>1283.0</td>\n",
       "      <td>19500.00</td>\n",
       "    </tr>\n",
       "  </tbody>\n",
       "</table>\n",
       "</div>"
      ],
      "text/plain": [
       "           ID                                               name  \\\n",
       "0  1000002330                    The Songs of Adelaide & Abullah   \n",
       "1  1000003930      Greeting From Earth: ZGAC Arts Capsule For ET   \n",
       "2  1000004038                                     Where is Hank?   \n",
       "3  1000007540  ToshiCapital Rekordz Needs Help to Complete Album   \n",
       "4  1000011046  Community Film Project: The Art of Neighborhoo...   \n",
       "\n",
       "         category main_category currency    deadline     goal  \\\n",
       "0          Poetry    Publishing      GBP  09/10/2015   1000.0   \n",
       "1  Narrative Film  Film & Video      USD  01/11/2017  30000.0   \n",
       "2  Narrative Film  Film & Video      USD  26/02/2013  45000.0   \n",
       "3           Music         Music      USD  16/04/2012   5000.0   \n",
       "4    Film & Video  Film & Video      USD  29/08/2015  19500.0   \n",
       "\n",
       "           launched  pledged     state  backers country  usd pledged  \\\n",
       "0  11/08/2015 12:12      0.0    failed        0      GB          0.0   \n",
       "1  02/09/2017 04:43   2421.0    failed       15      US        100.0   \n",
       "2  12/01/2013 00:20    220.0    failed        3      US        220.0   \n",
       "3  17/03/2012 03:24      1.0    failed        1      US          1.0   \n",
       "4  04/07/2015 08:35   1283.0  canceled       14      US       1283.0   \n",
       "\n",
       "   usd_pledged_realised at deadline  usd_goal_real_at_start  \n",
       "0                               0.0                 1533.95  \n",
       "1                            2421.0                30000.00  \n",
       "2                             220.0                45000.00  \n",
       "3                               1.0                 5000.00  \n",
       "4                            1283.0                19500.00  "
      ]
     },
     "execution_count": 4,
     "metadata": {},
     "output_type": "execute_result"
    }
   ],
   "source": [
    "df.head()"
   ]
  },
  {
   "cell_type": "code",
   "execution_count": 5,
   "metadata": {
    "collapsed": false
   },
   "outputs": [
    {
     "name": "stdout",
     "output_type": "stream",
     "text": [
      "<class 'pandas.core.frame.DataFrame'>\n",
      "RangeIndex: 378661 entries, 0 to 378660\n",
      "Data columns (total 15 columns):\n",
      " #   Column                            Non-Null Count   Dtype  \n",
      "---  ------                            --------------   -----  \n",
      " 0   ID                                378661 non-null  int64  \n",
      " 1   name                              378657 non-null  object \n",
      " 2   category                          378661 non-null  object \n",
      " 3   main_category                     378661 non-null  object \n",
      " 4   currency                          378661 non-null  object \n",
      " 5   deadline                          378661 non-null  object \n",
      " 6   goal                              378661 non-null  float64\n",
      " 7   launched                          378661 non-null  object \n",
      " 8   pledged                           378661 non-null  float64\n",
      " 9   state                             378661 non-null  object \n",
      " 10  backers                           378661 non-null  int64  \n",
      " 11  country                           378661 non-null  object \n",
      " 12  usd pledged                       374864 non-null  float64\n",
      " 13  usd_pledged_realised at deadline  378661 non-null  float64\n",
      " 14  usd_goal_real_at_start            378661 non-null  float64\n",
      "dtypes: float64(5), int64(2), object(8)\n",
      "memory usage: 43.3+ MB\n"
     ]
    }
   ],
   "source": [
    "df.info()"
   ]
  },
  {
   "cell_type": "code",
   "execution_count": 6,
   "metadata": {
    "collapsed": false
   },
   "outputs": [],
   "source": [
    "state_value_counts = df['state'].value_counts()"
   ]
  },
  {
   "cell_type": "code",
   "execution_count": 7,
   "metadata": {
    "collapsed": false
   },
   "outputs": [
    {
     "data": {
      "image/png": "[encoded data removed]",
      "text/plain": [
       "<Figure size 432x288 with 1 Axes>"
      ]
     },
     "metadata": {},
     "output_type": "display_data"
    }
   ],
   "source": [
    "# fig1, ax1 = plt.subplots()\n",
    "# ax1.pie(state_value_counts.values, labels=state_value_counts.index, autopct='%1.1f%%',\n",
    "#         shadow=True, startangle=100)\n",
    "# ax1.axis('equal')  # Equal aspect ratio ensures that pie is drawn as a circle.\n",
    "x = np.char.array([str(i) for i in state_value_counts.index])\n",
    "y = np.array(state_value_counts.values)\n",
    "colors = ['yellowgreen', 'red', 'gold', 'lightskyblue', 'magenta', 'lightcoral', 'blue', 'pink', 'darkgreen', 'yellow',\n",
    "          'grey', 'violet', 'white', 'cyan'][:len(state_value_counts.index)]\n",
    "explode = [0.05] * len(state_value_counts.index)\n",
    "porcent = 100. * y / y.sum()\n",
    "\n",
    "patches, texts = plt.pie(y, colors=colors, startangle=90, radius=1.2, shadow=True,\n",
    "                         wedgeprops={'linewidth': 1, 'linestyle': 'solid', 'antialiased': True}, explode=explode)\n",
    "labels = ['{0} - {1:1.2f} %'.format(i, j) for i, j in zip(x, porcent)]\n",
    "\n",
    "sort_legend = True\n",
    "if sort_legend:\n",
    "    patches, labels, dummy = zip(*sorted(zip(patches, labels, y),\n",
    "                                         key=lambda x: x[2],\n",
    "                                         reverse=True))\n",
    "\n",
    "plt.legend(patches, labels, loc='center left', bbox_to_anchor=(-0.5, 1.),\n",
    "           fontsize=12)\n",
    "\n",
    "plt.show()\n",
    "\n",
    "# Unbalance data"
   ]
  },
  {
   "cell_type": "code",
   "execution_count": 8,
   "metadata": {
    "collapsed": false
   },
   "outputs": [
    {
     "data": {
      "text/plain": [
       "ID                                     0\n",
       "name                                   4\n",
       "category                               0\n",
       "main_category                          0\n",
       "currency                               0\n",
       "deadline                               0\n",
       "goal                                   0\n",
       "launched                               0\n",
       "pledged                                0\n",
       "state                                  0\n",
       "backers                                0\n",
       "country                                0\n",
       "usd pledged                         3797\n",
       "usd_pledged_realised at deadline       0\n",
       "usd_goal_real_at_start                 0\n",
       "dtype: int64"
      ]
     },
     "execution_count": 8,
     "metadata": {},
     "output_type": "execute_result"
    }
   ],
   "source": [
    "df.isnull().sum()"
   ]
  },
  {
   "cell_type": "code",
   "execution_count": 9,
   "metadata": {
    "collapsed": false
   },
   "outputs": [],
   "source": [
    "# drop ID and name, since they are unique value for each one.\n",
    "df = df.drop([\"ID\", \"name\"], axis=1)"
   ]
  },
  {
   "cell_type": "code",
   "execution_count": 10,
   "metadata": {
    "collapsed": false
   },
   "outputs": [
    {
     "data": {
      "text/plain": [
       "category                            0\n",
       "main_category                       0\n",
       "currency                            0\n",
       "deadline                            0\n",
       "goal                                0\n",
       "launched                            0\n",
       "pledged                             0\n",
       "state                               0\n",
       "backers                             0\n",
       "country                             0\n",
       "usd pledged                         0\n",
       "usd_pledged_realised at deadline    0\n",
       "usd_goal_real_at_start              0\n",
       "dtype: int64"
      ]
     },
     "execution_count": 10,
     "metadata": {},
     "output_type": "execute_result"
    }
   ],
   "source": [
    "#dealing with missing data\n",
    "df['usd pledged'].fillna(method='pad', inplace=True)\n",
    "# Removing the four NA record from our dataset\n",
    "df.dropna(axis=0, inplace=True)\n",
    "df.isnull().sum()"
   ]
  },
  {
   "cell_type": "code",
   "execution_count": 11,
   "metadata": {
    "collapsed": false
   },
   "outputs": [
    {
     "data": {
      "text/plain": [
       "0         58\n",
       "1         59\n",
       "2         44\n",
       "3         29\n",
       "4         55\n",
       "          ..\n",
       "378656    29\n",
       "378657    26\n",
       "378658    45\n",
       "378659    30\n",
       "378660    27\n",
       "Name: duration, Length: 378661, dtype: int64"
      ]
     },
     "execution_count": 11,
     "metadata": {},
     "output_type": "execute_result"
    }
   ],
   "source": [
    "df[\"duration\"] = (pd.to_datetime(df.deadline, format=\"%d/%m/%Y\") - pd.to_datetime(df.launched,\n",
    "                                                                                  format=\"%d/%m/%Y %H:%M\")).apply(\n",
    "    lambda x: x.days)\n",
    "df[\"duration\"]"
   ]
  },
  {
   "cell_type": "markdown",
   "metadata": {
    "collapsed": false
   },
   "source": []
  },
  {
   "cell_type": "code",
   "execution_count": 12,
   "metadata": {
    "collapsed": false
   },
   "outputs": [
    {
     "data": {
      "text/plain": [
       "0         0.000000\n",
       "1         0.080700\n",
       "2         0.004889\n",
       "3         0.000200\n",
       "4         0.065795\n",
       "            ...   \n",
       "378656    0.000500\n",
       "378657    0.103333\n",
       "378658    0.001333\n",
       "378659    0.013333\n",
       "378660    0.262000\n",
       "Name: completeRatio, Length: 378661, dtype: float64"
      ]
     },
     "execution_count": 12,
     "metadata": {},
     "output_type": "execute_result"
    }
   ],
   "source": [
    "df[\"completeRatio\"] = df['usd_pledged_realised at deadline'] / df['usd_goal_real_at_start']\n",
    "df[\"completeRatio\"]"
   ]
  },
  {
   "cell_type": "code",
   "execution_count": 13,
   "metadata": {
    "collapsed": false
   },
   "outputs": [],
   "source": [
    "# Drop Date\n",
    "df = df.drop([\"deadline\", \"launched\"], axis=1)\n",
    "df = df.drop(['pledged', 'goal'],axis=1)"
   ]
  },
  {
   "cell_type": "code",
   "execution_count": 14,
   "metadata": {
    "collapsed": false
   },
   "outputs": [
    {
     "data": {
      "text/html": [
       "<div>\n",
       "<style scoped>\n",
       "    .dataframe tbody tr th:only-of-type {\n",
       "        vertical-align: middle;\n",
       "    }\n",
       "\n",
       "    .dataframe tbody tr th {\n",
       "        vertical-align: top;\n",
       "    }\n",
       "\n",
       "    .dataframe thead th {\n",
       "        text-align: right;\n",
       "    }\n",
       "</style>\n",
       "<table border=\"1\" class=\"dataframe\">\n",
       "  <thead>\n",
       "    <tr style=\"text-align: right;\">\n",
       "      <th></th>\n",
       "      <th>category</th>\n",
       "      <th>main_category</th>\n",
       "      <th>currency</th>\n",
       "      <th>state</th>\n",
       "      <th>backers</th>\n",
       "      <th>country</th>\n",
       "      <th>usd pledged</th>\n",
       "      <th>usd_pledged_realised at deadline</th>\n",
       "      <th>usd_goal_real_at_start</th>\n",
       "      <th>duration</th>\n",
       "      <th>completeRatio</th>\n",
       "    </tr>\n",
       "  </thead>\n",
       "  <tbody>\n",
       "    <tr>\n",
       "      <th>0</th>\n",
       "      <td>Poetry</td>\n",
       "      <td>Publishing</td>\n",
       "      <td>GBP</td>\n",
       "      <td>failed</td>\n",
       "      <td>0</td>\n",
       "      <td>GB</td>\n",
       "      <td>0.0</td>\n",
       "      <td>0.0</td>\n",
       "      <td>1533.95</td>\n",
       "      <td>58</td>\n",
       "      <td>0.000000</td>\n",
       "    </tr>\n",
       "    <tr>\n",
       "      <th>1</th>\n",
       "      <td>Narrative Film</td>\n",
       "      <td>Film &amp; Video</td>\n",
       "      <td>USD</td>\n",
       "      <td>failed</td>\n",
       "      <td>15</td>\n",
       "      <td>US</td>\n",
       "      <td>100.0</td>\n",
       "      <td>2421.0</td>\n",
       "      <td>30000.00</td>\n",
       "      <td>59</td>\n",
       "      <td>0.080700</td>\n",
       "    </tr>\n",
       "    <tr>\n",
       "      <th>2</th>\n",
       "      <td>Narrative Film</td>\n",
       "      <td>Film &amp; Video</td>\n",
       "      <td>USD</td>\n",
       "      <td>failed</td>\n",
       "      <td>3</td>\n",
       "      <td>US</td>\n",
       "      <td>220.0</td>\n",
       "      <td>220.0</td>\n",
       "      <td>45000.00</td>\n",
       "      <td>44</td>\n",
       "      <td>0.004889</td>\n",
       "    </tr>\n",
       "    <tr>\n",
       "      <th>3</th>\n",
       "      <td>Music</td>\n",
       "      <td>Music</td>\n",
       "      <td>USD</td>\n",
       "      <td>failed</td>\n",
       "      <td>1</td>\n",
       "      <td>US</td>\n",
       "      <td>1.0</td>\n",
       "      <td>1.0</td>\n",
       "      <td>5000.00</td>\n",
       "      <td>29</td>\n",
       "      <td>0.000200</td>\n",
       "    </tr>\n",
       "    <tr>\n",
       "      <th>4</th>\n",
       "      <td>Film &amp; Video</td>\n",
       "      <td>Film &amp; Video</td>\n",
       "      <td>USD</td>\n",
       "      <td>canceled</td>\n",
       "      <td>14</td>\n",
       "      <td>US</td>\n",
       "      <td>1283.0</td>\n",
       "      <td>1283.0</td>\n",
       "      <td>19500.00</td>\n",
       "      <td>55</td>\n",
       "      <td>0.065795</td>\n",
       "    </tr>\n",
       "  </tbody>\n",
       "</table>\n",
       "</div>"
      ],
      "text/plain": [
       "         category main_category currency     state  backers country  \\\n",
       "0          Poetry    Publishing      GBP    failed        0      GB   \n",
       "1  Narrative Film  Film & Video      USD    failed       15      US   \n",
       "2  Narrative Film  Film & Video      USD    failed        3      US   \n",
       "3           Music         Music      USD    failed        1      US   \n",
       "4    Film & Video  Film & Video      USD  canceled       14      US   \n",
       "\n",
       "   usd pledged  usd_pledged_realised at deadline  usd_goal_real_at_start  \\\n",
       "0          0.0                               0.0                 1533.95   \n",
       "1        100.0                            2421.0                30000.00   \n",
       "2        220.0                             220.0                45000.00   \n",
       "3          1.0                               1.0                 5000.00   \n",
       "4       1283.0                            1283.0                19500.00   \n",
       "\n",
       "   duration  completeRatio  \n",
       "0        58       0.000000  \n",
       "1        59       0.080700  \n",
       "2        44       0.004889  \n",
       "3        29       0.000200  \n",
       "4        55       0.065795  "
      ]
     },
     "execution_count": 14,
     "metadata": {},
     "output_type": "execute_result"
    }
   ],
   "source": [
    "df.head()"
   ]
  },
  {
   "cell_type": "code",
   "execution_count": 15,
   "metadata": {
    "collapsed": false
   },
   "outputs": [],
   "source": [
    "# Transform Category\n",
    "categoryTransformTable = {}\n",
    "categorySet = set(df['category'])\n",
    "for index, i in enumerate(categorySet):\n",
    "    categoryTransformTable[i] = index\n",
    "\n",
    "stateTransformTable = {}\n",
    "stateSet = set(df['state'])\n",
    "for index, i in enumerate(stateSet):\n",
    "    stateTransformTable[i] = index\n",
    "#\n",
    "currencyTransformTable = {}\n",
    "currencySet = set(df['currency'])\n",
    "for index, i in enumerate(currencySet):\n",
    "    currencyTransformTable[i] = index\n",
    "\n",
    "countryTransformTable = {}\n",
    "countrySet = set(df['country'])\n",
    "for index, i in enumerate(countrySet):\n",
    "    countryTransformTable[i] = index\n",
    "\n",
    "main_categoryTransformTable = {}\n",
    "main_categorySet = set(df['main_category'])\n",
    "for index, i in enumerate(main_categorySet):\n",
    "    main_categoryTransformTable[i] = index\n",
    "\n",
    "num_encode = {\n",
    "    'state': stateTransformTable,\n",
    "    'category': categoryTransformTable,\n",
    "    'currency': currencyTransformTable,\n",
    "    'country': countryTransformTable,\n",
    "    'main_category': main_categoryTransformTable,\n",
    "}\n",
    "# Do Transformation\n",
    "df.replace(num_encode, inplace=True)"
   ]
  },
  {
   "cell_type": "code",
   "execution_count": 16,
   "metadata": {
    "collapsed": false
   },
   "outputs": [],
   "source": [
    "# main_category = pd.get_dummies(df['main_category'], prefix='main_category')\n",
    "# category = pd.get_dummies(df['category'], prefix='category')\n",
    "# currency = pd.get_dummies(df['currency'], prefix='currency')\n",
    "# country = pd.get_dummies(df['category'], prefix='country')\n",
    "#\n",
    "# df = pd.concat([df, main_category, category, currency, country], axis=1)\n",
    "# df = df.drop(['main_category', 'category', 'currency', 'country'], axis=1)"
   ]
  },
  {
   "cell_type": "code",
   "execution_count": 17,
   "metadata": {
    "collapsed": false
   },
   "outputs": [
    {
     "data": {
      "text/html": [
       "<div>\n",
       "<style scoped>\n",
       "    .dataframe tbody tr th:only-of-type {\n",
       "        vertical-align: middle;\n",
       "    }\n",
       "\n",
       "    .dataframe tbody tr th {\n",
       "        vertical-align: top;\n",
       "    }\n",
       "\n",
       "    .dataframe thead th {\n",
       "        text-align: right;\n",
       "    }\n",
       "</style>\n",
       "<table border=\"1\" class=\"dataframe\">\n",
       "  <thead>\n",
       "    <tr style=\"text-align: right;\">\n",
       "      <th></th>\n",
       "      <th>category</th>\n",
       "      <th>main_category</th>\n",
       "      <th>currency</th>\n",
       "      <th>state</th>\n",
       "      <th>backers</th>\n",
       "      <th>country</th>\n",
       "      <th>usd pledged</th>\n",
       "      <th>usd_pledged_realised at deadline</th>\n",
       "      <th>usd_goal_real_at_start</th>\n",
       "      <th>duration</th>\n",
       "      <th>completeRatio</th>\n",
       "    </tr>\n",
       "  </thead>\n",
       "  <tbody>\n",
       "    <tr>\n",
       "      <th>0</th>\n",
       "      <td>127</td>\n",
       "      <td>0</td>\n",
       "      <td>7</td>\n",
       "      <td>2</td>\n",
       "      <td>0</td>\n",
       "      <td>14</td>\n",
       "      <td>0.0</td>\n",
       "      <td>0.0</td>\n",
       "      <td>1533.95</td>\n",
       "      <td>58</td>\n",
       "      <td>0.000000</td>\n",
       "    </tr>\n",
       "    <tr>\n",
       "      <th>1</th>\n",
       "      <td>111</td>\n",
       "      <td>11</td>\n",
       "      <td>4</td>\n",
       "      <td>2</td>\n",
       "      <td>15</td>\n",
       "      <td>22</td>\n",
       "      <td>100.0</td>\n",
       "      <td>2421.0</td>\n",
       "      <td>30000.00</td>\n",
       "      <td>59</td>\n",
       "      <td>0.080700</td>\n",
       "    </tr>\n",
       "    <tr>\n",
       "      <th>2</th>\n",
       "      <td>111</td>\n",
       "      <td>11</td>\n",
       "      <td>4</td>\n",
       "      <td>2</td>\n",
       "      <td>3</td>\n",
       "      <td>22</td>\n",
       "      <td>220.0</td>\n",
       "      <td>220.0</td>\n",
       "      <td>45000.00</td>\n",
       "      <td>44</td>\n",
       "      <td>0.004889</td>\n",
       "    </tr>\n",
       "    <tr>\n",
       "      <th>3</th>\n",
       "      <td>89</td>\n",
       "      <td>6</td>\n",
       "      <td>4</td>\n",
       "      <td>2</td>\n",
       "      <td>1</td>\n",
       "      <td>22</td>\n",
       "      <td>1.0</td>\n",
       "      <td>1.0</td>\n",
       "      <td>5000.00</td>\n",
       "      <td>29</td>\n",
       "      <td>0.000200</td>\n",
       "    </tr>\n",
       "    <tr>\n",
       "      <th>4</th>\n",
       "      <td>32</td>\n",
       "      <td>11</td>\n",
       "      <td>4</td>\n",
       "      <td>0</td>\n",
       "      <td>14</td>\n",
       "      <td>22</td>\n",
       "      <td>1283.0</td>\n",
       "      <td>1283.0</td>\n",
       "      <td>19500.00</td>\n",
       "      <td>55</td>\n",
       "      <td>0.065795</td>\n",
       "    </tr>\n",
       "  </tbody>\n",
       "</table>\n",
       "</div>"
      ],
      "text/plain": [
       "   category  main_category  currency  state  backers  country  usd pledged  \\\n",
       "0       127              0         7      2        0       14          0.0   \n",
       "1       111             11         4      2       15       22        100.0   \n",
       "2       111             11         4      2        3       22        220.0   \n",
       "3        89              6         4      2        1       22          1.0   \n",
       "4        32             11         4      0       14       22       1283.0   \n",
       "\n",
       "   usd_pledged_realised at deadline  usd_goal_real_at_start  duration  \\\n",
       "0                               0.0                 1533.95        58   \n",
       "1                            2421.0                30000.00        59   \n",
       "2                             220.0                45000.00        44   \n",
       "3                               1.0                 5000.00        29   \n",
       "4                            1283.0                19500.00        55   \n",
       "\n",
       "   completeRatio  \n",
       "0       0.000000  \n",
       "1       0.080700  \n",
       "2       0.004889  \n",
       "3       0.000200  \n",
       "4       0.065795  "
      ]
     },
     "execution_count": 17,
     "metadata": {},
     "output_type": "execute_result"
    }
   ],
   "source": [
    "df.head()"
   ]
  },
  {
   "cell_type": "code",
   "execution_count": 18,
   "metadata": {
    "collapsed": false
   },
   "outputs": [],
   "source": [
    "# Split data into training, validation and test sets\n",
    "train, test = train_test_split(df, test_size=0.2)\n",
    "train, val = train_test_split(train, test_size=0.2)\n",
    "\n",
    "combined = [train, val, test]"
   ]
  },
  {
   "cell_type": "code",
   "execution_count": 18,
   "metadata": {
    "collapsed": false
   },
   "outputs": [],
   "source": []
  },
  {
   "cell_type": "code",
   "execution_count": null,
   "metadata": {
    "collapsed": false,
    "pycharm": {
     "is_executing": true
    }
   },
   "outputs": [
    {
     "name": "stdout",
     "output_type": "stream",
     "text": [
      "Testing Model KNeighborsClassifier\n",
      "Testing <metric: euclidean, neighborSize: 3>: "
     ]
    },
    {
     "name": "stderr",
     "output_type": "stream",
     "text": [
      "ERROR:root:Internal Python error in the inspect module.\n",
      "Below is the traceback from this internal error.\n",
      "\n",
      "\n",
      "KeyboardInterrupt\n",
      "\n"
     ]
    }
   ],
   "source": [
    "from sklearn.neighbors import KNeighborsClassifier\n",
    "\n",
    "print(f\"Testing Model {KNeighborsClassifier.__name__}\")\n",
    "X_train, X_test = train.drop([\"state\"], axis=1), test.drop([\"state\"], axis=1)\n",
    "y_train, y_test = train['state'], test['state']\n",
    "neighbor_size = [3, 5, 7, 9, 11, 13]\n",
    "metricNames = [\"euclidean\", \"manhattan\", \"chebyshev\"]\n",
    "result = {}\n",
    "\n",
    "for k in metricNames:\n",
    "    result[k] = {}\n",
    "    for neighbors in neighbor_size:\n",
    "        print(f\"Testing <metric: {k}, neighborSize: {neighbors}>: \", end=\"\")\n",
    "        knn = KNeighborsClassifier(n_neighbors=neighbors, metric=k)\n",
    "        knn.fit(X_train, y_train)\n",
    "        y_pred = knn.predict(X_test)\n",
    "        accuracy = metrics.accuracy_score(y_test, y_pred)\n",
    "        f1 = f1_score(y_true=y_test, y_pred=y_pred, average=\"macro\")\n",
    "        print(f\"Result: Accuracy {accuracy}, F1 {f1}\")\n",
    "        result[k][neighbors] = {\n",
    "            \"Accuracy\": accuracy,\n",
    "            \"F1\": f1\n",
    "        }"
   ]
  },
  {
   "cell_type": "code",
   "execution_count": 349,
   "metadata": {
    "collapsed": false
   },
   "outputs": [
    {
     "data": {
      "image/png": "[encoded data removed]",
      "text/plain": [
       "<Figure size 1200x300 with 2 Axes>"
      ]
     },
     "metadata": {},
     "output_type": "display_data"
    }
   ],
   "source": [
    "f = plt.figure(figsize=(12,3))\n",
    "ax1 = f.add_subplot(121)\n",
    "ax2 = f.add_subplot(122)\n",
    "\n",
    "labels = neighbor_size\n",
    "width = 0.2  # the width of the bars\n",
    "x = np.arange(len(labels))  # the label locations\n",
    "for index, metricName in enumerate(result):\n",
    "    neighborResult = result[metricName]\n",
    "    rect = ax1.bar(x - width + (width) * (index), [neighborResult[i]['Accuracy'] for i in neighborResult], width, label=metricName)\n",
    "# Add some text for labels, title and custom x-axis tick labels, etc.\n",
    "ax1.set_ylabel('Accuracy')\n",
    "ax1.set_xlabel('K')\n",
    "ax1.set_title('Accuracy by Distance Metric and K')\n",
    "ax1.set_xticks(x, labels)\n",
    "ax1.set_ylim([0.82, 0.88])\n",
    "ax1.legend()\n",
    "\n",
    "labels = neighbor_size\n",
    "width = 0.2  # the width of the bars\n",
    "x = np.arange(len(labels))  # the label locations\n",
    "for index, metricName in enumerate(result):\n",
    "    neighborResult = result[metricName]\n",
    "    rect = ax2.bar(x - width + (width) * (index), [neighborResult[i]['F1'] for i in neighborResult], width, label=metricName)\n",
    "# Add some text for labels, title and custom x-axis tick labels, etc.\n",
    "ax2.set_ylabel('F1')\n",
    "ax2.set_xlabel('K')\n",
    "ax2.set_title('F1 by Distance Metric and K')\n",
    "ax2.set_xticks(x, labels)\n",
    "ax2.set_ylim([0.32, 0.48])\n",
    "ax2.legend()\n",
    "\n",
    "\n",
    "plt.show()"
   ]
  },
  {
   "cell_type": "code",
   "execution_count": 331,
   "metadata": {
    "collapsed": false
   },
   "outputs": [],
   "source": []
  },
  {
   "cell_type": "code",
   "execution_count": 267,
   "metadata": {
    "collapsed": false
   },
   "outputs": [],
   "source": []
  },
  {
   "cell_type": "code",
   "execution_count": null,
   "metadata": {
    "collapsed": false
   },
   "outputs": [],
   "source": []
  },
  {
   "cell_type": "code",
   "execution_count": 267,
   "metadata": {
    "collapsed": false
   },
   "outputs": [],
   "source": []
  },
  {
   "cell_type": "code",
   "execution_count": 267,
   "metadata": {
    "collapsed": false
   },
   "outputs": [],
   "source": []
  }
 ],
 "metadata": {
  "kernelspec": {
   "display_name": "Python 3",
   "language": "python",
   "name": "python3"
  },
  "language_info": {
   "codemirror_mode": {
    "name": "ipython",
    "version": 2
   },
   "file_extension": ".py",
   "mimetype": "text/x-python",
   "name": "python",
   "nbconvert_exporter": "python",
   "pygments_lexer": "ipython2",
   "version": "2.7.6"
  }
 },
 "nbformat": 4,
 "nbformat_minor": 0
}
