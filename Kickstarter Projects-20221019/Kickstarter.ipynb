{
 "metadata": {
  "kernelspec": {
   "display_name": "Python 3",
   "language": "python",
   "name": "python3"
  },
  "language_info": {
   "codemirror_mode": {
    "name": "ipython",
    "version": 3
   },
   "file_extension": ".py",
   "mimetype": "text/x-python",
   "name": "python",
   "nbconvert_exporter": "python",
   "pygments_lexer": "ipython3",
   "version": "3.6.8"
  }
 },
 "nbformat_minor": 4,
 "nbformat": 4,
 "cells": [
  {
   "cell_type": "markdown",
   "source": [
    "# COMP3010J - Machine Learning - Kickstarter Project\n",
    "\n",
    "## Yuyang Wang 19206226"
   ],
   "metadata": {}
  },
  {
   "cell_type": "markdown",
   "source": [
    "# Import Necessary packages"
   ],
   "metadata": {}
  },
  {
   "cell_type": "code",
   "source": [
    "# data analysis and preparing\n",
    "import pandas as pd\n",
    "import math\n",
    "import numpy as np\n",
    "import random as rnd\n",
    "\n",
    "# visualization\n",
    "import matplotlib.pyplot as plt\n",
    "import seaborn as sns\n",
    "# from tqdm import tqdm\n",
    "\n",
    "# tqdm.pandas()\n",
    "\n",
    "# machine learning\n",
    "from sklearn.model_selection import train_test_split\n",
    "from sklearn.tree import DecisionTreeClassifier\n",
    "from sklearn import metrics, tree\n",
    "from sklearn.metrics import auc, roc_curve, confusion_matrix, f1_score"
   ],
   "metadata": {
    "execution": {
     "iopub.status.busy": "2022-11-10T09:49:03.063449Z",
     "iopub.execute_input": "2022-11-10T09:49:03.063897Z",
     "iopub.status.idle": "2022-11-10T09:49:03.070632Z",
     "shell.execute_reply.started": "2022-11-10T09:49:03.063856Z",
     "shell.execute_reply": "2022-11-10T09:49:03.069628Z"
    },
    "trusted": true
   },
   "execution_count": 632,
   "outputs": []
  },
  {
   "cell_type": "markdown",
   "source": [
    "# Read data file\n",
    "Here we read the data as a DataFrame\n",
    "\n",
    "* `ID`: internal kickstarter id\n",
    "* `name`: name of project - A project is a finite work with a clear goal that you’d like to bring to life. Think albums, books, or films.\n",
    "* `category`: category\n",
    "* `main_category`: category of campaign\n",
    "* `currency`: currency used to support\n",
    "* `deadline`: deadline for crowdfunding\n",
    "* `goal`: fundraising goal - The funding goal is the amount of money that a creator needs to complete their project.\n",
    "* `launched`: date launched\n",
    "* `pledged`: amount pledged by \"crowd\"\n",
    "* `state`: Current condition the project is in\n",
    "* `usd pledged`: conversion in US dollars of the pledged column (conversion done by kickstarter).\n",
    "* `usd_pledged_realised at deadline`: conversion in US dollars of the pledged column (conversion from Fixer.io API).\n",
    "* `usd_goal_real_at_start`: conversion in US dollars of the goal column (conversion from Fixer.io API)."
   ],
   "metadata": {}
  },
  {
   "cell_type": "code",
   "source": [
    "df = pd.read_csv('kickstarter201801.csv')"
   ],
   "metadata": {
    "execution": {
     "iopub.status.busy": "2022-11-10T09:49:03.072531Z",
     "iopub.execute_input": "2022-11-10T09:49:03.072884Z",
     "iopub.status.idle": "2022-11-10T09:49:04.343504Z",
     "shell.execute_reply.started": "2022-11-10T09:49:03.072854Z",
     "shell.execute_reply": "2022-11-10T09:49:04.342505Z"
    },
    "trusted": true
   },
   "execution_count": 633,
   "outputs": []
  },
  {
   "cell_type": "code",
   "source": [
    "# df = pd.read_csv('./kickstarter201801.csv')"
   ],
   "metadata": {
    "execution": {
     "iopub.status.busy": "2022-11-10T09:49:04.344656Z",
     "iopub.execute_input": "2022-11-10T09:49:04.344991Z",
     "iopub.status.idle": "2022-11-10T09:49:04.349745Z",
     "shell.execute_reply.started": "2022-11-10T09:49:04.344960Z",
     "shell.execute_reply": "2022-11-10T09:49:04.348622Z"
    },
    "trusted": true
   },
   "execution_count": 634,
   "outputs": []
  },
  {
   "cell_type": "code",
   "source": [
    "df.head()  # Take a look at first 5 lines"
   ],
   "metadata": {
    "execution": {
     "iopub.status.busy": "2022-11-10T09:49:04.352031Z",
     "iopub.execute_input": "2022-11-10T09:49:04.352493Z",
     "iopub.status.idle": "2022-11-10T09:49:04.379436Z",
     "shell.execute_reply.started": "2022-11-10T09:49:04.352459Z",
     "shell.execute_reply": "2022-11-10T09:49:04.378274Z"
    },
    "trusted": true
   },
   "execution_count": 635,
   "outputs": [
    {
     "data": {
      "text/plain": "           ID                                                        name  \\\n0  1000002330                             The Songs of Adelaide & Abullah   \n1  1000003930               Greeting From Earth: ZGAC Arts Capsule For ET   \n2  1000004038                                              Where is Hank?   \n3  1000007540           ToshiCapital Rekordz Needs Help to Complete Album   \n4  1000011046  Community Film Project: The Art of Neighborhood Filmmaking   \n\n         category main_category currency    deadline     goal  \\\n0          Poetry    Publishing      GBP  09/10/2015   1000.0   \n1  Narrative Film  Film & Video      USD  01/11/2017  30000.0   \n2  Narrative Film  Film & Video      USD  26/02/2013  45000.0   \n3           Music         Music      USD  16/04/2012   5000.0   \n4    Film & Video  Film & Video      USD  29/08/2015  19500.0   \n\n           launched  pledged     state  backers country  usd pledged  \\\n0  11/08/2015 12:12      0.0    failed        0      GB          0.0   \n1  02/09/2017 04:43   2421.0    failed       15      US        100.0   \n2  12/01/2013 00:20    220.0    failed        3      US        220.0   \n3  17/03/2012 03:24      1.0    failed        1      US          1.0   \n4  04/07/2015 08:35   1283.0  canceled       14      US       1283.0   \n\n   usd_pledged_realised at deadline  usd_goal_real_at_start  \n0                               0.0                 1533.95  \n1                            2421.0                30000.00  \n2                             220.0                45000.00  \n3                               1.0                 5000.00  \n4                            1283.0                19500.00  ",
      "text/html": "<div>\n<style scoped>\n    .dataframe tbody tr th:only-of-type {\n        vertical-align: middle;\n    }\n\n    .dataframe tbody tr th {\n        vertical-align: top;\n    }\n\n    .dataframe thead th {\n        text-align: right;\n    }\n</style>\n<table border=\"1\" class=\"dataframe\">\n  <thead>\n    <tr style=\"text-align: right;\">\n      <th></th>\n      <th>ID</th>\n      <th>name</th>\n      <th>category</th>\n      <th>main_category</th>\n      <th>currency</th>\n      <th>deadline</th>\n      <th>goal</th>\n      <th>launched</th>\n      <th>pledged</th>\n      <th>state</th>\n      <th>backers</th>\n      <th>country</th>\n      <th>usd pledged</th>\n      <th>usd_pledged_realised at deadline</th>\n      <th>usd_goal_real_at_start</th>\n    </tr>\n  </thead>\n  <tbody>\n    <tr>\n      <th>0</th>\n      <td>1000002330</td>\n      <td>The Songs of Adelaide &amp; Abullah</td>\n      <td>Poetry</td>\n      <td>Publishing</td>\n      <td>GBP</td>\n      <td>09/10/2015</td>\n      <td>1000.0</td>\n      <td>11/08/2015 12:12</td>\n      <td>0.0</td>\n      <td>failed</td>\n      <td>0</td>\n      <td>GB</td>\n      <td>0.0</td>\n      <td>0.0</td>\n      <td>1533.95</td>\n    </tr>\n    <tr>\n      <th>1</th>\n      <td>1000003930</td>\n      <td>Greeting From Earth: ZGAC Arts Capsule For ET</td>\n      <td>Narrative Film</td>\n      <td>Film &amp; Video</td>\n      <td>USD</td>\n      <td>01/11/2017</td>\n      <td>30000.0</td>\n      <td>02/09/2017 04:43</td>\n      <td>2421.0</td>\n      <td>failed</td>\n      <td>15</td>\n      <td>US</td>\n      <td>100.0</td>\n      <td>2421.0</td>\n      <td>30000.00</td>\n    </tr>\n    <tr>\n      <th>2</th>\n      <td>1000004038</td>\n      <td>Where is Hank?</td>\n      <td>Narrative Film</td>\n      <td>Film &amp; Video</td>\n      <td>USD</td>\n      <td>26/02/2013</td>\n      <td>45000.0</td>\n      <td>12/01/2013 00:20</td>\n      <td>220.0</td>\n      <td>failed</td>\n      <td>3</td>\n      <td>US</td>\n      <td>220.0</td>\n      <td>220.0</td>\n      <td>45000.00</td>\n    </tr>\n    <tr>\n      <th>3</th>\n      <td>1000007540</td>\n      <td>ToshiCapital Rekordz Needs Help to Complete Album</td>\n      <td>Music</td>\n      <td>Music</td>\n      <td>USD</td>\n      <td>16/04/2012</td>\n      <td>5000.0</td>\n      <td>17/03/2012 03:24</td>\n      <td>1.0</td>\n      <td>failed</td>\n      <td>1</td>\n      <td>US</td>\n      <td>1.0</td>\n      <td>1.0</td>\n      <td>5000.00</td>\n    </tr>\n    <tr>\n      <th>4</th>\n      <td>1000011046</td>\n      <td>Community Film Project: The Art of Neighborhood Filmmaking</td>\n      <td>Film &amp; Video</td>\n      <td>Film &amp; Video</td>\n      <td>USD</td>\n      <td>29/08/2015</td>\n      <td>19500.0</td>\n      <td>04/07/2015 08:35</td>\n      <td>1283.0</td>\n      <td>canceled</td>\n      <td>14</td>\n      <td>US</td>\n      <td>1283.0</td>\n      <td>1283.0</td>\n      <td>19500.00</td>\n    </tr>\n  </tbody>\n</table>\n</div>"
     },
     "execution_count": 635,
     "metadata": {},
     "output_type": "execute_result"
    }
   ]
  },
  {
   "cell_type": "markdown",
   "source": [
    "# Check whether there exist missing data"
   ],
   "metadata": {}
  },
  {
   "cell_type": "code",
   "source": [
    "df.info()"
   ],
   "metadata": {
    "execution": {
     "iopub.status.busy": "2022-11-10T09:49:04.381070Z",
     "iopub.execute_input": "2022-11-10T09:49:04.381428Z",
     "iopub.status.idle": "2022-11-10T09:49:04.534794Z",
     "shell.execute_reply.started": "2022-11-10T09:49:04.381395Z",
     "shell.execute_reply": "2022-11-10T09:49:04.533533Z"
    },
    "trusted": true
   },
   "execution_count": 636,
   "outputs": [
    {
     "name": "stdout",
     "output_type": "stream",
     "text": [
      "<class 'pandas.core.frame.DataFrame'>\n",
      "RangeIndex: 378661 entries, 0 to 378660\n",
      "Data columns (total 15 columns):\n",
      " #   Column                            Non-Null Count   Dtype  \n",
      "---  ------                            --------------   -----  \n",
      " 0   ID                                378661 non-null  int64  \n",
      " 1   name                              378657 non-null  object \n",
      " 2   category                          378661 non-null  object \n",
      " 3   main_category                     378661 non-null  object \n",
      " 4   currency                          378661 non-null  object \n",
      " 5   deadline                          378661 non-null  object \n",
      " 6   goal                              378661 non-null  float64\n",
      " 7   launched                          378661 non-null  object \n",
      " 8   pledged                           378661 non-null  float64\n",
      " 9   state                             378661 non-null  object \n",
      " 10  backers                           378661 non-null  int64  \n",
      " 11  country                           378661 non-null  object \n",
      " 12  usd pledged                       374864 non-null  float64\n",
      " 13  usd_pledged_realised at deadline  378661 non-null  float64\n",
      " 14  usd_goal_real_at_start            378661 non-null  float64\n",
      "dtypes: float64(5), int64(2), object(8)\n",
      "memory usage: 43.3+ MB\n"
     ]
    }
   ]
  },
  {
   "cell_type": "markdown",
   "source": [
    "# Here we found there do exist missing data, I will deal with this problem later."
   ],
   "metadata": {}
  },
  {
   "cell_type": "markdown",
   "source": [
    "## Data analysis"
   ],
   "metadata": {}
  },
  {
   "cell_type": "code",
   "source": [
    "df.describe()"
   ],
   "metadata": {
    "collapsed": false,
    "jupyter": {
     "outputs_hidden": false
    },
    "execution": {
     "iopub.status.busy": "2022-11-10T09:49:04.536689Z",
     "iopub.execute_input": "2022-11-10T09:49:04.537228Z",
     "iopub.status.idle": "2022-11-10T09:49:04.674269Z",
     "shell.execute_reply.started": "2022-11-10T09:49:04.537181Z",
     "shell.execute_reply": "2022-11-10T09:49:04.673203Z"
    },
    "trusted": true
   },
   "execution_count": 637,
   "outputs": [
    {
     "data": {
      "text/plain": "                 ID          goal       pledged        backers   usd pledged  \\\ncount  3.786610e+05  3.786610e+05  3.786610e+05  378661.000000  3.748640e+05   \nmean   1.074731e+09  4.908079e+04  9.682979e+03     105.617476  7.036729e+03   \nstd    6.190862e+08  1.183391e+06  9.563601e+04     907.185035  7.863975e+04   \nmin    5.971000e+03  1.000000e-02  0.000000e+00       0.000000  0.000000e+00   \n25%    5.382635e+08  2.000000e+03  3.000000e+01       2.000000  1.698000e+01   \n50%    1.075276e+09  5.200000e+03  6.200000e+02      12.000000  3.947200e+02   \n75%    1.610149e+09  1.600000e+04  4.076000e+03      56.000000  3.034090e+03   \nmax    2.147476e+09  1.000000e+08  2.033899e+07  219382.000000  2.033899e+07   \n\n       usd_pledged_realised at deadline  usd_goal_real_at_start  \ncount                      3.786610e+05            3.786610e+05  \nmean                       9.058924e+03            4.545440e+04  \nstd                        9.097334e+04            1.152950e+06  \nmin                        0.000000e+00            1.000000e-02  \n25%                        3.100000e+01            2.000000e+03  \n50%                        6.243300e+02            5.500000e+03  \n75%                        4.050000e+03            1.550000e+04  \nmax                        2.033899e+07            1.663614e+08  ",
      "text/html": "<div>\n<style scoped>\n    .dataframe tbody tr th:only-of-type {\n        vertical-align: middle;\n    }\n\n    .dataframe tbody tr th {\n        vertical-align: top;\n    }\n\n    .dataframe thead th {\n        text-align: right;\n    }\n</style>\n<table border=\"1\" class=\"dataframe\">\n  <thead>\n    <tr style=\"text-align: right;\">\n      <th></th>\n      <th>ID</th>\n      <th>goal</th>\n      <th>pledged</th>\n      <th>backers</th>\n      <th>usd pledged</th>\n      <th>usd_pledged_realised at deadline</th>\n      <th>usd_goal_real_at_start</th>\n    </tr>\n  </thead>\n  <tbody>\n    <tr>\n      <th>count</th>\n      <td>3.786610e+05</td>\n      <td>3.786610e+05</td>\n      <td>3.786610e+05</td>\n      <td>378661.000000</td>\n      <td>3.748640e+05</td>\n      <td>3.786610e+05</td>\n      <td>3.786610e+05</td>\n    </tr>\n    <tr>\n      <th>mean</th>\n      <td>1.074731e+09</td>\n      <td>4.908079e+04</td>\n      <td>9.682979e+03</td>\n      <td>105.617476</td>\n      <td>7.036729e+03</td>\n      <td>9.058924e+03</td>\n      <td>4.545440e+04</td>\n    </tr>\n    <tr>\n      <th>std</th>\n      <td>6.190862e+08</td>\n      <td>1.183391e+06</td>\n      <td>9.563601e+04</td>\n      <td>907.185035</td>\n      <td>7.863975e+04</td>\n      <td>9.097334e+04</td>\n      <td>1.152950e+06</td>\n    </tr>\n    <tr>\n      <th>min</th>\n      <td>5.971000e+03</td>\n      <td>1.000000e-02</td>\n      <td>0.000000e+00</td>\n      <td>0.000000</td>\n      <td>0.000000e+00</td>\n      <td>0.000000e+00</td>\n      <td>1.000000e-02</td>\n    </tr>\n    <tr>\n      <th>25%</th>\n      <td>5.382635e+08</td>\n      <td>2.000000e+03</td>\n      <td>3.000000e+01</td>\n      <td>2.000000</td>\n      <td>1.698000e+01</td>\n      <td>3.100000e+01</td>\n      <td>2.000000e+03</td>\n    </tr>\n    <tr>\n      <th>50%</th>\n      <td>1.075276e+09</td>\n      <td>5.200000e+03</td>\n      <td>6.200000e+02</td>\n      <td>12.000000</td>\n      <td>3.947200e+02</td>\n      <td>6.243300e+02</td>\n      <td>5.500000e+03</td>\n    </tr>\n    <tr>\n      <th>75%</th>\n      <td>1.610149e+09</td>\n      <td>1.600000e+04</td>\n      <td>4.076000e+03</td>\n      <td>56.000000</td>\n      <td>3.034090e+03</td>\n      <td>4.050000e+03</td>\n      <td>1.550000e+04</td>\n    </tr>\n    <tr>\n      <th>max</th>\n      <td>2.147476e+09</td>\n      <td>1.000000e+08</td>\n      <td>2.033899e+07</td>\n      <td>219382.000000</td>\n      <td>2.033899e+07</td>\n      <td>2.033899e+07</td>\n      <td>1.663614e+08</td>\n    </tr>\n  </tbody>\n</table>\n</div>"
     },
     "execution_count": 637,
     "metadata": {},
     "output_type": "execute_result"
    }
   ]
  },
  {
   "cell_type": "code",
   "source": [
    "df.describe(percentiles=[.1, .2, .6, .7, .8, .9, .95, .99])"
   ],
   "metadata": {
    "collapsed": false,
    "jupyter": {
     "outputs_hidden": false
    },
    "execution": {
     "iopub.status.busy": "2022-11-10T09:49:04.675824Z",
     "iopub.execute_input": "2022-11-10T09:49:04.676207Z",
     "iopub.status.idle": "2022-11-10T09:49:04.839478Z",
     "shell.execute_reply.started": "2022-11-10T09:49:04.676176Z",
     "shell.execute_reply": "2022-11-10T09:49:04.838281Z"
    },
    "trusted": true
   },
   "execution_count": 638,
   "outputs": [
    {
     "data": {
      "text/plain": "                 ID          goal       pledged        backers   usd pledged  \\\ncount  3.786610e+05  3.786610e+05  3.786610e+05  378661.000000  3.748640e+05   \nmean   1.074731e+09  4.908079e+04  9.682979e+03     105.617476  7.036729e+03   \nstd    6.190862e+08  1.183391e+06  9.563601e+04     907.185035  7.863975e+04   \nmin    5.971000e+03  1.000000e-02  0.000000e+00       0.000000  0.000000e+00   \n10%    2.164103e+08  6.750000e+02  0.000000e+00       0.000000  0.000000e+00   \n20%    4.312514e+08  1.500000e+03  1.000000e+01       1.000000  1.410000e+00   \n50%    1.075276e+09  5.200000e+03  6.200000e+02      12.000000  3.947200e+02   \n60%    1.290010e+09  9.000000e+03  1.411010e+03      23.000000  9.580000e+02   \n70%    1.502856e+09  1.250000e+04  2.925000e+03      42.000000  2.085000e+03   \n80%    1.716708e+09  2.080000e+04  5.729000e+03      76.000000  4.422754e+03   \n90%    1.932083e+09  5.000000e+04  1.414126e+04     166.000000  1.085970e+04   \n95%    2.039733e+09  9.000000e+04  2.958100e+04     334.000000  2.243285e+04   \n99%    2.125552e+09  4.000000e+05  1.348307e+05    1506.000000  9.624458e+04   \nmax    2.147476e+09  1.000000e+08  2.033899e+07  219382.000000  2.033899e+07   \n\n       usd_pledged_realised at deadline  usd_goal_real_at_start  \ncount                      3.786610e+05            3.786610e+05  \nmean                       9.058924e+03            4.545440e+04  \nstd                        9.097334e+04            1.152950e+06  \nmin                        0.000000e+00            1.000000e-02  \n10%                        0.000000e+00            7.000000e+02  \n20%                        1.023000e+01            1.500000e+03  \n50%                        6.243300e+02            5.500000e+03  \n60%                        1.415000e+03            8.560180e+03  \n70%                        2.909000e+03            1.242221e+04  \n80%                        5.665220e+03            2.000000e+04  \n90%                        1.367099e+04            4.500000e+04  \n95%                        2.809000e+04            8.000000e+04  \n99%                        1.226284e+05            3.382241e+05  \nmax                        2.033899e+07            1.663614e+08  ",
      "text/html": "<div>\n<style scoped>\n    .dataframe tbody tr th:only-of-type {\n        vertical-align: middle;\n    }\n\n    .dataframe tbody tr th {\n        vertical-align: top;\n    }\n\n    .dataframe thead th {\n        text-align: right;\n    }\n</style>\n<table border=\"1\" class=\"dataframe\">\n  <thead>\n    <tr style=\"text-align: right;\">\n      <th></th>\n      <th>ID</th>\n      <th>goal</th>\n      <th>pledged</th>\n      <th>backers</th>\n      <th>usd pledged</th>\n      <th>usd_pledged_realised at deadline</th>\n      <th>usd_goal_real_at_start</th>\n    </tr>\n  </thead>\n  <tbody>\n    <tr>\n      <th>count</th>\n      <td>3.786610e+05</td>\n      <td>3.786610e+05</td>\n      <td>3.786610e+05</td>\n      <td>378661.000000</td>\n      <td>3.748640e+05</td>\n      <td>3.786610e+05</td>\n      <td>3.786610e+05</td>\n    </tr>\n    <tr>\n      <th>mean</th>\n      <td>1.074731e+09</td>\n      <td>4.908079e+04</td>\n      <td>9.682979e+03</td>\n      <td>105.617476</td>\n      <td>7.036729e+03</td>\n      <td>9.058924e+03</td>\n      <td>4.545440e+04</td>\n    </tr>\n    <tr>\n      <th>std</th>\n      <td>6.190862e+08</td>\n      <td>1.183391e+06</td>\n      <td>9.563601e+04</td>\n      <td>907.185035</td>\n      <td>7.863975e+04</td>\n      <td>9.097334e+04</td>\n      <td>1.152950e+06</td>\n    </tr>\n    <tr>\n      <th>min</th>\n      <td>5.971000e+03</td>\n      <td>1.000000e-02</td>\n      <td>0.000000e+00</td>\n      <td>0.000000</td>\n      <td>0.000000e+00</td>\n      <td>0.000000e+00</td>\n      <td>1.000000e-02</td>\n    </tr>\n    <tr>\n      <th>10%</th>\n      <td>2.164103e+08</td>\n      <td>6.750000e+02</td>\n      <td>0.000000e+00</td>\n      <td>0.000000</td>\n      <td>0.000000e+00</td>\n      <td>0.000000e+00</td>\n      <td>7.000000e+02</td>\n    </tr>\n    <tr>\n      <th>20%</th>\n      <td>4.312514e+08</td>\n      <td>1.500000e+03</td>\n      <td>1.000000e+01</td>\n      <td>1.000000</td>\n      <td>1.410000e+00</td>\n      <td>1.023000e+01</td>\n      <td>1.500000e+03</td>\n    </tr>\n    <tr>\n      <th>50%</th>\n      <td>1.075276e+09</td>\n      <td>5.200000e+03</td>\n      <td>6.200000e+02</td>\n      <td>12.000000</td>\n      <td>3.947200e+02</td>\n      <td>6.243300e+02</td>\n      <td>5.500000e+03</td>\n    </tr>\n    <tr>\n      <th>60%</th>\n      <td>1.290010e+09</td>\n      <td>9.000000e+03</td>\n      <td>1.411010e+03</td>\n      <td>23.000000</td>\n      <td>9.580000e+02</td>\n      <td>1.415000e+03</td>\n      <td>8.560180e+03</td>\n    </tr>\n    <tr>\n      <th>70%</th>\n      <td>1.502856e+09</td>\n      <td>1.250000e+04</td>\n      <td>2.925000e+03</td>\n      <td>42.000000</td>\n      <td>2.085000e+03</td>\n      <td>2.909000e+03</td>\n      <td>1.242221e+04</td>\n    </tr>\n    <tr>\n      <th>80%</th>\n      <td>1.716708e+09</td>\n      <td>2.080000e+04</td>\n      <td>5.729000e+03</td>\n      <td>76.000000</td>\n      <td>4.422754e+03</td>\n      <td>5.665220e+03</td>\n      <td>2.000000e+04</td>\n    </tr>\n    <tr>\n      <th>90%</th>\n      <td>1.932083e+09</td>\n      <td>5.000000e+04</td>\n      <td>1.414126e+04</td>\n      <td>166.000000</td>\n      <td>1.085970e+04</td>\n      <td>1.367099e+04</td>\n      <td>4.500000e+04</td>\n    </tr>\n    <tr>\n      <th>95%</th>\n      <td>2.039733e+09</td>\n      <td>9.000000e+04</td>\n      <td>2.958100e+04</td>\n      <td>334.000000</td>\n      <td>2.243285e+04</td>\n      <td>2.809000e+04</td>\n      <td>8.000000e+04</td>\n    </tr>\n    <tr>\n      <th>99%</th>\n      <td>2.125552e+09</td>\n      <td>4.000000e+05</td>\n      <td>1.348307e+05</td>\n      <td>1506.000000</td>\n      <td>9.624458e+04</td>\n      <td>1.226284e+05</td>\n      <td>3.382241e+05</td>\n    </tr>\n    <tr>\n      <th>max</th>\n      <td>2.147476e+09</td>\n      <td>1.000000e+08</td>\n      <td>2.033899e+07</td>\n      <td>219382.000000</td>\n      <td>2.033899e+07</td>\n      <td>2.033899e+07</td>\n      <td>1.663614e+08</td>\n    </tr>\n  </tbody>\n</table>\n</div>"
     },
     "execution_count": 638,
     "metadata": {},
     "output_type": "execute_result"
    }
   ]
  },
  {
   "cell_type": "code",
   "source": [
    "# Only categorical features\n",
    "df.describe(include=['O'])"
   ],
   "metadata": {
    "collapsed": false,
    "jupyter": {
     "outputs_hidden": false
    },
    "execution": {
     "iopub.status.busy": "2022-11-10T09:49:04.841147Z",
     "iopub.execute_input": "2022-11-10T09:49:04.841672Z",
     "iopub.status.idle": "2022-11-10T09:49:05.790270Z",
     "shell.execute_reply.started": "2022-11-10T09:49:04.841623Z",
     "shell.execute_reply": "2022-11-10T09:49:05.789195Z"
    },
    "trusted": true
   },
   "execution_count": 639,
   "outputs": [
    {
     "data": {
      "text/plain": "          name        category main_category currency    deadline  \\\ncount   378657          378661        378661   378661      378661   \nunique  375722             159            15       14        3164   \ntop     #NAME?  Product Design  Film & Video      USD  08/08/2014   \nfreq        43           22314         63585   295365         705   \n\n                launched   state country  \ncount             378661  378661  378661  \nunique            347035       6      23  \ntop     20/06/2017 16:00  failed      US  \nfreq                  15  197719  292627  ",
      "text/html": "<div>\n<style scoped>\n    .dataframe tbody tr th:only-of-type {\n        vertical-align: middle;\n    }\n\n    .dataframe tbody tr th {\n        vertical-align: top;\n    }\n\n    .dataframe thead th {\n        text-align: right;\n    }\n</style>\n<table border=\"1\" class=\"dataframe\">\n  <thead>\n    <tr style=\"text-align: right;\">\n      <th></th>\n      <th>name</th>\n      <th>category</th>\n      <th>main_category</th>\n      <th>currency</th>\n      <th>deadline</th>\n      <th>launched</th>\n      <th>state</th>\n      <th>country</th>\n    </tr>\n  </thead>\n  <tbody>\n    <tr>\n      <th>count</th>\n      <td>378657</td>\n      <td>378661</td>\n      <td>378661</td>\n      <td>378661</td>\n      <td>378661</td>\n      <td>378661</td>\n      <td>378661</td>\n      <td>378661</td>\n    </tr>\n    <tr>\n      <th>unique</th>\n      <td>375722</td>\n      <td>159</td>\n      <td>15</td>\n      <td>14</td>\n      <td>3164</td>\n      <td>347035</td>\n      <td>6</td>\n      <td>23</td>\n    </tr>\n    <tr>\n      <th>top</th>\n      <td>#NAME?</td>\n      <td>Product Design</td>\n      <td>Film &amp; Video</td>\n      <td>USD</td>\n      <td>08/08/2014</td>\n      <td>20/06/2017 16:00</td>\n      <td>failed</td>\n      <td>US</td>\n    </tr>\n    <tr>\n      <th>freq</th>\n      <td>43</td>\n      <td>22314</td>\n      <td>63585</td>\n      <td>295365</td>\n      <td>705</td>\n      <td>15</td>\n      <td>197719</td>\n      <td>292627</td>\n    </tr>\n  </tbody>\n</table>\n</div>"
     },
     "execution_count": 639,
     "metadata": {},
     "output_type": "execute_result"
    }
   ]
  },
  {
   "cell_type": "markdown",
   "source": [
    "# Correlation"
   ],
   "metadata": {}
  },
  {
   "cell_type": "code",
   "source": [
    "df[['main_category', 'usd pledged']].groupby(['main_category'], as_index=False).mean().sort_values(by='usd pledged',\n",
    "                                                                                                   ascending=False)"
   ],
   "metadata": {
    "collapsed": false,
    "jupyter": {
     "outputs_hidden": false
    },
    "execution": {
     "iopub.status.busy": "2022-11-10T09:49:05.795085Z",
     "iopub.execute_input": "2022-11-10T09:49:05.795509Z",
     "iopub.status.idle": "2022-11-10T09:49:05.853192Z",
     "shell.execute_reply.started": "2022-11-10T09:49:05.795476Z",
     "shell.execute_reply": "2022-11-10T09:49:05.852247Z"
    },
    "trusted": true
   },
   "execution_count": 640,
   "outputs": [
    {
     "data": {
      "text/plain": "   main_category   usd pledged\n4         Design  17033.026574\n8          Games  16306.194882\n13    Technology  15457.306964\n6   Film & Video   5532.577810\n1         Comics   5344.016859\n5        Fashion   4279.731233\n7           Food   4209.934253\n14       Theater   3554.355087\n10         Music   3356.870405\n3          Dance   2962.990149\n11   Photography   2799.380219\n12    Publishing   2633.735852\n0            Art   2534.057110\n9     Journalism   2156.545440\n2         Crafts   1179.190619",
      "text/html": "<div>\n<style scoped>\n    .dataframe tbody tr th:only-of-type {\n        vertical-align: middle;\n    }\n\n    .dataframe tbody tr th {\n        vertical-align: top;\n    }\n\n    .dataframe thead th {\n        text-align: right;\n    }\n</style>\n<table border=\"1\" class=\"dataframe\">\n  <thead>\n    <tr style=\"text-align: right;\">\n      <th></th>\n      <th>main_category</th>\n      <th>usd pledged</th>\n    </tr>\n  </thead>\n  <tbody>\n    <tr>\n      <th>4</th>\n      <td>Design</td>\n      <td>17033.026574</td>\n    </tr>\n    <tr>\n      <th>8</th>\n      <td>Games</td>\n      <td>16306.194882</td>\n    </tr>\n    <tr>\n      <th>13</th>\n      <td>Technology</td>\n      <td>15457.306964</td>\n    </tr>\n    <tr>\n      <th>6</th>\n      <td>Film &amp; Video</td>\n      <td>5532.577810</td>\n    </tr>\n    <tr>\n      <th>1</th>\n      <td>Comics</td>\n      <td>5344.016859</td>\n    </tr>\n    <tr>\n      <th>5</th>\n      <td>Fashion</td>\n      <td>4279.731233</td>\n    </tr>\n    <tr>\n      <th>7</th>\n      <td>Food</td>\n      <td>4209.934253</td>\n    </tr>\n    <tr>\n      <th>14</th>\n      <td>Theater</td>\n      <td>3554.355087</td>\n    </tr>\n    <tr>\n      <th>10</th>\n      <td>Music</td>\n      <td>3356.870405</td>\n    </tr>\n    <tr>\n      <th>3</th>\n      <td>Dance</td>\n      <td>2962.990149</td>\n    </tr>\n    <tr>\n      <th>11</th>\n      <td>Photography</td>\n      <td>2799.380219</td>\n    </tr>\n    <tr>\n      <th>12</th>\n      <td>Publishing</td>\n      <td>2633.735852</td>\n    </tr>\n    <tr>\n      <th>0</th>\n      <td>Art</td>\n      <td>2534.057110</td>\n    </tr>\n    <tr>\n      <th>9</th>\n      <td>Journalism</td>\n      <td>2156.545440</td>\n    </tr>\n    <tr>\n      <th>2</th>\n      <td>Crafts</td>\n      <td>1179.190619</td>\n    </tr>\n  </tbody>\n</table>\n</div>"
     },
     "execution_count": 640,
     "metadata": {},
     "output_type": "execute_result"
    }
   ]
  },
  {
   "cell_type": "code",
   "source": [
    "df[['main_category', 'usd_goal_real_at_start']].groupby(['main_category'], as_index=False).mean().sort_values(\n",
    "    by='usd_goal_real_at_start', ascending=False)"
   ],
   "metadata": {
    "collapsed": false,
    "jupyter": {
     "outputs_hidden": false
    },
    "execution": {
     "iopub.status.busy": "2022-11-10T09:49:05.854453Z",
     "iopub.execute_input": "2022-11-10T09:49:05.854874Z",
     "iopub.status.idle": "2022-11-10T09:49:05.912478Z",
     "shell.execute_reply.started": "2022-11-10T09:49:05.854844Z",
     "shell.execute_reply": "2022-11-10T09:49:05.911366Z"
    },
    "trusted": true
   },
   "execution_count": 641,
   "outputs": [
    {
     "data": {
      "text/plain": "   main_category  usd_goal_real_at_start\n13    Technology           102288.542838\n9     Journalism            86003.395014\n6   Film & Video            82625.292253\n7           Food            49039.620802\n8          Games            44923.741408\n4         Design            41871.388591\n0            Art            39198.575879\n14       Theater            27088.321275\n12    Publishing            24798.240254\n5        Fashion            22412.409361\n1         Comics            19571.430669\n10         Music            15372.161844\n11   Photography            12266.843699\n2         Crafts            10434.466228\n3          Dance             9588.328548",
      "text/html": "<div>\n<style scoped>\n    .dataframe tbody tr th:only-of-type {\n        vertical-align: middle;\n    }\n\n    .dataframe tbody tr th {\n        vertical-align: top;\n    }\n\n    .dataframe thead th {\n        text-align: right;\n    }\n</style>\n<table border=\"1\" class=\"dataframe\">\n  <thead>\n    <tr style=\"text-align: right;\">\n      <th></th>\n      <th>main_category</th>\n      <th>usd_goal_real_at_start</th>\n    </tr>\n  </thead>\n  <tbody>\n    <tr>\n      <th>13</th>\n      <td>Technology</td>\n      <td>102288.542838</td>\n    </tr>\n    <tr>\n      <th>9</th>\n      <td>Journalism</td>\n      <td>86003.395014</td>\n    </tr>\n    <tr>\n      <th>6</th>\n      <td>Film &amp; Video</td>\n      <td>82625.292253</td>\n    </tr>\n    <tr>\n      <th>7</th>\n      <td>Food</td>\n      <td>49039.620802</td>\n    </tr>\n    <tr>\n      <th>8</th>\n      <td>Games</td>\n      <td>44923.741408</td>\n    </tr>\n    <tr>\n      <th>4</th>\n      <td>Design</td>\n      <td>41871.388591</td>\n    </tr>\n    <tr>\n      <th>0</th>\n      <td>Art</td>\n      <td>39198.575879</td>\n    </tr>\n    <tr>\n      <th>14</th>\n      <td>Theater</td>\n      <td>27088.321275</td>\n    </tr>\n    <tr>\n      <th>12</th>\n      <td>Publishing</td>\n      <td>24798.240254</td>\n    </tr>\n    <tr>\n      <th>5</th>\n      <td>Fashion</td>\n      <td>22412.409361</td>\n    </tr>\n    <tr>\n      <th>1</th>\n      <td>Comics</td>\n      <td>19571.430669</td>\n    </tr>\n    <tr>\n      <th>10</th>\n      <td>Music</td>\n      <td>15372.161844</td>\n    </tr>\n    <tr>\n      <th>11</th>\n      <td>Photography</td>\n      <td>12266.843699</td>\n    </tr>\n    <tr>\n      <th>2</th>\n      <td>Crafts</td>\n      <td>10434.466228</td>\n    </tr>\n    <tr>\n      <th>3</th>\n      <td>Dance</td>\n      <td>9588.328548</td>\n    </tr>\n  </tbody>\n</table>\n</div>"
     },
     "execution_count": 641,
     "metadata": {},
     "output_type": "execute_result"
    }
   ]
  },
  {
   "cell_type": "markdown",
   "source": [
    "# Visualizing data"
   ],
   "metadata": {}
  },
  {
   "cell_type": "markdown",
   "source": [
    "# Overview of our target feature"
   ],
   "metadata": {}
  },
  {
   "cell_type": "code",
   "source": [
    "fig = plt.figure(figsize=(28, 6))\n",
    "state_value_counts = df['state'].value_counts()\n",
    "x = np.char.array([str(i) for i in state_value_counts.index])\n",
    "y = np.array(state_value_counts.values)\n",
    "colors = ['yellowgreen', 'red', 'gold', 'lightskyblue', 'magenta', 'lightcoral', 'blue', 'pink', 'darkgreen', 'yellow',\n",
    "          'grey', 'violet', 'white', 'cyan'][:len(state_value_counts.index)]\n",
    "explode = [0.05] * len(state_value_counts.index)\n",
    "porcent = 100. * y / y.sum()\n",
    "\n",
    "patches, texts = plt.pie(y, colors=colors, startangle=90, radius=1.2, shadow=True,\n",
    "                         wedgeprops={'linewidth': 1, 'linestyle': 'solid', 'antialiased': True}, explode=explode)\n",
    "labels = ['{0} - {1:1.2f} %'.format(i, j) for i, j in zip(x, porcent)]\n",
    "\n",
    "sort_legend = True\n",
    "if sort_legend:\n",
    "    patches, labels, dummy = zip(*sorted(zip(patches, labels, y),\n",
    "                                         key=lambda x: x[2],\n",
    "                                         reverse=True))\n",
    "\n",
    "plt.legend(patches, labels, loc='center left', bbox_to_anchor=(-0.5, 1.),\n",
    "           fontsize=12)\n",
    "\n",
    "plt.show()\n",
    "\n",
    "# Unbalance data"
   ],
   "metadata": {
    "collapsed": false,
    "jupyter": {
     "outputs_hidden": false
    },
    "execution": {
     "iopub.status.busy": "2022-11-10T09:49:05.914616Z",
     "iopub.execute_input": "2022-11-10T09:49:05.914942Z",
     "iopub.status.idle": "2022-11-10T09:49:06.163252Z",
     "shell.execute_reply.started": "2022-11-10T09:49:05.914912Z",
     "shell.execute_reply": "2022-11-10T09:49:06.160965Z"
    },
    "trusted": true
   },
   "execution_count": 642,
   "outputs": [
    {
     "data": {
      "text/plain": "<Figure size 2800x600 with 1 Axes>",
      "image/png": "[encoded data removed]"
     },
     "metadata": {},
     "output_type": "display_data"
    }
   ]
  },
  {
   "cell_type": "markdown",
   "source": [
    "# Drop state `undefined` and `live`\n",
    "\n",
    "* `undefined`: means that the state is unknown and should be dropped.\n",
    "* `live`: on-going project."
   ],
   "metadata": {}
  },
  {
   "cell_type": "code",
   "source": [
    "df = df[df['state'] != \"undefined\"]\n",
    "df = df[df['state'] != \"live\"]\n",
    "df.head()"
   ],
   "metadata": {
    "collapsed": false,
    "jupyter": {
     "outputs_hidden": false
    },
    "execution": {
     "iopub.status.busy": "2022-11-10T09:49:06.167533Z",
     "iopub.execute_input": "2022-11-10T09:49:06.169593Z",
     "iopub.status.idle": "2022-11-10T09:49:06.374264Z",
     "shell.execute_reply.started": "2022-11-10T09:49:06.169483Z",
     "shell.execute_reply": "2022-11-10T09:49:06.373194Z"
    },
    "trusted": true
   },
   "execution_count": 643,
   "outputs": [
    {
     "data": {
      "text/plain": "           ID                                                        name  \\\n0  1000002330                             The Songs of Adelaide & Abullah   \n1  1000003930               Greeting From Earth: ZGAC Arts Capsule For ET   \n2  1000004038                                              Where is Hank?   \n3  1000007540           ToshiCapital Rekordz Needs Help to Complete Album   \n4  1000011046  Community Film Project: The Art of Neighborhood Filmmaking   \n\n         category main_category currency    deadline     goal  \\\n0          Poetry    Publishing      GBP  09/10/2015   1000.0   \n1  Narrative Film  Film & Video      USD  01/11/2017  30000.0   \n2  Narrative Film  Film & Video      USD  26/02/2013  45000.0   \n3           Music         Music      USD  16/04/2012   5000.0   \n4    Film & Video  Film & Video      USD  29/08/2015  19500.0   \n\n           launched  pledged     state  backers country  usd pledged  \\\n0  11/08/2015 12:12      0.0    failed        0      GB          0.0   \n1  02/09/2017 04:43   2421.0    failed       15      US        100.0   \n2  12/01/2013 00:20    220.0    failed        3      US        220.0   \n3  17/03/2012 03:24      1.0    failed        1      US          1.0   \n4  04/07/2015 08:35   1283.0  canceled       14      US       1283.0   \n\n   usd_pledged_realised at deadline  usd_goal_real_at_start  \n0                               0.0                 1533.95  \n1                            2421.0                30000.00  \n2                             220.0                45000.00  \n3                               1.0                 5000.00  \n4                            1283.0                19500.00  ",
      "text/html": "<div>\n<style scoped>\n    .dataframe tbody tr th:only-of-type {\n        vertical-align: middle;\n    }\n\n    .dataframe tbody tr th {\n        vertical-align: top;\n    }\n\n    .dataframe thead th {\n        text-align: right;\n    }\n</style>\n<table border=\"1\" class=\"dataframe\">\n  <thead>\n    <tr style=\"text-align: right;\">\n      <th></th>\n      <th>ID</th>\n      <th>name</th>\n      <th>category</th>\n      <th>main_category</th>\n      <th>currency</th>\n      <th>deadline</th>\n      <th>goal</th>\n      <th>launched</th>\n      <th>pledged</th>\n      <th>state</th>\n      <th>backers</th>\n      <th>country</th>\n      <th>usd pledged</th>\n      <th>usd_pledged_realised at deadline</th>\n      <th>usd_goal_real_at_start</th>\n    </tr>\n  </thead>\n  <tbody>\n    <tr>\n      <th>0</th>\n      <td>1000002330</td>\n      <td>The Songs of Adelaide &amp; Abullah</td>\n      <td>Poetry</td>\n      <td>Publishing</td>\n      <td>GBP</td>\n      <td>09/10/2015</td>\n      <td>1000.0</td>\n      <td>11/08/2015 12:12</td>\n      <td>0.0</td>\n      <td>failed</td>\n      <td>0</td>\n      <td>GB</td>\n      <td>0.0</td>\n      <td>0.0</td>\n      <td>1533.95</td>\n    </tr>\n    <tr>\n      <th>1</th>\n      <td>1000003930</td>\n      <td>Greeting From Earth: ZGAC Arts Capsule For ET</td>\n      <td>Narrative Film</td>\n      <td>Film &amp; Video</td>\n      <td>USD</td>\n      <td>01/11/2017</td>\n      <td>30000.0</td>\n      <td>02/09/2017 04:43</td>\n      <td>2421.0</td>\n      <td>failed</td>\n      <td>15</td>\n      <td>US</td>\n      <td>100.0</td>\n      <td>2421.0</td>\n      <td>30000.00</td>\n    </tr>\n    <tr>\n      <th>2</th>\n      <td>1000004038</td>\n      <td>Where is Hank?</td>\n      <td>Narrative Film</td>\n      <td>Film &amp; Video</td>\n      <td>USD</td>\n      <td>26/02/2013</td>\n      <td>45000.0</td>\n      <td>12/01/2013 00:20</td>\n      <td>220.0</td>\n      <td>failed</td>\n      <td>3</td>\n      <td>US</td>\n      <td>220.0</td>\n      <td>220.0</td>\n      <td>45000.00</td>\n    </tr>\n    <tr>\n      <th>3</th>\n      <td>1000007540</td>\n      <td>ToshiCapital Rekordz Needs Help to Complete Album</td>\n      <td>Music</td>\n      <td>Music</td>\n      <td>USD</td>\n      <td>16/04/2012</td>\n      <td>5000.0</td>\n      <td>17/03/2012 03:24</td>\n      <td>1.0</td>\n      <td>failed</td>\n      <td>1</td>\n      <td>US</td>\n      <td>1.0</td>\n      <td>1.0</td>\n      <td>5000.00</td>\n    </tr>\n    <tr>\n      <th>4</th>\n      <td>1000011046</td>\n      <td>Community Film Project: The Art of Neighborhood Filmmaking</td>\n      <td>Film &amp; Video</td>\n      <td>Film &amp; Video</td>\n      <td>USD</td>\n      <td>29/08/2015</td>\n      <td>19500.0</td>\n      <td>04/07/2015 08:35</td>\n      <td>1283.0</td>\n      <td>canceled</td>\n      <td>14</td>\n      <td>US</td>\n      <td>1283.0</td>\n      <td>1283.0</td>\n      <td>19500.00</td>\n    </tr>\n  </tbody>\n</table>\n</div>"
     },
     "execution_count": 643,
     "metadata": {},
     "output_type": "execute_result"
    }
   ]
  },
  {
   "cell_type": "code",
   "source": [
    "fig = plt.figure(figsize=(28, 6))\n",
    "state_value_counts = df['state'].value_counts()\n",
    "x = np.char.array([str(i) for i in state_value_counts.index])\n",
    "y = np.array(state_value_counts.values)\n",
    "colors = ['yellowgreen', 'red', 'gold', 'lightskyblue', 'magenta', 'lightcoral', 'blue', 'pink', 'darkgreen', 'yellow',\n",
    "          'grey', 'violet', 'white', 'cyan'][:len(state_value_counts.index)]\n",
    "explode = [0.05] * len(state_value_counts.index)\n",
    "porcent = 100. * y / y.sum()\n",
    "\n",
    "patches, texts = plt.pie(y, colors=colors, startangle=90, radius=1.2, shadow=True,\n",
    "                         wedgeprops={'linewidth': 1, 'linestyle': 'solid', 'antialiased': True}, explode=explode)\n",
    "labels = ['{0} - {1:1.2f} %'.format(i, j) for i, j in zip(x, porcent)]\n",
    "\n",
    "sort_legend = True\n",
    "if sort_legend:\n",
    "    patches, labels, dummy = zip(*sorted(zip(patches, labels, y),\n",
    "                                         key=lambda x: x[2],\n",
    "                                         reverse=True))\n",
    "\n",
    "plt.legend(patches, labels, loc='center left', bbox_to_anchor=(-0.5, 1.),\n",
    "           fontsize=12)\n",
    "\n",
    "plt.show()\n",
    "\n",
    "# Unbalance data"
   ],
   "metadata": {
    "collapsed": false,
    "jupyter": {
     "outputs_hidden": false
    },
    "execution": {
     "iopub.status.busy": "2022-11-10T09:49:06.375535Z",
     "iopub.execute_input": "2022-11-10T09:49:06.375898Z",
     "iopub.status.idle": "2022-11-10T09:49:06.585180Z",
     "shell.execute_reply.started": "2022-11-10T09:49:06.375865Z",
     "shell.execute_reply": "2022-11-10T09:49:06.583673Z"
    },
    "trusted": true,
    "pycharm": {
     "is_executing": true
    }
   },
   "execution_count": null,
   "outputs": []
  },
  {
   "cell_type": "markdown",
   "source": [
    "# Firstly we take a look at `goal` and `pledged`\n",
    "\n",
    "Here `goal` and `pledged` are unconverted value (i.e. in their own currency)"
   ],
   "metadata": {}
  },
  {
   "cell_type": "code",
   "source": [
    "fig = plt.figure(figsize=(28, 6))\n",
    "\n",
    "ax = fig.add_subplot(121)\n",
    "sns.lineplot(x='state', y='goal', data=df, ax=ax)\n",
    "\n",
    "ax = fig.add_subplot(122)\n",
    "sns.lineplot(x='state', y='pledged', data=df, ax=ax)\n"
   ],
   "metadata": {
    "collapsed": false,
    "jupyter": {
     "outputs_hidden": false
    },
    "execution": {
     "iopub.status.busy": "2022-11-10T09:49:06.587235Z",
     "iopub.execute_input": "2022-11-10T09:49:06.588081Z",
     "iopub.status.idle": "2022-11-10T09:49:16.762390Z",
     "shell.execute_reply.started": "2022-11-10T09:49:06.588018Z",
     "shell.execute_reply": "2022-11-10T09:49:16.761186Z"
    },
    "trusted": true,
    "pycharm": {
     "is_executing": true
    }
   },
   "execution_count": null,
   "outputs": []
  },
  {
   "cell_type": "markdown",
   "source": [
    "# From the graph we know that...\n",
    "\n",
    "Here, we know that the goal of a kickstarter project is really high. Then, this project might be **suspended**.\n",
    "So `goal` column is a good descriptive feature for us to determine whether a project will get **suspend** or not."
   ],
   "metadata": {}
  },
  {
   "cell_type": "markdown",
   "source": [
    "# What if we convert this to USD ?\n",
    "\n",
    " I found the following information from the Internet.\n",
    "\n",
    "* `usd_goal_real_at_start`: conversion in US dollars of the goal column (conversion from Fixer.io API).\n",
    "* `usd pledged`: conversion in US dollars of the pledged column (conversion done by kickstarter).\n",
    "* `usd_pledged_realised at deadline`: conversion in US dollars of the pledged column (conversion from Fixer.io API).\n"
   ],
   "metadata": {}
  },
  {
   "cell_type": "code",
   "source": [
    "fig = plt.figure(figsize=(28, 6))\n",
    "\n",
    "ax = fig.add_subplot(131)\n",
    "sns.lineplot(x='state', y='usd_goal_real_at_start', data=df, ax=ax)  # Converted by third-party API (goal)\n",
    "\n",
    "ax = fig.add_subplot(132)\n",
    "sns.lineplot(x='state', y='usd pledged', data=df, ax=ax)  # Converted by kickstarter (pledged)\n",
    "\n",
    "ax = fig.add_subplot(133)\n",
    "sns.lineplot(x='state', y='usd_pledged_realised at deadline', data=df, ax=ax)  #  Converted by third-party API (pledged)"
   ],
   "metadata": {
    "collapsed": false,
    "jupyter": {
     "outputs_hidden": false
    },
    "execution": {
     "iopub.status.busy": "2022-11-10T09:49:16.764087Z",
     "iopub.execute_input": "2022-11-10T09:49:16.765037Z",
     "iopub.status.idle": "2022-11-10T09:49:32.461756Z",
     "shell.execute_reply.started": "2022-11-10T09:49:16.764998Z",
     "shell.execute_reply": "2022-11-10T09:49:32.460522Z"
    },
    "trusted": true,
    "pycharm": {
     "is_executing": true
    }
   },
   "execution_count": null,
   "outputs": []
  },
  {
   "cell_type": "markdown",
   "source": [
    "# Why dose this dataset contains both third-party API converted pledged value and kickstarter Converted?\n",
    "We need to take a look at the value between:\n",
    "* `pledged` (unconverted pledged value)\n",
    "* `usd pledged` (pledged value converted by kickstarter)\n",
    "* `usd_pledged_realised at deadline` (pledged value by third-party API)"
   ],
   "metadata": {}
  },
  {
   "cell_type": "code",
   "source": [
    "fig = plt.figure(figsize=(28, 6))\n",
    "\n",
    "ax = fig.add_subplot(131)\n",
    "sns.lineplot(x='state', y='pledged', data=df, ax=ax)  # Converted by third-party API (goal)\n",
    "\n",
    "ax = fig.add_subplot(132)\n",
    "sns.lineplot(x='state', y='usd pledged', data=df, ax=ax)  # Converted by kickstarter (pledged)\n",
    "\n",
    "ax = fig.add_subplot(133)\n",
    "sns.lineplot(x='state', y='usd_pledged_realised at deadline', data=df, ax=ax)  #  Converted by third-party API (pledged)"
   ],
   "metadata": {
    "collapsed": false,
    "jupyter": {
     "outputs_hidden": false
    },
    "execution": {
     "iopub.status.busy": "2022-11-10T09:49:32.463647Z",
     "iopub.execute_input": "2022-11-10T09:49:32.464022Z",
     "iopub.status.idle": "2022-11-10T09:49:47.852733Z",
     "shell.execute_reply.started": "2022-11-10T09:49:32.463979Z",
     "shell.execute_reply": "2022-11-10T09:49:47.851884Z"
    },
    "trusted": true,
    "pycharm": {
     "is_executing": true
    }
   },
   "execution_count": null,
   "outputs": []
  },
  {
   "cell_type": "markdown",
   "source": [
    "# From the figure we can know that...\n",
    "\n",
    "* The characteristic of `pledged` and `usd_pledged_realised at deadline` are quite similar\n",
    "* However, the figure of `usd pledged` is **significantly** different from these two figures\n",
    "\n",
    "We need to take some sample to find out why this is the case."
   ],
   "metadata": {}
  },
  {
   "cell_type": "code",
   "source": [
    "df.head(10)  # Take head 10 sample"
   ],
   "metadata": {
    "collapsed": false,
    "jupyter": {
     "outputs_hidden": false
    },
    "execution": {
     "iopub.status.busy": "2022-11-10T09:49:47.853899Z",
     "iopub.execute_input": "2022-11-10T09:49:47.854919Z",
     "iopub.status.idle": "2022-11-10T09:49:47.879250Z",
     "shell.execute_reply.started": "2022-11-10T09:49:47.854870Z",
     "shell.execute_reply": "2022-11-10T09:49:47.878304Z"
    },
    "trusted": true,
    "pycharm": {
     "is_executing": true
    }
   },
   "execution_count": null,
   "outputs": []
  },
  {
   "cell_type": "markdown",
   "source": [
    "# Let's take 1000003930 (ID) as an example"
   ],
   "metadata": {}
  },
  {
   "cell_type": "code",
   "source": [
    "print(f\"The 'currency'                         of this project: {df[df['ID'] == 1000003930]['currency'][1]}\")\n",
    "print(f\"The 'pledged'                          of this project: {df[df['ID'] == 1000003930]['pledged'][1]}\")\n",
    "print(f\"The 'usd pledged'                      of this project: {df[df['ID'] == 1000003930]['usd pledged'][1]}\")\n",
    "print(\n",
    "    f\"The 'usd_pledged_realised at deadline' of this project: {df[df['ID'] == 1000003930]['usd_pledged_realised at deadline'][1]}\")"
   ],
   "metadata": {
    "collapsed": false,
    "jupyter": {
     "outputs_hidden": false
    },
    "execution": {
     "iopub.status.busy": "2022-11-10T09:49:47.880436Z",
     "iopub.execute_input": "2022-11-10T09:49:47.881366Z",
     "iopub.status.idle": "2022-11-10T09:49:47.895371Z",
     "shell.execute_reply.started": "2022-11-10T09:49:47.881332Z",
     "shell.execute_reply": "2022-11-10T09:49:47.894462Z"
    },
    "trusted": true,
    "pycharm": {
     "is_executing": true
    }
   },
   "execution_count": null,
   "outputs": []
  },
  {
   "cell_type": "markdown",
   "source": [
    "# Here we found a problem...\n",
    "\n",
    "Here the `currency` of this project is \"USD\", so the value in column `pledged` is \"USD\", after conversion, the value should not be changed.\n",
    "\n",
    "However, in the `usd pledge` column, this value got be changed to 100.0, which is incorrect.\n",
    "\n",
    "The value of `usd_pledged_realised at deadline` is the equal to `pledged`, which is right.\n",
    "\n",
    "## So...How many lines contain error like this?\n",
    "\n",
    "Let's try \"USD\" and find out!"
   ],
   "metadata": {}
  },
  {
   "cell_type": "code",
   "source": [
    "print(f\"\\tTotal projects using USD :                                  {len(df[(df['currency'] == 'USD')])}\")\n",
    "print(\"For the projects using USD as their currency:\")\n",
    "print(\n",
    "    f\"\\t'pledged' equal to 'usd pledged' :                          {len(df[(df['currency'] == 'USD') & (df['pledged'] == df['usd pledged'])])}\")\n",
    "print(\n",
    "    f\"\\t'pledged' not equal to 'usd pledged' :                      {len(df[(df['currency'] == 'USD') & (df['pledged'] != df['usd pledged'])])}\")\n",
    "print(\n",
    "    f\"\\t'pledged' equal to 'usd_pledged_realised at deadline' :     {len(df[(df['currency'] == 'USD') & (df['pledged'] == df['usd_pledged_realised at deadline'])])}\")\n",
    "print(\n",
    "    f\"\\t'pledged' not equal to 'usd_pledged_realised at deadline' : {len(df[(df['currency'] == 'USD') & (df['pledged'] != df['usd_pledged_realised at deadline'])])}\")"
   ],
   "metadata": {
    "collapsed": false,
    "jupyter": {
     "outputs_hidden": false
    },
    "execution": {
     "iopub.status.busy": "2022-11-10T09:49:47.896717Z",
     "iopub.execute_input": "2022-11-10T09:49:47.897621Z",
     "iopub.status.idle": "2022-11-10T09:49:48.208063Z",
     "shell.execute_reply.started": "2022-11-10T09:49:47.897588Z",
     "shell.execute_reply": "2022-11-10T09:49:48.206917Z"
    },
    "trusted": true,
    "pycharm": {
     "is_executing": true
    }
   },
   "execution_count": null,
   "outputs": []
  },
  {
   "cell_type": "markdown",
   "source": [
    "# So, `usd pledged` is wrong for at least 46581 kickstarter projects!\n",
    "\n",
    "However, `usd_pledged_realised at deadline` is right.\n",
    "\n",
    "Which means `usd pledged` should be **dropped**."
   ],
   "metadata": {}
  },
  {
   "cell_type": "code",
   "source": [
    "df.drop(['usd pledged'], inplace=True, axis=1)"
   ],
   "metadata": {
    "collapsed": false,
    "jupyter": {
     "outputs_hidden": false
    },
    "execution": {
     "iopub.status.busy": "2022-11-10T09:49:48.209943Z",
     "iopub.execute_input": "2022-11-10T09:49:48.210413Z",
     "iopub.status.idle": "2022-11-10T09:49:48.249141Z",
     "shell.execute_reply.started": "2022-11-10T09:49:48.210369Z",
     "shell.execute_reply": "2022-11-10T09:49:48.248277Z"
    },
    "trusted": true,
    "pycharm": {
     "is_executing": true
    }
   },
   "execution_count": null,
   "outputs": []
  },
  {
   "cell_type": "markdown",
   "source": [
    "# Then we take a look at number of `backers`."
   ],
   "metadata": {}
  },
  {
   "cell_type": "code",
   "source": [
    "fig = plt.figure(figsize=(28, 6))\n",
    "\n",
    "ax = fig.add_subplot(121)\n",
    "sns.lineplot(x='state', y='backers', data=df)  # Bankers\n",
    "\n",
    "ax = fig.add_subplot(122)\n",
    "sns.lineplot(x='state', y='usd_pledged_realised at deadline', data=df, ax=ax)  #  Converted by third-party API (pledged)"
   ],
   "metadata": {
    "collapsed": false,
    "jupyter": {
     "outputs_hidden": false
    },
    "execution": {
     "iopub.status.busy": "2022-11-10T09:49:48.250400Z",
     "iopub.execute_input": "2022-11-10T09:49:48.251278Z",
     "iopub.status.idle": "2022-11-10T09:49:58.812633Z",
     "shell.execute_reply.started": "2022-11-10T09:49:48.251240Z",
     "shell.execute_reply": "2022-11-10T09:49:58.811247Z"
    },
    "trusted": true,
    "pycharm": {
     "is_executing": true
    }
   },
   "execution_count": null,
   "outputs": []
  },
  {
   "cell_type": "markdown",
   "source": [
    "# From the graph we know...\n",
    "\n",
    "The overall characteristic of number of `bankers` and `usd_pledged_realised at deadline` are quite similar\n",
    "**They all reflect the probability of whether a kickstarter project belongs to which class.**"
   ],
   "metadata": {}
  },
  {
   "cell_type": "code",
   "source": [
    "sns.lineplot(x='state', y='backers', data=df)"
   ],
   "metadata": {
    "collapsed": false,
    "jupyter": {
     "outputs_hidden": false
    },
    "execution": {
     "iopub.status.busy": "2022-11-10T09:49:58.814009Z",
     "iopub.execute_input": "2022-11-10T09:49:58.814341Z",
     "iopub.status.idle": "2022-11-10T09:50:04.427665Z",
     "shell.execute_reply.started": "2022-11-10T09:49:58.814309Z",
     "shell.execute_reply": "2022-11-10T09:50:04.426531Z"
    },
    "trusted": true,
    "pycharm": {
     "is_executing": true
    }
   },
   "execution_count": null,
   "outputs": []
  },
  {
   "cell_type": "code",
   "source": [
    "fig = plt.figure(figsize=(28, 6))\n",
    "\n",
    "ax = fig.add_subplot(121)\n",
    "sns.lineplot(x='state', y='backers', data=df, ax=ax)\n",
    "\n",
    "ax = fig.add_subplot(122)\n",
    "sns.lineplot(x='state', y='usd_goal_real_at_start', data=df, ax=ax)"
   ],
   "metadata": {
    "collapsed": false,
    "jupyter": {
     "outputs_hidden": false
    },
    "execution": {
     "iopub.status.busy": "2022-11-10T09:50:04.429039Z",
     "iopub.execute_input": "2022-11-10T09:50:04.429379Z",
     "iopub.status.idle": "2022-11-10T09:50:15.091562Z",
     "shell.execute_reply.started": "2022-11-10T09:50:04.429347Z",
     "shell.execute_reply": "2022-11-10T09:50:15.090463Z"
    },
    "trusted": true,
    "pycharm": {
     "is_executing": true
    }
   },
   "execution_count": null,
   "outputs": []
  },
  {
   "cell_type": "markdown",
   "source": [
    "# Dose `category` or `main_category` have effects on the `state` of a kickstarter project?\n",
    "\n",
    "Firstly, let's check some basic information."
   ],
   "metadata": {}
  },
  {
   "cell_type": "code",
   "source": [
    "print(f\"We have {len(set(df['main_category']))} unique main_category value.\")\n",
    "print(f\"We have {len(set(df['category']))} unique category value.\")"
   ],
   "metadata": {
    "collapsed": false,
    "jupyter": {
     "outputs_hidden": false
    },
    "execution": {
     "iopub.status.busy": "2022-11-10T09:50:15.098079Z",
     "iopub.execute_input": "2022-11-10T09:50:15.098464Z",
     "iopub.status.idle": "2022-11-10T09:50:15.187361Z",
     "shell.execute_reply.started": "2022-11-10T09:50:15.098425Z",
     "shell.execute_reply": "2022-11-10T09:50:15.185851Z"
    },
    "trusted": true,
    "pycharm": {
     "is_executing": true
    }
   },
   "execution_count": null,
   "outputs": []
  },
  {
   "cell_type": "markdown",
   "source": [
    "# Firstly we take a look at main_category\n",
    "\n",
    "Data is distributed in these main categories, whereas Film & Video take a majority part in this data."
   ],
   "metadata": {}
  },
  {
   "cell_type": "code",
   "source": [
    "plt.figure(figsize=(18, 5))  #adjust the size of plot\n",
    "sns.histplot(x='main_category', data=df, bins=20, stat='count', multiple='stack')"
   ],
   "metadata": {
    "collapsed": false,
    "jupyter": {
     "outputs_hidden": false
    },
    "execution": {
     "iopub.status.busy": "2022-11-10T09:50:15.188859Z",
     "iopub.execute_input": "2022-11-10T09:50:15.189204Z",
     "iopub.status.idle": "2022-11-10T09:50:15.766815Z",
     "shell.execute_reply.started": "2022-11-10T09:50:15.189172Z",
     "shell.execute_reply": "2022-11-10T09:50:15.765449Z"
    },
    "trusted": true,
    "pycharm": {
     "is_executing": true
    }
   },
   "execution_count": null,
   "outputs": []
  },
  {
   "cell_type": "markdown",
   "source": [
    "# The `main_category` is somewhat related to the state of the kickstarter project."
   ],
   "metadata": {}
  },
  {
   "cell_type": "code",
   "source": [
    "plt.figure(figsize=(18, 5))  #adjust the size of plot\n",
    "sns.histplot(x='main_category', hue=\"state\", data=df, bins=20, stat='count', multiple='stack')"
   ],
   "metadata": {
    "collapsed": false,
    "jupyter": {
     "outputs_hidden": false
    },
    "execution": {
     "iopub.status.busy": "2022-11-10T09:50:15.768492Z",
     "iopub.execute_input": "2022-11-10T09:50:15.769156Z",
     "iopub.status.idle": "2022-11-10T09:50:16.921051Z",
     "shell.execute_reply.started": "2022-11-10T09:50:15.769110Z",
     "shell.execute_reply": "2022-11-10T09:50:16.919894Z"
    },
    "trusted": true,
    "pycharm": {
     "is_executing": true
    }
   },
   "execution_count": null,
   "outputs": []
  },
  {
   "cell_type": "markdown",
   "source": [],
   "metadata": {}
  },
  {
   "cell_type": "code",
   "source": [
    "pd.crosstab(df['main_category'], df['state']).div(pd.crosstab(df['main_category'], df['state']).sum(axis=1), axis=0)"
   ],
   "metadata": {
    "collapsed": false,
    "jupyter": {
     "outputs_hidden": false
    },
    "execution": {
     "iopub.status.busy": "2022-11-10T09:50:16.922700Z",
     "iopub.execute_input": "2022-11-10T09:50:16.923248Z",
     "iopub.status.idle": "2022-11-10T09:50:17.148016Z",
     "shell.execute_reply.started": "2022-11-10T09:50:16.923203Z",
     "shell.execute_reply": "2022-11-10T09:50:17.147161Z"
    },
    "trusted": true,
    "pycharm": {
     "is_executing": true
    }
   },
   "execution_count": null,
   "outputs": []
  },
  {
   "cell_type": "code",
   "source": [
    "g = sns.heatmap(\n",
    "    pd.crosstab(df['main_category'], df['state']).div(pd.crosstab(df['main_category'], df['state']).sum(axis=1),\n",
    "                                                      axis=0), annot=True, cmap=\"RdYlGn\")"
   ],
   "metadata": {
    "collapsed": false,
    "jupyter": {
     "outputs_hidden": false
    },
    "execution": {
     "iopub.status.busy": "2022-11-10T09:50:17.149073Z",
     "iopub.execute_input": "2022-11-10T09:50:17.149838Z",
     "iopub.status.idle": "2022-11-10T09:50:17.995400Z",
     "shell.execute_reply.started": "2022-11-10T09:50:17.149804Z",
     "shell.execute_reply": "2022-11-10T09:50:17.994658Z"
    },
    "trusted": true,
    "pycharm": {
     "is_executing": true
    }
   },
   "execution_count": null,
   "outputs": []
  },
  {
   "cell_type": "markdown",
   "source": [
    "# From the heatmap we can know that.\n",
    "\n",
    "* Nearly 63% of Music project goes to undefined state.\n",
    "* 18% Film & Video, 18% Music project succeed.\n",
    "* ..."
   ],
   "metadata": {}
  },
  {
   "cell_type": "code",
   "source": [
    "plt.figure(figsize=(10, 40))  #adjust the size of plot\n",
    "g = sns.heatmap(\n",
    "    pd.crosstab(df['category'], df['state']).div(pd.crosstab(df['category'], df['state']).sum(axis=1), axis=0),\n",
    "    annot=True, cmap=\"RdYlGn\")"
   ],
   "metadata": {
    "collapsed": false,
    "jupyter": {
     "outputs_hidden": false
    },
    "execution": {
     "iopub.status.busy": "2022-11-10T09:50:17.996738Z",
     "iopub.execute_input": "2022-11-10T09:50:17.997220Z",
     "iopub.status.idle": "2022-11-10T09:50:23.742033Z",
     "shell.execute_reply.started": "2022-11-10T09:50:17.997188Z",
     "shell.execute_reply": "2022-11-10T09:50:23.740848Z"
    },
    "trusted": true,
    "pycharm": {
     "is_executing": true
    }
   },
   "execution_count": null,
   "outputs": []
  },
  {
   "cell_type": "markdown",
   "source": [
    "# From the graph above we know that both `main_category` and `category` are not good to determine the state of the project.\n"
   ],
   "metadata": {}
  },
  {
   "cell_type": "markdown",
   "source": [
    "# Will the length of `name` related to the `state` of a kickstarter project?"
   ],
   "metadata": {}
  },
  {
   "cell_type": "markdown",
   "source": [
    "We firstly take a look at the distribution of the project name length."
   ],
   "metadata": {}
  },
  {
   "cell_type": "code",
   "source": [
    "sns.displot(df['name'].apply(lambda x: len(str(x))), binwidth=1, aspect=2.5)"
   ],
   "metadata": {
    "collapsed": false,
    "jupyter": {
     "outputs_hidden": false
    },
    "execution": {
     "iopub.status.busy": "2022-11-10T09:50:23.744147Z",
     "iopub.execute_input": "2022-11-10T09:50:23.744924Z",
     "iopub.status.idle": "2022-11-10T09:50:24.690382Z",
     "shell.execute_reply.started": "2022-11-10T09:50:23.744864Z",
     "shell.execute_reply": "2022-11-10T09:50:24.688910Z"
    },
    "trusted": true,
    "pycharm": {
     "is_executing": true
    }
   },
   "execution_count": null,
   "outputs": []
  },
  {
   "cell_type": "code",
   "source": [
    "df['name_length'] = df['name'].apply(lambda x: len(str(x)))\n",
    "df['name_length_qcut'] = pd.qcut(df['name_length'], 3)\n",
    "g = sns.heatmap(\n",
    "    pd.crosstab(df['name_length_qcut'], df['state']).div(pd.crosstab(df['name_length_qcut'], df['state']).sum(axis=1),\n",
    "                                                         axis=0), annot=True, cmap=\"RdYlGn\")"
   ],
   "metadata": {
    "collapsed": false,
    "jupyter": {
     "outputs_hidden": false
    },
    "execution": {
     "iopub.status.busy": "2022-11-10T09:50:24.693900Z",
     "iopub.execute_input": "2022-11-10T09:50:24.694584Z",
     "iopub.status.idle": "2022-11-10T09:50:25.425735Z",
     "shell.execute_reply.started": "2022-11-10T09:50:24.694539Z",
     "shell.execute_reply": "2022-11-10T09:50:25.424916Z"
    },
    "trusted": true,
    "pycharm": {
     "is_executing": true
    }
   },
   "execution_count": null,
   "outputs": []
  },
  {
   "cell_type": "code",
   "source": [
    "df['name_length_qcut'].value_counts()"
   ],
   "metadata": {
    "collapsed": false,
    "jupyter": {
     "outputs_hidden": false
    },
    "execution": {
     "iopub.status.busy": "2022-11-10T09:50:25.426873Z",
     "iopub.execute_input": "2022-11-10T09:50:25.427628Z",
     "iopub.status.idle": "2022-11-10T09:50:25.441052Z",
     "shell.execute_reply.started": "2022-11-10T09:50:25.427594Z",
     "shell.execute_reply": "2022-11-10T09:50:25.439717Z"
    },
    "trusted": true,
    "pycharm": {
     "is_executing": true
    }
   },
   "execution_count": null,
   "outputs": []
  },
  {
   "cell_type": "markdown",
   "source": [
    "# Here are the things that we found\n",
    "\n",
    "* If the length of a project's name is too short, then this project is more likely to fail\n",
    "* As the length of a project's name goes greater, this project is more likely to be canceled."
   ],
   "metadata": {}
  },
  {
   "cell_type": "markdown",
   "source": [
    "So, we keep the field `name_length` and `name_length_qcut` and drop `name` field."
   ],
   "metadata": {}
  },
  {
   "cell_type": "code",
   "source": [
    "df.drop(\"name\", inplace=True, axis=1)"
   ],
   "metadata": {
    "collapsed": false,
    "jupyter": {
     "outputs_hidden": false
    },
    "execution": {
     "iopub.status.busy": "2022-11-10T09:50:25.442614Z",
     "iopub.execute_input": "2022-11-10T09:50:25.443087Z",
     "iopub.status.idle": "2022-11-10T09:50:25.493978Z",
     "shell.execute_reply.started": "2022-11-10T09:50:25.443034Z",
     "shell.execute_reply": "2022-11-10T09:50:25.492868Z"
    },
    "trusted": true,
    "pycharm": {
     "is_executing": true
    }
   },
   "execution_count": null,
   "outputs": []
  },
  {
   "cell_type": "markdown",
   "source": [
    "# Dose the currency affects the state of the project?"
   ],
   "metadata": {}
  },
  {
   "cell_type": "code",
   "source": [
    "df['currency'].value_counts()"
   ],
   "metadata": {
    "collapsed": false,
    "jupyter": {
     "outputs_hidden": false
    },
    "execution": {
     "iopub.status.busy": "2022-11-10T09:50:25.495734Z",
     "iopub.execute_input": "2022-11-10T09:50:25.496204Z",
     "iopub.status.idle": "2022-11-10T09:50:25.528753Z",
     "shell.execute_reply.started": "2022-11-10T09:50:25.496152Z",
     "shell.execute_reply": "2022-11-10T09:50:25.527636Z"
    },
    "trusted": true,
    "pycharm": {
     "is_executing": true
    }
   },
   "execution_count": null,
   "outputs": []
  },
  {
   "cell_type": "code",
   "source": [
    "state_value_counts = df['currency'].value_counts()\n",
    "x = np.char.array([str(i) for i in state_value_counts.index])\n",
    "y = np.array(state_value_counts.values)\n",
    "colors = ['yellowgreen', 'red', 'gold', 'lightskyblue', 'magenta', 'lightcoral', 'blue', 'pink', 'darkgreen', 'yellow',\n",
    "          'grey', 'violet', 'white', 'cyan'][:len(state_value_counts.index)]\n",
    "explode = [0.05] * len(state_value_counts.index)\n",
    "porcent = 100. * y / y.sum()\n",
    "\n",
    "patches, texts = plt.pie(y, colors=colors, startangle=90, radius=1.2, shadow=True,\n",
    "                         wedgeprops={'linewidth': 1, 'linestyle': 'solid', 'antialiased': True}, explode=explode)\n",
    "labels = ['{0} - {1:1.2f} %'.format(i, j) for i, j in zip(x, porcent)]\n",
    "\n",
    "sort_legend = True\n",
    "if sort_legend:\n",
    "    patches, labels, dummy = zip(*sorted(zip(patches, labels, y),\n",
    "                                         key=lambda x: x[2],\n",
    "                                         reverse=True))\n",
    "\n",
    "plt.legend(patches, labels, loc='center left', bbox_to_anchor=(-0.5, 1.),\n",
    "           fontsize=12)\n",
    "\n",
    "plt.show()"
   ],
   "metadata": {
    "collapsed": false,
    "jupyter": {
     "outputs_hidden": false
    },
    "execution": {
     "iopub.status.busy": "2022-11-10T09:50:25.530192Z",
     "iopub.execute_input": "2022-11-10T09:50:25.531241Z",
     "iopub.status.idle": "2022-11-10T09:50:25.904929Z",
     "shell.execute_reply.started": "2022-11-10T09:50:25.531205Z",
     "shell.execute_reply": "2022-11-10T09:50:25.904093Z"
    },
    "trusted": true,
    "pycharm": {
     "is_executing": true
    }
   },
   "execution_count": null,
   "outputs": []
  },
  {
   "cell_type": "markdown",
   "source": [
    "# According to the heatmap below, we can conclude that the `currency` column does not have a significant impact on whether a kickstarter project will success or not.\n",
    "\n",
    "The `currency` field will be dropped later."
   ],
   "metadata": {
    "collapsed": false
   }
  },
  {
   "cell_type": "code",
   "source": [
    "g = sns.heatmap(\n",
    "    pd.crosstab(df['currency'], df['state']).div(pd.crosstab(df['currency'], df['state']).sum(axis=1), axis=0),\n",
    "    annot=True, cmap=\"RdYlGn\")"
   ],
   "metadata": {
    "collapsed": false,
    "jupyter": {
     "outputs_hidden": false
    },
    "execution": {
     "iopub.status.busy": "2022-11-10T09:50:25.906265Z",
     "iopub.execute_input": "2022-11-10T09:50:25.906941Z",
     "iopub.status.idle": "2022-11-10T09:50:26.693825Z",
     "shell.execute_reply.started": "2022-11-10T09:50:25.906907Z",
     "shell.execute_reply": "2022-11-10T09:50:26.692977Z"
    },
    "trusted": true,
    "pycharm": {
     "is_executing": true
    }
   },
   "execution_count": null,
   "outputs": []
  },
  {
   "cell_type": "markdown",
   "source": [
    "# From the heatmap we know that the currency they use does not have a significant effect on the state of a project\n",
    "\n",
    "So, we drop currency column.\n",
    "\n",
    "I will drop this colum later."
   ],
   "metadata": {}
  },
  {
   "cell_type": "markdown",
   "source": [
    "# When it comes to date, we add duration field.\n",
    "\n",
    "* Because, if the duration of a project is long, then this might indicate that the project goes will and are more likely to success.\n",
    "* However, the duration of a project is short, this might indicate that the project got suspend or canceled."
   ],
   "metadata": {}
  },
  {
   "cell_type": "code",
   "source": [
    "df[\"duration\"] = (pd.to_datetime(df.deadline, format=\"%d/%m/%Y\") - pd.to_datetime(df.launched,\n",
    "                                                                                  format=\"%d/%m/%Y %H:%M\")).apply(\n",
    "    lambda x: x.days)"
   ],
   "metadata": {
    "collapsed": false,
    "jupyter": {
     "outputs_hidden": false
    },
    "execution": {
     "iopub.status.busy": "2022-11-10T09:50:26.695166Z",
     "iopub.execute_input": "2022-11-10T09:50:26.695866Z",
     "iopub.status.idle": "2022-11-10T09:50:31.765089Z",
     "shell.execute_reply.started": "2022-11-10T09:50:26.695830Z",
     "shell.execute_reply": "2022-11-10T09:50:31.764239Z"
    },
    "trusted": true,
    "pycharm": {
     "is_executing": true
    }
   },
   "execution_count": null,
   "outputs": []
  },
  {
   "cell_type": "code",
   "source": [
    "sns.lineplot(x='state', y='duration', data=df)"
   ],
   "metadata": {
    "collapsed": false,
    "jupyter": {
     "outputs_hidden": false
    },
    "execution": {
     "iopub.status.busy": "2022-11-10T09:50:31.766800Z",
     "iopub.execute_input": "2022-11-10T09:50:31.768017Z",
     "iopub.status.idle": "2022-11-10T09:50:36.992743Z",
     "shell.execute_reply.started": "2022-11-10T09:50:31.767966Z",
     "shell.execute_reply": "2022-11-10T09:50:36.991845Z"
    },
    "trusted": true,
    "pycharm": {
     "is_executing": true
    }
   },
   "execution_count": null,
   "outputs": []
  },
  {
   "cell_type": "markdown",
   "source": [
    "From the heatmap below we can know that, the duration can be a indicator of whether a project will success or not."
   ],
   "metadata": {
    "collapsed": false
   }
  },
  {
   "cell_type": "code",
   "source": [
    "df['duration_qcut'] = pd.qcut(df['duration'], 3)\n",
    "g = sns.heatmap(\n",
    "    pd.crosstab(df['duration_qcut'], df['state']).div(pd.crosstab(df['duration_qcut'], df['state']).sum(axis=1),\n",
    "                                                      axis=0), annot=True, cmap=\"RdYlGn\")"
   ],
   "metadata": {
    "collapsed": false,
    "jupyter": {
     "outputs_hidden": false
    },
    "execution": {
     "iopub.status.busy": "2022-11-10T09:50:36.994289Z",
     "iopub.execute_input": "2022-11-10T09:50:36.994921Z",
     "iopub.status.idle": "2022-11-10T09:50:37.714005Z",
     "shell.execute_reply.started": "2022-11-10T09:50:36.994885Z",
     "shell.execute_reply": "2022-11-10T09:50:37.712732Z"
    },
    "trusted": true,
    "pycharm": {
     "is_executing": true
    }
   },
   "execution_count": null,
   "outputs": []
  },
  {
   "cell_type": "markdown",
   "source": [
    "# The day time is also not a good indicator of state"
   ],
   "metadata": {
    "collapsed": false
   }
  },
  {
   "cell_type": "code",
   "execution_count": null,
   "outputs": [],
   "source": [
    "def TransformTime(datetime):\n",
    "    hour = pd.to_datetime(datetime).time().hour\n",
    "    if (0 <= hour <= 7) or (22 <= hour <=24):\n",
    "        return \"Night\"\n",
    "    elif 7 <= hour <= 12:\n",
    "        return \"AM\"\n",
    "    elif 12 <= hour <= 22:\n",
    "        return \"PM\"\n",
    "df['launched_time'] = df['launched'].apply(TransformTime)"
   ],
   "metadata": {
    "collapsed": false,
    "pycharm": {
     "is_executing": true
    }
   }
  },
  {
   "cell_type": "code",
   "execution_count": null,
   "outputs": [],
   "source": [
    "g = sns.heatmap(\n",
    "    pd.crosstab(df['launched_time'], df['state']).div(pd.crosstab(df['launched_time'], df['state']).sum(axis=1), axis=0),\n",
    "    annot=True, cmap=\"RdYlGn\")"
   ],
   "metadata": {
    "collapsed": false,
    "pycharm": {
     "is_executing": true
    }
   }
  },
  {
   "cell_type": "code",
   "execution_count": null,
   "outputs": [],
   "source": [
    "df.drop(['launched_time'], axis=1, inplace=True)"
   ],
   "metadata": {
    "collapsed": false,
    "pycharm": {
     "is_executing": true
    }
   }
  },
  {
   "cell_type": "markdown",
   "source": [
    "# `season` is also not a good indicator."
   ],
   "metadata": {
    "collapsed": false
   }
  },
  {
   "cell_type": "code",
   "execution_count": null,
   "outputs": [],
   "source": [
    "def TransformSeason(datetime):\n",
    "    month = pd.to_datetime(datetime).date().month\n",
    "    if (11 <= month <= 12) or month==1:\n",
    "        return \"Winter\"\n",
    "    elif 2 <= month <= 4:\n",
    "        return \"Spring\"\n",
    "    elif 5 <= month <= 7:\n",
    "        return \"Summer\"\n",
    "    elif 8 <= month <= 10:\n",
    "        return \"Autumn\"\n",
    "df['season'] = df['launched'].apply(TransformSeason)"
   ],
   "metadata": {
    "collapsed": false,
    "pycharm": {
     "is_executing": true
    }
   }
  },
  {
   "cell_type": "code",
   "execution_count": null,
   "outputs": [],
   "source": [
    "g = sns.heatmap(\n",
    "    pd.crosstab(df['season'], df['state']).div(pd.crosstab(df['season'], df['state']).sum(axis=1), axis=0),\n",
    "    annot=True, cmap=\"RdYlGn\")"
   ],
   "metadata": {
    "collapsed": false,
    "pycharm": {
     "is_executing": true
    }
   }
  },
  {
   "cell_type": "code",
   "execution_count": null,
   "outputs": [],
   "source": [
    "df.drop(['season'], axis=1, inplace=True)"
   ],
   "metadata": {
    "collapsed": false,
    "pycharm": {
     "is_executing": true
    }
   }
  },
  {
   "cell_type": "markdown",
   "source": [
    "# Then we can drop `launched` and `deadline` column."
   ],
   "metadata": {
    "collapsed": false
   }
  },
  {
   "cell_type": "code",
   "execution_count": null,
   "outputs": [],
   "source": [
    "df.drop(['launched', 'deadline'], inplace=True, axis=1)"
   ],
   "metadata": {
    "collapsed": false,
    "pycharm": {
     "is_executing": true
    }
   }
  },
  {
   "cell_type": "markdown",
   "source": [
    "# From the heatmap we know that...\n",
    "\n",
    "* If the duration of a project is too short or too long, then this project is more likely failed.\n"
   ],
   "metadata": {}
  },
  {
   "cell_type": "markdown",
   "source": [
    "# Instead of using `usd_pledged_realised at deadline` and `usd_goal_real_at_start` directly, we add a `completeRatio` field."
   ],
   "metadata": {}
  },
  {
   "cell_type": "code",
   "source": [
    "df[\"completeRatio\"] = df['usd_pledged_realised at deadline'] / df['usd_goal_real_at_start']"
   ],
   "metadata": {
    "collapsed": false,
    "jupyter": {
     "outputs_hidden": false
    },
    "execution": {
     "iopub.status.busy": "2022-11-10T09:50:37.759270Z",
     "iopub.execute_input": "2022-11-10T09:50:37.759861Z",
     "iopub.status.idle": "2022-11-10T09:50:37.766716Z",
     "shell.execute_reply.started": "2022-11-10T09:50:37.759825Z",
     "shell.execute_reply": "2022-11-10T09:50:37.765726Z"
    },
    "trusted": true,
    "pycharm": {
     "is_executing": true
    }
   },
   "execution_count": null,
   "outputs": []
  },
  {
   "cell_type": "code",
   "source": [
    "ax = sns.displot(df[df['completeRatio'] < 2]['completeRatio'], aspect=3)\n",
    "ax.set(yscale=\"log\")"
   ],
   "metadata": {
    "collapsed": false,
    "jupyter": {
     "outputs_hidden": false
    },
    "execution": {
     "iopub.status.busy": "2022-11-10T09:50:37.768004Z",
     "iopub.execute_input": "2022-11-10T09:50:37.769082Z",
     "iopub.status.idle": "2022-11-10T09:50:38.822148Z",
     "shell.execute_reply.started": "2022-11-10T09:50:37.769047Z",
     "shell.execute_reply": "2022-11-10T09:50:38.821305Z"
    },
    "trusted": true,
    "pycharm": {
     "is_executing": true
    }
   },
   "execution_count": null,
   "outputs": []
  },
  {
   "cell_type": "code",
   "source": [
    "ax = sns.displot(df[df['completeRatio'] < 20]['completeRatio'], aspect=3)\n",
    "ax.set(yscale=\"log\")"
   ],
   "metadata": {
    "collapsed": false,
    "jupyter": {
     "outputs_hidden": false
    },
    "execution": {
     "iopub.status.busy": "2022-11-10T09:50:38.823248Z",
     "iopub.execute_input": "2022-11-10T09:50:38.824266Z",
     "iopub.status.idle": "2022-11-10T09:50:41.409341Z",
     "shell.execute_reply.started": "2022-11-10T09:50:38.824230Z",
     "shell.execute_reply": "2022-11-10T09:50:41.408328Z"
    },
    "trusted": true,
    "pycharm": {
     "is_executing": true
    }
   },
   "execution_count": null,
   "outputs": []
  },
  {
   "cell_type": "code",
   "source": [
    "g = sns.heatmap(pd.crosstab(pd.qcut(df['completeRatio'], 4, duplicates='drop'), df['state']).div(\n",
    "    pd.crosstab(pd.qcut(df['completeRatio'], 4, duplicates='drop'), df['state']).sum(axis=1), axis=0), annot=True,\n",
    "    cmap=\"RdYlGn\")"
   ],
   "metadata": {
    "collapsed": false,
    "jupyter": {
     "outputs_hidden": false
    },
    "execution": {
     "iopub.status.busy": "2022-11-10T09:50:41.410596Z",
     "iopub.execute_input": "2022-11-10T09:50:41.411004Z",
     "iopub.status.idle": "2022-11-10T09:50:42.145819Z",
     "shell.execute_reply.started": "2022-11-10T09:50:41.410974Z",
     "shell.execute_reply": "2022-11-10T09:50:42.144527Z"
    },
    "trusted": true,
    "pycharm": {
     "is_executing": true
    }
   },
   "execution_count": null,
   "outputs": []
  },
  {
   "cell_type": "markdown",
   "source": [
    "# Dose `country` have effects on `state`?"
   ],
   "metadata": {}
  },
  {
   "cell_type": "code",
   "source": [
    "state_value_counts = df['country'].value_counts()\n",
    "x = np.char.array([str(i) for i in state_value_counts.index])\n",
    "y = np.array(state_value_counts.values)\n",
    "colors = ['yellowgreen', 'red', 'gold', 'lightskyblue', 'magenta', 'lightcoral', 'blue', 'pink', 'darkgreen', 'yellow',\n",
    "          'grey', 'violet', 'white', 'cyan'][:len(state_value_counts.index)]\n",
    "explode = [0.05] * len(state_value_counts.index)\n",
    "porcent = 100. * y / y.sum()\n",
    "\n",
    "patches, texts = plt.pie(y, colors=colors, startangle=90, radius=1.2, shadow=True,\n",
    "                         wedgeprops={'linewidth': 1, 'linestyle': 'solid', 'antialiased': True}, explode=explode)\n",
    "labels = ['{0} - {1:1.2f} %'.format(i, j) for i, j in zip(x, porcent)]\n",
    "\n",
    "sort_legend = True\n",
    "if sort_legend:\n",
    "    patches, labels, dummy = zip(*sorted(zip(patches, labels, y),\n",
    "                                         key=lambda x: x[2],\n",
    "                                         reverse=True))\n",
    "\n",
    "plt.legend(patches, labels, loc='center left', bbox_to_anchor=(-0.5, 1.),\n",
    "           fontsize=12)\n",
    "\n",
    "plt.show()"
   ],
   "metadata": {
    "collapsed": false,
    "jupyter": {
     "outputs_hidden": false
    },
    "execution": {
     "iopub.status.busy": "2022-11-10T09:50:42.146893Z",
     "iopub.execute_input": "2022-11-10T09:50:42.147218Z",
     "iopub.status.idle": "2022-11-10T09:50:42.637993Z",
     "shell.execute_reply.started": "2022-11-10T09:50:42.147187Z",
     "shell.execute_reply": "2022-11-10T09:50:42.636769Z"
    },
    "trusted": true,
    "pycharm": {
     "is_executing": true
    }
   },
   "execution_count": null,
   "outputs": []
  },
  {
   "cell_type": "markdown",
   "source": [
    "# From the heatmap below we can conclude that `country` is not a good feature to determine the state of a project."
   ],
   "metadata": {
    "collapsed": false
   }
  },
  {
   "cell_type": "code",
   "source": [
    "g = sns.heatmap(\n",
    "    pd.crosstab(df['country'], df['state']).div(pd.crosstab(df['country'], df['state']).sum(axis=1), axis=0),\n",
    "    annot=True, cmap=\"RdYlGn\")"
   ],
   "metadata": {
    "collapsed": false,
    "jupyter": {
     "outputs_hidden": false
    },
    "execution": {
     "iopub.status.busy": "2022-11-10T09:50:42.639355Z",
     "iopub.execute_input": "2022-11-10T09:50:42.639709Z",
     "iopub.status.idle": "2022-11-10T09:50:43.553800Z",
     "shell.execute_reply.started": "2022-11-10T09:50:42.639661Z",
     "shell.execute_reply": "2022-11-10T09:50:43.552443Z"
    },
    "trusted": true,
    "pycharm": {
     "is_executing": true
    }
   },
   "execution_count": null,
   "outputs": []
  },
  {
   "cell_type": "markdown",
   "source": [
    "# Check null values"
   ],
   "metadata": {}
  },
  {
   "cell_type": "code",
   "source": [
    "df.isnull().sum()"
   ],
   "metadata": {
    "collapsed": false,
    "jupyter": {
     "outputs_hidden": false
    },
    "execution": {
     "iopub.status.busy": "2022-11-10T09:50:43.555535Z",
     "iopub.execute_input": "2022-11-10T09:50:43.556054Z",
     "iopub.status.idle": "2022-11-10T09:50:43.651054Z",
     "shell.execute_reply.started": "2022-11-10T09:50:43.555994Z",
     "shell.execute_reply": "2022-11-10T09:50:43.649941Z"
    },
    "trusted": true,
    "pycharm": {
     "is_executing": true
    }
   },
   "execution_count": null,
   "outputs": []
  },
  {
   "cell_type": "code",
   "source": [
    "df.dropna(axis=0, inplace=True)\n",
    "df.isnull().sum()"
   ],
   "metadata": {
    "collapsed": false,
    "jupyter": {
     "outputs_hidden": false
    },
    "execution": {
     "iopub.status.busy": "2022-11-10T09:50:43.652872Z",
     "iopub.execute_input": "2022-11-10T09:50:43.653218Z",
     "iopub.status.idle": "2022-11-10T09:50:43.881455Z",
     "shell.execute_reply.started": "2022-11-10T09:50:43.653186Z",
     "shell.execute_reply": "2022-11-10T09:50:43.880375Z"
    },
    "trusted": true,
    "pycharm": {
     "is_executing": true
    }
   },
   "execution_count": null,
   "outputs": []
  },
  {
   "cell_type": "code",
   "source": [
    "df.head()"
   ],
   "metadata": {
    "execution": {
     "iopub.status.busy": "2022-11-10T09:50:43.883147Z",
     "iopub.execute_input": "2022-11-10T09:50:43.883885Z",
     "iopub.status.idle": "2022-11-10T09:50:43.909853Z",
     "shell.execute_reply.started": "2022-11-10T09:50:43.883836Z",
     "shell.execute_reply": "2022-11-10T09:50:43.908726Z"
    },
    "trusted": true,
    "pycharm": {
     "is_executing": true
    }
   },
   "execution_count": null,
   "outputs": []
  },
  {
   "cell_type": "markdown",
   "source": [
    "# Before actually take the data to the models, lets try Univariate selection"
   ],
   "metadata": {}
  },
  {
   "cell_type": "code",
   "source": [
    "df.head()"
   ],
   "metadata": {
    "collapsed": false,
    "jupyter": {
     "outputs_hidden": false
    },
    "execution": {
     "iopub.status.busy": "2022-11-10T09:50:43.911305Z",
     "iopub.execute_input": "2022-11-10T09:50:43.911707Z",
     "iopub.status.idle": "2022-11-10T09:50:43.935955Z",
     "shell.execute_reply.started": "2022-11-10T09:50:43.911646Z",
     "shell.execute_reply": "2022-11-10T09:50:43.934582Z"
    },
    "trusted": true,
    "pycharm": {
     "is_executing": true
    }
   },
   "execution_count": null,
   "outputs": []
  },
  {
   "cell_type": "markdown",
   "source": [
    "# Transform Category"
   ],
   "metadata": {}
  },
  {
   "cell_type": "code",
   "source": [
    "def getTransformTable(colName, data):\n",
    "    TransformTableData = {}\n",
    "    stateSetData = set(data[colName])\n",
    "    for index, i in enumerate(stateSetData):\n",
    "        TransformTableData[i] = index\n",
    "    return TransformTableData\n",
    "\n",
    "\n",
    "backers_qcut = pd.qcut(df['backers'], 3)\n",
    "usd_pledged_realised_at_deadline_qcut = pd.qcut(df['usd_pledged_realised at deadline'], 3)\n",
    "usd_goal_real_at_start_qcut = pd.qcut(df['usd_goal_real_at_start'], 3)\n",
    "completeRatio_qcut = pd.qcut(df['completeRatio'], 3)\n",
    "categoricalDf = pd.concat(\n",
    "    [\n",
    "        backers_qcut,\n",
    "        usd_pledged_realised_at_deadline_qcut,\n",
    "        usd_goal_real_at_start_qcut,\n",
    "        completeRatio_qcut]\n",
    "    , axis=1)\n",
    "\n",
    "categoricalDf.head()\n",
    "num_encode = {\n",
    "    'backers': getTransformTable('backers', categoricalDf),\n",
    "    'usd_pledged_realised at deadline': getTransformTable('usd_pledged_realised at deadline', categoricalDf),\n",
    "    'usd_goal_real_at_start': getTransformTable('usd_goal_real_at_start', categoricalDf),\n",
    "    'completeRatio': getTransformTable('completeRatio', categoricalDf)\n",
    "}\n",
    "\n",
    "# Do Transformation\n",
    "categoricalDf.replace(num_encode, inplace=True)\n",
    "categoricalDf.head()\n",
    "\n",
    "num_encode = {\n",
    "    'category': getTransformTable('category', df),\n",
    "    'state': getTransformTable('state', df),\n",
    "    'main_category': getTransformTable('main_category', df),\n",
    "    'currency': getTransformTable('currency', df),\n",
    "    'country': getTransformTable('country', df),\n",
    "    'name_length_qcut': getTransformTable('name_length_qcut', df),\n",
    "    'duration_qcut': getTransformTable('duration_qcut', df)\n",
    "}\n",
    "\n",
    "# Do Transformation\n",
    "df.replace(num_encode, inplace=True)"
   ],
   "metadata": {
    "execution": {
     "iopub.status.busy": "2022-11-10T09:50:43.937290Z",
     "iopub.execute_input": "2022-11-10T09:50:43.937650Z"
    },
    "trusted": true,
    "pycharm": {
     "is_executing": true
    }
   },
   "execution_count": null,
   "outputs": []
  },
  {
   "cell_type": "code",
   "source": [
    "df.head()"
   ],
   "metadata": {
    "collapsed": false,
    "jupyter": {
     "outputs_hidden": false
    },
    "trusted": true,
    "pycharm": {
     "is_executing": true
    }
   },
   "execution_count": null,
   "outputs": []
  },
  {
   "cell_type": "markdown",
   "source": [
    "# Feature Selection"
   ],
   "metadata": {}
  },
  {
   "cell_type": "markdown",
   "source": [
    "# Normalize data"
   ],
   "metadata": {}
  },
  {
   "cell_type": "code",
   "source": [
    "continueiousFeatures = pd.concat([df[['goal', 'pledged', 'backers', 'usd_pledged_realised at deadline',\n",
    "                                      'usd_goal_real_at_start', 'name_length', 'duration', 'completeRatio']]], axis=1)\n",
    "categoricalFeatures = pd.concat(\n",
    "    [df[['category', 'main_category', 'currency', 'country', 'name_length_qcut', 'duration_qcut']], categoricalDf],\n",
    "    axis=1)\n",
    "targetFeature = df['state']"
   ],
   "metadata": {
    "collapsed": false,
    "jupyter": {
     "outputs_hidden": false
    },
    "trusted": true,
    "pycharm": {
     "is_executing": true
    }
   },
   "execution_count": null,
   "outputs": []
  },
  {
   "cell_type": "code",
   "source": [
    "continueiousFeatures.head()"
   ],
   "metadata": {
    "collapsed": false,
    "jupyter": {
     "outputs_hidden": false
    },
    "trusted": true,
    "pycharm": {
     "is_executing": true
    }
   },
   "execution_count": null,
   "outputs": []
  },
  {
   "cell_type": "code",
   "source": [
    "categoricalFeatures.head()"
   ],
   "metadata": {
    "collapsed": false,
    "jupyter": {
     "outputs_hidden": false
    },
    "trusted": true,
    "pycharm": {
     "is_executing": true
    }
   },
   "execution_count": null,
   "outputs": []
  },
  {
   "cell_type": "code",
   "source": [
    "targetFeature.head()"
   ],
   "metadata": {
    "collapsed": false,
    "jupyter": {
     "outputs_hidden": false
    },
    "trusted": true,
    "pycharm": {
     "is_executing": true
    }
   },
   "execution_count": null,
   "outputs": []
  },
  {
   "cell_type": "markdown",
   "source": [
    "Instead of using MinMaxScaler, here we use RobustScaler to solve the problem of outlines."
   ],
   "metadata": {}
  },
  {
   "cell_type": "code",
   "source": [
    "from sklearn.preprocessing import MinMaxScaler, RobustScaler\n",
    "\n",
    "# scaler = MinMaxScaler()\n",
    "scaler = RobustScaler()  # use RobustScaler to solve the problem of outlines.\n",
    "\n",
    "normalized_df = pd.DataFrame(scaler.fit_transform(continueiousFeatures), columns=continueiousFeatures.columns,\n",
    "                             index=continueiousFeatures.index)\n",
    "normalized_df.head()\n",
    "\n",
    "continueiousFeatures = normalized_df"
   ],
   "metadata": {
    "trusted": true,
    "pycharm": {
     "is_executing": true
    }
   },
   "execution_count": null,
   "outputs": []
  },
  {
   "cell_type": "markdown",
   "source": [
    "# Perform Univariate selection - Select Continuous Features"
   ],
   "metadata": {}
  },
  {
   "cell_type": "code",
   "execution_count": null,
   "outputs": [],
   "source": [
    "from sklearn.feature_selection import SelectKBest, f_classif\n",
    "\n",
    "data = continueiousFeatures\n",
    "target = targetFeature"
   ],
   "metadata": {
    "collapsed": false,
    "pycharm": {
     "is_executing": true
    }
   }
  },
  {
   "cell_type": "code",
   "execution_count": null,
   "outputs": [],
   "source": [
    "data.head()"
   ],
   "metadata": {
    "collapsed": false,
    "pycharm": {
     "is_executing": true
    }
   }
  },
  {
   "cell_type": "code",
   "source": [
    "best_features = SelectKBest(score_func=f_classif, k=6).fit(data, target)\n",
    "\n",
    "dfscores = pd.DataFrame(best_features.scores_)\n",
    "dfcolumns = pd.DataFrame(data.columns)\n",
    "\n",
    "#concat two dataframes for better visualization\n",
    "featureScores = pd.concat([dfcolumns, dfscores], axis=1)\n",
    "featureScores.columns = ['Specs', 'Score']  #naming the dataframe columns\n",
    "\n",
    "print(featureScores.nlargest(10, 'Score'))"
   ],
   "metadata": {
    "collapsed": false,
    "jupyter": {
     "outputs_hidden": false
    },
    "trusted": true,
    "pycharm": {
     "is_executing": true
    }
   },
   "execution_count": null,
   "outputs": []
  },
  {
   "cell_type": "markdown",
   "source": [
    "# Tree-based feature selection - Select Continuous Features"
   ],
   "metadata": {}
  },
  {
   "cell_type": "code",
   "source": [
    "from sklearn.ensemble import ExtraTreesClassifier\n",
    "\n",
    "tree = ExtraTreesClassifier()\n",
    "tree.fit(data, target)\n",
    "\n",
    "df_feature_importances = pd.Series(tree.feature_importances_, index=data.columns)\n",
    "df_feature_importances.nlargest(10).plot(kind='barh')"
   ],
   "metadata": {
    "collapsed": false,
    "jupyter": {
     "outputs_hidden": false
    },
    "trusted": true,
    "pycharm": {
     "is_executing": true
    }
   },
   "execution_count": null,
   "outputs": []
  },
  {
   "cell_type": "code",
   "source": [
    "combine = pd.concat([data, target], axis=1)\n",
    "corr_mat = combine.corr()\n",
    "\n",
    "# plt.figure(figsize=(20,20))\n",
    "g = sns.heatmap(corr_mat, annot=True, cmap=\"RdYlGn\")"
   ],
   "metadata": {
    "collapsed": false,
    "jupyter": {
     "outputs_hidden": false
    },
    "trusted": true,
    "pycharm": {
     "is_executing": true
    }
   },
   "execution_count": null,
   "outputs": []
  },
  {
   "cell_type": "markdown",
   "source": [
    "# Drop features - Continuous Features\n",
    "\n",
    "According to computer based selection and the figures/graphs above, we drop the following features.\n",
    "* `usd pledged` (has been dropped earlier)\n",
    "* `launched` (has been dropped earlier)\n",
    "* `deadline` (has been dropped earlier)\n",
    "* `goal`"
   ],
   "metadata": {}
  },
  {
   "cell_type": "code",
   "source": [
    "continueiousFeatures.drop(['goal'], axis=1, inplace=True)"
   ],
   "metadata": {
    "trusted": true,
    "pycharm": {
     "is_executing": true
    }
   },
   "execution_count": null,
   "outputs": []
  },
  {
   "cell_type": "markdown",
   "source": [
    "# Perform Univariate selection - Select Categorical Features"
   ],
   "metadata": {}
  },
  {
   "cell_type": "code",
   "source": [
    "from sklearn.feature_selection import SelectKBest, f_classif\n",
    "\n",
    "data = categoricalFeatures\n",
    "target = targetFeature\n",
    "\n",
    "best_features = SelectKBest(score_func=f_classif, k=6).fit(data, target)\n",
    "\n",
    "dfscores = pd.DataFrame(best_features.scores_)\n",
    "dfcolumns = pd.DataFrame(data.columns)\n",
    "\n",
    "#concat two dataframes for better visualization\n",
    "featureScores = pd.concat([dfcolumns, dfscores], axis=1)\n",
    "featureScores.columns = ['Specs', 'Score']  #naming the dataframe columns\n",
    "\n",
    "print(featureScores.nlargest(10, 'Score'))"
   ],
   "metadata": {
    "trusted": true,
    "pycharm": {
     "is_executing": true
    }
   },
   "execution_count": null,
   "outputs": []
  },
  {
   "cell_type": "markdown",
   "source": [
    "# Tree-based feature selection - Select Categorical Features"
   ],
   "metadata": {}
  },
  {
   "cell_type": "code",
   "source": [
    "from sklearn.ensemble import ExtraTreesClassifier\n",
    "\n",
    "tree = ExtraTreesClassifier()\n",
    "tree.fit(data, target)\n",
    "\n",
    "df_feature_importances = pd.Series(tree.feature_importances_, index=data.columns)\n",
    "df_feature_importances.nlargest(10).plot(kind='barh')"
   ],
   "metadata": {
    "trusted": true,
    "pycharm": {
     "is_executing": true
    }
   },
   "execution_count": null,
   "outputs": []
  },
  {
   "cell_type": "markdown",
   "source": [
    "# Mutual information (MI) - Select Categorical Features"
   ],
   "metadata": {}
  },
  {
   "cell_type": "code",
   "source": [
    "from sklearn.feature_selection import mutual_info_classif\n",
    "\n",
    "data = mutual_info_classif(categoricalFeatures, targetFeature)"
   ],
   "metadata": {
    "collapsed": false,
    "jupyter": {
     "outputs_hidden": false
    },
    "trusted": true,
    "pycharm": {
     "is_executing": true
    }
   },
   "execution_count": null,
   "outputs": []
  },
  {
   "cell_type": "code",
   "source": [
    "for i in range(len(data)):\n",
    "    print(categoricalFeatures.columns[i], list(data)[i])"
   ],
   "metadata": {
    "collapsed": false,
    "jupyter": {
     "outputs_hidden": false
    },
    "trusted": true,
    "pycharm": {
     "is_executing": true
    }
   },
   "execution_count": null,
   "outputs": []
  },
  {
   "cell_type": "markdown",
   "source": [
    "# Drop features - Categorical Features\n",
    "\n",
    "According to computer based selection and the figures/graphs above, we drop the following features.\n",
    "* `usd_goal_real_at_start`\n",
    "* `category`\n",
    "* `country`\n",
    "* `currency`\n",
    "* `duration_qcut`\n",
    "* `main_category`\n",
    "* `name_length_qcut`"
   ],
   "metadata": {}
  },
  {
   "cell_type": "code",
   "source": [
    "categoricalFeatures.drop(['usd_goal_real_at_start', 'category', 'country', 'currency', 'main_category', 'duration_qcut', 'name_length_qcut'], inplace=True, axis=1)"
   ],
   "metadata": {
    "collapsed": false,
    "jupyter": {
     "outputs_hidden": false
    },
    "trusted": true,
    "pycharm": {
     "is_executing": true
    }
   },
   "execution_count": null,
   "outputs": []
  },
  {
   "cell_type": "markdown",
   "source": [
    "# Summary\n",
    "\n",
    "The following features will be taken to the model and will be used in the following sections."
   ],
   "metadata": {
    "collapsed": false
   }
  },
  {
   "cell_type": "code",
   "execution_count": null,
   "outputs": [],
   "source": [
    "continueiousFeatures.head()"
   ],
   "metadata": {
    "collapsed": false,
    "pycharm": {
     "is_executing": true
    }
   }
  },
  {
   "cell_type": "code",
   "execution_count": null,
   "outputs": [],
   "source": [
    "categoricalFeatures.head()"
   ],
   "metadata": {
    "collapsed": false,
    "pycharm": {
     "is_executing": true
    }
   }
  },
  {
   "cell_type": "markdown",
   "source": [
    "# One-hot vector conversion\n",
    "\n",
    "In order to calculate the distance correctly, we need to transform the categorical features to one-hot vectors."
   ],
   "metadata": {
    "collapsed": false
   }
  },
  {
   "cell_type": "code",
   "source": [
    "onehot_df = pd.get_dummies(categoricalFeatures, prefix=categoricalFeatures.columns, columns=categoricalFeatures.columns,\n",
    "                           drop_first=True)\n",
    "onehot_df.head()"
   ],
   "metadata": {
    "collapsed": false,
    "jupyter": {
     "outputs_hidden": false
    },
    "trusted": true,
    "pycharm": {
     "is_executing": true
    }
   },
   "execution_count": null,
   "outputs": []
  },
  {
   "cell_type": "markdown",
   "source": [
    "# Variables to store the best model (will be used to draw ROC curve)"
   ],
   "metadata": {
    "collapsed": false
   }
  },
  {
   "cell_type": "code",
   "execution_count": null,
   "outputs": [],
   "source": [
    "from sklearn.neighbors import KNeighborsClassifier\n",
    "from sklearn.ensemble import RandomForestClassifier\n",
    "from sklearn.tree import DecisionTreeClassifier\n",
    "from sklearn.naive_bayes import GaussianNB\n",
    "from sklearn.ensemble import VotingClassifier\n",
    "\n",
    "BestModels = {\n",
    "    KNeighborsClassifier.__name__: {\n",
    "        'accuracy': 0,\n",
    "        'model': None\n",
    "    },\n",
    "    RandomForestClassifier.__name__: {\n",
    "        'accuracy': 0,\n",
    "        'model': None\n",
    "    },\n",
    "    DecisionTreeClassifier.__name__: {\n",
    "        'accuracy': 0,\n",
    "        'model': None\n",
    "    },\n",
    "    GaussianNB.__name__: {\n",
    "        'accuracy': 0,\n",
    "        'model': None\n",
    "    },\n",
    "    VotingClassifier.__name__: {\n",
    "        'accuracy': 0,\n",
    "        'model': None\n",
    "    },\n",
    "\n",
    "}\n",
    "\n",
    "\n",
    "def updateBest(model, accuracyData):\n",
    "    if accuracyData > BestModels[model.__class__.__name__]['accuracy']:\n",
    "        BestModels[model.__class__.__name__]['model'] = model\n",
    "        BestModels[model.__class__.__name__]['accuracy'] = accuracyData\n",
    "# Prepare Training Data"
   ],
   "metadata": {
    "collapsed": false,
    "pycharm": {
     "is_executing": true
    }
   }
  },
  {
   "cell_type": "code",
   "execution_count": null,
   "outputs": [],
   "source": [
    "class Data:\n",
    "    X_train = None\n",
    "    X_test = None\n",
    "    X_val = None\n",
    "    Y_train = None\n",
    "    Y_test = None\n",
    "    Y_val = None\n",
    "data = Data()\n",
    "\n",
    "train_val, test = train_test_split(pd.concat([continueiousFeatures, onehot_df, targetFeature], axis=1),\n",
    "                               test_size=0.2)\n",
    "train, val = train_test_split(train_val, test_size=0.2)\n",
    "data.X_train, data.X_test, data.X_val = train.drop([\"state\"], axis=1), test.drop([\"state\"], axis=1), val.drop([\"state\"], axis=1)\n",
    "data.Y_train, data.Y_test, data.Y_val  = train['state'], test['state'], val['state']"
   ],
   "metadata": {
    "collapsed": false,
    "pycharm": {
     "is_executing": true
    }
   }
  },
  {
   "cell_type": "code",
   "execution_count": null,
   "outputs": [],
   "source": [
    "categoricalData = Data()\n",
    "\n",
    "train_val, test = train_test_split(pd.concat([categoricalFeatures, targetFeature], axis=1),\n",
    "                                   test_size=0.2)\n",
    "train, val = train_test_split(train_val, test_size=0.2)\n",
    "categoricalData.X_train, categoricalData.X_test, categoricalData.X_val = train.drop([\"state\"], axis=1), test.drop([\"state\"], axis=1), val.drop([\"state\"], axis=1)\n",
    "categoricalData.Y_train, categoricalData.Y_test, categoricalData.Y_val  = train['state'], test['state'], val['state']"
   ],
   "metadata": {
    "collapsed": false,
    "pycharm": {
     "is_executing": true
    }
   }
  },
  {
   "cell_type": "code",
   "execution_count": null,
   "outputs": [],
   "source": [],
   "metadata": {
    "collapsed": false,
    "pycharm": {
     "is_executing": true
    }
   }
  },
  {
   "cell_type": "markdown",
   "source": [
    "# How dose the K setting affect the accuracy and f1 score?\n",
    "\n",
    "As the number of neighbors increases the accuracy also increased, but the F1 score starts to dcrease.\n",
    "\n",
    "This is because,\n",
    "\n",
    "$$\n",
    "F_1 = \\frac{precision \\times recall}{precision + recall}\n",
    "$$\n",
    "\n",
    "As the number of neighbors increase, the precision is also increasing. However, recall starts to drop. Which leads to the decrease of F1 score.\n",
    "\n",
    "$$\n",
    "F_1 = \\frac{precision \\uparrow \\times recall \\downarrow}{precision \\uparrow + recall \\downarrow} \\downarrow\n",
    "$$\n"
   ],
   "metadata": {
    "collapsed": false
   }
  },
  {
   "cell_type": "code",
   "source": [
    "accuracy = []\n",
    "f1_scores = []\n",
    "x_values = list(range(1, 40))\n",
    "# Calculating error for K values between 1 and 60\n",
    "for i in x_values:\n",
    "    print(f\"current K : {i} \", end=\" \")\n",
    "    knn = KNeighborsClassifier(n_neighbors=i, n_jobs=-1)  # 3 jobs will not use all the cores of my computer\n",
    "    knn.fit(data.X_train, data.Y_train)\n",
    "    pred_i = knn.predict(data.X_test)\n",
    "    acc = metrics.accuracy_score(data.Y_test, pred_i)\n",
    "    f1 = f1_score(y_true=data.Y_test, y_pred=pred_i, average=\"macro\")\n",
    "    print(f\"acc: {acc} F1: {f1} | \")\n",
    "    accuracy.append(acc)\n",
    "    f1_scores.append(f1)\n",
    "\n",
    "plt.figure(figsize=(20, 6))\n",
    "plt.plot(x_values, accuracy, color='red', marker='o',\n",
    "         markersize=10)\n",
    "plt.title('Accuracy Vs K')\n",
    "plt.xlabel('K')\n",
    "plt.ylabel('Accuracy')\n",
    "\n",
    "plt.figure(figsize=(20, 6))\n",
    "plt.plot(x_values, f1_scores, color='yellow', marker='o',\n",
    "         markersize=10)\n",
    "plt.title('F1 Vs K')\n",
    "plt.xlabel('K')\n",
    "plt.ylabel('F1')"
   ],
   "metadata": {
    "collapsed": false,
    "jupyter": {
     "outputs_hidden": false
    },
    "execution": {
     "iopub.status.busy": "2022-11-10T09:27:59.741871Z",
     "iopub.execute_input": "2022-11-10T09:27:59.742248Z",
     "iopub.status.idle": "2022-11-10T09:31:47.622078Z",
     "shell.execute_reply.started": "2022-11-10T09:27:59.742213Z",
     "shell.execute_reply": "2022-11-10T09:31:47.620724Z"
    },
    "trusted": true,
    "pycharm": {
     "is_executing": true
    }
   },
   "execution_count": null,
   "outputs": []
  },
  {
   "cell_type": "markdown",
   "source": [
    "# What if we change the ratio of Test set and Train set?"
   ],
   "metadata": {
    "collapsed": false
   }
  },
  {
   "cell_type": "markdown",
   "source": [
    "From the graph below we can know that, if the test set is too large (ratio is too high), the model will *not be able to have enough instance to compare with*, which will leads to a drop in both $accuracy$ and $percision$."
   ],
   "metadata": {
    "collapsed": false
   }
  },
  {
   "cell_type": "code",
   "execution_count": null,
   "outputs": [],
   "source": [
    "accuracy = []\n",
    "f1_scores = []\n",
    "x_values = [0.1, 0.2, 0.3, 0.4, 0.5, 0.6, 0.7, 0.8, 0.9, 0.95, 0.98, 0.99, 0.999, 0.9999]\n",
    "# Calculating error for K values between 1 and 60\n",
    "for i in x_values:\n",
    "    train_val, test = train_test_split(pd.concat([continueiousFeatures, onehot_df, targetFeature], axis=1),\n",
    "                                       test_size=i)\n",
    "    train, val = train_test_split(train_val, test_size=0.2)\n",
    "    X_train, X_test = train.drop([\"state\"], axis=1), test.drop([\"state\"], axis=1)\n",
    "    y_train, y_test = train['state'], test['state']\n",
    "    print(f\"current test_size : {i} \", end=\" \")\n",
    "    knn = KNeighborsClassifier(n_neighbors=7, n_jobs=-1)\n",
    "    knn.fit(X_train, y_train)\n",
    "    pred_i = knn.predict(X_test)\n",
    "    acc = metrics.accuracy_score(y_test, pred_i)\n",
    "    f1 = f1_score(y_true=y_test, y_pred=pred_i, average=\"macro\")\n",
    "    print(f\"acc: {acc} F1: {f1} | \")\n",
    "    accuracy.append(acc)\n",
    "    f1_scores.append(f1)\n",
    "\n",
    "plt.figure(figsize=(20, 6))\n",
    "plt.plot(x_values, accuracy, color='red', marker='o',\n",
    "         markersize=10)\n",
    "plt.title('Accuracy Vs test_size')\n",
    "plt.xlabel('test_size')\n",
    "plt.ylabel('Accuracy')\n",
    "\n",
    "plt.figure(figsize=(20, 6))\n",
    "plt.plot(x_values, f1_scores, color='yellow', marker='o',\n",
    "         markersize=10)\n",
    "plt.title('F1 Vs test_size')\n",
    "plt.xlabel('test_size')\n",
    "plt.ylabel('F1')"
   ],
   "metadata": {
    "collapsed": false,
    "pycharm": {
     "is_executing": true
    }
   }
  },
  {
   "cell_type": "markdown",
   "source": [
    "# KNN model with both continuous features and categorical features\n",
    "\n",
    "Here I transformed the categorical features to one-hot vector, by doing this, KNN algorithm will be able to calculate the distance correctly for non-ordinal features i.e. `main_category` etc.."
   ],
   "metadata": {}
  },
  {
   "cell_type": "code",
   "source": [
    "# Split data into training, validation and test sets\n",
    "\n",
    "print(f\"Testing Model {KNeighborsClassifier.__name__}\")\n",
    "neighbor_size = [3, 5, 7, 9, 11, 13]\n",
    "\n",
    "metricNames = [\"euclidean\", \"manhattan\", \"chebyshev\"]\n",
    "result = {}\n",
    "\n",
    "for k in metricNames:\n",
    "    result[k] = {}\n",
    "    for neighbors in neighbor_size:\n",
    "        print(f\"Testing <metric: {k}, neighborSize: {neighbors}>: \", end=\"\")\n",
    "        knn = KNeighborsClassifier(n_neighbors=neighbors, metric=k,\n",
    "                                   n_jobs=-1)  # 3 jobs will not use all the cores of my computer\n",
    "        print(\"training...\", end=\" \")\n",
    "        knn.fit(data.X_train, data.Y_train)\n",
    "        print(\"evaluating...\", end=\" \")\n",
    "        y_pred = knn.predict(data.X_test)\n",
    "        print(\"calculating accuracy...\", end=\" \")\n",
    "        accuracy = metrics.accuracy_score(data.Y_test, y_pred)\n",
    "        print(\"calculating f1...\", end=\" \")\n",
    "        f1 = f1_score(y_true=data.Y_test, y_pred=y_pred, average=\"macro\")\n",
    "        print(f\"\\nResult: Accuracy {accuracy}, F1 {f1}\")\n",
    "        result[k][neighbors] = {\n",
    "            \"Accuracy\": accuracy,\n",
    "            \"F1\": f1\n",
    "        }\n",
    "        updateBest(knn, accuracy)"
   ],
   "metadata": {
    "pycharm": {
     "is_executing": true
    }
   },
   "execution_count": null,
   "outputs": []
  },
  {
   "cell_type": "code",
   "execution_count": null,
   "outputs": [],
   "source": [
    "f = plt.figure(figsize=(12, 3))\n",
    "ax1 = f.add_subplot(121)\n",
    "ax2 = f.add_subplot(122)\n",
    "\n",
    "labels = neighbor_size\n",
    "width = 0.2  # the width of the bars\n",
    "x = np.arange(len(labels))  # the label locations\n",
    "for index, metricName in enumerate(result):\n",
    "    neighborResult = result[metricName]\n",
    "    rect = ax1.bar(x - width + (width) * (index), [neighborResult[i]['Accuracy'] for i in neighborResult], width,\n",
    "                   label=metricName)\n",
    "# Add some text for labels, title and custom x-axis tick labels, etc.\n",
    "ax1.set_ylabel('Accuracy')\n",
    "ax1.set_xlabel('K')\n",
    "ax1.set_title('Accuracy by Distance Metric and K')\n",
    "ax1.set_xticks(x, labels)\n",
    "ax1.set_ylim([0, 1])\n",
    "ax1.legend()\n",
    "\n",
    "labels = neighbor_size\n",
    "width = 0.2  # the width of the bars\n",
    "x = np.arange(len(labels))  # the label locations\n",
    "for index, metricName in enumerate(result):\n",
    "    neighborResult = result[metricName]\n",
    "    rect = ax2.bar(x - width + (width) * (index), [neighborResult[i]['F1'] for i in neighborResult], width,\n",
    "                   label=metricName)\n",
    "# Add some text for labels, title and custom x-axis tick labels, etc.\n",
    "ax2.set_ylabel('F1')\n",
    "ax2.set_xlabel('K')\n",
    "ax2.set_title('F1 by Distance Metric and K')\n",
    "ax2.set_xticks(x, labels)\n",
    "ax2.set_ylim([0.2, 0.70])\n",
    "ax2.legend()\n",
    "\n",
    "plt.show()"
   ],
   "metadata": {
    "collapsed": false,
    "pycharm": {
     "is_executing": true
    }
   }
  },
  {
   "cell_type": "markdown",
   "source": [
    "# RandomForestClassifier model with both continuous features and categorical features."
   ],
   "metadata": {}
  },
  {
   "cell_type": "code",
   "source": [
    "# Split data into training, validation and test sets\n",
    "print(f\"Testing Model {RandomForestClassifier.__name__}\")\n",
    "trees = [50, 100, 200]\n",
    "min_samples = [2, 3, 5, 6]\n",
    "result = {}\n",
    "\n",
    "for k in trees:\n",
    "    result[k] = {}\n",
    "    for minSamples in min_samples:\n",
    "        print(f\"Testing <trees: {k}, min_samples: {minSamples}>: \", end=\"\")\n",
    "        rf = RandomForestClassifier(random_state=1, min_samples_split=minSamples, n_estimators=k)\n",
    "        rf.fit(data.X_train, data.Y_train)\n",
    "        y_pred = rf.predict(data.X_test)\n",
    "        accuracy = metrics.accuracy_score(data.Y_test, y_pred)\n",
    "        f1 = f1_score(y_true=data.Y_test, y_pred=y_pred, average=\"macro\")\n",
    "        print(f\"Result: Accuracy {accuracy}, F1 {f1}\")\n",
    "        result[k][minSamples] = {\n",
    "            \"Accuracy\": accuracy,\n",
    "            \"F1\": f1\n",
    "        }\n",
    "        updateBest(rf, accuracy)\n"
   ],
   "metadata": {
    "collapsed": false,
    "jupyter": {
     "outputs_hidden": false
    },
    "execution": {
     "iopub.status.busy": "2022-11-10T09:31:47.624595Z",
     "iopub.execute_input": "2022-11-10T09:31:47.624937Z",
     "iopub.status.idle": "2022-11-10T09:34:21.136758Z",
     "shell.execute_reply.started": "2022-11-10T09:31:47.624905Z",
     "shell.execute_reply": "2022-11-10T09:34:21.134993Z"
    },
    "trusted": true,
    "pycharm": {
     "is_executing": true
    }
   },
   "execution_count": null,
   "outputs": []
  },
  {
   "cell_type": "code",
   "execution_count": null,
   "outputs": [],
   "source": [],
   "metadata": {
    "collapsed": false,
    "pycharm": {
     "is_executing": true
    }
   }
  },
  {
   "cell_type": "code",
   "execution_count": null,
   "outputs": [],
   "source": [
    "f = plt.figure(figsize=(12, 3))\n",
    "ax1 = f.add_subplot(121)\n",
    "ax2 = f.add_subplot(122)\n",
    "\n",
    "labels = min_samples\n",
    "width = 0.2  # the width of the bars\n",
    "x = np.arange(len(labels))  # the label locations\n",
    "for index, metricName in enumerate(result):\n",
    "    neighborResult = result[metricName]\n",
    "    rect = ax1.bar(x - width + (width) * (index), [neighborResult[i]['Accuracy'] for i in neighborResult], width,\n",
    "                   label=metricName)\n",
    "# Add some text for labels, title and custom x-axis tick labels, etc.\n",
    "ax1.set_ylabel('Accuracy')\n",
    "ax1.set_xlabel('trees')\n",
    "ax1.set_title('Accuracy by trees and min_samples')\n",
    "ax1.set_xticks(x, labels)\n",
    "ax1.set_ylim([0, 1])\n",
    "ax1.legend()\n",
    "\n",
    "labels = min_samples\n",
    "width = 0.2  # the width of the bars\n",
    "x = np.arange(len(labels))  # the label locations\n",
    "for index, metricName in enumerate(result):\n",
    "    neighborResult = result[metricName]\n",
    "    rect = ax2.bar(x - width + (width) * (index), [neighborResult[i]['F1'] for i in neighborResult], width,\n",
    "                   label=metricName)\n",
    "# Add some text for labels, title and custom x-axis tick labels, etc.\n",
    "ax2.set_ylabel('F1')\n",
    "ax2.set_xlabel('trees')\n",
    "ax2.set_title('F1 by trees and min_samples')\n",
    "ax2.set_xticks(x, labels)\n",
    "ax2.set_ylim([0.2, 0.70])\n",
    "ax2.legend()\n",
    "\n",
    "plt.show()"
   ],
   "metadata": {
    "collapsed": false,
    "pycharm": {
     "is_executing": true
    }
   }
  },
  {
   "cell_type": "markdown",
   "source": [
    "# Decision Tree"
   ],
   "metadata": {}
  },
  {
   "cell_type": "code",
   "execution_count": null,
   "outputs": [],
   "source": [
    "from sklearn import metrics, tree\n",
    "\n",
    "print(f\"Testing Model {DecisionTreeClassifier.__name__}\")\n",
    "\n",
    "entropy_tree = DecisionTreeClassifier(criterion='entropy', random_state=42)\n",
    "entropy_tree.fit(categoricalData.X_train, categoricalData.Y_train)\n",
    "y_pred = entropy_tree.predict(categoricalData.X_test)\n",
    "\n",
    "accuracy = metrics.accuracy_score(categoricalData.Y_test, y_pred)\n",
    "updateBest(entropy_tree, accuracy)\n",
    "\n",
    "print(metrics.classification_report(categoricalData.Y_test, y_pred, zero_division=1))\n",
    "print(\"Accuracy:\", accuracy)"
   ],
   "metadata": {
    "collapsed": false,
    "pycharm": {
     "is_executing": true
    }
   }
  },
  {
   "cell_type": "code",
   "execution_count": null,
   "outputs": [],
   "source": [
    "tree.plot_tree(entropy_tree)"
   ],
   "metadata": {
    "collapsed": false,
    "pycharm": {
     "is_executing": true
    }
   }
  },
  {
   "cell_type": "markdown",
   "source": [
    "# GaussianNB\n"
   ],
   "metadata": {}
  },
  {
   "cell_type": "code",
   "source": [
    "print(f\"Testing Model {GaussianNB.__name__}\")\n",
    "metricValue = range(1, 10)\n",
    "result = {}\n",
    "accuracy = []\n",
    "xData = []\n",
    "for k in metricValue:\n",
    "    result[k] = {}\n",
    "    print(f\"Testing <metric: {k}>: \", end=\"\")\n",
    "    gn = GaussianNB(var_smoothing=0.1 ** k)\n",
    "    xData.append(0.1 ** k)\n",
    "    gn.fit(categoricalData.X_train, categoricalData.Y_train)\n",
    "    y_pred = gn.predict(categoricalData.X_test)\n",
    "    acc = metrics.accuracy_score(categoricalData.Y_test, y_pred)\n",
    "    accuracy.append(acc)\n",
    "    f1 = f1_score(y_true=categoricalData.Y_test, y_pred=y_pred, average=\"macro\")\n",
    "    print(f\"Result: Accuracy {acc}, F1 {f1}\")\n",
    "    result[k][0] = {\n",
    "        \"Accuracy\": accuracy,\n",
    "        \"F1\": f1\n",
    "    }\n",
    "    updateBest(gn, acc)\n"
   ],
   "metadata": {
    "collapsed": false,
    "jupyter": {
     "outputs_hidden": false
    },
    "execution": {
     "iopub.status.busy": "2022-11-10T09:34:21.144852Z",
     "iopub.status.idle": "2022-11-10T09:34:21.145229Z",
     "shell.execute_reply.started": "2022-11-10T09:34:21.145039Z",
     "shell.execute_reply": "2022-11-10T09:34:21.145056Z"
    },
    "trusted": true,
    "pycharm": {
     "is_executing": true
    }
   },
   "execution_count": null,
   "outputs": []
  },
  {
   "cell_type": "code",
   "source": [
    "plt.figure(figsize=(20, 6))\n",
    "plt.plot(xData, accuracy, color='red', marker='o',\n",
    "         markersize=10)\n",
    "plt.title('Accuracy Vs var_smoothing Value')\n",
    "plt.xlabel('var_smoothing Value')\n",
    "plt.ylabel('Accuracy')"
   ],
   "metadata": {
    "collapsed": false,
    "jupyter": {
     "outputs_hidden": false
    },
    "execution": {
     "iopub.status.busy": "2022-11-10T09:34:21.146245Z",
     "iopub.status.idle": "2022-11-10T09:34:21.146612Z",
     "shell.execute_reply.started": "2022-11-10T09:34:21.146429Z",
     "shell.execute_reply": "2022-11-10T09:34:21.146446Z"
    },
    "trusted": true,
    "pycharm": {
     "is_executing": true
    }
   },
   "execution_count": null,
   "outputs": []
  },
  {
   "cell_type": "code",
   "source": [
    "\n",
    "print(f\"Testing Model {VotingClassifier.__name__}\")\n",
    "\n",
    "tree_clf = DecisionTreeClassifier()\n",
    "knn_clf = KNeighborsClassifier()\n",
    "randf_clf = RandomForestClassifier()\n",
    "\n",
    "voting_clf = VotingClassifier([('decTree', tree_clf), ('KNN', knn_clf), ('RandForest', randf_clf)], weights=None,\n",
    "                              verbose=True)\n",
    "voting_clf.fit(data.X_train, data.Y_train.values.ravel())"
   ],
   "metadata": {
    "collapsed": false,
    "jupyter": {
     "outputs_hidden": false
    },
    "pycharm": {
     "is_executing": true
    }
   },
   "execution_count": null,
   "outputs": []
  },
  {
   "cell_type": "code",
   "source": [
    "from sklearn.metrics import classification_report\n",
    "\n",
    "pred = voting_clf.predict(data.X_test)\n",
    "print(classification_report(y_pred=pred, y_true=data.Y_test))\n",
    "accuracy = metrics.accuracy_score(data.Y_test, pred)\n",
    "\n",
    "updateBest(voting_clf, accuracy)\n",
    "print(\"Accuracy: \", accuracy)"
   ],
   "metadata": {
    "pycharm": {
     "is_executing": true
    }
   },
   "execution_count": null,
   "outputs": []
  },
  {
   "cell_type": "code",
   "source": [
    "BestModels"
   ],
   "metadata": {
    "pycharm": {
     "is_executing": true
    }
   },
   "execution_count": null,
   "outputs": []
  },
  {
   "cell_type": "code",
   "execution_count": null,
   "outputs": [],
   "source": [],
   "metadata": {
    "collapsed": false,
    "pycharm": {
     "is_executing": true
    }
   }
  },
  {
   "cell_type": "markdown",
   "source": [
    "# ROC Curve"
   ],
   "metadata": {
    "collapsed": false
   }
  },
  {
   "cell_type": "code",
   "execution_count": null,
   "outputs": [],
   "source": [
    "from sklearn.metrics import plot_roc_curve\n",
    "\n",
    "ax = plt.gca()\n",
    "plot_KNN = plot_roc_curve(estimator=BestModels[KNeighborsClassifier.__name__]['model'], X=data.X_val, y=data.Y_val, ax=ax, name=KNeighborsClassifier.__name__)\n",
    "plot_RandomForest = plot_roc_curve(estimator=BestModels[RandomForestClassifier.__name__]['model'], X=data.X_val, y=data.Y_val, ax=ax, name=RandomForestClassifier.__name__)\n",
    "plot_DecisionTree = plot_roc_curve(estimator=BestModels[DecisionTreeClassifier.__name__]['model'], X=categoricalData.X_val, y=categoricalData.Y_val, ax=ax, name=DecisionTreeClassifier.__name__)\n",
    "plot_GaussianNB = plot_roc_curve(estimator=BestModels[GaussianNB.__name__]['model'], X=categoricalData.X_val, y=categoricalData.Y_val, ax=ax, name=GaussianNB.__name__)\n",
    "\n",
    "#plot_VotingClassifier = plot_roc_curve(estimator=BestModels[VotingClassifier.__name__]['model'], X=data.X_val, y=data.Y_val, ax=ax, name=VotingClassifier.__name__)"
   ],
   "metadata": {
    "collapsed": false,
    "pycharm": {
     "is_executing": true
    }
   }
  },
  {
   "cell_type": "code",
   "execution_count": null,
   "outputs": [],
   "source": [],
   "metadata": {
    "collapsed": false,
    "pycharm": {
     "is_executing": true
    }
   }
  },
  {
   "cell_type": "code",
   "execution_count": null,
   "outputs": [],
   "source": [],
   "metadata": {
    "collapsed": false,
    "pycharm": {
     "is_executing": true
    }
   }
  },
  {
   "cell_type": "code",
   "execution_count": null,
   "outputs": [],
   "source": [],
   "metadata": {
    "collapsed": false,
    "pycharm": {
     "is_executing": true
    }
   }
  }
 ]
}
