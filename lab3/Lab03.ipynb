{
 "cells": [
  {
   "cell_type": "markdown",
   "metadata": {},
   "source": [
    "# Lab 02 - Decision Tree - II\n",
    "\n",
    "In this lab we are trying to do some more cleaning on our data, learn more on analyzing and preparing data, tune \n",
    "hyperparameters and evaluate our models.\n",
    "\n",
    "Let us get back to the state where we left last week."
   ]
  },
  {
   "cell_type": "markdown",
   "metadata": {},
   "source": [
    "#### Import libraries"
   ]
  },
  {
   "cell_type": "code",
   "execution_count": 31,
   "metadata": {},
   "outputs": [],
   "source": [
    "# data analysis and preparing\n",
    "import pandas as pd\n",
    "import numpy as np\n",
    "import random as rnd\n",
    "\n",
    "# visualization\n",
    "import matplotlib.pyplot as plt\n",
    "import seaborn as sns\n",
    "%matplotlib inline\n",
    "\n",
    "# machine learning\n",
    "from sklearn.model_selection import train_test_split\n",
    "from sklearn.tree import DecisionTreeClassifier \n",
    "from sklearn import metrics, tree"
   ]
  },
  {
   "cell_type": "markdown",
   "metadata": {},
   "source": [
    "#### Acquire data\n"
   ]
  },
  {
   "cell_type": "code",
   "execution_count": 32,
   "outputs": [
    {
     "name": "stdout",
     "output_type": "stream",
     "text": [
      "Lab03.ipynb     test_merged.csv train.csv\r\n"
     ]
    }
   ],
   "source": [
    "!ls"
   ],
   "metadata": {
    "collapsed": false
   }
  },
  {
   "cell_type": "code",
   "execution_count": 33,
   "metadata": {},
   "outputs": [],
   "source": [
    "train_df = pd.read_csv('train.csv')\n",
    "test_df = pd.read_csv('test_merged.csv')\n",
    "\n",
    "combine = [train_df, test_df]"
   ]
  },
  {
   "cell_type": "code",
   "execution_count": 34,
   "outputs": [
    {
     "data": {
      "text/plain": "   PassengerId  Survived  Pclass  \\\n0            1         0       3   \n1            2         1       1   \n2            3         1       3   \n3            4         1       1   \n4            5         0       3   \n\n                                                Name     Sex   Age  SibSp  \\\n0                            Braund, Mr. Owen Harris    male  22.0      1   \n1  Cumings, Mrs. John Bradley (Florence Briggs Th...  female  38.0      1   \n2                             Heikkinen, Miss. Laina  female  26.0      0   \n3       Futrelle, Mrs. Jacques Heath (Lily May Peel)  female  35.0      1   \n4                           Allen, Mr. William Henry    male  35.0      0   \n\n   Parch            Ticket     Fare Cabin Embarked  \n0      0         A/5 21171   7.2500   NaN        S  \n1      0          PC 17599  71.2833   C85        C  \n2      0  STON/O2. 3101282   7.9250   NaN        S  \n3      0            113803  53.1000  C123        S  \n4      0            373450   8.0500   NaN        S  ",
      "text/html": "<div>\n<style scoped>\n    .dataframe tbody tr th:only-of-type {\n        vertical-align: middle;\n    }\n\n    .dataframe tbody tr th {\n        vertical-align: top;\n    }\n\n    .dataframe thead th {\n        text-align: right;\n    }\n</style>\n<table border=\"1\" class=\"dataframe\">\n  <thead>\n    <tr style=\"text-align: right;\">\n      <th></th>\n      <th>PassengerId</th>\n      <th>Survived</th>\n      <th>Pclass</th>\n      <th>Name</th>\n      <th>Sex</th>\n      <th>Age</th>\n      <th>SibSp</th>\n      <th>Parch</th>\n      <th>Ticket</th>\n      <th>Fare</th>\n      <th>Cabin</th>\n      <th>Embarked</th>\n    </tr>\n  </thead>\n  <tbody>\n    <tr>\n      <th>0</th>\n      <td>1</td>\n      <td>0</td>\n      <td>3</td>\n      <td>Braund, Mr. Owen Harris</td>\n      <td>male</td>\n      <td>22.0</td>\n      <td>1</td>\n      <td>0</td>\n      <td>A/5 21171</td>\n      <td>7.2500</td>\n      <td>NaN</td>\n      <td>S</td>\n    </tr>\n    <tr>\n      <th>1</th>\n      <td>2</td>\n      <td>1</td>\n      <td>1</td>\n      <td>Cumings, Mrs. John Bradley (Florence Briggs Th...</td>\n      <td>female</td>\n      <td>38.0</td>\n      <td>1</td>\n      <td>0</td>\n      <td>PC 17599</td>\n      <td>71.2833</td>\n      <td>C85</td>\n      <td>C</td>\n    </tr>\n    <tr>\n      <th>2</th>\n      <td>3</td>\n      <td>1</td>\n      <td>3</td>\n      <td>Heikkinen, Miss. Laina</td>\n      <td>female</td>\n      <td>26.0</td>\n      <td>0</td>\n      <td>0</td>\n      <td>STON/O2. 3101282</td>\n      <td>7.9250</td>\n      <td>NaN</td>\n      <td>S</td>\n    </tr>\n    <tr>\n      <th>3</th>\n      <td>4</td>\n      <td>1</td>\n      <td>1</td>\n      <td>Futrelle, Mrs. Jacques Heath (Lily May Peel)</td>\n      <td>female</td>\n      <td>35.0</td>\n      <td>1</td>\n      <td>0</td>\n      <td>113803</td>\n      <td>53.1000</td>\n      <td>C123</td>\n      <td>S</td>\n    </tr>\n    <tr>\n      <th>4</th>\n      <td>5</td>\n      <td>0</td>\n      <td>3</td>\n      <td>Allen, Mr. William Henry</td>\n      <td>male</td>\n      <td>35.0</td>\n      <td>0</td>\n      <td>0</td>\n      <td>373450</td>\n      <td>8.0500</td>\n      <td>NaN</td>\n      <td>S</td>\n    </tr>\n  </tbody>\n</table>\n</div>"
     },
     "execution_count": 34,
     "metadata": {},
     "output_type": "execute_result"
    }
   ],
   "source": [
    "train_df.head()"
   ],
   "metadata": {
    "collapsed": false
   }
  },
  {
   "cell_type": "code",
   "execution_count": 35,
   "outputs": [
    {
     "data": {
      "text/plain": "   PassengerId  Pclass                                          Name     Sex  \\\n0          892       3                              Kelly, Mr. James    male   \n1          893       3              Wilkes, Mrs. James (Ellen Needs)  female   \n2          894       2                     Myles, Mr. Thomas Francis    male   \n3          895       3                              Wirz, Mr. Albert    male   \n4          896       3  Hirvonen, Mrs. Alexander (Helga E Lindqvist)  female   \n\n    Age  SibSp  Parch   Ticket     Fare Cabin Embarked  Survived  \n0  34.5      0      0   330911   7.8292   NaN        Q         0  \n1  47.0      1      0   363272   7.0000   NaN        S         1  \n2  62.0      0      0   240276   9.6875   NaN        Q         0  \n3  27.0      0      0   315154   8.6625   NaN        S         0  \n4  22.0      1      1  3101298  12.2875   NaN        S         1  ",
      "text/html": "<div>\n<style scoped>\n    .dataframe tbody tr th:only-of-type {\n        vertical-align: middle;\n    }\n\n    .dataframe tbody tr th {\n        vertical-align: top;\n    }\n\n    .dataframe thead th {\n        text-align: right;\n    }\n</style>\n<table border=\"1\" class=\"dataframe\">\n  <thead>\n    <tr style=\"text-align: right;\">\n      <th></th>\n      <th>PassengerId</th>\n      <th>Pclass</th>\n      <th>Name</th>\n      <th>Sex</th>\n      <th>Age</th>\n      <th>SibSp</th>\n      <th>Parch</th>\n      <th>Ticket</th>\n      <th>Fare</th>\n      <th>Cabin</th>\n      <th>Embarked</th>\n      <th>Survived</th>\n    </tr>\n  </thead>\n  <tbody>\n    <tr>\n      <th>0</th>\n      <td>892</td>\n      <td>3</td>\n      <td>Kelly, Mr. James</td>\n      <td>male</td>\n      <td>34.5</td>\n      <td>0</td>\n      <td>0</td>\n      <td>330911</td>\n      <td>7.8292</td>\n      <td>NaN</td>\n      <td>Q</td>\n      <td>0</td>\n    </tr>\n    <tr>\n      <th>1</th>\n      <td>893</td>\n      <td>3</td>\n      <td>Wilkes, Mrs. James (Ellen Needs)</td>\n      <td>female</td>\n      <td>47.0</td>\n      <td>1</td>\n      <td>0</td>\n      <td>363272</td>\n      <td>7.0000</td>\n      <td>NaN</td>\n      <td>S</td>\n      <td>1</td>\n    </tr>\n    <tr>\n      <th>2</th>\n      <td>894</td>\n      <td>2</td>\n      <td>Myles, Mr. Thomas Francis</td>\n      <td>male</td>\n      <td>62.0</td>\n      <td>0</td>\n      <td>0</td>\n      <td>240276</td>\n      <td>9.6875</td>\n      <td>NaN</td>\n      <td>Q</td>\n      <td>0</td>\n    </tr>\n    <tr>\n      <th>3</th>\n      <td>895</td>\n      <td>3</td>\n      <td>Wirz, Mr. Albert</td>\n      <td>male</td>\n      <td>27.0</td>\n      <td>0</td>\n      <td>0</td>\n      <td>315154</td>\n      <td>8.6625</td>\n      <td>NaN</td>\n      <td>S</td>\n      <td>0</td>\n    </tr>\n    <tr>\n      <th>4</th>\n      <td>896</td>\n      <td>3</td>\n      <td>Hirvonen, Mrs. Alexander (Helga E Lindqvist)</td>\n      <td>female</td>\n      <td>22.0</td>\n      <td>1</td>\n      <td>1</td>\n      <td>3101298</td>\n      <td>12.2875</td>\n      <td>NaN</td>\n      <td>S</td>\n      <td>1</td>\n    </tr>\n  </tbody>\n</table>\n</div>"
     },
     "execution_count": 35,
     "metadata": {},
     "output_type": "execute_result"
    }
   ],
   "source": [
    "test_df.head()"
   ],
   "metadata": {
    "collapsed": false
   }
  },
  {
   "cell_type": "markdown",
   "metadata": {},
   "source": [
    "#### Prepare and clean data"
   ]
  },
  {
   "cell_type": "code",
   "execution_count": 36,
   "metadata": {},
   "outputs": [],
   "source": [
    "for df in combine:\n",
    "    df.drop('Cabin', axis=1, inplace=True)\n",
    "    \n",
    "for df in combine:\n",
    "    df.drop(columns=['Ticket', 'PassengerId'], inplace=True)\n",
    "    df['Embarked'].fillna(df['Embarked'].mode(dropna=True)[0], inplace=True)"
   ]
  },
  {
   "cell_type": "code",
   "execution_count": 49,
   "outputs": [
    {
     "data": {
      "text/plain": "{'C', 'Q', 'S'}"
     },
     "execution_count": 49,
     "metadata": {},
     "output_type": "execute_result"
    }
   ],
   "source": [
    "set(df['Embarked'])"
   ],
   "metadata": {
    "collapsed": false
   }
  },
  {
   "cell_type": "code",
   "execution_count": 50,
   "outputs": [
    {
     "data": {
      "text/plain": "{'female', 'male'}"
     },
     "execution_count": 50,
     "metadata": {},
     "output_type": "execute_result"
    }
   ],
   "source": [
    "set(df['Sex'])"
   ],
   "metadata": {
    "collapsed": false
   }
  },
  {
   "cell_type": "code",
   "execution_count": 51,
   "metadata": {},
   "outputs": [],
   "source": [
    "num_encode = {\n",
    "    'Sex': {'male': 0, \"female\": 1},\n",
    "    'Embarked': {'S': 0, 'Q': 1, 'C': 2 }\n",
    "}\n",
    "\n",
    "for df in combine:\n",
    "    df.replace(num_encode, inplace=True)\n"
   ]
  },
  {
   "cell_type": "code",
   "execution_count": 53,
   "outputs": [
    {
     "data": {
      "text/plain": "   Pclass                                          Name  Sex   Age  SibSp  \\\n0       3                              Kelly, Mr. James    0  34.5      0   \n1       3              Wilkes, Mrs. James (Ellen Needs)    1  47.0      1   \n2       2                     Myles, Mr. Thomas Francis    0  62.0      0   \n3       3                              Wirz, Mr. Albert    0  27.0      0   \n4       3  Hirvonen, Mrs. Alexander (Helga E Lindqvist)    1  22.0      1   \n\n   Parch     Fare  Embarked  Survived  \n0      0   7.8292         1         0  \n1      0   7.0000         0         1  \n2      0   9.6875         1         0  \n3      0   8.6625         0         0  \n4      1  12.2875         0         1  ",
      "text/html": "<div>\n<style scoped>\n    .dataframe tbody tr th:only-of-type {\n        vertical-align: middle;\n    }\n\n    .dataframe tbody tr th {\n        vertical-align: top;\n    }\n\n    .dataframe thead th {\n        text-align: right;\n    }\n</style>\n<table border=\"1\" class=\"dataframe\">\n  <thead>\n    <tr style=\"text-align: right;\">\n      <th></th>\n      <th>Pclass</th>\n      <th>Name</th>\n      <th>Sex</th>\n      <th>Age</th>\n      <th>SibSp</th>\n      <th>Parch</th>\n      <th>Fare</th>\n      <th>Embarked</th>\n      <th>Survived</th>\n    </tr>\n  </thead>\n  <tbody>\n    <tr>\n      <th>0</th>\n      <td>3</td>\n      <td>Kelly, Mr. James</td>\n      <td>0</td>\n      <td>34.5</td>\n      <td>0</td>\n      <td>0</td>\n      <td>7.8292</td>\n      <td>1</td>\n      <td>0</td>\n    </tr>\n    <tr>\n      <th>1</th>\n      <td>3</td>\n      <td>Wilkes, Mrs. James (Ellen Needs)</td>\n      <td>1</td>\n      <td>47.0</td>\n      <td>1</td>\n      <td>0</td>\n      <td>7.0000</td>\n      <td>0</td>\n      <td>1</td>\n    </tr>\n    <tr>\n      <th>2</th>\n      <td>2</td>\n      <td>Myles, Mr. Thomas Francis</td>\n      <td>0</td>\n      <td>62.0</td>\n      <td>0</td>\n      <td>0</td>\n      <td>9.6875</td>\n      <td>1</td>\n      <td>0</td>\n    </tr>\n    <tr>\n      <th>3</th>\n      <td>3</td>\n      <td>Wirz, Mr. Albert</td>\n      <td>0</td>\n      <td>27.0</td>\n      <td>0</td>\n      <td>0</td>\n      <td>8.6625</td>\n      <td>0</td>\n      <td>0</td>\n    </tr>\n    <tr>\n      <th>4</th>\n      <td>3</td>\n      <td>Hirvonen, Mrs. Alexander (Helga E Lindqvist)</td>\n      <td>1</td>\n      <td>22.0</td>\n      <td>1</td>\n      <td>1</td>\n      <td>12.2875</td>\n      <td>0</td>\n      <td>1</td>\n    </tr>\n  </tbody>\n</table>\n</div>"
     },
     "execution_count": 53,
     "metadata": {},
     "output_type": "execute_result"
    }
   ],
   "source": [
    "df.head()"
   ],
   "metadata": {
    "collapsed": false
   }
  },
  {
   "cell_type": "markdown",
   "metadata": {},
   "source": [
    "### Data preparation continued..."
   ]
  },
  {
   "cell_type": "markdown",
   "metadata": {},
   "source": [
    "As we observed last week, Age is a really good feature. Let's prepare it for the algorithm."
   ]
  },
  {
   "cell_type": "markdown",
   "metadata": {},
   "source": [
    "### Completing a numerical continuous feature\n",
    "\n",
    "We can consider three methods to complete a numerical continuous feature.\n",
    "\n",
    "1. A simple way is to generate random numbers between mean and standard deviation.\n",
    "\n",
    "2. More accurate way of guessing missing values is to use other correlated features. In our case we note correlation \n",
    "among Age, Gender, and Pclass. Guess Age values using median values for Age across sets of Pclass and Gender feature \n",
    "combinations. So, median Age for Pclass=1 and Gender=0, Pclass=1 and Gender=1, and so on...\n",
    "\n",
    "3. Combine methods 1 and 2. Instead of guessing age values based on median, use random numbers between mean and \n",
    "standard deviation, based on sets of Pclass and Gender combinations.\n",
    "\n",
    "Method 1 and 3 can introduce random noise into our models. The results from multiple executions might vary. Because of \n",
    "that we will prefer method 2. But you can try any one of these methods in your experiments."
   ]
  },
  {
   "cell_type": "code",
   "execution_count": 59,
   "metadata": {},
   "outputs": [
    {
     "data": {
      "text/plain": "<seaborn.axisgrid.FacetGrid at 0x13f665fa0>"
     },
     "execution_count": 59,
     "metadata": {},
     "output_type": "execute_result"
    },
    {
     "data": {
      "text/plain": "<Figure size 715.111x660 with 6 Axes>",
      "image/png": "[encoded data removed]"
     },
     "metadata": {},
     "output_type": "display_data"
    }
   ],
   "source": [
    "grid = sns.FacetGrid(train_df, row='Pclass', col='Sex', height=2.2, aspect=1.6)\n",
    "grid.map(plt.hist, 'Age', alpha=.5, bins=20)\n",
    "grid.add_legend()"
   ]
  },
  {
   "cell_type": "markdown",
   "metadata": {},
   "source": [
    "Let us start by preparing an empty array to contain guessed Age values based on Pclass x Gender combinations."
   ]
  },
  {
   "cell_type": "code",
   "execution_count": 62,
   "metadata": {},
   "outputs": [
    {
     "data": {
      "text/plain": "array([[0., 0., 0.],\n       [0., 0., 0.]])"
     },
     "execution_count": 62,
     "metadata": {},
     "output_type": "execute_result"
    }
   ],
   "source": [
    "guess_ages = np.zeros((2,3))\n",
    "guess_ages"
   ]
  },
  {
   "cell_type": "markdown",
   "metadata": {},
   "source": [
    "Now we iterate over Sex (0 or 1) and Pclass (1, 2, 3) to calculate guessed values of Age for the six combinations."
   ]
  },
  {
   "cell_type": "code",
   "execution_count": 63,
   "metadata": {},
   "outputs": [],
   "source": [
    "pd.set_option('mode.chained_assignment',None)\n",
    "\n",
    "for dataset in combine:\n",
    "    for i in range(0, 2):\n",
    "        for j in range(0, 3):\n",
    "            guess_df = dataset[(dataset['Sex'] == i) & \\\n",
    "                                  (dataset['Pclass'] == j+1)]['Age'].dropna()\n",
    "            age_guess = guess_df.median()\n",
    "            \n",
    "            guess_ages[i,j] = int(age_guess)\n",
    "            \n",
    "    for i in range(0, 2):\n",
    "        for j in range(0, 3):\n",
    "            mask = dataset[(dataset.Age.isnull()) & (dataset.Sex == i) & (dataset.Pclass == j+1)]     \n",
    "            if mask.empty:\n",
    "                continue\n",
    "            \n",
    "            dataset.loc[mask.index , 'Age'] = int(guess_ages[i, j])    \n",
    "                \n",
    "    # dataset.loc[:, 'Age'] = dataset['Age'].astype(int)"
   ]
  },
  {
   "cell_type": "code",
   "execution_count": 70,
   "metadata": {},
   "outputs": [
    {
     "data": {
      "text/plain": "   Survived  Pclass                                               Name  Sex  \\\n0         0       3                            Braund, Mr. Owen Harris    0   \n1         1       1  Cumings, Mrs. John Bradley (Florence Briggs Th...    1   \n2         1       3                             Heikkinen, Miss. Laina    1   \n3         1       1       Futrelle, Mrs. Jacques Heath (Lily May Peel)    1   \n4         0       3                           Allen, Mr. William Henry    0   \n\n    Age  SibSp  Parch     Fare  Embarked  \n0  22.0      1      0   7.2500         0  \n1  38.0      1      0  71.2833         2  \n2  26.0      0      0   7.9250         0  \n3  35.0      1      0  53.1000         0  \n4  35.0      0      0   8.0500         0  ",
      "text/html": "<div>\n<style scoped>\n    .dataframe tbody tr th:only-of-type {\n        vertical-align: middle;\n    }\n\n    .dataframe tbody tr th {\n        vertical-align: top;\n    }\n\n    .dataframe thead th {\n        text-align: right;\n    }\n</style>\n<table border=\"1\" class=\"dataframe\">\n  <thead>\n    <tr style=\"text-align: right;\">\n      <th></th>\n      <th>Survived</th>\n      <th>Pclass</th>\n      <th>Name</th>\n      <th>Sex</th>\n      <th>Age</th>\n      <th>SibSp</th>\n      <th>Parch</th>\n      <th>Fare</th>\n      <th>Embarked</th>\n    </tr>\n  </thead>\n  <tbody>\n    <tr>\n      <th>0</th>\n      <td>0</td>\n      <td>3</td>\n      <td>Braund, Mr. Owen Harris</td>\n      <td>0</td>\n      <td>22.0</td>\n      <td>1</td>\n      <td>0</td>\n      <td>7.2500</td>\n      <td>0</td>\n    </tr>\n    <tr>\n      <th>1</th>\n      <td>1</td>\n      <td>1</td>\n      <td>Cumings, Mrs. John Bradley (Florence Briggs Th...</td>\n      <td>1</td>\n      <td>38.0</td>\n      <td>1</td>\n      <td>0</td>\n      <td>71.2833</td>\n      <td>2</td>\n    </tr>\n    <tr>\n      <th>2</th>\n      <td>1</td>\n      <td>3</td>\n      <td>Heikkinen, Miss. Laina</td>\n      <td>1</td>\n      <td>26.0</td>\n      <td>0</td>\n      <td>0</td>\n      <td>7.9250</td>\n      <td>0</td>\n    </tr>\n    <tr>\n      <th>3</th>\n      <td>1</td>\n      <td>1</td>\n      <td>Futrelle, Mrs. Jacques Heath (Lily May Peel)</td>\n      <td>1</td>\n      <td>35.0</td>\n      <td>1</td>\n      <td>0</td>\n      <td>53.1000</td>\n      <td>0</td>\n    </tr>\n    <tr>\n      <th>4</th>\n      <td>0</td>\n      <td>3</td>\n      <td>Allen, Mr. William Henry</td>\n      <td>0</td>\n      <td>35.0</td>\n      <td>0</td>\n      <td>0</td>\n      <td>8.0500</td>\n      <td>0</td>\n    </tr>\n  </tbody>\n</table>\n</div>"
     },
     "execution_count": 70,
     "metadata": {},
     "output_type": "execute_result"
    }
   ],
   "source": [
    "train_df.head()"
   ]
  },
  {
   "cell_type": "code",
   "execution_count": 65,
   "outputs": [
    {
     "name": "stdout",
     "output_type": "stream",
     "text": [
      "<class 'pandas.core.frame.DataFrame'>\n",
      "RangeIndex: 891 entries, 0 to 890\n",
      "Data columns (total 9 columns):\n",
      " #   Column    Non-Null Count  Dtype  \n",
      "---  ------    --------------  -----  \n",
      " 0   Survived  891 non-null    int64  \n",
      " 1   Pclass    891 non-null    int64  \n",
      " 2   Name      891 non-null    object \n",
      " 3   Sex       891 non-null    int64  \n",
      " 4   Age       891 non-null    float64\n",
      " 5   SibSp     891 non-null    int64  \n",
      " 6   Parch     891 non-null    int64  \n",
      " 7   Fare      891 non-null    float64\n",
      " 8   Embarked  891 non-null    int64  \n",
      "dtypes: float64(2), int64(6), object(1)\n",
      "memory usage: 62.8+ KB\n"
     ]
    }
   ],
   "source": [
    "train_df.info()"
   ],
   "metadata": {
    "collapsed": false
   }
  },
  {
   "cell_type": "markdown",
   "metadata": {},
   "source": [
    "Now we have to convert the continuous feature to categorical feature to use it in our models. Let us create Age bands\n",
    "and determine correlations with Survived."
   ]
  },
  {
   "cell_type": "code",
   "execution_count": 71,
   "metadata": {},
   "outputs": [
    {
     "data": {
      "text/plain": "        AgeBand  Survived\n0  Toddler/baby  0.625000\n1         Child  0.516854\n2         Adult  0.363636\n3       Elderly  0.125000",
      "text/html": "<div>\n<style scoped>\n    .dataframe tbody tr th:only-of-type {\n        vertical-align: middle;\n    }\n\n    .dataframe tbody tr th {\n        vertical-align: top;\n    }\n\n    .dataframe thead th {\n        text-align: right;\n    }\n</style>\n<table border=\"1\" class=\"dataframe\">\n  <thead>\n    <tr style=\"text-align: right;\">\n      <th></th>\n      <th>AgeBand</th>\n      <th>Survived</th>\n    </tr>\n  </thead>\n  <tbody>\n    <tr>\n      <th>0</th>\n      <td>Toddler/baby</td>\n      <td>0.625000</td>\n    </tr>\n    <tr>\n      <th>1</th>\n      <td>Child</td>\n      <td>0.516854</td>\n    </tr>\n    <tr>\n      <th>2</th>\n      <td>Adult</td>\n      <td>0.363636</td>\n    </tr>\n    <tr>\n      <th>3</th>\n      <td>Elderly</td>\n      <td>0.125000</td>\n    </tr>\n  </tbody>\n</table>\n</div>"
     },
     "execution_count": 71,
     "metadata": {},
     "output_type": "execute_result"
    }
   ],
   "source": [
    "train_df['AgeBand'] = pd.cut(train_df['Age'],bins=[0,2,17,65,99], labels=['Toddler/baby','Child','Adult','Elderly'])\n",
    "train_df[['AgeBand', 'Survived']].groupby(['AgeBand'], as_index=False).mean().sort_values(by='AgeBand', ascending=True)"
   ]
  },
  {
   "cell_type": "markdown",
   "metadata": {},
   "source": [
    "Let us replace Age with ordinals based on these bands."
   ]
  },
  {
   "cell_type": "code",
   "execution_count": 72,
   "metadata": {},
   "outputs": [
    {
     "data": {
      "text/plain": "   Survived  Pclass                                               Name  Sex  \\\n0         0       3                            Braund, Mr. Owen Harris    0   \n1         1       1  Cumings, Mrs. John Bradley (Florence Briggs Th...    1   \n2         1       3                             Heikkinen, Miss. Laina    1   \n3         1       1       Futrelle, Mrs. Jacques Heath (Lily May Peel)    1   \n4         0       3                           Allen, Mr. William Henry    0   \n\n    Age AgeBand  SibSp  Parch     Fare  Embarked  \n0  22.0       2      1      0   7.2500         0  \n1  38.0       2      1      0  71.2833         2  \n2  26.0       2      0      0   7.9250         0  \n3  35.0       2      1      0  53.1000         0  \n4  35.0       2      0      0   8.0500         0  ",
      "text/html": "<div>\n<style scoped>\n    .dataframe tbody tr th:only-of-type {\n        vertical-align: middle;\n    }\n\n    .dataframe tbody tr th {\n        vertical-align: top;\n    }\n\n    .dataframe thead th {\n        text-align: right;\n    }\n</style>\n<table border=\"1\" class=\"dataframe\">\n  <thead>\n    <tr style=\"text-align: right;\">\n      <th></th>\n      <th>Survived</th>\n      <th>Pclass</th>\n      <th>Name</th>\n      <th>Sex</th>\n      <th>Age</th>\n      <th>AgeBand</th>\n      <th>SibSp</th>\n      <th>Parch</th>\n      <th>Fare</th>\n      <th>Embarked</th>\n    </tr>\n  </thead>\n  <tbody>\n    <tr>\n      <th>0</th>\n      <td>0</td>\n      <td>3</td>\n      <td>Braund, Mr. Owen Harris</td>\n      <td>0</td>\n      <td>22.0</td>\n      <td>2</td>\n      <td>1</td>\n      <td>0</td>\n      <td>7.2500</td>\n      <td>0</td>\n    </tr>\n    <tr>\n      <th>1</th>\n      <td>1</td>\n      <td>1</td>\n      <td>Cumings, Mrs. John Bradley (Florence Briggs Th...</td>\n      <td>1</td>\n      <td>38.0</td>\n      <td>2</td>\n      <td>1</td>\n      <td>0</td>\n      <td>71.2833</td>\n      <td>2</td>\n    </tr>\n    <tr>\n      <th>2</th>\n      <td>1</td>\n      <td>3</td>\n      <td>Heikkinen, Miss. Laina</td>\n      <td>1</td>\n      <td>26.0</td>\n      <td>2</td>\n      <td>0</td>\n      <td>0</td>\n      <td>7.9250</td>\n      <td>0</td>\n    </tr>\n    <tr>\n      <th>3</th>\n      <td>1</td>\n      <td>1</td>\n      <td>Futrelle, Mrs. Jacques Heath (Lily May Peel)</td>\n      <td>1</td>\n      <td>35.0</td>\n      <td>2</td>\n      <td>1</td>\n      <td>0</td>\n      <td>53.1000</td>\n      <td>0</td>\n    </tr>\n    <tr>\n      <th>4</th>\n      <td>0</td>\n      <td>3</td>\n      <td>Allen, Mr. William Henry</td>\n      <td>0</td>\n      <td>35.0</td>\n      <td>2</td>\n      <td>0</td>\n      <td>0</td>\n      <td>8.0500</td>\n      <td>0</td>\n    </tr>\n  </tbody>\n</table>\n</div>"
     },
     "execution_count": 72,
     "metadata": {},
     "output_type": "execute_result"
    }
   ],
   "source": [
    "train_df.drop('AgeBand', inplace=True, axis=1)\n",
    "for df in combine:\n",
    "    category = pd.cut(df.Age,bins=[0,2,17,65,99], labels=[0, 1, 2, 3])\n",
    "    df.insert(5,'AgeBand', category)\n",
    "\n",
    "train_df.head()"
   ]
  },
  {
   "cell_type": "markdown",
   "metadata": {},
   "source": [
    "Let's Consider the Fare feature now."
   ]
  },
  {
   "cell_type": "code",
   "execution_count": 73,
   "metadata": {},
   "outputs": [
    {
     "data": {
      "text/plain": "<AxesSubplot:xlabel='Survived', ylabel='Fare'>"
     },
     "execution_count": 73,
     "metadata": {},
     "output_type": "execute_result"
    },
    {
     "data": {
      "text/plain": "<Figure size 640x480 with 1 Axes>",
      "image/png": "[encoded data removed]"
     },
     "metadata": {},
     "output_type": "display_data"
    }
   ],
   "source": [
    "sns.barplot(x='Survived', y='Fare', data=train_df)"
   ]
  },
  {
   "cell_type": "markdown",
   "metadata": {},
   "source": [
    "We can see that the survived people on average has paid more fare compared to those who did not survive.  \n",
    "\n",
    "Let's complete the feature by assigning most frequent fare to all missing values."
   ]
  },
  {
   "cell_type": "code",
   "execution_count": 74,
   "metadata": {},
   "outputs": [],
   "source": [
    "for dataset in combine:\n",
    "    dataset['Fare'].fillna(dataset['Fare'].mode(dropna=True)[0], inplace=True)"
   ]
  },
  {
   "cell_type": "markdown",
   "metadata": {},
   "source": [
    "Let's try to create Fare bands using quartile values."
   ]
  },
  {
   "cell_type": "code",
   "execution_count": 76,
   "metadata": {},
   "outputs": [],
   "source": [
    "train_df['FareBand'] = pd.qcut(train_df['Fare'], 4)"
   ]
  },
  {
   "cell_type": "code",
   "execution_count": 80,
   "outputs": [
    {
     "data": {
      "text/plain": "          FareBand  Survived\n0   (-0.001, 7.91]  0.197309\n1   (7.91, 14.454]  0.303571\n2   (14.454, 31.0]  0.454955\n3  (31.0, 512.329]  0.581081",
      "text/html": "<div>\n<style scoped>\n    .dataframe tbody tr th:only-of-type {\n        vertical-align: middle;\n    }\n\n    .dataframe tbody tr th {\n        vertical-align: top;\n    }\n\n    .dataframe thead th {\n        text-align: right;\n    }\n</style>\n<table border=\"1\" class=\"dataframe\">\n  <thead>\n    <tr style=\"text-align: right;\">\n      <th></th>\n      <th>FareBand</th>\n      <th>Survived</th>\n    </tr>\n  </thead>\n  <tbody>\n    <tr>\n      <th>0</th>\n      <td>(-0.001, 7.91]</td>\n      <td>0.197309</td>\n    </tr>\n    <tr>\n      <th>1</th>\n      <td>(7.91, 14.454]</td>\n      <td>0.303571</td>\n    </tr>\n    <tr>\n      <th>2</th>\n      <td>(14.454, 31.0]</td>\n      <td>0.454955</td>\n    </tr>\n    <tr>\n      <th>3</th>\n      <td>(31.0, 512.329]</td>\n      <td>0.581081</td>\n    </tr>\n  </tbody>\n</table>\n</div>"
     },
     "execution_count": 80,
     "metadata": {},
     "output_type": "execute_result"
    }
   ],
   "source": [
    "train_df[['FareBand', 'Survived']].groupby(['FareBand'], as_index=False).mean().sort_values(by='FareBand', ascending=True)"
   ],
   "metadata": {
    "collapsed": false
   }
  },
  {
   "cell_type": "markdown",
   "metadata": {},
   "source": [
    "It seems like Fare bands give us good information on who has the least probability to survive. Let's make it an ordinal\n",
    "feature."
   ]
  },
  {
   "cell_type": "code",
   "execution_count": 14,
   "metadata": {},
   "outputs": [
    {
     "data": {
      "text/html": [
       "<div>\n",
       "<style scoped>\n",
       "    .dataframe tbody tr th:only-of-type {\n",
       "        vertical-align: middle;\n",
       "    }\n",
       "\n",
       "    .dataframe tbody tr th {\n",
       "        vertical-align: top;\n",
       "    }\n",
       "\n",
       "    .dataframe thead th {\n",
       "        text-align: right;\n",
       "    }\n",
       "</style>\n",
       "<table border=\"1\" class=\"dataframe\">\n",
       "  <thead>\n",
       "    <tr style=\"text-align: right;\">\n",
       "      <th></th>\n",
       "      <th>Survived</th>\n",
       "      <th>Pclass</th>\n",
       "      <th>Name</th>\n",
       "      <th>Sex</th>\n",
       "      <th>Age</th>\n",
       "      <th>FareBand</th>\n",
       "      <th>AgeBand</th>\n",
       "      <th>SibSp</th>\n",
       "      <th>Parch</th>\n",
       "      <th>Fare</th>\n",
       "      <th>Embarked</th>\n",
       "    </tr>\n",
       "  </thead>\n",
       "  <tbody>\n",
       "    <tr>\n",
       "      <th>0</th>\n",
       "      <td>0</td>\n",
       "      <td>3</td>\n",
       "      <td>Braund, Mr. Owen Harris</td>\n",
       "      <td>0</td>\n",
       "      <td>22.0</td>\n",
       "      <td>0</td>\n",
       "      <td>2</td>\n",
       "      <td>1</td>\n",
       "      <td>0</td>\n",
       "      <td>7.2500</td>\n",
       "      <td>0</td>\n",
       "    </tr>\n",
       "    <tr>\n",
       "      <th>1</th>\n",
       "      <td>1</td>\n",
       "      <td>1</td>\n",
       "      <td>Cumings, Mrs. John Bradley (Florence Briggs Th...</td>\n",
       "      <td>1</td>\n",
       "      <td>38.0</td>\n",
       "      <td>3</td>\n",
       "      <td>2</td>\n",
       "      <td>1</td>\n",
       "      <td>0</td>\n",
       "      <td>71.2833</td>\n",
       "      <td>2</td>\n",
       "    </tr>\n",
       "    <tr>\n",
       "      <th>2</th>\n",
       "      <td>1</td>\n",
       "      <td>3</td>\n",
       "      <td>Heikkinen, Miss. Laina</td>\n",
       "      <td>1</td>\n",
       "      <td>26.0</td>\n",
       "      <td>1</td>\n",
       "      <td>2</td>\n",
       "      <td>0</td>\n",
       "      <td>0</td>\n",
       "      <td>7.9250</td>\n",
       "      <td>0</td>\n",
       "    </tr>\n",
       "    <tr>\n",
       "      <th>3</th>\n",
       "      <td>1</td>\n",
       "      <td>1</td>\n",
       "      <td>Futrelle, Mrs. Jacques Heath (Lily May Peel)</td>\n",
       "      <td>1</td>\n",
       "      <td>35.0</td>\n",
       "      <td>3</td>\n",
       "      <td>2</td>\n",
       "      <td>1</td>\n",
       "      <td>0</td>\n",
       "      <td>53.1000</td>\n",
       "      <td>0</td>\n",
       "    </tr>\n",
       "    <tr>\n",
       "      <th>4</th>\n",
       "      <td>0</td>\n",
       "      <td>3</td>\n",
       "      <td>Allen, Mr. William Henry</td>\n",
       "      <td>0</td>\n",
       "      <td>35.0</td>\n",
       "      <td>1</td>\n",
       "      <td>2</td>\n",
       "      <td>0</td>\n",
       "      <td>0</td>\n",
       "      <td>8.0500</td>\n",
       "      <td>0</td>\n",
       "    </tr>\n",
       "  </tbody>\n",
       "</table>\n",
       "</div>"
      ],
      "text/plain": [
       "   Survived  Pclass                                               Name  Sex  \\\n",
       "0         0       3                            Braund, Mr. Owen Harris    0   \n",
       "1         1       1  Cumings, Mrs. John Bradley (Florence Briggs Th...    1   \n",
       "2         1       3                             Heikkinen, Miss. Laina    1   \n",
       "3         1       1       Futrelle, Mrs. Jacques Heath (Lily May Peel)    1   \n",
       "4         0       3                           Allen, Mr. William Henry    0   \n",
       "\n",
       "    Age FareBand AgeBand  SibSp  Parch     Fare  Embarked  \n",
       "0  22.0        0       2      1      0   7.2500         0  \n",
       "1  38.0        3       2      1      0  71.2833         2  \n",
       "2  26.0        1       2      0      0   7.9250         0  \n",
       "3  35.0        3       2      1      0  53.1000         0  \n",
       "4  35.0        1       2      0      0   8.0500         0  "
      ]
     },
     "execution_count": 14,
     "metadata": {},
     "output_type": "execute_result"
    }
   ],
   "source": [
    "train_df.drop(['FareBand'], axis=1, inplace=True)\n",
    "for df in combine:\n",
    "    category = pd.qcut(df.Fare, q=4, labels=[0, 1, 2, 3])\n",
    "    df.insert(5,'FareBand', category)\n",
    "\n",
    "train_df.head()"
   ]
  },
  {
   "cell_type": "markdown",
   "metadata": {},
   "source": [
    "### Creating new features extracting from existing features\n",
    "\n",
    "##### Title from Name\n",
    "\n",
    "We want to analyze if Name feature can be engineered to extract titles and test correlation between titles and survival,\n",
    " before dropping Name feature.\n",
    "\n",
    "In the following code we extract Title feature using regular expressions. The RegEx pattern `(\\w+\\.)` matches the first \n",
    "word which ends with a dot character within Name feature. The `expand=False` flag returns a DataFrame."
   ]
  },
  {
   "cell_type": "code",
   "execution_count": 15,
   "metadata": {},
   "outputs": [
    {
     "data": {
      "text/html": [
       "<div>\n",
       "<style scoped>\n",
       "    .dataframe tbody tr th:only-of-type {\n",
       "        vertical-align: middle;\n",
       "    }\n",
       "\n",
       "    .dataframe tbody tr th {\n",
       "        vertical-align: top;\n",
       "    }\n",
       "\n",
       "    .dataframe thead th {\n",
       "        text-align: right;\n",
       "    }\n",
       "</style>\n",
       "<table border=\"1\" class=\"dataframe\">\n",
       "  <thead>\n",
       "    <tr style=\"text-align: right;\">\n",
       "      <th>AgeBand</th>\n",
       "      <th>0</th>\n",
       "      <th>1</th>\n",
       "      <th>2</th>\n",
       "      <th>3</th>\n",
       "    </tr>\n",
       "    <tr>\n",
       "      <th>Title</th>\n",
       "      <th></th>\n",
       "      <th></th>\n",
       "      <th></th>\n",
       "      <th></th>\n",
       "    </tr>\n",
       "  </thead>\n",
       "  <tbody>\n",
       "    <tr>\n",
       "      <th>Capt</th>\n",
       "      <td>0</td>\n",
       "      <td>0</td>\n",
       "      <td>0</td>\n",
       "      <td>1</td>\n",
       "    </tr>\n",
       "    <tr>\n",
       "      <th>Col</th>\n",
       "      <td>0</td>\n",
       "      <td>0</td>\n",
       "      <td>2</td>\n",
       "      <td>0</td>\n",
       "    </tr>\n",
       "    <tr>\n",
       "      <th>Countess</th>\n",
       "      <td>0</td>\n",
       "      <td>0</td>\n",
       "      <td>1</td>\n",
       "      <td>0</td>\n",
       "    </tr>\n",
       "    <tr>\n",
       "      <th>Don</th>\n",
       "      <td>0</td>\n",
       "      <td>0</td>\n",
       "      <td>1</td>\n",
       "      <td>0</td>\n",
       "    </tr>\n",
       "    <tr>\n",
       "      <th>Dr</th>\n",
       "      <td>0</td>\n",
       "      <td>0</td>\n",
       "      <td>7</td>\n",
       "      <td>0</td>\n",
       "    </tr>\n",
       "    <tr>\n",
       "      <th>Jonkheer</th>\n",
       "      <td>0</td>\n",
       "      <td>0</td>\n",
       "      <td>1</td>\n",
       "      <td>0</td>\n",
       "    </tr>\n",
       "    <tr>\n",
       "      <th>Lady</th>\n",
       "      <td>0</td>\n",
       "      <td>0</td>\n",
       "      <td>1</td>\n",
       "      <td>0</td>\n",
       "    </tr>\n",
       "    <tr>\n",
       "      <th>Major</th>\n",
       "      <td>0</td>\n",
       "      <td>0</td>\n",
       "      <td>2</td>\n",
       "      <td>0</td>\n",
       "    </tr>\n",
       "    <tr>\n",
       "      <th>Master</th>\n",
       "      <td>14</td>\n",
       "      <td>22</td>\n",
       "      <td>4</td>\n",
       "      <td>0</td>\n",
       "    </tr>\n",
       "    <tr>\n",
       "      <th>Miss</th>\n",
       "      <td>10</td>\n",
       "      <td>41</td>\n",
       "      <td>131</td>\n",
       "      <td>0</td>\n",
       "    </tr>\n",
       "    <tr>\n",
       "      <th>Mlle</th>\n",
       "      <td>0</td>\n",
       "      <td>0</td>\n",
       "      <td>2</td>\n",
       "      <td>0</td>\n",
       "    </tr>\n",
       "    <tr>\n",
       "      <th>Mme</th>\n",
       "      <td>0</td>\n",
       "      <td>0</td>\n",
       "      <td>1</td>\n",
       "      <td>0</td>\n",
       "    </tr>\n",
       "    <tr>\n",
       "      <th>Mr</th>\n",
       "      <td>0</td>\n",
       "      <td>22</td>\n",
       "      <td>488</td>\n",
       "      <td>7</td>\n",
       "    </tr>\n",
       "    <tr>\n",
       "      <th>Mrs</th>\n",
       "      <td>0</td>\n",
       "      <td>4</td>\n",
       "      <td>121</td>\n",
       "      <td>0</td>\n",
       "    </tr>\n",
       "    <tr>\n",
       "      <th>Ms</th>\n",
       "      <td>0</td>\n",
       "      <td>0</td>\n",
       "      <td>1</td>\n",
       "      <td>0</td>\n",
       "    </tr>\n",
       "    <tr>\n",
       "      <th>Rev</th>\n",
       "      <td>0</td>\n",
       "      <td>0</td>\n",
       "      <td>6</td>\n",
       "      <td>0</td>\n",
       "    </tr>\n",
       "    <tr>\n",
       "      <th>Sir</th>\n",
       "      <td>0</td>\n",
       "      <td>0</td>\n",
       "      <td>1</td>\n",
       "      <td>0</td>\n",
       "    </tr>\n",
       "  </tbody>\n",
       "</table>\n",
       "</div>"
      ],
      "text/plain": [
       "AgeBand    0   1    2  3\n",
       "Title                   \n",
       "Capt       0   0    0  1\n",
       "Col        0   0    2  0\n",
       "Countess   0   0    1  0\n",
       "Don        0   0    1  0\n",
       "Dr         0   0    7  0\n",
       "Jonkheer   0   0    1  0\n",
       "Lady       0   0    1  0\n",
       "Major      0   0    2  0\n",
       "Master    14  22    4  0\n",
       "Miss      10  41  131  0\n",
       "Mlle       0   0    2  0\n",
       "Mme        0   0    1  0\n",
       "Mr         0  22  488  7\n",
       "Mrs        0   4  121  0\n",
       "Ms         0   0    1  0\n",
       "Rev        0   0    6  0\n",
       "Sir        0   0    1  0"
      ]
     },
     "execution_count": 15,
     "metadata": {},
     "output_type": "execute_result"
    }
   ],
   "source": [
    "train_df['Title'] = train_df.Name.str.extract(' ([A-Za-z]+)\\.', expand=False)\n",
    "pd.crosstab(train_df['Title'], train_df['AgeBand'])"
   ]
  },
  {
   "cell_type": "code",
   "execution_count": 16,
   "metadata": {},
   "outputs": [
    {
     "data": {
      "text/html": [
       "<div>\n",
       "<style scoped>\n",
       "    .dataframe tbody tr th:only-of-type {\n",
       "        vertical-align: middle;\n",
       "    }\n",
       "\n",
       "    .dataframe tbody tr th {\n",
       "        vertical-align: top;\n",
       "    }\n",
       "\n",
       "    .dataframe thead th {\n",
       "        text-align: right;\n",
       "    }\n",
       "</style>\n",
       "<table border=\"1\" class=\"dataframe\">\n",
       "  <thead>\n",
       "    <tr style=\"text-align: right;\">\n",
       "      <th>Survived</th>\n",
       "      <th>0</th>\n",
       "      <th>1</th>\n",
       "    </tr>\n",
       "    <tr>\n",
       "      <th>Title</th>\n",
       "      <th></th>\n",
       "      <th></th>\n",
       "    </tr>\n",
       "  </thead>\n",
       "  <tbody>\n",
       "    <tr>\n",
       "      <th>Capt</th>\n",
       "      <td>1</td>\n",
       "      <td>0</td>\n",
       "    </tr>\n",
       "    <tr>\n",
       "      <th>Col</th>\n",
       "      <td>1</td>\n",
       "      <td>1</td>\n",
       "    </tr>\n",
       "    <tr>\n",
       "      <th>Countess</th>\n",
       "      <td>0</td>\n",
       "      <td>1</td>\n",
       "    </tr>\n",
       "    <tr>\n",
       "      <th>Don</th>\n",
       "      <td>1</td>\n",
       "      <td>0</td>\n",
       "    </tr>\n",
       "    <tr>\n",
       "      <th>Dr</th>\n",
       "      <td>4</td>\n",
       "      <td>3</td>\n",
       "    </tr>\n",
       "    <tr>\n",
       "      <th>Jonkheer</th>\n",
       "      <td>1</td>\n",
       "      <td>0</td>\n",
       "    </tr>\n",
       "    <tr>\n",
       "      <th>Lady</th>\n",
       "      <td>0</td>\n",
       "      <td>1</td>\n",
       "    </tr>\n",
       "    <tr>\n",
       "      <th>Major</th>\n",
       "      <td>1</td>\n",
       "      <td>1</td>\n",
       "    </tr>\n",
       "    <tr>\n",
       "      <th>Master</th>\n",
       "      <td>17</td>\n",
       "      <td>23</td>\n",
       "    </tr>\n",
       "    <tr>\n",
       "      <th>Miss</th>\n",
       "      <td>55</td>\n",
       "      <td>127</td>\n",
       "    </tr>\n",
       "    <tr>\n",
       "      <th>Mlle</th>\n",
       "      <td>0</td>\n",
       "      <td>2</td>\n",
       "    </tr>\n",
       "    <tr>\n",
       "      <th>Mme</th>\n",
       "      <td>0</td>\n",
       "      <td>1</td>\n",
       "    </tr>\n",
       "    <tr>\n",
       "      <th>Mr</th>\n",
       "      <td>436</td>\n",
       "      <td>81</td>\n",
       "    </tr>\n",
       "    <tr>\n",
       "      <th>Mrs</th>\n",
       "      <td>26</td>\n",
       "      <td>99</td>\n",
       "    </tr>\n",
       "    <tr>\n",
       "      <th>Ms</th>\n",
       "      <td>0</td>\n",
       "      <td>1</td>\n",
       "    </tr>\n",
       "    <tr>\n",
       "      <th>Rev</th>\n",
       "      <td>6</td>\n",
       "      <td>0</td>\n",
       "    </tr>\n",
       "    <tr>\n",
       "      <th>Sir</th>\n",
       "      <td>0</td>\n",
       "      <td>1</td>\n",
       "    </tr>\n",
       "  </tbody>\n",
       "</table>\n",
       "</div>"
      ],
      "text/plain": [
       "Survived    0    1\n",
       "Title             \n",
       "Capt        1    0\n",
       "Col         1    1\n",
       "Countess    0    1\n",
       "Don         1    0\n",
       "Dr          4    3\n",
       "Jonkheer    1    0\n",
       "Lady        0    1\n",
       "Major       1    1\n",
       "Master     17   23\n",
       "Miss       55  127\n",
       "Mlle        0    2\n",
       "Mme         0    1\n",
       "Mr        436   81\n",
       "Mrs        26   99\n",
       "Ms          0    1\n",
       "Rev         6    0\n",
       "Sir         0    1"
      ]
     },
     "execution_count": 16,
     "metadata": {},
     "output_type": "execute_result"
    }
   ],
   "source": [
    "pd.crosstab(train_df['Title'], train_df['Survived'])"
   ]
  },
  {
   "cell_type": "markdown",
   "metadata": {},
   "source": [
    "From the above visualizations, we can note the following observations.\n",
    "\n",
    "- Most titles band Age groups accurately. For example: Master title has Age less than 17 years.\n",
    "- Survival among Title bands varies slightly.\n",
    "- Certain titles mostly survived (Mme, Lady, Sir) or did not (Don, Rev, Jonkheer).\n",
    "\n",
    "So this feature might be helpful to us."
   ]
  },
  {
   "cell_type": "code",
   "execution_count": 17,
   "metadata": {},
   "outputs": [],
   "source": [
    "train_df.drop(['Title'], axis=1, inplace=True)\n",
    "for df in combine:\n",
    "    df['Title'] = df.Name.str.extract(' ([A-Za-z]+)\\.', expand=False)\n",
    "    "
   ]
  },
  {
   "cell_type": "markdown",
   "metadata": {},
   "source": [
    "We can replace many titles with a more common name or classify them as `Rare`."
   ]
  },
  {
   "cell_type": "code",
   "execution_count": 18,
   "metadata": {},
   "outputs": [
    {
     "data": {
      "text/html": [
       "<div>\n",
       "<style scoped>\n",
       "    .dataframe tbody tr th:only-of-type {\n",
       "        vertical-align: middle;\n",
       "    }\n",
       "\n",
       "    .dataframe tbody tr th {\n",
       "        vertical-align: top;\n",
       "    }\n",
       "\n",
       "    .dataframe thead th {\n",
       "        text-align: right;\n",
       "    }\n",
       "</style>\n",
       "<table border=\"1\" class=\"dataframe\">\n",
       "  <thead>\n",
       "    <tr style=\"text-align: right;\">\n",
       "      <th></th>\n",
       "      <th>Survived</th>\n",
       "      <th>Pclass</th>\n",
       "      <th>Name</th>\n",
       "      <th>Sex</th>\n",
       "      <th>Age</th>\n",
       "      <th>FareBand</th>\n",
       "      <th>AgeBand</th>\n",
       "      <th>SibSp</th>\n",
       "      <th>Parch</th>\n",
       "      <th>Fare</th>\n",
       "      <th>Embarked</th>\n",
       "      <th>Title</th>\n",
       "    </tr>\n",
       "  </thead>\n",
       "  <tbody>\n",
       "    <tr>\n",
       "      <th>0</th>\n",
       "      <td>0</td>\n",
       "      <td>3</td>\n",
       "      <td>Braund, Mr. Owen Harris</td>\n",
       "      <td>0</td>\n",
       "      <td>22.0</td>\n",
       "      <td>0</td>\n",
       "      <td>2</td>\n",
       "      <td>1</td>\n",
       "      <td>0</td>\n",
       "      <td>7.2500</td>\n",
       "      <td>0</td>\n",
       "      <td>Mr</td>\n",
       "    </tr>\n",
       "    <tr>\n",
       "      <th>1</th>\n",
       "      <td>1</td>\n",
       "      <td>1</td>\n",
       "      <td>Cumings, Mrs. John Bradley (Florence Briggs Th...</td>\n",
       "      <td>1</td>\n",
       "      <td>38.0</td>\n",
       "      <td>3</td>\n",
       "      <td>2</td>\n",
       "      <td>1</td>\n",
       "      <td>0</td>\n",
       "      <td>71.2833</td>\n",
       "      <td>2</td>\n",
       "      <td>Mrs</td>\n",
       "    </tr>\n",
       "    <tr>\n",
       "      <th>2</th>\n",
       "      <td>1</td>\n",
       "      <td>3</td>\n",
       "      <td>Heikkinen, Miss. Laina</td>\n",
       "      <td>1</td>\n",
       "      <td>26.0</td>\n",
       "      <td>1</td>\n",
       "      <td>2</td>\n",
       "      <td>0</td>\n",
       "      <td>0</td>\n",
       "      <td>7.9250</td>\n",
       "      <td>0</td>\n",
       "      <td>Miss</td>\n",
       "    </tr>\n",
       "    <tr>\n",
       "      <th>3</th>\n",
       "      <td>1</td>\n",
       "      <td>1</td>\n",
       "      <td>Futrelle, Mrs. Jacques Heath (Lily May Peel)</td>\n",
       "      <td>1</td>\n",
       "      <td>35.0</td>\n",
       "      <td>3</td>\n",
       "      <td>2</td>\n",
       "      <td>1</td>\n",
       "      <td>0</td>\n",
       "      <td>53.1000</td>\n",
       "      <td>0</td>\n",
       "      <td>Mrs</td>\n",
       "    </tr>\n",
       "    <tr>\n",
       "      <th>4</th>\n",
       "      <td>0</td>\n",
       "      <td>3</td>\n",
       "      <td>Allen, Mr. William Henry</td>\n",
       "      <td>0</td>\n",
       "      <td>35.0</td>\n",
       "      <td>1</td>\n",
       "      <td>2</td>\n",
       "      <td>0</td>\n",
       "      <td>0</td>\n",
       "      <td>8.0500</td>\n",
       "      <td>0</td>\n",
       "      <td>Mr</td>\n",
       "    </tr>\n",
       "  </tbody>\n",
       "</table>\n",
       "</div>"
      ],
      "text/plain": [
       "   Survived  Pclass                                               Name  Sex  \\\n",
       "0         0       3                            Braund, Mr. Owen Harris    0   \n",
       "1         1       1  Cumings, Mrs. John Bradley (Florence Briggs Th...    1   \n",
       "2         1       3                             Heikkinen, Miss. Laina    1   \n",
       "3         1       1       Futrelle, Mrs. Jacques Heath (Lily May Peel)    1   \n",
       "4         0       3                           Allen, Mr. William Henry    0   \n",
       "\n",
       "    Age FareBand AgeBand  SibSp  Parch     Fare  Embarked Title  \n",
       "0  22.0        0       2      1      0   7.2500         0    Mr  \n",
       "1  38.0        3       2      1      0  71.2833         2   Mrs  \n",
       "2  26.0        1       2      0      0   7.9250         0  Miss  \n",
       "3  35.0        3       2      1      0  53.1000         0   Mrs  \n",
       "4  35.0        1       2      0      0   8.0500         0    Mr  "
      ]
     },
     "execution_count": 18,
     "metadata": {},
     "output_type": "execute_result"
    }
   ],
   "source": [
    "for dataset in combine:\n",
    "    dataset['Title'] = dataset['Title'].replace(['Lady', 'Countess','Capt', 'Col',\\\n",
    " \t'Don', 'Dr', 'Major', 'Rev', 'Sir', 'Jonkheer', 'Dona'], 'Rare')\n",
    "\n",
    "    dataset['Title'] = dataset['Title'].replace('Mlle', 'Miss')\n",
    "    dataset['Title'] = dataset['Title'].replace('Ms', 'Miss')\n",
    "    dataset['Title'] = dataset['Title'].replace('Mme', 'Mrs')\n",
    "\n",
    "train_df.head()"
   ]
  },
  {
   "cell_type": "markdown",
   "metadata": {},
   "source": [
    "Let's turn these categorical titles to ordinal."
   ]
  },
  {
   "cell_type": "code",
   "execution_count": 19,
   "metadata": {},
   "outputs": [
    {
     "data": {
      "text/html": [
       "<div>\n",
       "<style scoped>\n",
       "    .dataframe tbody tr th:only-of-type {\n",
       "        vertical-align: middle;\n",
       "    }\n",
       "\n",
       "    .dataframe tbody tr th {\n",
       "        vertical-align: top;\n",
       "    }\n",
       "\n",
       "    .dataframe thead th {\n",
       "        text-align: right;\n",
       "    }\n",
       "</style>\n",
       "<table border=\"1\" class=\"dataframe\">\n",
       "  <thead>\n",
       "    <tr style=\"text-align: right;\">\n",
       "      <th></th>\n",
       "      <th>Survived</th>\n",
       "      <th>Pclass</th>\n",
       "      <th>Name</th>\n",
       "      <th>Sex</th>\n",
       "      <th>Age</th>\n",
       "      <th>FareBand</th>\n",
       "      <th>AgeBand</th>\n",
       "      <th>SibSp</th>\n",
       "      <th>Parch</th>\n",
       "      <th>Fare</th>\n",
       "      <th>Embarked</th>\n",
       "      <th>Title</th>\n",
       "    </tr>\n",
       "  </thead>\n",
       "  <tbody>\n",
       "    <tr>\n",
       "      <th>0</th>\n",
       "      <td>0</td>\n",
       "      <td>3</td>\n",
       "      <td>Braund, Mr. Owen Harris</td>\n",
       "      <td>0</td>\n",
       "      <td>22.0</td>\n",
       "      <td>0</td>\n",
       "      <td>2</td>\n",
       "      <td>1</td>\n",
       "      <td>0</td>\n",
       "      <td>7.2500</td>\n",
       "      <td>0</td>\n",
       "      <td>1</td>\n",
       "    </tr>\n",
       "    <tr>\n",
       "      <th>1</th>\n",
       "      <td>1</td>\n",
       "      <td>1</td>\n",
       "      <td>Cumings, Mrs. John Bradley (Florence Briggs Th...</td>\n",
       "      <td>1</td>\n",
       "      <td>38.0</td>\n",
       "      <td>3</td>\n",
       "      <td>2</td>\n",
       "      <td>1</td>\n",
       "      <td>0</td>\n",
       "      <td>71.2833</td>\n",
       "      <td>2</td>\n",
       "      <td>3</td>\n",
       "    </tr>\n",
       "    <tr>\n",
       "      <th>2</th>\n",
       "      <td>1</td>\n",
       "      <td>3</td>\n",
       "      <td>Heikkinen, Miss. Laina</td>\n",
       "      <td>1</td>\n",
       "      <td>26.0</td>\n",
       "      <td>1</td>\n",
       "      <td>2</td>\n",
       "      <td>0</td>\n",
       "      <td>0</td>\n",
       "      <td>7.9250</td>\n",
       "      <td>0</td>\n",
       "      <td>2</td>\n",
       "    </tr>\n",
       "    <tr>\n",
       "      <th>3</th>\n",
       "      <td>1</td>\n",
       "      <td>1</td>\n",
       "      <td>Futrelle, Mrs. Jacques Heath (Lily May Peel)</td>\n",
       "      <td>1</td>\n",
       "      <td>35.0</td>\n",
       "      <td>3</td>\n",
       "      <td>2</td>\n",
       "      <td>1</td>\n",
       "      <td>0</td>\n",
       "      <td>53.1000</td>\n",
       "      <td>0</td>\n",
       "      <td>3</td>\n",
       "    </tr>\n",
       "    <tr>\n",
       "      <th>4</th>\n",
       "      <td>0</td>\n",
       "      <td>3</td>\n",
       "      <td>Allen, Mr. William Henry</td>\n",
       "      <td>0</td>\n",
       "      <td>35.0</td>\n",
       "      <td>1</td>\n",
       "      <td>2</td>\n",
       "      <td>0</td>\n",
       "      <td>0</td>\n",
       "      <td>8.0500</td>\n",
       "      <td>0</td>\n",
       "      <td>1</td>\n",
       "    </tr>\n",
       "  </tbody>\n",
       "</table>\n",
       "</div>"
      ],
      "text/plain": [
       "   Survived  Pclass                                               Name  Sex  \\\n",
       "0         0       3                            Braund, Mr. Owen Harris    0   \n",
       "1         1       1  Cumings, Mrs. John Bradley (Florence Briggs Th...    1   \n",
       "2         1       3                             Heikkinen, Miss. Laina    1   \n",
       "3         1       1       Futrelle, Mrs. Jacques Heath (Lily May Peel)    1   \n",
       "4         0       3                           Allen, Mr. William Henry    0   \n",
       "\n",
       "    Age FareBand AgeBand  SibSp  Parch     Fare  Embarked  Title  \n",
       "0  22.0        0       2      1      0   7.2500         0      1  \n",
       "1  38.0        3       2      1      0  71.2833         2      3  \n",
       "2  26.0        1       2      0      0   7.9250         0      2  \n",
       "3  35.0        3       2      1      0  53.1000         0      3  \n",
       "4  35.0        1       2      0      0   8.0500         0      1  "
      ]
     },
     "execution_count": 19,
     "metadata": {},
     "output_type": "execute_result"
    }
   ],
   "source": [
    "title_mapping = {\"Mr\": 1, \"Miss\": 2, \"Mrs\": 3, \"Master\": 4, \"Rare\": 5}\n",
    "for dataset in combine:\n",
    "    dataset['Title'] = dataset['Title'].map(title_mapping)\n",
    "    dataset['Title'] = dataset['Title'].fillna(0)\n",
    "\n",
    "train_df.head()\n"
   ]
  },
  {
   "cell_type": "markdown",
   "metadata": {},
   "source": [
    "Now we can safely drop the Name feature from datasets."
   ]
  },
  {
   "cell_type": "code",
   "execution_count": 20,
   "metadata": {},
   "outputs": [],
   "source": [
    "for dataset in combine:\n",
    "    dataset.drop('Name', inplace=True, axis=1)\n",
    "    "
   ]
  },
  {
   "cell_type": "markdown",
   "metadata": {},
   "source": [
    "#### Family size from SibSp and Parch\n",
    "\n",
    "From our analysis last week, we figured out that 'SibSp' and 'Parch' are not very good features. So let us make a new \n",
    "feature called 'FamilySize', combining those features. "
   ]
  },
  {
   "cell_type": "code",
   "execution_count": 21,
   "metadata": {},
   "outputs": [
    {
     "data": {
      "text/html": [
       "<div>\n",
       "<style scoped>\n",
       "    .dataframe tbody tr th:only-of-type {\n",
       "        vertical-align: middle;\n",
       "    }\n",
       "\n",
       "    .dataframe tbody tr th {\n",
       "        vertical-align: top;\n",
       "    }\n",
       "\n",
       "    .dataframe thead th {\n",
       "        text-align: right;\n",
       "    }\n",
       "</style>\n",
       "<table border=\"1\" class=\"dataframe\">\n",
       "  <thead>\n",
       "    <tr style=\"text-align: right;\">\n",
       "      <th></th>\n",
       "      <th>FamilySize</th>\n",
       "      <th>Survived</th>\n",
       "    </tr>\n",
       "  </thead>\n",
       "  <tbody>\n",
       "    <tr>\n",
       "      <th>3</th>\n",
       "      <td>4</td>\n",
       "      <td>0.724138</td>\n",
       "    </tr>\n",
       "    <tr>\n",
       "      <th>2</th>\n",
       "      <td>3</td>\n",
       "      <td>0.578431</td>\n",
       "    </tr>\n",
       "    <tr>\n",
       "      <th>1</th>\n",
       "      <td>2</td>\n",
       "      <td>0.552795</td>\n",
       "    </tr>\n",
       "    <tr>\n",
       "      <th>6</th>\n",
       "      <td>7</td>\n",
       "      <td>0.333333</td>\n",
       "    </tr>\n",
       "    <tr>\n",
       "      <th>0</th>\n",
       "      <td>1</td>\n",
       "      <td>0.303538</td>\n",
       "    </tr>\n",
       "    <tr>\n",
       "      <th>4</th>\n",
       "      <td>5</td>\n",
       "      <td>0.200000</td>\n",
       "    </tr>\n",
       "    <tr>\n",
       "      <th>5</th>\n",
       "      <td>6</td>\n",
       "      <td>0.136364</td>\n",
       "    </tr>\n",
       "    <tr>\n",
       "      <th>7</th>\n",
       "      <td>8</td>\n",
       "      <td>0.000000</td>\n",
       "    </tr>\n",
       "    <tr>\n",
       "      <th>8</th>\n",
       "      <td>11</td>\n",
       "      <td>0.000000</td>\n",
       "    </tr>\n",
       "  </tbody>\n",
       "</table>\n",
       "</div>"
      ],
      "text/plain": [
       "   FamilySize  Survived\n",
       "3           4  0.724138\n",
       "2           3  0.578431\n",
       "1           2  0.552795\n",
       "6           7  0.333333\n",
       "0           1  0.303538\n",
       "4           5  0.200000\n",
       "5           6  0.136364\n",
       "7           8  0.000000\n",
       "8          11  0.000000"
      ]
     },
     "execution_count": 21,
     "metadata": {},
     "output_type": "execute_result"
    }
   ],
   "source": [
    "train_df['FamilySize'] = train_df['SibSp'] + train_df['Parch'] + 1    \n",
    "train_df[['FamilySize', 'Survived']].groupby(['FamilySize'], as_index=False).mean().sort_values(by='Survived', ascending=False)"
   ]
  },
  {
   "cell_type": "markdown",
   "metadata": {},
   "source": [
    "As we can see, this feature can be useful for our models. But it has a few too many categories. Let us create a feature \n",
    "called IsAlone from this feature to minimize complexity. "
   ]
  },
  {
   "cell_type": "code",
   "execution_count": 22,
   "metadata": {},
   "outputs": [],
   "source": [
    "train_df.drop(['FamilySize'], axis=1, inplace=True)\n",
    "for dataset in combine:\n",
    "    dataset['FamilySize'] = dataset['SibSp'] + dataset['Parch'] + 1\n",
    "    dataset['IsAlone'] = 0\n",
    "    dataset.loc[dataset['FamilySize'] == 1, 'IsAlone'] = 1"
   ]
  },
  {
   "cell_type": "markdown",
   "metadata": {
    "pycharm": {
     "name": "#%% md"
    }
   },
   "source": [
    "Let us drop 'Family size'."
   ]
  },
  {
   "cell_type": "code",
   "execution_count": 23,
   "metadata": {},
   "outputs": [
    {
     "data": {
      "text/html": [
       "<div>\n",
       "<style scoped>\n",
       "    .dataframe tbody tr th:only-of-type {\n",
       "        vertical-align: middle;\n",
       "    }\n",
       "\n",
       "    .dataframe tbody tr th {\n",
       "        vertical-align: top;\n",
       "    }\n",
       "\n",
       "    .dataframe thead th {\n",
       "        text-align: right;\n",
       "    }\n",
       "</style>\n",
       "<table border=\"1\" class=\"dataframe\">\n",
       "  <thead>\n",
       "    <tr style=\"text-align: right;\">\n",
       "      <th></th>\n",
       "      <th>Survived</th>\n",
       "      <th>Pclass</th>\n",
       "      <th>Sex</th>\n",
       "      <th>Age</th>\n",
       "      <th>FareBand</th>\n",
       "      <th>AgeBand</th>\n",
       "      <th>SibSp</th>\n",
       "      <th>Parch</th>\n",
       "      <th>Fare</th>\n",
       "      <th>Embarked</th>\n",
       "      <th>Title</th>\n",
       "      <th>IsAlone</th>\n",
       "    </tr>\n",
       "  </thead>\n",
       "  <tbody>\n",
       "    <tr>\n",
       "      <th>0</th>\n",
       "      <td>0</td>\n",
       "      <td>3</td>\n",
       "      <td>0</td>\n",
       "      <td>22.0</td>\n",
       "      <td>0</td>\n",
       "      <td>2</td>\n",
       "      <td>1</td>\n",
       "      <td>0</td>\n",
       "      <td>7.2500</td>\n",
       "      <td>0</td>\n",
       "      <td>1</td>\n",
       "      <td>0</td>\n",
       "    </tr>\n",
       "    <tr>\n",
       "      <th>1</th>\n",
       "      <td>1</td>\n",
       "      <td>1</td>\n",
       "      <td>1</td>\n",
       "      <td>38.0</td>\n",
       "      <td>3</td>\n",
       "      <td>2</td>\n",
       "      <td>1</td>\n",
       "      <td>0</td>\n",
       "      <td>71.2833</td>\n",
       "      <td>2</td>\n",
       "      <td>3</td>\n",
       "      <td>0</td>\n",
       "    </tr>\n",
       "    <tr>\n",
       "      <th>2</th>\n",
       "      <td>1</td>\n",
       "      <td>3</td>\n",
       "      <td>1</td>\n",
       "      <td>26.0</td>\n",
       "      <td>1</td>\n",
       "      <td>2</td>\n",
       "      <td>0</td>\n",
       "      <td>0</td>\n",
       "      <td>7.9250</td>\n",
       "      <td>0</td>\n",
       "      <td>2</td>\n",
       "      <td>1</td>\n",
       "    </tr>\n",
       "    <tr>\n",
       "      <th>3</th>\n",
       "      <td>1</td>\n",
       "      <td>1</td>\n",
       "      <td>1</td>\n",
       "      <td>35.0</td>\n",
       "      <td>3</td>\n",
       "      <td>2</td>\n",
       "      <td>1</td>\n",
       "      <td>0</td>\n",
       "      <td>53.1000</td>\n",
       "      <td>0</td>\n",
       "      <td>3</td>\n",
       "      <td>0</td>\n",
       "    </tr>\n",
       "    <tr>\n",
       "      <th>4</th>\n",
       "      <td>0</td>\n",
       "      <td>3</td>\n",
       "      <td>0</td>\n",
       "      <td>35.0</td>\n",
       "      <td>1</td>\n",
       "      <td>2</td>\n",
       "      <td>0</td>\n",
       "      <td>0</td>\n",
       "      <td>8.0500</td>\n",
       "      <td>0</td>\n",
       "      <td>1</td>\n",
       "      <td>1</td>\n",
       "    </tr>\n",
       "  </tbody>\n",
       "</table>\n",
       "</div>"
      ],
      "text/plain": [
       "   Survived  Pclass  Sex   Age FareBand AgeBand  SibSp  Parch     Fare  \\\n",
       "0         0       3    0  22.0        0       2      1      0   7.2500   \n",
       "1         1       1    1  38.0        3       2      1      0  71.2833   \n",
       "2         1       3    1  26.0        1       2      0      0   7.9250   \n",
       "3         1       1    1  35.0        3       2      1      0  53.1000   \n",
       "4         0       3    0  35.0        1       2      0      0   8.0500   \n",
       "\n",
       "   Embarked  Title  IsAlone  \n",
       "0         0      1        0  \n",
       "1         2      3        0  \n",
       "2         0      2        1  \n",
       "3         0      3        0  \n",
       "4         0      1        1  "
      ]
     },
     "execution_count": 23,
     "metadata": {},
     "output_type": "execute_result"
    }
   ],
   "source": [
    "for dataset in combine:\n",
    "    dataset.drop(['FamilySize'], axis=1, inplace=True)\n",
    "    \n",
    "train_df.head()"
   ]
  },
  {
   "cell_type": "markdown",
   "metadata": {},
   "source": [
    "## Model, Predict and Evaluation"
   ]
  },
  {
   "cell_type": "markdown",
   "metadata": {},
   "source": [
    "Let's make training, validation and test sets from data."
   ]
  },
  {
   "cell_type": "code",
   "execution_count": 24,
   "metadata": {},
   "outputs": [],
   "source": [
    "X = train_df.drop('Survived', axis=1)\n",
    "y = train_df['Survived']\n",
    "\n",
    "X_test = test_df.drop('Survived', axis=1)\n",
    "y_test = test_df['Survived']"
   ]
  },
  {
   "cell_type": "code",
   "execution_count": 25,
   "metadata": {},
   "outputs": [],
   "source": [
    "X_train, X_valid, y_train, y_valid = train_test_split(X, y, test_size=0.3, random_state=27)\n",
    "\n",
    "combine = [X_train, X_valid, X_test]"
   ]
  },
  {
   "cell_type": "markdown",
   "metadata": {},
   "source": [
    "Let's recreate the decision tree model we built last week."
   ]
  },
  {
   "cell_type": "code",
   "execution_count": 26,
   "metadata": {},
   "outputs": [
    {
     "name": "stdout",
     "output_type": "stream",
     "text": [
      "Accuracy: 0.7835820895522388\n"
     ]
    }
   ],
   "source": [
    "X_train_cat = X_train[['Sex', 'Pclass', 'Embarked', 'SibSp', 'Parch']]\n",
    "X_valid_cat = X_valid[['Sex', 'Pclass', 'Embarked', 'SibSp', 'Parch']]\n",
    "\n",
    "cat_tree = DecisionTreeClassifier(criterion='entropy', random_state=42)\n",
    "cat_tree.fit(X_train_cat, y_train)\n",
    "y_pred = cat_tree.predict(X_valid_cat)\n",
    "\n",
    "print(\"Accuracy:\", metrics.accuracy_score(y_valid, y_pred))"
   ]
  },
  {
   "cell_type": "markdown",
   "metadata": {},
   "source": [
    "#### Evaluation\n",
    "\n",
    "You can get a different types of evaluation metrics from the sci-kit learn. First let's generate the confusion matrix \n",
    "for our prediction. "
   ]
  },
  {
   "cell_type": "code",
   "execution_count": 27,
   "metadata": {},
   "outputs": [
    {
     "name": "stdout",
     "output_type": "stream",
     "text": [
      "[[150  17]\n",
      " [ 41  60]]\n"
     ]
    }
   ],
   "source": [
    "print(metrics.confusion_matrix(y_valid, y_pred))"
   ]
  },
  {
   "cell_type": "markdown",
   "metadata": {},
   "source": [
    "The index mapping of the above matrix is as follows,\n",
    "\n",
    "- [0, 0] - True Positive\n",
    "- [0, 1] - False Negative\n",
    "- [1, 0] - False Positive\n",
    "- [1, 1] - True Negative\n",
    "\n",
    "Let's generate the classification report of our predicted data. Classification report contains information such as \n",
    "accuracy and precision, recall and f1-score for each output class.\n",
    "You can get more information on classification report here: \n",
    "https://scikit-learn.org/stable/modules/generated/sklearn.metrics.classification_report.html#sklearn.metrics.classification_report"
   ]
  },
  {
   "cell_type": "code",
   "execution_count": 28,
   "metadata": {},
   "outputs": [
    {
     "name": "stdout",
     "output_type": "stream",
     "text": [
      "              precision    recall  f1-score   support\n",
      "\n",
      "           0       0.79      0.90      0.84       167\n",
      "           1       0.78      0.59      0.67       101\n",
      "\n",
      "    accuracy                           0.78       268\n",
      "   macro avg       0.78      0.75      0.76       268\n",
      "weighted avg       0.78      0.78      0.78       268\n",
      "\n"
     ]
    }
   ],
   "source": [
    "print(metrics.classification_report(y_valid, y_pred))"
   ]
  },
  {
   "cell_type": "markdown",
   "metadata": {},
   "source": [
    "#### Back to modeling."
   ]
  },
  {
   "cell_type": "markdown",
   "metadata": {},
   "source": [
    "Let us add the new features we curated and try to train a new model."
   ]
  },
  {
   "cell_type": "code",
   "execution_count": 29,
   "metadata": {},
   "outputs": [],
   "source": [
    "X_train.drop(['SibSp', 'Parch', 'Fare'], axis=1, inplace=True)\n",
    "X_test.drop(['SibSp', 'Parch', 'Fare'], axis=1, inplace=True)\n",
    "X_valid.drop(['SibSp', 'Parch', 'Fare'], axis=1, inplace=True)"
   ]
  },
  {
   "cell_type": "code",
   "execution_count": 30,
   "metadata": {},
   "outputs": [
    {
     "name": "stdout",
     "output_type": "stream",
     "text": [
      "              precision    recall  f1-score   support\n",
      "\n",
      "           0       0.79      0.86      0.82       167\n",
      "           1       0.72      0.62      0.67       101\n",
      "\n",
      "    accuracy                           0.77       268\n",
      "   macro avg       0.76      0.74      0.75       268\n",
      "weighted avg       0.77      0.77      0.76       268\n",
      "\n"
     ]
    }
   ],
   "source": [
    "entropy_tree = DecisionTreeClassifier(criterion='entropy', random_state=42)\n",
    "entropy_tree.fit(X_train, y_train)\n",
    "y_pred = entropy_tree.predict(X_valid)\n",
    "\n",
    "print(metrics.classification_report(y_valid, y_pred))"
   ]
  },
  {
   "cell_type": "markdown",
   "metadata": {},
   "source": [
    "Let's try to plot this decision tree. We can use plot_tree() function in sci_kit learn to visualize the tree you modeled."
   ]
  },
  {
   "cell_type": "code",
   "execution_count": 31,
   "metadata": {},
   "outputs": [
    {
     "data": {
      "text/plain": [
       "[Text(177.46009615384617, 211.7178947368421, 'X[6] <= 1.5\\nentropy = 0.963\\nsamples = 623\\nvalue = [382, 241]'),\n",
       " Text(86.11442307692307, 200.2736842105263, 'X[0] <= 1.5\\nentropy = 0.616\\nsamples = 367\\nvalue = [311, 56]'),\n",
       " Text(42.02884615384615, 188.82947368421054, 'X[2] <= 48.5\\nentropy = 0.918\\nsamples = 78\\nvalue = [52, 26]'),\n",
       " Text(26.111538461538462, 177.38526315789474, 'X[2] <= 47.5\\nentropy = 0.978\\nsamples = 58\\nvalue = [34, 24]'),\n",
       " Text(23.25, 165.94105263157894, 'X[3] <= 2.5\\nentropy = 0.959\\nsamples = 55\\nvalue = [34, 21]'),\n",
       " Text(5.723076923076923, 154.49684210526317, 'X[3] <= 1.0\\nentropy = 0.985\\nsamples = 21\\nvalue = [9, 12]'),\n",
       " Text(2.8615384615384616, 143.05263157894737, 'entropy = 0.0\\nsamples = 3\\nvalue = [3, 0]'),\n",
       " Text(8.584615384615384, 143.05263157894737, 'X[2] <= 28.5\\nentropy = 0.918\\nsamples = 18\\nvalue = [6, 12]'),\n",
       " Text(5.723076923076923, 131.60842105263157, 'entropy = 0.0\\nsamples = 3\\nvalue = [0, 3]'),\n",
       " Text(11.446153846153846, 131.60842105263157, 'X[2] <= 32.0\\nentropy = 0.971\\nsamples = 15\\nvalue = [6, 9]'),\n",
       " Text(8.584615384615384, 120.16421052631578, 'entropy = 0.0\\nsamples = 2\\nvalue = [2, 0]'),\n",
       " Text(14.307692307692308, 120.16421052631578, 'X[2] <= 38.0\\nentropy = 0.89\\nsamples = 13\\nvalue = [4, 9]'),\n",
       " Text(11.446153846153846, 108.72, 'entropy = 0.0\\nsamples = 4\\nvalue = [0, 4]'),\n",
       " Text(17.16923076923077, 108.72, 'X[2] <= 42.5\\nentropy = 0.991\\nsamples = 9\\nvalue = [4, 5]'),\n",
       " Text(14.307692307692308, 97.27578947368421, 'X[5] <= 1.0\\nentropy = 1.0\\nsamples = 8\\nvalue = [4, 4]'),\n",
       " Text(11.446153846153846, 85.83157894736843, 'entropy = 1.0\\nsamples = 4\\nvalue = [2, 2]'),\n",
       " Text(17.16923076923077, 85.83157894736843, 'entropy = 1.0\\nsamples = 4\\nvalue = [2, 2]'),\n",
       " Text(20.03076923076923, 97.27578947368421, 'entropy = 0.0\\nsamples = 1\\nvalue = [0, 1]'),\n",
       " Text(40.776923076923076, 154.49684210526317, 'X[2] <= 41.0\\nentropy = 0.834\\nsamples = 34\\nvalue = [25, 9]'),\n",
       " Text(37.91538461538462, 143.05263157894737, 'X[2] <= 17.5\\nentropy = 0.894\\nsamples = 29\\nvalue = [20, 9]'),\n",
       " Text(35.05384615384615, 131.60842105263157, 'entropy = 0.0\\nsamples = 1\\nvalue = [0, 1]'),\n",
       " Text(40.776923076923076, 131.60842105263157, 'X[2] <= 22.5\\nentropy = 0.863\\nsamples = 28\\nvalue = [20, 8]'),\n",
       " Text(37.91538461538462, 120.16421052631578, 'entropy = 0.0\\nsamples = 4\\nvalue = [4, 0]'),\n",
       " Text(43.63846153846154, 120.16421052631578, 'X[2] <= 27.5\\nentropy = 0.918\\nsamples = 24\\nvalue = [16, 8]'),\n",
       " Text(28.615384615384617, 108.72, 'X[7] <= 0.5\\nentropy = 0.918\\nsamples = 6\\nvalue = [2, 4]'),\n",
       " Text(25.753846153846155, 97.27578947368421, 'X[2] <= 23.5\\nentropy = 0.971\\nsamples = 5\\nvalue = [2, 3]'),\n",
       " Text(22.892307692307693, 85.83157894736843, 'entropy = 0.0\\nsamples = 1\\nvalue = [0, 1]'),\n",
       " Text(28.615384615384617, 85.83157894736843, 'X[5] <= 1.0\\nentropy = 1.0\\nsamples = 4\\nvalue = [2, 2]'),\n",
       " Text(25.753846153846155, 74.38736842105263, 'entropy = 0.0\\nsamples = 1\\nvalue = [0, 1]'),\n",
       " Text(31.47692307692308, 74.38736842105263, 'X[2] <= 24.5\\nentropy = 0.918\\nsamples = 3\\nvalue = [2, 1]'),\n",
       " Text(28.615384615384617, 62.943157894736856, 'entropy = 0.0\\nsamples = 1\\nvalue = [1, 0]'),\n",
       " Text(34.33846153846154, 62.943157894736856, 'X[2] <= 26.0\\nentropy = 1.0\\nsamples = 2\\nvalue = [1, 1]'),\n",
       " Text(31.47692307692308, 51.49894736842106, 'entropy = 0.0\\nsamples = 1\\nvalue = [0, 1]'),\n",
       " Text(37.2, 51.49894736842106, 'entropy = 0.0\\nsamples = 1\\nvalue = [1, 0]'),\n",
       " Text(31.47692307692308, 97.27578947368421, 'entropy = 0.0\\nsamples = 1\\nvalue = [0, 1]'),\n",
       " Text(58.66153846153846, 108.72, 'X[5] <= 1.0\\nentropy = 0.764\\nsamples = 18\\nvalue = [14, 4]'),\n",
       " Text(55.800000000000004, 97.27578947368421, 'X[2] <= 30.0\\nentropy = 0.837\\nsamples = 15\\nvalue = [11, 4]'),\n",
       " Text(52.93846153846154, 85.83157894736843, 'entropy = 0.0\\nsamples = 2\\nvalue = [2, 0]'),\n",
       " Text(58.66153846153846, 85.83157894736843, 'X[7] <= 0.5\\nentropy = 0.89\\nsamples = 13\\nvalue = [9, 4]'),\n",
       " Text(51.50769230769231, 74.38736842105263, 'X[2] <= 36.5\\nentropy = 0.985\\nsamples = 7\\nvalue = [4, 3]'),\n",
       " Text(45.784615384615385, 62.943157894736856, 'X[2] <= 33.5\\nentropy = 1.0\\nsamples = 4\\nvalue = [2, 2]'),\n",
       " Text(42.92307692307693, 51.49894736842106, 'entropy = 1.0\\nsamples = 2\\nvalue = [1, 1]'),\n",
       " Text(48.646153846153844, 51.49894736842106, 'entropy = 1.0\\nsamples = 2\\nvalue = [1, 1]'),\n",
       " Text(57.23076923076923, 62.943157894736856, 'X[2] <= 37.5\\nentropy = 0.918\\nsamples = 3\\nvalue = [2, 1]'),\n",
       " Text(54.36923076923077, 51.49894736842106, 'entropy = 0.0\\nsamples = 1\\nvalue = [1, 0]'),\n",
       " Text(60.09230769230769, 51.49894736842106, 'entropy = 1.0\\nsamples = 2\\nvalue = [1, 1]'),\n",
       " Text(65.81538461538462, 74.38736842105263, 'X[2] <= 35.5\\nentropy = 0.65\\nsamples = 6\\nvalue = [5, 1]'),\n",
       " Text(62.95384615384616, 62.943157894736856, 'entropy = 0.0\\nsamples = 1\\nvalue = [1, 0]'),\n",
       " Text(68.67692307692307, 62.943157894736856, 'entropy = 0.722\\nsamples = 5\\nvalue = [4, 1]'),\n",
       " Text(61.52307692307692, 97.27578947368421, 'entropy = 0.0\\nsamples = 3\\nvalue = [3, 0]'),\n",
       " Text(43.63846153846154, 143.05263157894737, 'entropy = 0.0\\nsamples = 5\\nvalue = [5, 0]'),\n",
       " Text(28.973076923076924, 165.94105263157894, 'entropy = 0.0\\nsamples = 3\\nvalue = [0, 3]'),\n",
       " Text(57.94615384615385, 177.38526315789474, 'X[2] <= 75.5\\nentropy = 0.469\\nsamples = 20\\nvalue = [18, 2]'),\n",
       " Text(55.08461538461538, 165.94105263157894, 'X[2] <= 51.5\\nentropy = 0.297\\nsamples = 19\\nvalue = [18, 1]'),\n",
       " Text(52.223076923076924, 154.49684210526317, 'X[3] <= 2.5\\nentropy = 0.722\\nsamples = 5\\nvalue = [4, 1]'),\n",
       " Text(49.361538461538466, 143.05263157894737, 'entropy = 0.0\\nsamples = 1\\nvalue = [0, 1]'),\n",
       " Text(55.08461538461538, 143.05263157894737, 'entropy = 0.0\\nsamples = 4\\nvalue = [4, 0]'),\n",
       " Text(57.94615384615385, 154.49684210526317, 'entropy = 0.0\\nsamples = 14\\nvalue = [14, 0]'),\n",
       " Text(60.80769230769231, 165.94105263157894, 'entropy = 0.0\\nsamples = 1\\nvalue = [0, 1]'),\n",
       " Text(130.2, 188.82947368421054, 'X[2] <= 26.5\\nentropy = 0.481\\nsamples = 289\\nvalue = [259, 30]'),\n",
       " Text(85.48846153846154, 177.38526315789474, 'X[0] <= 2.5\\nentropy = 0.358\\nsamples = 162\\nvalue = [151, 11]'),\n",
       " Text(82.62692307692308, 165.94105263157894, 'entropy = 0.0\\nsamples = 17\\nvalue = [17, 0]'),\n",
       " Text(88.35000000000001, 165.94105263157894, 'X[7] <= 0.5\\nentropy = 0.387\\nsamples = 145\\nvalue = [134, 11]'),\n",
       " Text(67.24615384615385, 154.49684210526317, 'X[2] <= 19.0\\nentropy = 0.619\\nsamples = 26\\nvalue = [22, 4]'),\n",
       " Text(64.38461538461539, 143.05263157894737, 'entropy = 0.0\\nsamples = 6\\nvalue = [6, 0]'),\n",
       " Text(70.1076923076923, 143.05263157894737, 'X[2] <= 21.0\\nentropy = 0.722\\nsamples = 20\\nvalue = [16, 4]'),\n",
       " Text(67.24615384615385, 131.60842105263157, 'entropy = 0.0\\nsamples = 2\\nvalue = [0, 2]'),\n",
       " Text(72.96923076923078, 131.60842105263157, 'X[2] <= 24.5\\nentropy = 0.503\\nsamples = 18\\nvalue = [16, 2]'),\n",
       " Text(70.1076923076923, 120.16421052631578, 'entropy = 0.0\\nsamples = 3\\nvalue = [3, 0]'),\n",
       " Text(75.83076923076923, 120.16421052631578, 'X[2] <= 25.5\\nentropy = 0.567\\nsamples = 15\\nvalue = [13, 2]'),\n",
       " Text(72.96923076923078, 108.72, 'X[3] <= 1.0\\nentropy = 0.65\\nsamples = 12\\nvalue = [10, 2]'),\n",
       " Text(67.24615384615385, 97.27578947368421, 'X[5] <= 0.5\\nentropy = 0.918\\nsamples = 3\\nvalue = [2, 1]'),\n",
       " Text(64.38461538461539, 85.83157894736843, 'entropy = 1.0\\nsamples = 2\\nvalue = [1, 1]'),\n",
       " Text(70.1076923076923, 85.83157894736843, 'entropy = 0.0\\nsamples = 1\\nvalue = [1, 0]'),\n",
       " Text(78.6923076923077, 97.27578947368421, 'X[5] <= 0.5\\nentropy = 0.503\\nsamples = 9\\nvalue = [8, 1]'),\n",
       " Text(75.83076923076923, 85.83157894736843, 'entropy = 0.0\\nsamples = 5\\nvalue = [5, 0]'),\n",
       " Text(81.55384615384615, 85.83157894736843, 'X[5] <= 1.5\\nentropy = 0.811\\nsamples = 4\\nvalue = [3, 1]'),\n",
       " Text(78.6923076923077, 74.38736842105263, 'entropy = 0.918\\nsamples = 3\\nvalue = [2, 1]'),\n",
       " Text(84.41538461538461, 74.38736842105263, 'entropy = 0.0\\nsamples = 1\\nvalue = [1, 0]'),\n",
       " Text(78.6923076923077, 108.72, 'entropy = 0.0\\nsamples = 3\\nvalue = [3, 0]'),\n",
       " Text(109.45384615384616, 154.49684210526317, 'X[3] <= 2.5\\nentropy = 0.323\\nsamples = 119\\nvalue = [112, 7]'),\n",
       " Text(106.5923076923077, 143.05263157894737, 'X[2] <= 21.5\\nentropy = 0.292\\nsamples = 117\\nvalue = [111, 6]'),\n",
       " Text(91.56923076923077, 131.60842105263157, 'X[4] <= 1.5\\nentropy = 0.406\\nsamples = 37\\nvalue = [34, 3]'),\n",
       " Text(88.70769230769231, 120.16421052631578, 'entropy = 0.0\\nsamples = 6\\nvalue = [6, 0]'),\n",
       " Text(94.43076923076923, 120.16421052631578, 'X[2] <= 18.5\\nentropy = 0.459\\nsamples = 31\\nvalue = [28, 3]'),\n",
       " Text(87.27692307692308, 108.72, 'X[3] <= 0.5\\nentropy = 0.722\\nsamples = 5\\nvalue = [4, 1]'),\n",
       " Text(84.41538461538461, 97.27578947368421, 'entropy = 0.0\\nsamples = 3\\nvalue = [3, 0]'),\n",
       " Text(90.13846153846154, 97.27578947368421, 'entropy = 1.0\\nsamples = 2\\nvalue = [1, 1]'),\n",
       " Text(101.58461538461539, 108.72, 'X[2] <= 20.75\\nentropy = 0.391\\nsamples = 26\\nvalue = [24, 2]'),\n",
       " Text(95.86153846153846, 97.27578947368421, 'X[3] <= 0.5\\nentropy = 0.323\\nsamples = 17\\nvalue = [16, 1]'),\n",
       " Text(93.0, 85.83157894736843, 'entropy = 0.0\\nsamples = 9\\nvalue = [9, 0]'),\n",
       " Text(98.72307692307693, 85.83157894736843, 'X[2] <= 19.5\\nentropy = 0.544\\nsamples = 8\\nvalue = [7, 1]'),\n",
       " Text(95.86153846153846, 74.38736842105263, 'entropy = 0.811\\nsamples = 4\\nvalue = [3, 1]'),\n",
       " Text(101.58461538461539, 74.38736842105263, 'entropy = 0.0\\nsamples = 4\\nvalue = [4, 0]'),\n",
       " Text(107.3076923076923, 97.27578947368421, 'X[3] <= 0.5\\nentropy = 0.503\\nsamples = 9\\nvalue = [8, 1]'),\n",
       " Text(104.44615384615385, 85.83157894736843, 'entropy = 0.811\\nsamples = 4\\nvalue = [3, 1]'),\n",
       " Text(110.16923076923077, 85.83157894736843, 'entropy = 0.0\\nsamples = 5\\nvalue = [5, 0]'),\n",
       " Text(121.61538461538461, 131.60842105263157, 'X[2] <= 24.75\\nentropy = 0.231\\nsamples = 80\\nvalue = [77, 3]'),\n",
       " Text(118.75384615384615, 120.16421052631578, 'entropy = 0.0\\nsamples = 17\\nvalue = [17, 0]'),\n",
       " Text(124.47692307692309, 120.16421052631578, 'X[5] <= 0.5\\nentropy = 0.276\\nsamples = 63\\nvalue = [60, 3]'),\n",
       " Text(115.8923076923077, 108.72, 'X[3] <= 0.5\\nentropy = 0.183\\nsamples = 36\\nvalue = [35, 1]'),\n",
       " Text(113.03076923076924, 97.27578947368421, 'entropy = 0.0\\nsamples = 20\\nvalue = [20, 0]'),\n",
       " Text(118.75384615384615, 97.27578947368421, 'X[3] <= 1.5\\nentropy = 0.337\\nsamples = 16\\nvalue = [15, 1]'),\n",
       " Text(115.8923076923077, 85.83157894736843, 'X[2] <= 25.5\\nentropy = 0.391\\nsamples = 13\\nvalue = [12, 1]'),\n",
       " Text(113.03076923076924, 74.38736842105263, 'entropy = 0.414\\nsamples = 12\\nvalue = [11, 1]'),\n",
       " Text(118.75384615384615, 74.38736842105263, 'entropy = 0.0\\nsamples = 1\\nvalue = [1, 0]'),\n",
       " Text(121.61538461538461, 85.83157894736843, 'entropy = 0.0\\nsamples = 3\\nvalue = [3, 0]'),\n",
       " Text(133.06153846153848, 108.72, 'X[3] <= 0.5\\nentropy = 0.381\\nsamples = 27\\nvalue = [25, 2]'),\n",
       " Text(130.2, 97.27578947368421, 'X[5] <= 1.5\\nentropy = 0.426\\nsamples = 23\\nvalue = [21, 2]'),\n",
       " Text(127.33846153846154, 85.83157894736843, 'entropy = 0.414\\nsamples = 12\\nvalue = [11, 1]'),\n",
       " Text(133.06153846153848, 85.83157894736843, 'entropy = 0.439\\nsamples = 11\\nvalue = [10, 1]'),\n",
       " Text(135.92307692307693, 97.27578947368421, 'entropy = 0.0\\nsamples = 4\\nvalue = [4, 0]'),\n",
       " Text(112.31538461538462, 143.05263157894737, 'entropy = 1.0\\nsamples = 2\\nvalue = [1, 1]'),\n",
       " Text(174.91153846153847, 177.38526315789474, 'X[2] <= 32.25\\nentropy = 0.609\\nsamples = 127\\nvalue = [108, 19]'),\n",
       " Text(156.66923076923078, 165.94105263157894, 'X[2] <= 30.75\\nentropy = 0.838\\nsamples = 56\\nvalue = [41, 15]'),\n",
       " Text(144.5076923076923, 154.49684210526317, 'X[3] <= 1.5\\nentropy = 0.689\\nsamples = 38\\nvalue = [31, 7]'),\n",
       " Text(141.64615384615385, 143.05263157894737, 'X[2] <= 27.5\\nentropy = 0.784\\nsamples = 30\\nvalue = [23, 7]'),\n",
       " Text(135.92307692307693, 131.60842105263157, 'X[5] <= 1.0\\nentropy = 0.918\\nsamples = 3\\nvalue = [1, 2]'),\n",
       " Text(133.06153846153848, 120.16421052631578, 'entropy = 0.0\\nsamples = 2\\nvalue = [0, 2]'),\n",
       " Text(138.7846153846154, 120.16421052631578, 'entropy = 0.0\\nsamples = 1\\nvalue = [1, 0]'),\n",
       " Text(147.36923076923077, 131.60842105263157, 'X[2] <= 28.75\\nentropy = 0.691\\nsamples = 27\\nvalue = [22, 5]'),\n",
       " Text(144.5076923076923, 120.16421052631578, 'entropy = 0.0\\nsamples = 5\\nvalue = [5, 0]'),\n",
       " Text(150.23076923076923, 120.16421052631578, 'X[5] <= 0.5\\nentropy = 0.773\\nsamples = 22\\nvalue = [17, 5]'),\n",
       " Text(144.5076923076923, 108.72, 'X[3] <= 0.5\\nentropy = 0.65\\nsamples = 18\\nvalue = [15, 3]'),\n",
       " Text(141.64615384615385, 97.27578947368421, 'entropy = 0.0\\nsamples = 7\\nvalue = [7, 0]'),\n",
       " Text(147.36923076923077, 97.27578947368421, 'X[0] <= 2.5\\nentropy = 0.845\\nsamples = 11\\nvalue = [8, 3]'),\n",
       " Text(141.64615384615385, 85.83157894736843, 'X[2] <= 29.5\\nentropy = 0.65\\nsamples = 6\\nvalue = [5, 1]'),\n",
       " Text(138.7846153846154, 74.38736842105263, 'entropy = 0.0\\nsamples = 1\\nvalue = [1, 0]'),\n",
       " Text(144.5076923076923, 74.38736842105263, 'entropy = 0.722\\nsamples = 5\\nvalue = [4, 1]'),\n",
       " Text(153.09230769230768, 85.83157894736843, 'X[2] <= 30.25\\nentropy = 0.971\\nsamples = 5\\nvalue = [3, 2]'),\n",
       " Text(150.23076923076923, 74.38736842105263, 'X[2] <= 29.5\\nentropy = 1.0\\nsamples = 4\\nvalue = [2, 2]'),\n",
       " Text(147.36923076923077, 62.943157894736856, 'entropy = 1.0\\nsamples = 2\\nvalue = [1, 1]'),\n",
       " Text(153.09230769230768, 62.943157894736856, 'entropy = 1.0\\nsamples = 2\\nvalue = [1, 1]'),\n",
       " Text(155.95384615384614, 74.38736842105263, 'entropy = 0.0\\nsamples = 1\\nvalue = [1, 0]'),\n",
       " Text(155.95384615384614, 108.72, 'X[2] <= 29.5\\nentropy = 1.0\\nsamples = 4\\nvalue = [2, 2]'),\n",
       " Text(153.09230769230768, 97.27578947368421, 'entropy = 0.0\\nsamples = 2\\nvalue = [0, 2]'),\n",
       " Text(158.81538461538463, 97.27578947368421, 'entropy = 0.0\\nsamples = 2\\nvalue = [2, 0]'),\n",
       " Text(147.36923076923077, 143.05263157894737, 'entropy = 0.0\\nsamples = 8\\nvalue = [8, 0]'),\n",
       " Text(168.83076923076922, 154.49684210526317, 'X[5] <= 0.5\\nentropy = 0.991\\nsamples = 18\\nvalue = [10, 8]'),\n",
       " Text(165.96923076923076, 143.05263157894737, 'X[3] <= 0.5\\nentropy = 1.0\\nsamples = 16\\nvalue = [8, 8]'),\n",
       " Text(158.81538461538463, 131.60842105263157, 'X[2] <= 31.5\\nentropy = 0.918\\nsamples = 3\\nvalue = [2, 1]'),\n",
       " Text(155.95384615384614, 120.16421052631578, 'entropy = 0.0\\nsamples = 1\\nvalue = [1, 0]'),\n",
       " Text(161.6769230769231, 120.16421052631578, 'entropy = 1.0\\nsamples = 2\\nvalue = [1, 1]'),\n",
       " Text(173.12307692307692, 131.60842105263157, 'X[7] <= 0.5\\nentropy = 0.996\\nsamples = 13\\nvalue = [6, 7]'),\n",
       " Text(167.4, 120.16421052631578, 'X[2] <= 31.5\\nentropy = 0.918\\nsamples = 3\\nvalue = [2, 1]'),\n",
       " Text(164.53846153846155, 108.72, 'entropy = 0.0\\nsamples = 1\\nvalue = [1, 0]'),\n",
       " Text(170.26153846153846, 108.72, 'X[3] <= 2.5\\nentropy = 1.0\\nsamples = 2\\nvalue = [1, 1]'),\n",
       " Text(167.4, 97.27578947368421, 'entropy = 0.0\\nsamples = 1\\nvalue = [0, 1]'),\n",
       " Text(173.12307692307692, 97.27578947368421, 'entropy = 0.0\\nsamples = 1\\nvalue = [1, 0]'),\n",
       " Text(178.84615384615384, 120.16421052631578, 'X[2] <= 31.5\\nentropy = 0.971\\nsamples = 10\\nvalue = [4, 6]'),\n",
       " Text(175.98461538461538, 108.72, 'entropy = 0.0\\nsamples = 2\\nvalue = [0, 2]'),\n",
       " Text(181.7076923076923, 108.72, 'X[3] <= 2.0\\nentropy = 1.0\\nsamples = 8\\nvalue = [4, 4]'),\n",
       " Text(178.84615384615384, 97.27578947368421, 'X[0] <= 2.5\\nentropy = 0.918\\nsamples = 6\\nvalue = [4, 2]'),\n",
       " Text(175.98461538461538, 85.83157894736843, 'entropy = 0.0\\nsamples = 1\\nvalue = [1, 0]'),\n",
       " Text(181.7076923076923, 85.83157894736843, 'entropy = 0.971\\nsamples = 5\\nvalue = [3, 2]'),\n",
       " Text(184.56923076923078, 97.27578947368421, 'entropy = 0.0\\nsamples = 2\\nvalue = [0, 2]'),\n",
       " Text(171.6923076923077, 143.05263157894737, 'entropy = 0.0\\nsamples = 2\\nvalue = [2, 0]'),\n",
       " Text(193.15384615384616, 165.94105263157894, 'X[0] <= 2.5\\nentropy = 0.313\\nsamples = 71\\nvalue = [67, 4]'),\n",
       " Text(187.43076923076924, 154.49684210526317, 'X[3] <= 1.5\\nentropy = 0.544\\nsamples = 24\\nvalue = [21, 3]'),\n",
       " Text(184.56923076923078, 143.05263157894737, 'X[2] <= 34.5\\nentropy = 0.696\\nsamples = 16\\nvalue = [13, 3]'),\n",
       " Text(181.7076923076923, 131.60842105263157, 'entropy = 1.0\\nsamples = 2\\nvalue = [1, 1]'),\n",
       " Text(187.43076923076924, 131.60842105263157, 'X[2] <= 40.5\\nentropy = 0.592\\nsamples = 14\\nvalue = [12, 2]'),\n",
       " Text(184.56923076923078, 120.16421052631578, 'entropy = 0.0\\nsamples = 5\\nvalue = [5, 0]'),\n",
       " Text(190.2923076923077, 120.16421052631578, 'X[2] <= 45.0\\nentropy = 0.764\\nsamples = 9\\nvalue = [7, 2]'),\n",
       " Text(187.43076923076924, 108.72, 'entropy = 0.0\\nsamples = 1\\nvalue = [0, 1]'),\n",
       " Text(193.15384615384616, 108.72, 'X[2] <= 60.5\\nentropy = 0.544\\nsamples = 8\\nvalue = [7, 1]'),\n",
       " Text(190.2923076923077, 97.27578947368421, 'entropy = 0.0\\nsamples = 5\\nvalue = [5, 0]'),\n",
       " Text(196.01538461538462, 97.27578947368421, 'X[2] <= 64.0\\nentropy = 0.918\\nsamples = 3\\nvalue = [2, 1]'),\n",
       " Text(193.15384615384616, 85.83157894736843, 'entropy = 0.0\\nsamples = 1\\nvalue = [0, 1]'),\n",
       " Text(198.87692307692308, 85.83157894736843, 'entropy = 0.0\\nsamples = 2\\nvalue = [2, 0]'),\n",
       " Text(190.2923076923077, 143.05263157894737, 'entropy = 0.0\\nsamples = 8\\nvalue = [8, 0]'),\n",
       " Text(198.87692307692308, 154.49684210526317, 'X[2] <= 44.5\\nentropy = 0.149\\nsamples = 47\\nvalue = [46, 1]'),\n",
       " Text(196.01538461538462, 143.05263157894737, 'entropy = 0.0\\nsamples = 34\\nvalue = [34, 0]'),\n",
       " Text(201.73846153846154, 143.05263157894737, 'X[2] <= 45.25\\nentropy = 0.391\\nsamples = 13\\nvalue = [12, 1]'),\n",
       " Text(198.87692307692308, 131.60842105263157, 'entropy = 0.0\\nsamples = 1\\nvalue = [0, 1]'),\n",
       " Text(204.6, 131.60842105263157, 'entropy = 0.0\\nsamples = 12\\nvalue = [12, 0]'),\n",
       " Text(268.8057692307692, 200.2736842105263, 'X[0] <= 2.5\\nentropy = 0.852\\nsamples = 256\\nvalue = [71, 185]'),\n",
       " Text(233.2153846153846, 188.82947368421054, 'X[6] <= 4.5\\nentropy = 0.496\\nsamples = 138\\nvalue = [15, 123]'),\n",
       " Text(223.20000000000002, 177.38526315789474, 'X[5] <= 0.5\\nentropy = 0.278\\nsamples = 125\\nvalue = [6, 119]'),\n",
       " Text(220.33846153846153, 165.94105263157894, 'X[3] <= 2.5\\nentropy = 0.368\\nsamples = 85\\nvalue = [6, 79]'),\n",
       " Text(214.6153846153846, 154.49684210526317, 'X[2] <= 23.0\\nentropy = 0.511\\nsamples = 44\\nvalue = [5, 39]'),\n",
       " Text(211.75384615384615, 143.05263157894737, 'entropy = 0.0\\nsamples = 13\\nvalue = [0, 13]'),\n",
       " Text(217.47692307692307, 143.05263157894737, 'X[2] <= 27.5\\nentropy = 0.637\\nsamples = 31\\nvalue = [5, 26]'),\n",
       " Text(210.32307692307694, 131.60842105263157, 'X[2] <= 25.0\\nentropy = 1.0\\nsamples = 6\\nvalue = [3, 3]'),\n",
       " Text(204.6, 120.16421052631578, 'X[7] <= 0.5\\nentropy = 0.918\\nsamples = 3\\nvalue = [1, 2]'),\n",
       " Text(201.73846153846154, 108.72, 'entropy = 0.0\\nsamples = 2\\nvalue = [0, 2]'),\n",
       " Text(207.46153846153845, 108.72, 'entropy = 0.0\\nsamples = 1\\nvalue = [1, 0]'),\n",
       " Text(216.04615384615386, 120.16421052631578, 'X[3] <= 1.5\\nentropy = 0.918\\nsamples = 3\\nvalue = [2, 1]'),\n",
       " Text(213.1846153846154, 108.72, 'entropy = 0.0\\nsamples = 1\\nvalue = [0, 1]'),\n",
       " Text(218.90769230769232, 108.72, 'entropy = 0.0\\nsamples = 2\\nvalue = [2, 0]'),\n",
       " Text(224.63076923076923, 131.60842105263157, 'X[2] <= 37.0\\nentropy = 0.402\\nsamples = 25\\nvalue = [2, 23]'),\n",
       " Text(221.76923076923077, 120.16421052631578, 'entropy = 0.0\\nsamples = 16\\nvalue = [0, 16]'),\n",
       " Text(227.4923076923077, 120.16421052631578, 'X[2] <= 44.5\\nentropy = 0.764\\nsamples = 9\\nvalue = [2, 7]'),\n",
       " Text(224.63076923076923, 108.72, 'X[6] <= 2.5\\nentropy = 0.918\\nsamples = 3\\nvalue = [2, 1]'),\n",
       " Text(221.76923076923077, 97.27578947368421, 'entropy = 0.0\\nsamples = 1\\nvalue = [1, 0]'),\n",
       " Text(227.4923076923077, 97.27578947368421, 'X[2] <= 42.0\\nentropy = 1.0\\nsamples = 2\\nvalue = [1, 1]'),\n",
       " Text(224.63076923076923, 85.83157894736843, 'entropy = 0.0\\nsamples = 1\\nvalue = [0, 1]'),\n",
       " Text(230.35384615384615, 85.83157894736843, 'entropy = 0.0\\nsamples = 1\\nvalue = [1, 0]'),\n",
       " Text(230.35384615384615, 108.72, 'entropy = 0.0\\nsamples = 6\\nvalue = [0, 6]'),\n",
       " Text(226.06153846153848, 154.49684210526317, 'X[2] <= 3.0\\nentropy = 0.165\\nsamples = 41\\nvalue = [1, 40]'),\n",
       " Text(223.20000000000002, 143.05263157894737, 'entropy = 0.0\\nsamples = 1\\nvalue = [1, 0]'),\n",
       " Text(228.92307692307693, 143.05263157894737, 'entropy = 0.0\\nsamples = 40\\nvalue = [0, 40]'),\n",
       " Text(226.06153846153848, 165.94105263157894, 'entropy = 0.0\\nsamples = 40\\nvalue = [0, 40]'),\n",
       " Text(243.23076923076923, 177.38526315789474, 'X[1] <= 0.5\\nentropy = 0.89\\nsamples = 13\\nvalue = [9, 4]'),\n",
       " Text(240.36923076923077, 165.94105263157894, 'X[7] <= 0.5\\nentropy = 0.684\\nsamples = 11\\nvalue = [9, 2]'),\n",
       " Text(237.5076923076923, 154.49684210526317, 'X[2] <= 60.0\\nentropy = 0.918\\nsamples = 3\\nvalue = [1, 2]'),\n",
       " Text(234.64615384615385, 143.05263157894737, 'entropy = 0.0\\nsamples = 2\\nvalue = [0, 2]'),\n",
       " Text(240.36923076923077, 143.05263157894737, 'entropy = 0.0\\nsamples = 1\\nvalue = [1, 0]'),\n",
       " Text(243.23076923076923, 154.49684210526317, 'entropy = 0.0\\nsamples = 8\\nvalue = [8, 0]'),\n",
       " Text(246.09230769230768, 165.94105263157894, 'entropy = 0.0\\nsamples = 2\\nvalue = [0, 2]'),\n",
       " Text(304.3961538461539, 188.82947368421054, 'X[2] <= 38.5\\nentropy = 0.998\\nsamples = 118\\nvalue = [56, 62]'),\n",
       " Text(284.0076923076923, 177.38526315789474, 'X[3] <= 0.5\\nentropy = 0.991\\nsamples = 110\\nvalue = [49, 61]'),\n",
       " Text(251.81538461538463, 165.94105263157894, 'X[2] <= 25.5\\nentropy = 0.874\\nsamples = 34\\nvalue = [10, 24]'),\n",
       " Text(248.95384615384617, 154.49684210526317, 'X[2] <= 21.5\\nentropy = 0.811\\nsamples = 32\\nvalue = [8, 24]'),\n",
       " Text(246.09230769230768, 143.05263157894737, 'X[5] <= 1.5\\nentropy = 0.877\\nsamples = 27\\nvalue = [8, 19]'),\n",
       " Text(243.23076923076923, 131.60842105263157, 'X[2] <= 15.0\\nentropy = 0.932\\nsamples = 23\\nvalue = [8, 15]'),\n",
       " Text(240.36923076923077, 120.16421052631578, 'entropy = 0.0\\nsamples = 1\\nvalue = [1, 0]'),\n",
       " Text(246.09230769230768, 120.16421052631578, 'X[2] <= 17.0\\nentropy = 0.902\\nsamples = 22\\nvalue = [7, 15]'),\n",
       " Text(243.23076923076923, 108.72, 'entropy = 0.0\\nsamples = 1\\nvalue = [0, 1]'),\n",
       " Text(248.95384615384617, 108.72, 'X[2] <= 18.5\\nentropy = 0.918\\nsamples = 21\\nvalue = [7, 14]'),\n",
       " Text(243.23076923076923, 97.27578947368421, 'X[5] <= 0.5\\nentropy = 0.918\\nsamples = 3\\nvalue = [2, 1]'),\n",
       " Text(240.36923076923077, 85.83157894736843, 'entropy = 1.0\\nsamples = 2\\nvalue = [1, 1]'),\n",
       " Text(246.09230769230768, 85.83157894736843, 'entropy = 0.0\\nsamples = 1\\nvalue = [1, 0]'),\n",
       " Text(254.6769230769231, 97.27578947368421, 'X[2] <= 20.0\\nentropy = 0.852\\nsamples = 18\\nvalue = [5, 13]'),\n",
       " Text(251.81538461538463, 85.83157894736843, 'entropy = 0.0\\nsamples = 2\\nvalue = [0, 2]'),\n",
       " Text(257.53846153846155, 85.83157894736843, 'X[7] <= 0.5\\nentropy = 0.896\\nsamples = 16\\nvalue = [5, 11]'),\n",
       " Text(254.6769230769231, 74.38736842105263, 'entropy = 0.0\\nsamples = 1\\nvalue = [1, 0]'),\n",
       " Text(260.4, 74.38736842105263, 'X[5] <= 0.5\\nentropy = 0.837\\nsamples = 15\\nvalue = [4, 11]'),\n",
       " Text(257.53846153846155, 62.943157894736856, 'entropy = 1.0\\nsamples = 2\\nvalue = [1, 1]'),\n",
       " Text(263.26153846153846, 62.943157894736856, 'entropy = 0.779\\nsamples = 13\\nvalue = [3, 10]'),\n",
       " Text(248.95384615384617, 131.60842105263157, 'entropy = 0.0\\nsamples = 4\\nvalue = [0, 4]'),\n",
       " Text(251.81538461538463, 143.05263157894737, 'entropy = 0.0\\nsamples = 5\\nvalue = [0, 5]'),\n",
       " Text(254.6769230769231, 154.49684210526317, 'entropy = 0.0\\nsamples = 2\\nvalue = [2, 0]'),\n",
       " Text(316.2, 165.94105263157894, 'X[2] <= 30.5\\nentropy = 1.0\\nsamples = 76\\nvalue = [39, 37]'),\n",
       " Text(310.4769230769231, 154.49684210526317, 'X[2] <= 1.375\\nentropy = 0.993\\nsamples = 69\\nvalue = [38, 31]'),\n",
       " Text(307.61538461538464, 143.05263157894737, 'entropy = 0.0\\nsamples = 2\\nvalue = [0, 2]'),\n",
       " Text(313.33846153846156, 143.05263157894737, 'X[3] <= 2.5\\nentropy = 0.987\\nsamples = 67\\nvalue = [38, 29]'),\n",
       " Text(303.32307692307694, 131.60842105263157, 'X[2] <= 27.5\\nentropy = 0.997\\nsamples = 58\\nvalue = [31, 27]'),\n",
       " Text(297.6, 120.16421052631578, 'X[2] <= 25.5\\nentropy = 1.0\\nsamples = 53\\nvalue = [27, 26]'),\n",
       " Text(294.73846153846154, 108.72, 'X[6] <= 2.5\\nentropy = 0.995\\nsamples = 50\\nvalue = [27, 23]'),\n",
       " Text(280.4307692307692, 97.27578947368421, 'X[5] <= 0.5\\nentropy = 0.918\\nsamples = 27\\nvalue = [18, 9]'),\n",
       " Text(274.7076923076923, 85.83157894736843, 'X[4] <= 1.5\\nentropy = 0.696\\nsamples = 16\\nvalue = [13, 3]'),\n",
       " Text(271.84615384615387, 74.38736842105263, 'X[3] <= 1.5\\nentropy = 0.985\\nsamples = 7\\nvalue = [4, 3]'),\n",
       " Text(268.9846153846154, 62.943157894736856, 'X[2] <= 3.5\\nentropy = 0.811\\nsamples = 4\\nvalue = [1, 3]'),\n",
       " Text(266.12307692307695, 51.49894736842106, 'entropy = 1.0\\nsamples = 2\\nvalue = [1, 1]'),\n",
       " Text(271.84615384615387, 51.49894736842106, 'entropy = 0.0\\nsamples = 2\\nvalue = [0, 2]'),\n",
       " Text(274.7076923076923, 62.943157894736856, 'entropy = 0.0\\nsamples = 3\\nvalue = [3, 0]'),\n",
       " Text(277.5692307692308, 74.38736842105263, 'entropy = 0.0\\nsamples = 9\\nvalue = [9, 0]'),\n",
       " Text(286.15384615384613, 85.83157894736843, 'X[5] <= 1.5\\nentropy = 0.994\\nsamples = 11\\nvalue = [5, 6]'),\n",
       " Text(283.2923076923077, 74.38736842105263, 'entropy = 0.0\\nsamples = 4\\nvalue = [0, 4]'),\n",
       " Text(289.0153846153846, 74.38736842105263, 'X[2] <= 7.0\\nentropy = 0.863\\nsamples = 7\\nvalue = [5, 2]'),\n",
       " Text(286.15384615384613, 62.943157894736856, 'entropy = 0.0\\nsamples = 2\\nvalue = [0, 2]'),\n",
       " Text(291.8769230769231, 62.943157894736856, 'entropy = 0.0\\nsamples = 5\\nvalue = [5, 0]'),\n",
       " Text(309.04615384615386, 97.27578947368421, 'X[2] <= 5.0\\nentropy = 0.966\\nsamples = 23\\nvalue = [9, 14]'),\n",
       " Text(303.32307692307694, 85.83157894736843, 'X[2] <= 3.5\\nentropy = 0.811\\nsamples = 4\\nvalue = [3, 1]'),\n",
       " Text(300.46153846153845, 74.38736842105263, 'X[5] <= 0.5\\nentropy = 1.0\\nsamples = 2\\nvalue = [1, 1]'),\n",
       " Text(297.6, 62.943157894736856, 'entropy = 0.0\\nsamples = 1\\nvalue = [0, 1]'),\n",
       " Text(303.32307692307694, 62.943157894736856, 'entropy = 0.0\\nsamples = 1\\nvalue = [1, 0]'),\n",
       " Text(306.18461538461537, 74.38736842105263, 'entropy = 0.0\\nsamples = 2\\nvalue = [2, 0]'),\n",
       " Text(314.7692307692308, 85.83157894736843, 'X[7] <= 0.5\\nentropy = 0.9\\nsamples = 19\\nvalue = [6, 13]'),\n",
       " Text(311.9076923076923, 74.38736842105263, 'X[3] <= 1.5\\nentropy = 0.852\\nsamples = 18\\nvalue = [5, 13]'),\n",
       " Text(309.04615384615386, 62.943157894736856, 'entropy = 0.0\\nsamples = 4\\nvalue = [0, 4]'),\n",
       " Text(314.7692307692308, 62.943157894736856, 'X[2] <= 8.0\\nentropy = 0.94\\nsamples = 14\\nvalue = [5, 9]'),\n",
       " Text(311.9076923076923, 51.49894736842106, 'entropy = 0.0\\nsamples = 1\\nvalue = [1, 0]'),\n",
       " Text(317.63076923076926, 51.49894736842106, 'X[2] <= 9.5\\nentropy = 0.89\\nsamples = 13\\nvalue = [4, 9]'),\n",
       " Text(314.7692307692308, 40.05473684210526, 'entropy = 0.0\\nsamples = 2\\nvalue = [0, 2]'),\n",
       " Text(320.4923076923077, 40.05473684210526, 'X[4] <= 1.5\\nentropy = 0.946\\nsamples = 11\\nvalue = [4, 7]'),\n",
       " Text(317.63076923076926, 28.610526315789485, 'entropy = 0.0\\nsamples = 1\\nvalue = [1, 0]'),\n",
       " Text(323.3538461538462, 28.610526315789485, 'X[5] <= 1.5\\nentropy = 0.881\\nsamples = 10\\nvalue = [3, 7]'),\n",
       " Text(317.63076923076926, 17.166315789473686, 'X[2] <= 24.5\\nentropy = 0.65\\nsamples = 6\\nvalue = [1, 5]'),\n",
       " Text(314.7692307692308, 5.722105263157886, 'entropy = 0.0\\nsamples = 5\\nvalue = [0, 5]'),\n",
       " Text(320.4923076923077, 5.722105263157886, 'entropy = 0.0\\nsamples = 1\\nvalue = [1, 0]'),\n",
       " Text(329.0769230769231, 17.166315789473686, 'X[2] <= 22.5\\nentropy = 1.0\\nsamples = 4\\nvalue = [2, 2]'),\n",
       " Text(326.2153846153846, 5.722105263157886, 'entropy = 0.0\\nsamples = 2\\nvalue = [2, 0]'),\n",
       " Text(331.9384615384615, 5.722105263157886, 'entropy = 0.0\\nsamples = 2\\nvalue = [0, 2]'),\n",
       " Text(317.63076923076926, 74.38736842105263, 'entropy = 0.0\\nsamples = 1\\nvalue = [1, 0]'),\n",
       " Text(300.46153846153845, 108.72, 'entropy = 0.0\\nsamples = 3\\nvalue = [0, 3]'),\n",
       " Text(309.04615384615386, 120.16421052631578, 'X[6] <= 2.5\\nentropy = 0.722\\nsamples = 5\\nvalue = [4, 1]'),\n",
       " Text(306.18461538461537, 108.72, 'entropy = 1.0\\nsamples = 2\\nvalue = [1, 1]'),\n",
       " Text(311.9076923076923, 108.72, 'entropy = 0.0\\nsamples = 3\\nvalue = [3, 0]'),\n",
       " Text(323.3538461538462, 131.60842105263157, 'X[2] <= 5.5\\nentropy = 0.764\\nsamples = 9\\nvalue = [7, 2]'),\n",
       " Text(320.4923076923077, 120.16421052631578, 'X[4] <= 0.5\\nentropy = 0.971\\nsamples = 5\\nvalue = [3, 2]'),\n",
       " Text(317.63076923076926, 108.72, 'entropy = 0.0\\nsamples = 2\\nvalue = [2, 0]'),\n",
       " Text(323.3538461538462, 108.72, 'X[6] <= 3.0\\nentropy = 0.918\\nsamples = 3\\nvalue = [1, 2]'),\n",
       " Text(320.4923076923077, 97.27578947368421, 'entropy = 0.0\\nsamples = 1\\nvalue = [0, 1]'),\n",
       " Text(326.2153846153846, 97.27578947368421, 'X[2] <= 3.5\\nentropy = 1.0\\nsamples = 2\\nvalue = [1, 1]'),\n",
       " Text(323.3538461538462, 85.83157894736843, 'entropy = 0.0\\nsamples = 1\\nvalue = [0, 1]'),\n",
       " Text(329.0769230769231, 85.83157894736843, 'entropy = 0.0\\nsamples = 1\\nvalue = [1, 0]'),\n",
       " Text(326.2153846153846, 120.16421052631578, 'entropy = 0.0\\nsamples = 4\\nvalue = [4, 0]'),\n",
       " Text(321.9230769230769, 154.49684210526317, 'X[6] <= 2.5\\nentropy = 0.592\\nsamples = 7\\nvalue = [1, 6]'),\n",
       " Text(319.0615384615385, 143.05263157894737, 'entropy = 0.0\\nsamples = 1\\nvalue = [1, 0]'),\n",
       " Text(324.7846153846154, 143.05263157894737, 'entropy = 0.0\\nsamples = 6\\nvalue = [0, 6]'),\n",
       " Text(324.7846153846154, 177.38526315789474, 'X[2] <= 54.0\\nentropy = 0.544\\nsamples = 8\\nvalue = [7, 1]'),\n",
       " Text(321.9230769230769, 165.94105263157894, 'entropy = 0.0\\nsamples = 7\\nvalue = [7, 0]'),\n",
       " Text(327.6461538461539, 165.94105263157894, 'entropy = 0.0\\nsamples = 1\\nvalue = [0, 1]')]"
      ]
     },
     "execution_count": 31,
     "metadata": {},
     "output_type": "execute_result"
    },
    {
     "data": {
      "image/png": "[encoded data removed]",
      "text/plain": [
       "<Figure size 432x288 with 1 Axes>"
      ]
     },
     "metadata": {
      "needs_background": "light"
     },
     "output_type": "display_data"
    }
   ],
   "source": [
    "tree.plot_tree(entropy_tree)"
   ]
  },
  {
   "cell_type": "markdown",
   "metadata": {},
   "source": [
    "As you can see, our decision tree is huge, and this can cause overfitting. To reduce overfitting we can use pruning \n",
    "methods.\n",
    "\n",
    "In decision trees, one method of pre-pruning is early stopping. We can limit the max depth of the tree and limit \n",
    "overfitting. Let's limit our tree to 8 levels."
   ]
  },
  {
   "cell_type": "code",
   "execution_count": 32,
   "metadata": {},
   "outputs": [
    {
     "name": "stdout",
     "output_type": "stream",
     "text": [
      "              precision    recall  f1-score   support\n",
      "\n",
      "           0       0.80      0.88      0.84       167\n",
      "           1       0.76      0.63      0.69       101\n",
      "\n",
      "    accuracy                           0.79       268\n",
      "   macro avg       0.78      0.76      0.76       268\n",
      "weighted avg       0.78      0.79      0.78       268\n",
      "\n"
     ]
    }
   ],
   "source": [
    "entropy_tree_lim_eight = DecisionTreeClassifier(criterion='entropy', max_depth=8, random_state=42)\n",
    "entropy_tree_lim_eight.fit(X_train, y_train)\n",
    "y_pred = entropy_tree_lim_eight.predict(X_valid)\n",
    "\n",
    "print(metrics.classification_report(y_valid, y_pred))"
   ]
  },
  {
   "cell_type": "markdown",
   "metadata": {},
   "source": [
    "We can see a performance improvement after the pre-pruning. "
   ]
  },
  {
   "cell_type": "markdown",
   "metadata": {},
   "source": [
    "#### Hyperparameter tuning\n",
    "\n",
    "To improve our model performance, we can do two things, feature engineering and hyperparameter tuning. We already did\n",
    "feature engineering to improve the quality of our data. Now it is time for hyperparameter tuning. Hyperparamteres are \n",
    "the small properties in machine learning algorithms that we can use to optimize the model. There is no \n",
    "algorithmic method to do this other than trial and error.\n",
    "\n",
    "What are the hyperparameters in \n",
    "[DecisionTreeClassifier](https://scikit-learn.org/stable/modules/generated/sklearn.tree.DecisionTreeClassifier.html#sklearn.tree.DecisionTreeClassifier)?\n",
    "* Almost all input parameters of the model definition interface are hyperparameters.\n",
    " \n",
    "Let's create and train few models with different sets of values for parameters. I chose following parameters, \n",
    "- criterion\n",
    "- max_depth\n"
   ]
  },
  {
   "cell_type": "code",
   "execution_count": 33,
   "metadata": {},
   "outputs": [
    {
     "name": "stdout",
     "output_type": "stream",
     "text": [
      "              precision    recall  f1-score   support\n",
      "\n",
      "           0       0.79      0.90      0.84       167\n",
      "           1       0.78      0.59      0.67       101\n",
      "\n",
      "    accuracy                           0.78       268\n",
      "   macro avg       0.78      0.75      0.76       268\n",
      "weighted avg       0.78      0.78      0.78       268\n",
      "\n"
     ]
    }
   ],
   "source": [
    "# ['entropy', '5']\n",
    "entropy_tree_ent_five = DecisionTreeClassifier(criterion='entropy', max_depth=5, random_state=42)\n",
    "entropy_tree_ent_five.fit(X_train, y_train)\n",
    "y_pred = entropy_tree_ent_five.predict(X_valid)\n",
    "\n",
    "print(metrics.classification_report(y_valid, y_pred))"
   ]
  },
  {
   "cell_type": "code",
   "execution_count": 34,
   "metadata": {},
   "outputs": [
    {
     "name": "stdout",
     "output_type": "stream",
     "text": [
      "              precision    recall  f1-score   support\n",
      "\n",
      "           0       0.77      0.87      0.82       167\n",
      "           1       0.72      0.57      0.64       101\n",
      "\n",
      "    accuracy                           0.76       268\n",
      "   macro avg       0.75      0.72      0.73       268\n",
      "weighted avg       0.75      0.76      0.75       268\n",
      "\n"
     ]
    }
   ],
   "source": [
    "# ['entropy', '7']\n",
    "entropy_tree_ent_seven = DecisionTreeClassifier(criterion='entropy', max_depth=7, random_state=42)\n",
    "entropy_tree_ent_seven.fit(X_train, y_train)\n",
    "y_pred = entropy_tree_ent_seven.predict(X_valid)\n",
    "\n",
    "print(metrics.classification_report(y_valid, y_pred))"
   ]
  },
  {
   "cell_type": "code",
   "execution_count": 35,
   "metadata": {},
   "outputs": [
    {
     "name": "stdout",
     "output_type": "stream",
     "text": [
      "              precision    recall  f1-score   support\n",
      "\n",
      "           0       0.79      0.86      0.82       167\n",
      "           1       0.72      0.61      0.66       101\n",
      "\n",
      "    accuracy                           0.76       268\n",
      "   macro avg       0.75      0.74      0.74       268\n",
      "weighted avg       0.76      0.76      0.76       268\n",
      "\n"
     ]
    }
   ],
   "source": [
    "# ['entropy', '12']\n",
    "entropy_tree_ent_twelve = DecisionTreeClassifier(criterion='entropy', max_depth=12, random_state=42)\n",
    "entropy_tree_ent_twelve.fit(X_train, y_train)\n",
    "y_pred = entropy_tree_ent_twelve.predict(X_valid)\n",
    "\n",
    "print(metrics.classification_report(y_valid, y_pred))"
   ]
  },
  {
   "cell_type": "code",
   "execution_count": 36,
   "metadata": {},
   "outputs": [
    {
     "name": "stdout",
     "output_type": "stream",
     "text": [
      "              precision    recall  f1-score   support\n",
      "\n",
      "           0       0.78      0.91      0.84       167\n",
      "           1       0.79      0.57      0.67       101\n",
      "\n",
      "    accuracy                           0.78       268\n",
      "   macro avg       0.79      0.74      0.75       268\n",
      "weighted avg       0.79      0.78      0.77       268\n",
      "\n"
     ]
    }
   ],
   "source": [
    "# ['gini', '5']\n",
    "entropy_tree_gini_five = DecisionTreeClassifier(criterion='gini', max_depth=5, random_state=42)\n",
    "entropy_tree_gini_five.fit(X_train, y_train)\n",
    "y_pred = entropy_tree_gini_five.predict(X_valid)\n",
    "\n",
    "print(metrics.classification_report(y_valid, y_pred))"
   ]
  },
  {
   "cell_type": "code",
   "execution_count": 37,
   "metadata": {},
   "outputs": [
    {
     "name": "stdout",
     "output_type": "stream",
     "text": [
      "              precision    recall  f1-score   support\n",
      "\n",
      "           0       0.78      0.87      0.82       167\n",
      "           1       0.74      0.58      0.65       101\n",
      "\n",
      "    accuracy                           0.76       268\n",
      "   macro avg       0.76      0.73      0.74       268\n",
      "weighted avg       0.76      0.76      0.76       268\n",
      "\n"
     ]
    }
   ],
   "source": [
    "# ['gini', '7']\n",
    "entropy_tree_gini_seven = DecisionTreeClassifier(criterion='gini', max_depth=7, random_state=42)\n",
    "entropy_tree_gini_seven.fit(X_train, y_train)\n",
    "y_pred = entropy_tree_gini_seven.predict(X_valid)\n",
    "\n",
    "print(metrics.classification_report(y_valid, y_pred))"
   ]
  },
  {
   "cell_type": "code",
   "execution_count": 38,
   "metadata": {},
   "outputs": [
    {
     "name": "stdout",
     "output_type": "stream",
     "text": [
      "              precision    recall  f1-score   support\n",
      "\n",
      "           0       0.83      0.85      0.84       167\n",
      "           1       0.74      0.71      0.73       101\n",
      "\n",
      "    accuracy                           0.80       268\n",
      "   macro avg       0.79      0.78      0.78       268\n",
      "weighted avg       0.80      0.80      0.80       268\n",
      "\n"
     ]
    }
   ],
   "source": [
    "# ['gini', '8']\n",
    "entropy_tree_gini_eight = DecisionTreeClassifier(criterion='gini', max_depth=8, random_state=42)\n",
    "entropy_tree_gini_eight.fit(X_train, y_train)\n",
    "y_pred = entropy_tree_gini_eight.predict(X_valid)\n",
    "\n",
    "print(metrics.classification_report(y_valid, y_pred))"
   ]
  },
  {
   "cell_type": "code",
   "execution_count": 39,
   "metadata": {},
   "outputs": [
    {
     "name": "stdout",
     "output_type": "stream",
     "text": [
      "              precision    recall  f1-score   support\n",
      "\n",
      "           0       0.79      0.87      0.83       167\n",
      "           1       0.74      0.61      0.67       101\n",
      "\n",
      "    accuracy                           0.77       268\n",
      "   macro avg       0.76      0.74      0.75       268\n",
      "weighted avg       0.77      0.77      0.77       268\n",
      "\n"
     ]
    }
   ],
   "source": [
    "# ['gini', '12']\n",
    "entropy_tree_gini_twelve = DecisionTreeClassifier(criterion='gini', max_depth=12, random_state=42)\n",
    "entropy_tree_gini_twelve.fit(X_train, y_train)\n",
    "y_pred = entropy_tree_gini_twelve.predict(X_valid)\n",
    "\n",
    "print(metrics.classification_report(y_valid, y_pred))"
   ]
  },
  {
   "cell_type": "markdown",
   "metadata": {},
   "source": [
    "From these results we can pick ['gini', '8'] as the best performing model in validation stage.\n",
    "\n",
    "Now let's use the test dataset to find how good our model is."
   ]
  },
  {
   "cell_type": "code",
   "execution_count": 41,
   "metadata": {
    "pycharm": {
     "name": "#%% \n"
    }
   },
   "outputs": [
    {
     "name": "stdout",
     "output_type": "stream",
     "text": [
      "              precision    recall  f1-score   support\n",
      "\n",
      "           0       0.87      0.82      0.84       266\n",
      "           1       0.71      0.78      0.74       152\n",
      "\n",
      "    accuracy                           0.80       418\n",
      "   macro avg       0.79      0.80      0.79       418\n",
      "weighted avg       0.81      0.80      0.81       418\n",
      "\n"
     ]
    }
   ],
   "source": [
    "y_pred =  entropy_tree_gini_eight.predict(X_test)\n",
    "\n",
    "print(metrics.classification_report(y_test, y_pred))"
   ]
  },
  {
   "cell_type": "code",
   "execution_count": null,
   "metadata": {},
   "outputs": [],
   "source": []
  },
  {
   "cell_type": "markdown",
   "metadata": {},
   "source": [
    "## Task\n",
    "\n",
    "Use your cleaned dataset from last week,\n",
    "- Complete all the features. \n",
    "- Try to figure out which variables are useful and which are not.\n",
    "- Create few models with different feature sets and evaluate them.\n",
    "- Tune the parameters of the models and figure out which values give you the best performance.\n",
    "- Finally, after deciding the best model, use the test set to measure the performance of your model."
   ]
  },
  {
   "cell_type": "code",
   "execution_count": null,
   "metadata": {},
   "outputs": [],
   "source": []
  }
 ],
 "metadata": {
  "kernelspec": {
   "display_name": "Python 3",
   "language": "python",
   "name": "python3"
  },
  "language_info": {
   "codemirror_mode": {
    "name": "ipython",
    "version": 3
   },
   "file_extension": ".py",
   "mimetype": "text/x-python",
   "name": "python",
   "nbconvert_exporter": "python",
   "pygments_lexer": "ipython3",
   "version": "3.8.3"
  }
 },
 "nbformat": 4,
 "nbformat_minor": 1
}
